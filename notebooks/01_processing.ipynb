{
 "cells": [
  {
   "cell_type": "code",
   "execution_count": 2,
   "metadata": {
    "ExecuteTime": {
     "end_time": "2021-03-30T16:32:45.118553Z",
     "start_time": "2021-03-30T16:32:41.800735Z"
    }
   },
   "outputs": [],
   "source": [
    "import itertools\n",
    "import os\n",
    "import sys\n",
    "from pathlib import Path\n",
    "\n",
    "import cv2\n",
    "import matplotlib.pyplot as plt\n",
    "import numpy as np\n",
    "import pandas as pd\n",
    "import skimage.io\n",
    "from skimage.registration import phase_cross_correlation\n",
    "from collections import defaultdict\n",
    "from tqdm.notebook import trange, tqdm, tqdm_notebook\n",
    "from joblib import Parallel, delayed\n",
    "import re\n",
    "import pickle\n",
    "from matplotlib.colors import ListedColormap"
   ]
  },
  {
   "cell_type": "code",
   "execution_count": 3,
   "metadata": {
    "ExecuteTime": {
     "end_time": "2021-03-30T16:32:45.339621Z",
     "start_time": "2021-03-30T16:32:45.122554Z"
    }
   },
   "outputs": [],
   "source": [
    "%load_ext autoreload\n",
    "%autoreload 2"
   ]
  },
  {
   "cell_type": "code",
   "execution_count": 4,
   "metadata": {
    "ExecuteTime": {
     "end_time": "2021-03-30T16:32:45.596635Z",
     "start_time": "2021-03-30T16:32:45.343622Z"
    }
   },
   "outputs": [],
   "source": [
    "# Import path\n",
    "module_path = str(Path.cwd().parents[0])\n",
    "if module_path not in sys.path:\n",
    "    sys.path.append(module_path)\n",
    "\n",
    "from config import *"
   ]
  },
  {
   "cell_type": "code",
   "execution_count": 5,
   "metadata": {
    "ExecuteTime": {
     "end_time": "2021-03-30T16:32:45.812676Z",
     "start_time": "2021-03-30T16:32:45.603638Z"
    }
   },
   "outputs": [
    {
     "name": "stdout",
     "output_type": "stream",
     "text": [
      "Processed image folder is already there\n",
      "Info csv file already exists\n"
     ]
    }
   ],
   "source": [
    "csv_file = data_meta / \"info.csv\"\n",
    "csv_exist = csv_file.is_file()\n",
    "\n",
    "# Create directory if not existL\n",
    "try:\n",
    "    data_processed.mkdir(parents=True, exist_ok=False)\n",
    "except FileExistsError:\n",
    "    print(\"Processed image folder is already there\")\n",
    "else:\n",
    "    print(\"Processed image folder was created\")\n",
    "\n",
    "if csv_exist:\n",
    "    print(\"Info csv file already exists\")\n",
    "else:\n",
    "    print(\"No Info csv file\")"
   ]
  },
  {
   "cell_type": "markdown",
   "metadata": {},
   "source": [
    "# Get folder information\n",
    "\n",
    "Read information to pandas dataframe of the image folder"
   ]
  },
  {
   "cell_type": "code",
   "execution_count": 6,
   "metadata": {
    "ExecuteTime": {
     "end_time": "2021-03-30T16:32:46.034690Z",
     "start_time": "2021-03-30T16:32:45.816680Z"
    }
   },
   "outputs": [],
   "source": [
    "channel2marker = {\n",
    "    \"Cycle1\": {\n",
    "        \"CH1\": \"Hoeschst\", \n",
    "        \"CH2\": \"p-EGFR\"},\n",
    "    \"Cycle2\": {\n",
    "        \"CH1\": \"Hoeschst\", \n",
    "        \"CH3\": \"Phalloidin\", \n",
    "        \"CH4\": \"WGA\"},\n",
    "    \"Cycle3\": {\n",
    "        \"CH1\": \"Hoeschst\",\n",
    "        \"CH2\": \"Non-p-B-catenin\",\n",
    "        \"CH3\": \"APC\",\n",
    "        \"CH4\": \"DKK1\"},\n",
    "    \"Cycle4\": {\n",
    "        \"CH1\": \"Hoeschst\", \n",
    "        \"CH2\": \"Cyclin E\", \n",
    "        \"CH3\": \"EMMPRIN\",\n",
    "        \"CH4\": \"Wnt1\"},\n",
    "    \"Cycle5\": {\n",
    "        \"CH1\": \"Hoeschst\", \n",
    "        \"CH2\": \"p-AKT\",\n",
    "        \"CH3\": \"p-B-catenin\",\n",
    "        \"CH4\": \"RNF 43\"},\n",
    "    \"Cycle6\": {\n",
    "        \"CH1\": \"Hoeschst\",\n",
    "        \"CH2\": \"AKT\",\n",
    "        \"CH3\": \"p-mTOR\",\n",
    "        \"CH4\": \"mTOR\",\n",
    "    },\n",
    "    \"Cycle7\": {\n",
    "        \"CH1\": \"Hoeschst\",\n",
    "        \"CH2\": \"DKK2\",\n",
    "        \"CH3\": \"AXIN1\",\n",
    "        \"CH4\": \"EGFR\",\n",
    "    },\n",
    "    \"Cycle8\": {\n",
    "        \"CH1\": \"Hoeschst\",\n",
    "        \"CH3\": \"Cyclin D1\",\n",
    "        \"CH4\": \"B-tubin\",\n",
    "    },\n",
    "    \"Cycle9\": {\n",
    "        \"CH1\": \"Hoeschst\",\n",
    "        \"CH2\": \"H3k27me3-488\",\n",
    "        \"CH3\": \"H3k9Ac-555\",\n",
    "        \"CH4\": \"H3k4me3-647\",\n",
    "    },\n",
    "    \"Cycle10\": {\n",
    "        \"CH1\": \"Hoeschst\", \n",
    "        \"CH2\": \"Concanavalin A\",\n",
    "        \"CH4\": \"PCNA\"\n",
    "    },\n",
    "    \"Cycle11\": {\n",
    "        \"CH1\": \"Hoeschst\", \n",
    "        \"CH2\": \"B-actin\",\n",
    "    }\n",
    "}\n",
    "\n",
    "\n",
    "def get_info(img_folder, name_dict=channel2marker, save=False):\n",
    "    \"\"\"Function returns the info from folder containing multi-cycle staigning on cell\n",
    "\n",
    "    Args:\n",
    "        img_folder (str) : imgage folder path to get information\n",
    "        name_dict (dict) : three level dictionnary mapping cycle -> channel -> marker name\n",
    "\n",
    "    Returns:\n",
    "        pandas dataframe with information\n",
    "    \"\"\"\n",
    "    locations = []\n",
    "    cycles = []\n",
    "    z_stacks = []\n",
    "    channels = []\n",
    "    images_path = []\n",
    "    markers = []\n",
    "    after_bleach = []\n",
    "\n",
    "    # Loop through image folder\n",
    "    for (dirpath, dirnames, filenames) in os.walk(img_folder):\n",
    "        for name in sorted(filenames):\n",
    "\n",
    "            if \"tif\" in name and \"Overlay\" not in name and \"stitched\" not in name and 'Composite' not in name:\n",
    "                # Get information from image name\n",
    "\n",
    "                z_stack = name.split(\"_\")[2][1:]\n",
    "                location = name.split(\"_\")[1]\n",
    "                channel = name.split(\"_\")[-1].split(\".\")[0]\n",
    "                cycle = dirpath.split(\"\\\\\")[-1].split(\"_\")[1]\n",
    "\n",
    "                if z_stack == \"\":\n",
    "                    continue\n",
    "\n",
    "                # skip if no markers in image\n",
    "                try:\n",
    "                    marker = name_dict[cycle][channel]\n",
    "                except:\n",
    "                    continue\n",
    "\n",
    "\n",
    "                if \"AftBleach\" in dirpath:\n",
    "                    after_bleach.append(True)\n",
    "                else:\n",
    "                    after_bleach.append(False)\n",
    "\n",
    "                cycles.append(cycle)\n",
    "                locations.append(int(location))\n",
    "                z_stacks.append(int(z_stack[1:]))\n",
    "                channels.append(channel)\n",
    "                markers.append(marker)\n",
    "                images_path.append(os.path.join(dirpath, name))\n",
    "    info = {\n",
    "        \"Cycle\": cycles,\n",
    "        \"Location\": locations,\n",
    "        \"After_bleach\": after_bleach,\n",
    "        \"Z_stack\": z_stacks,\n",
    "        \"Channel\": channels,\n",
    "        \"Marker\": markers,\n",
    "        \"Path\": images_path,\n",
    "    }\n",
    "    df = pd.DataFrame(info)\n",
    "\n",
    "    if save == True:\n",
    "        df.to_csv(data_meta / \"info.csv\", index=False)\n",
    "\n",
    "    df.Z_stack = pd.to_numeric(df.Z_stack)\n",
    "\n",
    "    df[\"Path_corrected\"] = \"\"\n",
    "\n",
    "    return df"
   ]
  },
  {
   "cell_type": "code",
   "execution_count": 7,
   "metadata": {
    "ExecuteTime": {
     "end_time": "2021-03-30T16:32:46.810884Z",
     "start_time": "2021-03-30T16:32:46.037693Z"
    }
   },
   "outputs": [
    {
     "name": "stdout",
     "output_type": "stream",
     "text": [
      "Imported pandas dataframe\n"
     ]
    }
   ],
   "source": [
    "if not csv_exist:\n",
    "    df = get_info(data_raw, save=True)\n",
    "    print(\"Created pandas dataframe\")\n",
    "else:\n",
    "    df = pd.read_csv(csv_file)\n",
    "    print(\"Imported pandas dataframe\")"
   ]
  },
  {
   "cell_type": "code",
   "execution_count": 8,
   "metadata": {
    "ExecuteTime": {
     "end_time": "2021-03-30T16:32:47.036192Z",
     "start_time": "2021-03-30T16:32:46.817884Z"
    }
   },
   "outputs": [
    {
     "data": {
      "text/html": [
       "<div>\n",
       "<style scoped>\n",
       "    .dataframe tbody tr th:only-of-type {\n",
       "        vertical-align: middle;\n",
       "    }\n",
       "\n",
       "    .dataframe tbody tr th {\n",
       "        vertical-align: top;\n",
       "    }\n",
       "\n",
       "    .dataframe thead th {\n",
       "        text-align: right;\n",
       "    }\n",
       "</style>\n",
       "<table border=\"1\" class=\"dataframe\">\n",
       "  <thead>\n",
       "    <tr style=\"text-align: right;\">\n",
       "      <th></th>\n",
       "      <th>Cycle</th>\n",
       "      <th>Location</th>\n",
       "      <th>After_bleach</th>\n",
       "      <th>Z_stack</th>\n",
       "      <th>Channel</th>\n",
       "      <th>Marker</th>\n",
       "      <th>Path</th>\n",
       "    </tr>\n",
       "  </thead>\n",
       "  <tbody>\n",
       "    <tr>\n",
       "      <th>0</th>\n",
       "      <td>Cycle10</td>\n",
       "      <td>1</td>\n",
       "      <td>False</td>\n",
       "      <td>1</td>\n",
       "      <td>CH1</td>\n",
       "      <td>Hoeschst</td>\n",
       "      <td>Y:\\coskun-lab\\Thomas\\Spatial signaling\\dataset...</td>\n",
       "    </tr>\n",
       "    <tr>\n",
       "      <th>1</th>\n",
       "      <td>Cycle10</td>\n",
       "      <td>1</td>\n",
       "      <td>False</td>\n",
       "      <td>1</td>\n",
       "      <td>CH2</td>\n",
       "      <td>Concanavalin A</td>\n",
       "      <td>Y:\\coskun-lab\\Thomas\\Spatial signaling\\dataset...</td>\n",
       "    </tr>\n",
       "    <tr>\n",
       "      <th>2</th>\n",
       "      <td>Cycle10</td>\n",
       "      <td>1</td>\n",
       "      <td>False</td>\n",
       "      <td>1</td>\n",
       "      <td>CH4</td>\n",
       "      <td>PCNA</td>\n",
       "      <td>Y:\\coskun-lab\\Thomas\\Spatial signaling\\dataset...</td>\n",
       "    </tr>\n",
       "    <tr>\n",
       "      <th>3</th>\n",
       "      <td>Cycle10</td>\n",
       "      <td>1</td>\n",
       "      <td>False</td>\n",
       "      <td>2</td>\n",
       "      <td>CH1</td>\n",
       "      <td>Hoeschst</td>\n",
       "      <td>Y:\\coskun-lab\\Thomas\\Spatial signaling\\dataset...</td>\n",
       "    </tr>\n",
       "    <tr>\n",
       "      <th>4</th>\n",
       "      <td>Cycle10</td>\n",
       "      <td>1</td>\n",
       "      <td>False</td>\n",
       "      <td>2</td>\n",
       "      <td>CH2</td>\n",
       "      <td>Concanavalin A</td>\n",
       "      <td>Y:\\coskun-lab\\Thomas\\Spatial signaling\\dataset...</td>\n",
       "    </tr>\n",
       "  </tbody>\n",
       "</table>\n",
       "</div>"
      ],
      "text/plain": [
       "     Cycle  Location  After_bleach  Z_stack Channel          Marker  \\\n",
       "0  Cycle10         1         False        1     CH1        Hoeschst   \n",
       "1  Cycle10         1         False        1     CH2  Concanavalin A   \n",
       "2  Cycle10         1         False        1     CH4            PCNA   \n",
       "3  Cycle10         1         False        2     CH1        Hoeschst   \n",
       "4  Cycle10         1         False        2     CH2  Concanavalin A   \n",
       "\n",
       "                                                Path  \n",
       "0  Y:\\coskun-lab\\Thomas\\Spatial signaling\\dataset...  \n",
       "1  Y:\\coskun-lab\\Thomas\\Spatial signaling\\dataset...  \n",
       "2  Y:\\coskun-lab\\Thomas\\Spatial signaling\\dataset...  \n",
       "3  Y:\\coskun-lab\\Thomas\\Spatial signaling\\dataset...  \n",
       "4  Y:\\coskun-lab\\Thomas\\Spatial signaling\\dataset...  "
      ]
     },
     "execution_count": 8,
     "metadata": {},
     "output_type": "execute_result"
    }
   ],
   "source": [
    "df.head()"
   ]
  },
  {
   "cell_type": "markdown",
   "metadata": {},
   "source": [
    "# Image background subtraction\n",
    "\n",
    "Image shadding correction using background subtration of gaussian blurr"
   ]
  },
  {
   "cell_type": "code",
   "execution_count": 9,
   "metadata": {
    "ExecuteTime": {
     "end_time": "2021-03-30T16:32:47.247304Z",
     "start_time": "2021-03-30T16:32:47.040189Z"
    }
   },
   "outputs": [],
   "source": [
    "def extract_condition_channel(df, cycle, condition, channel):\n",
    "    \"\"\"Function returns dataframe of specified channel image based on condition from input dataframe\n",
    "\n",
    "    Args:\n",
    "        df (pd DataFrame) : info dataframe for all images\n",
    "        condition (str) : condition name\n",
    "\n",
    "    Returns:\n",
    "        pandas dataframe with information\n",
    "    \"\"\"\n",
    "    return df[\n",
    "        (df[\"Location\"] == condition)\n",
    "        & (df[\"Channel\"] == channel)\n",
    "        & (df[\"Cycle\"] == cycle)\n",
    "    ]\n",
    "\n",
    "\n",
    "def background_correction(\n",
    "    df, filtersize=1025, sigma=256, folder=data_processed, save=False, show=False\n",
    "):\n",
    "    \"\"\"Function to perform background substraction for image using gaussian blurr of original image\n",
    "\n",
    "    Args:\n",
    "        df (pd DataFrame) : info dataframe for all images\n",
    "        filtersize (int) : filter size of gaussian kernel\n",
    "        sigma (int) : sigma of guassian blurr\n",
    "        folder (str) : folder to save corrected images\n",
    "        save (bool) : bool to save the image\n",
    "        show (bool) : bool to show corrected image and gaussian blur of original image\n",
    "\n",
    "    Returns:\n",
    "        None\n",
    "    \"\"\"\n",
    "    # Loop through the rows of the dataframe\n",
    "    for row in df.itertuples():\n",
    "        # Define saving filename for corrected image\n",
    "        if row.After_bleach == False:\n",
    "            filename = \"_\".join([str(row.Location), str(row.Z_stack), row.Cycle, row.Marker])\n",
    "        else:\n",
    "            filename = \"_\".join(['Af', str(row.Location), str(row.Z_stack), row.Cycle, row.Marker])\n",
    "        path = os.path.join(folder, filename + \".tiff\")\n",
    "\n",
    "\n",
    "        # Save image\n",
    "        if save:\n",
    "            df.at[row.Index, \"Path_corrected\"] = path"
   ]
  },
  {
   "cell_type": "code",
   "execution_count": 10,
   "metadata": {
    "ExecuteTime": {
     "end_time": "2021-03-30T16:32:48.170461Z",
     "start_time": "2021-03-30T16:32:47.252300Z"
    }
   },
   "outputs": [],
   "source": [
    "csv_file = data_meta / \"all_info.csv\"\n",
    "\n",
    "if not csv_file.is_file():\n",
    "    background_correction(df, save=True)\n",
    "    df.to_csv(csv_file, index=False)\n",
    "    print(\"Created images with background correction\")\n",
    "else:\n",
    "    df = pd.read_csv(csv_file)"
   ]
  },
  {
   "cell_type": "markdown",
   "metadata": {
    "tags": []
   },
   "source": [
    "# Find best focus"
   ]
  },
  {
   "cell_type": "code",
   "execution_count": 11,
   "metadata": {
    "ExecuteTime": {
     "end_time": "2021-03-30T16:32:48.375553Z",
     "start_time": "2021-03-30T16:32:48.174465Z"
    }
   },
   "outputs": [],
   "source": [
    "from skimage import exposure\n",
    "\n",
    "def blur_score(img):\n",
    "    fm = cv2.Laplacian(img, cv2.CV_64F).var()\n",
    "    return fm\n",
    "\n",
    "def detect_blur_fft(image, size=60):\n",
    "    # grab the dimensions of the image and use the dimensions to\n",
    "    # derive the center (x, y)-coordinates\n",
    "    (h, w) = image.shape\n",
    "    (cX, cY) = (int(w / 2.0), int(h / 2.0))\n",
    "    \n",
    "    # compute the FFT to find the frequency transform, then shift\n",
    "    # the zero frequency component (i.e., DC component located at\n",
    "    # the top-left corner) to the center where it will be more\n",
    "    # easy to analyze\n",
    "    fft = np.fft.fft2(image)\n",
    "    fftShift = np.fft.fftshift(fft)\n",
    "    \n",
    "    # zero-out the center of the FFT shift (i.e., remove low\n",
    "    # frequencies), apply the inverse shift such that the DC\n",
    "    # component once again becomes the top-left, and then apply\n",
    "    # the inverse FFT\n",
    "    fftShift[cY - size:cY + size, cX - size:cX + size] = 0\n",
    "    fftShift = np.fft.ifftshift(fftShift)\n",
    "    recon = np.fft.ifft2(fftShift)\n",
    "    \n",
    "    magnitude = 20 * np.log(np.abs(recon))\n",
    "    mean = np.mean(magnitude)\n",
    "    \n",
    "    return mean\n",
    "\n",
    "def read_img(path):\n",
    "    return skimage.io.imread(path)\n",
    "\n",
    "def contrast_streching(img):\n",
    "    p2, p98 = np.percentile(img, (0.5, 99.5))\n",
    "    return exposure.rescale_intensity(img, in_range=(p2, p98))\n",
    "\n",
    "def joblib_loop(task, pics):\n",
    "    return Parallel(n_jobs=20)(delayed(task)(i) for i in pics)\n",
    "\n",
    "def get_blur_example(blur_scores, imgs, path):\n",
    "    blur_max = np.argmax(blur_scores)\n",
    "    blur_min = np.argmin(blur_scores)\n",
    "    \n",
    "    fig = plt.figure(figsize=(10,7))\n",
    "    gs = fig.add_gridspec(nrows=3, ncols=2, wspace=0.02, hspace=0.02)\n",
    "    ax0 = fig.add_subplot(gs[:2,0])\n",
    "    ax0.imshow(contrast_streching(imgs[blur_min]), cmap='gray')\n",
    "    ax0.axis('off')\n",
    "    ax0.title.set_text(f'{blur_min} - {blur_scores[blur_min]}')\n",
    "    \n",
    "    ax1 = fig.add_subplot(gs[:2,1])\n",
    "    ax1.imshow(contrast_streching(imgs[blur_max]), cmap='gray')\n",
    "    ax1.axis('off')\n",
    "    ax1.title.set_text(f'{blur_max} - {blur_scores[blur_max]}')\n",
    "    \n",
    "    ax2 = fig.add_subplot(gs[2,:])\n",
    "    ax2.plot(blur_scores)\n",
    "    ax2.set_xlabel('Z stack')\n",
    "    ax2.set_ylabel('Blur score')\n",
    "    \n",
    "    fig.savefig(path, bbox_inches='tight')\n",
    "    plt.close(fig)\n",
    "    return blur_max\n"
   ]
  },
  {
   "cell_type": "code",
   "execution_count": 12,
   "metadata": {
    "ExecuteTime": {
     "end_time": "2021-03-30T16:32:48.741208Z",
     "start_time": "2021-03-30T16:32:48.380548Z"
    }
   },
   "outputs": [],
   "source": [
    "csv_blur = data_meta / \"blur.csv\"\n",
    "\n",
    "df = df[df.Location < 64]\n",
    "df = df[df.Channel == 'CH1']\n",
    "\n",
    "if not csv_blur.is_file():\n",
    "    grouped = df.groupby(['Location', 'Cycle', 'After_bleach'])\n",
    "    max_blur_values = []\n",
    "    for name, group in tqdm(grouped):\n",
    "        paths = group.Path_corrected.tolist()\n",
    "        imgs = joblib_loop(read_img, paths)\n",
    "        blur_scores = joblib_loop(detect_blur_fft, imgs)\n",
    "        savepath = figure_dir / 'blur' / f'{name[0]}_{name[1]}_{name[2]}.tiff' \n",
    "        blur_max = get_blur_example(blur_scores, imgs, savepath)\n",
    "        values = list(name)\n",
    "        values.append(blur_max)\n",
    "        max_blur_values.append(values)\n",
    "\n",
    "    df_blur_max = pd.DataFrame(max_blur_values, columns=['Location', 'Cycle', 'After_bleach', 'Z_stack_focus'])\n",
    "    df_blur_max.to_csv(data_meta / \"blur.csv\", index=False)\n",
    "else:\n",
    "    df_blur_max = pd.read_csv(csv_blur)"
   ]
  },
  {
   "cell_type": "code",
   "execution_count": 13,
   "metadata": {
    "ExecuteTime": {
     "end_time": "2021-03-30T16:32:48.947242Z",
     "start_time": "2021-03-30T16:32:48.746204Z"
    }
   },
   "outputs": [
    {
     "data": {
      "text/html": [
       "<div>\n",
       "<style scoped>\n",
       "    .dataframe tbody tr th:only-of-type {\n",
       "        vertical-align: middle;\n",
       "    }\n",
       "\n",
       "    .dataframe tbody tr th {\n",
       "        vertical-align: top;\n",
       "    }\n",
       "\n",
       "    .dataframe thead th {\n",
       "        text-align: right;\n",
       "    }\n",
       "</style>\n",
       "<table border=\"1\" class=\"dataframe\">\n",
       "  <thead>\n",
       "    <tr style=\"text-align: right;\">\n",
       "      <th></th>\n",
       "      <th>Location</th>\n",
       "      <th>Cycle</th>\n",
       "      <th>After_bleach</th>\n",
       "      <th>Z_stack_focus</th>\n",
       "    </tr>\n",
       "  </thead>\n",
       "  <tbody>\n",
       "    <tr>\n",
       "      <th>0</th>\n",
       "      <td>1</td>\n",
       "      <td>Cycle1</td>\n",
       "      <td>False</td>\n",
       "      <td>11</td>\n",
       "    </tr>\n",
       "    <tr>\n",
       "      <th>1</th>\n",
       "      <td>1</td>\n",
       "      <td>Cycle1</td>\n",
       "      <td>True</td>\n",
       "      <td>11</td>\n",
       "    </tr>\n",
       "    <tr>\n",
       "      <th>2</th>\n",
       "      <td>1</td>\n",
       "      <td>Cycle10</td>\n",
       "      <td>False</td>\n",
       "      <td>17</td>\n",
       "    </tr>\n",
       "    <tr>\n",
       "      <th>3</th>\n",
       "      <td>1</td>\n",
       "      <td>Cycle10</td>\n",
       "      <td>True</td>\n",
       "      <td>16</td>\n",
       "    </tr>\n",
       "    <tr>\n",
       "      <th>4</th>\n",
       "      <td>1</td>\n",
       "      <td>Cycle11</td>\n",
       "      <td>False</td>\n",
       "      <td>14</td>\n",
       "    </tr>\n",
       "    <tr>\n",
       "      <th>...</th>\n",
       "      <td>...</td>\n",
       "      <td>...</td>\n",
       "      <td>...</td>\n",
       "      <td>...</td>\n",
       "    </tr>\n",
       "    <tr>\n",
       "      <th>1318</th>\n",
       "      <td>63</td>\n",
       "      <td>Cycle7</td>\n",
       "      <td>True</td>\n",
       "      <td>15</td>\n",
       "    </tr>\n",
       "    <tr>\n",
       "      <th>1319</th>\n",
       "      <td>63</td>\n",
       "      <td>Cycle8</td>\n",
       "      <td>False</td>\n",
       "      <td>15</td>\n",
       "    </tr>\n",
       "    <tr>\n",
       "      <th>1320</th>\n",
       "      <td>63</td>\n",
       "      <td>Cycle8</td>\n",
       "      <td>True</td>\n",
       "      <td>18</td>\n",
       "    </tr>\n",
       "    <tr>\n",
       "      <th>1321</th>\n",
       "      <td>63</td>\n",
       "      <td>Cycle9</td>\n",
       "      <td>False</td>\n",
       "      <td>20</td>\n",
       "    </tr>\n",
       "    <tr>\n",
       "      <th>1322</th>\n",
       "      <td>63</td>\n",
       "      <td>Cycle9</td>\n",
       "      <td>True</td>\n",
       "      <td>15</td>\n",
       "    </tr>\n",
       "  </tbody>\n",
       "</table>\n",
       "<p>1323 rows × 4 columns</p>\n",
       "</div>"
      ],
      "text/plain": [
       "      Location    Cycle  After_bleach  Z_stack_focus\n",
       "0            1   Cycle1         False             11\n",
       "1            1   Cycle1          True             11\n",
       "2            1  Cycle10         False             17\n",
       "3            1  Cycle10          True             16\n",
       "4            1  Cycle11         False             14\n",
       "...        ...      ...           ...            ...\n",
       "1318        63   Cycle7          True             15\n",
       "1319        63   Cycle8         False             15\n",
       "1320        63   Cycle8          True             18\n",
       "1321        63   Cycle9         False             20\n",
       "1322        63   Cycle9          True             15\n",
       "\n",
       "[1323 rows x 4 columns]"
      ]
     },
     "execution_count": 13,
     "metadata": {},
     "output_type": "execute_result"
    }
   ],
   "source": [
    "df_blur_max"
   ]
  },
  {
   "cell_type": "markdown",
   "metadata": {},
   "source": [
    "# Combine best focus"
   ]
  },
  {
   "cell_type": "code",
   "execution_count": 17,
   "metadata": {
    "ExecuteTime": {
     "end_time": "2021-03-30T16:33:37.807084Z",
     "start_time": "2021-03-30T16:33:36.942077Z"
    }
   },
   "outputs": [],
   "source": [
    "csv_file = data_meta / \"all_info.csv\"\n",
    "\n",
    "df = pd.read_csv(csv_file)\n",
    "df = df[df.Location < 64]"
   ]
  },
  {
   "cell_type": "code",
   "execution_count": 55,
   "metadata": {
    "ExecuteTime": {
     "end_time": "2021-03-17T18:31:19.924135Z",
     "start_time": "2021-03-17T18:31:16.979Z"
    }
   },
   "outputs": [],
   "source": [
    "def get_maximum_projection(df, img_folder, n=2, save=False):\n",
    " \n",
    "    df_combined = pd.DataFrame(columns=['Cycle', 'Location', 'Channel', 'Marker', 'Path'])\n",
    "    df_grouped = df.groupby(['Location', 'Cycle', 'Marker', 'After_bleach'])\n",
    "    # Loop through condition and cycle pair\n",
    "    for name, df_subset in tqdm(df_grouped):\n",
    "        df_blur = df_blur_max.query('Location==@name[0] & Cycle==@name[1] & After_bleach==@name[3]')\n",
    "        z_focus = df_blur.Z_stack_focus.item()\n",
    "        z_focus_min = z_focus - n\n",
    "        z_focus_max = z_focus + n\n",
    "\n",
    "        df_subset_focus = df_subset.query('Z_stack >= @z_focus_min & Z_stack <= @z_focus_max' )\n",
    "    \n",
    "        paths = df_subset_focus.Path_corrected.tolist()\n",
    "        imgs = joblib_loop(read_img, paths)\n",
    "        \n",
    "        row = df_subset_focus.iloc[0,:]\n",
    "        \n",
    "        # Save image\n",
    "        img_combined = np.amax(imgs, axis=0, keepdims=True)[0]\n",
    "        filename = \"_\".join([str(row.Location), row.Cycle, row.Marker, str(row.After_bleach)])\n",
    "        path = os.path.join(img_folder, filename + \".tif\")\n",
    "        cv2.imwrite(path, img_combined)\n",
    "\n",
    "        # Append dataframe\n",
    "        new_row = {\n",
    "            \"Cycle\": row.Cycle,\n",
    "            \"Location\": row.Location,\n",
    "            \"Channel\": row.Channel,\n",
    "            \"Marker\": row.Marker,\n",
    "            \"After_bleach\": row.After_bleach,\n",
    "            \"Path\": path,\n",
    "        }\n",
    "\n",
    "        df_combined = df_combined.append(new_row, ignore_index=True)\n",
    "\n",
    "    if save:\n",
    "        df_combined.to_csv(data_meta / 'info_combined.csv', index=False)"
   ]
  },
  {
   "cell_type": "code",
   "execution_count": 56,
   "metadata": {
    "ExecuteTime": {
     "end_time": "2021-03-17T18:31:19.926133Z",
     "start_time": "2021-03-17T18:31:16.981Z"
    }
   },
   "outputs": [
    {
     "data": {
      "application/vnd.jupyter.widget-view+json": {
       "model_id": "f5f679968a774cc9ad043a2e91376294",
       "version_major": 2,
       "version_minor": 0
      },
      "text/plain": [
       "  0%|          | 0/4536 [00:00<?, ?it/s]"
      ]
     },
     "metadata": {},
     "output_type": "display_data"
    }
   ],
   "source": [
    "info_combined = data_meta / 'info_combined.csv'\n",
    "\n",
    "if not info_combined.is_file():\n",
    "    get_maximum_projection(df, data_combined, save=True)"
   ]
  },
  {
   "cell_type": "markdown",
   "metadata": {},
   "source": [
    "# Image registration\n",
    "\n",
    "Image registration using the DAPI channel across images"
   ]
  },
  {
   "cell_type": "code",
   "execution_count": 57,
   "metadata": {
    "ExecuteTime": {
     "end_time": "2021-03-28T14:41:06.460325Z",
     "start_time": "2021-03-28T14:41:06.165293Z"
    }
   },
   "outputs": [
    {
     "data": {
      "text/html": [
       "<div>\n",
       "<style scoped>\n",
       "    .dataframe tbody tr th:only-of-type {\n",
       "        vertical-align: middle;\n",
       "    }\n",
       "\n",
       "    .dataframe tbody tr th {\n",
       "        vertical-align: top;\n",
       "    }\n",
       "\n",
       "    .dataframe thead th {\n",
       "        text-align: right;\n",
       "    }\n",
       "</style>\n",
       "<table border=\"1\" class=\"dataframe\">\n",
       "  <thead>\n",
       "    <tr style=\"text-align: right;\">\n",
       "      <th></th>\n",
       "      <th>Cycle</th>\n",
       "      <th>Location</th>\n",
       "      <th>After_bleach</th>\n",
       "      <th>Z_stack</th>\n",
       "      <th>Channel</th>\n",
       "      <th>Marker</th>\n",
       "      <th>Path</th>\n",
       "      <th>Path_corrected</th>\n",
       "    </tr>\n",
       "  </thead>\n",
       "  <tbody>\n",
       "    <tr>\n",
       "      <th>0</th>\n",
       "      <td>Cycle10</td>\n",
       "      <td>1</td>\n",
       "      <td>False</td>\n",
       "      <td>1</td>\n",
       "      <td>CH1</td>\n",
       "      <td>Hoeschst</td>\n",
       "      <td>Y:\\coskun-lab\\Thomas\\Spatial signaling\\dataset...</td>\n",
       "      <td>Y:\\coskun-lab\\Thomas\\Spatial signaling\\dataset...</td>\n",
       "    </tr>\n",
       "    <tr>\n",
       "      <th>1</th>\n",
       "      <td>Cycle10</td>\n",
       "      <td>1</td>\n",
       "      <td>False</td>\n",
       "      <td>1</td>\n",
       "      <td>CH2</td>\n",
       "      <td>Concanavalin A</td>\n",
       "      <td>Y:\\coskun-lab\\Thomas\\Spatial signaling\\dataset...</td>\n",
       "      <td>Y:\\coskun-lab\\Thomas\\Spatial signaling\\dataset...</td>\n",
       "    </tr>\n",
       "    <tr>\n",
       "      <th>2</th>\n",
       "      <td>Cycle10</td>\n",
       "      <td>1</td>\n",
       "      <td>False</td>\n",
       "      <td>1</td>\n",
       "      <td>CH4</td>\n",
       "      <td>PCNA</td>\n",
       "      <td>Y:\\coskun-lab\\Thomas\\Spatial signaling\\dataset...</td>\n",
       "      <td>Y:\\coskun-lab\\Thomas\\Spatial signaling\\dataset...</td>\n",
       "    </tr>\n",
       "    <tr>\n",
       "      <th>3</th>\n",
       "      <td>Cycle10</td>\n",
       "      <td>1</td>\n",
       "      <td>False</td>\n",
       "      <td>2</td>\n",
       "      <td>CH1</td>\n",
       "      <td>Hoeschst</td>\n",
       "      <td>Y:\\coskun-lab\\Thomas\\Spatial signaling\\dataset...</td>\n",
       "      <td>Y:\\coskun-lab\\Thomas\\Spatial signaling\\dataset...</td>\n",
       "    </tr>\n",
       "    <tr>\n",
       "      <th>4</th>\n",
       "      <td>Cycle10</td>\n",
       "      <td>1</td>\n",
       "      <td>False</td>\n",
       "      <td>2</td>\n",
       "      <td>CH2</td>\n",
       "      <td>Concanavalin A</td>\n",
       "      <td>Y:\\coskun-lab\\Thomas\\Spatial signaling\\dataset...</td>\n",
       "      <td>Y:\\coskun-lab\\Thomas\\Spatial signaling\\dataset...</td>\n",
       "    </tr>\n",
       "  </tbody>\n",
       "</table>\n",
       "</div>"
      ],
      "text/plain": [
       "     Cycle  Location  After_bleach  Z_stack Channel          Marker  \\\n",
       "0  Cycle10         1         False        1     CH1        Hoeschst   \n",
       "1  Cycle10         1         False        1     CH2  Concanavalin A   \n",
       "2  Cycle10         1         False        1     CH4            PCNA   \n",
       "3  Cycle10         1         False        2     CH1        Hoeschst   \n",
       "4  Cycle10         1         False        2     CH2  Concanavalin A   \n",
       "\n",
       "                                                Path  \\\n",
       "0  Y:\\coskun-lab\\Thomas\\Spatial signaling\\dataset...   \n",
       "1  Y:\\coskun-lab\\Thomas\\Spatial signaling\\dataset...   \n",
       "2  Y:\\coskun-lab\\Thomas\\Spatial signaling\\dataset...   \n",
       "3  Y:\\coskun-lab\\Thomas\\Spatial signaling\\dataset...   \n",
       "4  Y:\\coskun-lab\\Thomas\\Spatial signaling\\dataset...   \n",
       "\n",
       "                                      Path_corrected  \n",
       "0  Y:\\coskun-lab\\Thomas\\Spatial signaling\\dataset...  \n",
       "1  Y:\\coskun-lab\\Thomas\\Spatial signaling\\dataset...  \n",
       "2  Y:\\coskun-lab\\Thomas\\Spatial signaling\\dataset...  \n",
       "3  Y:\\coskun-lab\\Thomas\\Spatial signaling\\dataset...  \n",
       "4  Y:\\coskun-lab\\Thomas\\Spatial signaling\\dataset...  "
      ]
     },
     "execution_count": 57,
     "metadata": {},
     "output_type": "execute_result"
    }
   ],
   "source": [
    "df.head()"
   ]
  },
  {
   "cell_type": "code",
   "execution_count": 79,
   "metadata": {
    "ExecuteTime": {
     "end_time": "2021-03-28T18:02:24.475293Z",
     "start_time": "2021-03-28T18:02:24.169279Z"
    },
    "code_folding": [
     0
    ]
   },
   "outputs": [],
   "source": [
    "def get_shift_within_cycle(df):\n",
    "    \"\"\"Function to get shift within each cycle of the DAPI channel\n",
    "\n",
    "    Args:\n",
    "        df (pd DataFrame) : info dataframe for images\n",
    "\n",
    "    Returns:\n",
    "        print shift values between each level\n",
    "    \"\"\"\n",
    "    # Get elements of DAPI channel\n",
    "    df = df[df[\"Marker\"] == \"Hoeschst\"]\n",
    "\n",
    "    # Loop through location\n",
    "    locations = df.Location.unique()\n",
    "    for location in tqdm(locations, desc='location'):\n",
    "        for cycle in tqdm(df.Cycle.unique(), desc='cycle', leave=False):\n",
    "            # Read the cycle info and z level of 1 for reference dapi channel\n",
    "            df_subset = df[(df.Cycle == cycle) & (df.Location == location)]\n",
    "            for af in df_subset.After_bleach.unique():\n",
    "                temp = df_subset[df_subset.After_bleach == af]\n",
    "                reference = temp[temp.Z_stack == 1]\n",
    "                reference_dapi = skimage.io.imread(reference.Path_corrected.item())\n",
    "\n",
    "                # number of z level in this cycle\n",
    "                n_channel = temp.Z_stack.max() + 1\n",
    "                shift_x = []\n",
    "                shift_y = []\n",
    "                # Get shift between z level\n",
    "                for i in range(2, n_channel):\n",
    "                    img_dapi = skimage.io.imread(\n",
    "                        temp[temp.Z_stack == i].Path_corrected.item()\n",
    "                    )\n",
    "                    try:\n",
    "                        shift, error, diffphase = phase_cross_correlation(\n",
    "                            reference_dapi, img_dapi\n",
    "                        )\n",
    "                        shift_x.append(shift[0])\n",
    "                        shift_y.append(shift[1])\n",
    "                    except ValueError as err:\n",
    "                        print(err)\n",
    "                        print(str(temp[temp.Z_stack == i].Path_corrected.item()))\n",
    "                        print(str(reference.Path_corrected.item()))\n",
    "                if af:\n",
    "                    print(\n",
    "                        f\"For AF {cycle} detected subpixel offset ({np.mean(shift_x)}, {np.mean(shift_y)}) between\"\\\n",
    "                        f\" for location {location} - {sub_location}\"\n",
    "                    )\n",
    "                else:\n",
    "                    print(\n",
    "                        f\"For {cycle} detected subpixel offset ({np.mean(shift_x)}, {np.mean(shift_y)}) between\"\\\n",
    "                        f\" for location {location} - {sub_location}\"\n",
    "                    )\n",
    "\n",
    "def get_shift_between_cycle(df):\n",
    "    \"\"\"Function to get shift within each cycle for the DAPI channel\n",
    "\n",
    "    Args:\n",
    "        df (pd DataFrame) : info dataframe for images in dapi channel accross cycle\n",
    "\n",
    "    Returns:\n",
    "        shift dictionnary\n",
    "    \"\"\"\n",
    "    # Get elements of DAPI channel\n",
    "    df = df[df[\"Marker\"] == \"Hoeschst\"]\n",
    "\n",
    "    # Get shift between cycle\n",
    "    cycles = df.Cycle.unique().tolist()\n",
    "    cycles.sort(key=lambda f: int(re.sub('\\D', '', f)))\n",
    "    locations = df.Location.unique()\n",
    "    shift_dict = defaultdict(dict)\n",
    "    for location in tqdm(locations, desc='location'):\n",
    "        # Get subset of specific location\n",
    "        df_subset = df[df.Location == location]\n",
    "\n",
    "        # Get reference cycle\n",
    "        temp = df_subset[(df_subset.Cycle == cycles[0]) & (df_subset.After_bleach == False)]\n",
    "        reference = temp[temp.Z_stack == 1]\n",
    "        reference_dapi = skimage.io.imread(reference.Path_corrected.item())\n",
    "\n",
    "        # Define shift dictionnary\n",
    "        shift_dict[location] = defaultdict(dict)\n",
    "\n",
    "        # Max shift accross all cycle:\n",
    "        max_shift_x = 0\n",
    "        min_shift_x = 0\n",
    "        max_shift_y = 0\n",
    "        min_shift_y = 0\n",
    "\n",
    "        for af in df_subset.After_bleach.unique():\n",
    "            if af: \n",
    "                cycles_it = cycles[:-1] # if after bleach no cycle 8\n",
    "            else:\n",
    "                cycles_it = cycles[1:] # if normal cycle 1 as reference\n",
    "\n",
    "            for cycle in tqdm(cycles_it, desc='cycle', leave=False):\n",
    "                temp = df_subset[(df_subset.Cycle == cycle) & (df_subset.After_bleach == af)]\n",
    "                img_dapi = skimage.io.imread(temp[temp.Z_stack == 1].Path_corrected.item())\n",
    "\n",
    "                     \n",
    "                # Get image shift y and x and save to shift_dict\n",
    "                try:\n",
    "                    shift, _, _ = phase_cross_correlation(\n",
    "                        reference_dapi, img_dapi\n",
    "                    )  # Shift vector required to register moving images with reference images. Axis orderingis constitent with Y,X\n",
    "                except ValueError as err:\n",
    "                    print(err)\n",
    "                    print(str(temp[temp.Z_stack == 1].Path_corrected.item()))\n",
    "                    print(str(reference.Path_corrected.item()))\n",
    "#                 print(\n",
    "#                     f\"For {cycle} detected subpixel offset ({shift[0]}, {shift[1]}) compared to {cycles[0]} \"\\\n",
    "#                     f\"for location {location} for AF: {af}\"\n",
    "#                 )\n",
    "                shift_y, shift_x = shift[0], shift[1]\n",
    "\n",
    "                if af:\n",
    "                    shift_dict[location][cycle]['af'] = {\"shift_x\": shift_x, \"shift_y\": shift_y}\n",
    "                else:\n",
    "                    shift_dict[location][cycle]['norm'] = {\"shift_x\": shift_x, \"shift_y\": shift_y}\n",
    "\n",
    "                # Update max shift\n",
    "                max_shift_x = shift_x if shift_x > max_shift_x else max_shift_x\n",
    "                min_shift_x = shift_x if shift_x < min_shift_x else min_shift_x\n",
    "                max_shift_y = shift_y if shift_y > max_shift_y else max_shift_y\n",
    "                min_shift_y = shift_y if shift_y < min_shift_y else min_shift_y\n",
    "\n",
    "        max_shift_x = int(max_shift_x)\n",
    "        min_shift_x = int(min_shift_x)\n",
    "        max_shift_y = int(max_shift_y)\n",
    "        min_shift_y = int(min_shift_y)\n",
    "\n",
    "        shift_dict[location][\"max\"] = {\n",
    "            \"max_shift_x\": max_shift_x,\n",
    "            \"min_shift_x\": min_shift_x,\n",
    "            \"max_shift_y\": max_shift_y,\n",
    "            \"min_shift_y\": min_shift_y,\n",
    "        }\n",
    "\n",
    "    return shift_dict\n",
    "\n",
    "def shift_crop(df, shift_dict, save=True):\n",
    "    df_grouped = df.groupby(['Location'])\n",
    "    for name, df_subset in tqdm(df_grouped):\n",
    "        paths = df_subset.Path.tolist() \n",
    "        imgs = joblib_loop(read_img, paths)\n",
    "        \n",
    "        afts = df_subset.After_bleach.tolist()\n",
    "        cycles = df_subset.Cycle.tolist()\n",
    "        locations = df_subset.Location.tolist()\n",
    "        channels = df_subset.Channel.tolist()\n",
    "            \n",
    "        imgs_shift_crop = []\n",
    "        for idx, img in enumerate(imgs):\n",
    "            location = locations[idx]\n",
    "            shift_dict_subset = shift_dict[location]\n",
    "\n",
    "            # Get max shift values\n",
    "            max_shift_x = shift_dict_subset[\"max\"][\"max_shift_x\"]\n",
    "            min_shift_x = shift_dict_subset[\"max\"][\"min_shift_x\"]\n",
    "            max_shift_y = shift_dict_subset[\"max\"][\"max_shift_y\"]\n",
    "            min_shift_y = shift_dict_subset[\"max\"][\"min_shift_y\"]\n",
    "            \n",
    "            if afts[idx] == True:\n",
    "                aft = 'af'\n",
    "            else:\n",
    "                aft = 'norm'\n",
    "            \n",
    "            if cycles[idx] == 'Cycle1' and aft == 'norm':\n",
    "                # Crop image\n",
    "                res_cropped = img[max_shift_y:min_shift_y-1, max_shift_x:min_shift_x-1]\n",
    "\n",
    "            else:\n",
    "                # Aplly shift\n",
    "                shift_x, shift_y = (\n",
    "                    shift_dict_subset[cycles[idx]][aft][\"shift_x\"],\n",
    "                    shift_dict_subset[cycles[idx]][aft][\"shift_y\"],\n",
    "                )\n",
    "                rows, cols = img.shape\n",
    "                M = np.float32([[1, 0, shift_x], [0, 1, shift_y]])\n",
    "                res = cv2.warpAffine(img, M, (cols, rows))\n",
    "\n",
    "                # Crop image\n",
    "                res_cropped = res[max_shift_y:min_shift_y-1, max_shift_x:min_shift_x-1]\n",
    "            imgs_shift_crop.append(res_cropped)\n",
    "        Parallel(n_jobs=10)(delayed(cv2.imwrite)(j, i) for i,j in zip(imgs_shift_crop, paths))\n",
    "        "
   ]
  },
  {
   "cell_type": "code",
   "execution_count": 80,
   "metadata": {},
   "outputs": [
    {
     "data": {
      "application/vnd.jupyter.widget-view+json": {
       "model_id": "d81d4d3263bf4521b28b8eb7ac0243e2",
       "version_major": 2,
       "version_minor": 0
      },
      "text/plain": [
       "location:   0%|          | 0/63 [00:00<?, ?it/s]"
      ]
     },
     "metadata": {},
     "output_type": "display_data"
    },
    {
     "data": {
      "application/vnd.jupyter.widget-view+json": {
       "model_id": "",
       "version_major": 2,
       "version_minor": 0
      },
      "text/plain": [
       "cycle:   0%|          | 0/10 [00:00<?, ?it/s]"
      ]
     },
     "metadata": {},
     "output_type": "display_data"
    },
    {
     "data": {
      "application/vnd.jupyter.widget-view+json": {
       "model_id": "",
       "version_major": 2,
       "version_minor": 0
      },
      "text/plain": [
       "cycle:   0%|          | 0/10 [00:00<?, ?it/s]"
      ]
     },
     "metadata": {},
     "output_type": "display_data"
    },
    {
     "data": {
      "application/vnd.jupyter.widget-view+json": {
       "model_id": "",
       "version_major": 2,
       "version_minor": 0
      },
      "text/plain": [
       "cycle:   0%|          | 0/10 [00:00<?, ?it/s]"
      ]
     },
     "metadata": {},
     "output_type": "display_data"
    },
    {
     "data": {
      "application/vnd.jupyter.widget-view+json": {
       "model_id": "",
       "version_major": 2,
       "version_minor": 0
      },
      "text/plain": [
       "cycle:   0%|          | 0/10 [00:00<?, ?it/s]"
      ]
     },
     "metadata": {},
     "output_type": "display_data"
    },
    {
     "data": {
      "application/vnd.jupyter.widget-view+json": {
       "model_id": "",
       "version_major": 2,
       "version_minor": 0
      },
      "text/plain": [
       "cycle:   0%|          | 0/10 [00:00<?, ?it/s]"
      ]
     },
     "metadata": {},
     "output_type": "display_data"
    },
    {
     "data": {
      "application/vnd.jupyter.widget-view+json": {
       "model_id": "",
       "version_major": 2,
       "version_minor": 0
      },
      "text/plain": [
       "cycle:   0%|          | 0/10 [00:00<?, ?it/s]"
      ]
     },
     "metadata": {},
     "output_type": "display_data"
    },
    {
     "data": {
      "application/vnd.jupyter.widget-view+json": {
       "model_id": "",
       "version_major": 2,
       "version_minor": 0
      },
      "text/plain": [
       "cycle:   0%|          | 0/10 [00:00<?, ?it/s]"
      ]
     },
     "metadata": {},
     "output_type": "display_data"
    },
    {
     "data": {
      "application/vnd.jupyter.widget-view+json": {
       "model_id": "",
       "version_major": 2,
       "version_minor": 0
      },
      "text/plain": [
       "cycle:   0%|          | 0/10 [00:00<?, ?it/s]"
      ]
     },
     "metadata": {},
     "output_type": "display_data"
    },
    {
     "data": {
      "application/vnd.jupyter.widget-view+json": {
       "model_id": "",
       "version_major": 2,
       "version_minor": 0
      },
      "text/plain": [
       "cycle:   0%|          | 0/10 [00:00<?, ?it/s]"
      ]
     },
     "metadata": {},
     "output_type": "display_data"
    },
    {
     "data": {
      "application/vnd.jupyter.widget-view+json": {
       "model_id": "",
       "version_major": 2,
       "version_minor": 0
      },
      "text/plain": [
       "cycle:   0%|          | 0/10 [00:00<?, ?it/s]"
      ]
     },
     "metadata": {},
     "output_type": "display_data"
    },
    {
     "data": {
      "application/vnd.jupyter.widget-view+json": {
       "model_id": "",
       "version_major": 2,
       "version_minor": 0
      },
      "text/plain": [
       "cycle:   0%|          | 0/10 [00:00<?, ?it/s]"
      ]
     },
     "metadata": {},
     "output_type": "display_data"
    },
    {
     "data": {
      "application/vnd.jupyter.widget-view+json": {
       "model_id": "",
       "version_major": 2,
       "version_minor": 0
      },
      "text/plain": [
       "cycle:   0%|          | 0/10 [00:00<?, ?it/s]"
      ]
     },
     "metadata": {},
     "output_type": "display_data"
    },
    {
     "data": {
      "application/vnd.jupyter.widget-view+json": {
       "model_id": "",
       "version_major": 2,
       "version_minor": 0
      },
      "text/plain": [
       "cycle:   0%|          | 0/10 [00:00<?, ?it/s]"
      ]
     },
     "metadata": {},
     "output_type": "display_data"
    },
    {
     "data": {
      "application/vnd.jupyter.widget-view+json": {
       "model_id": "",
       "version_major": 2,
       "version_minor": 0
      },
      "text/plain": [
       "cycle:   0%|          | 0/10 [00:00<?, ?it/s]"
      ]
     },
     "metadata": {},
     "output_type": "display_data"
    },
    {
     "data": {
      "application/vnd.jupyter.widget-view+json": {
       "model_id": "",
       "version_major": 2,
       "version_minor": 0
      },
      "text/plain": [
       "cycle:   0%|          | 0/10 [00:00<?, ?it/s]"
      ]
     },
     "metadata": {},
     "output_type": "display_data"
    },
    {
     "data": {
      "application/vnd.jupyter.widget-view+json": {
       "model_id": "",
       "version_major": 2,
       "version_minor": 0
      },
      "text/plain": [
       "cycle:   0%|          | 0/10 [00:00<?, ?it/s]"
      ]
     },
     "metadata": {},
     "output_type": "display_data"
    },
    {
     "data": {
      "application/vnd.jupyter.widget-view+json": {
       "model_id": "",
       "version_major": 2,
       "version_minor": 0
      },
      "text/plain": [
       "cycle:   0%|          | 0/10 [00:00<?, ?it/s]"
      ]
     },
     "metadata": {},
     "output_type": "display_data"
    },
    {
     "data": {
      "application/vnd.jupyter.widget-view+json": {
       "model_id": "",
       "version_major": 2,
       "version_minor": 0
      },
      "text/plain": [
       "cycle:   0%|          | 0/10 [00:00<?, ?it/s]"
      ]
     },
     "metadata": {},
     "output_type": "display_data"
    },
    {
     "data": {
      "application/vnd.jupyter.widget-view+json": {
       "model_id": "",
       "version_major": 2,
       "version_minor": 0
      },
      "text/plain": [
       "cycle:   0%|          | 0/10 [00:00<?, ?it/s]"
      ]
     },
     "metadata": {},
     "output_type": "display_data"
    },
    {
     "data": {
      "application/vnd.jupyter.widget-view+json": {
       "model_id": "",
       "version_major": 2,
       "version_minor": 0
      },
      "text/plain": [
       "cycle:   0%|          | 0/10 [00:00<?, ?it/s]"
      ]
     },
     "metadata": {},
     "output_type": "display_data"
    },
    {
     "data": {
      "application/vnd.jupyter.widget-view+json": {
       "model_id": "",
       "version_major": 2,
       "version_minor": 0
      },
      "text/plain": [
       "cycle:   0%|          | 0/10 [00:00<?, ?it/s]"
      ]
     },
     "metadata": {},
     "output_type": "display_data"
    },
    {
     "data": {
      "application/vnd.jupyter.widget-view+json": {
       "model_id": "",
       "version_major": 2,
       "version_minor": 0
      },
      "text/plain": [
       "cycle:   0%|          | 0/10 [00:00<?, ?it/s]"
      ]
     },
     "metadata": {},
     "output_type": "display_data"
    },
    {
     "data": {
      "application/vnd.jupyter.widget-view+json": {
       "model_id": "",
       "version_major": 2,
       "version_minor": 0
      },
      "text/plain": [
       "cycle:   0%|          | 0/10 [00:00<?, ?it/s]"
      ]
     },
     "metadata": {},
     "output_type": "display_data"
    },
    {
     "data": {
      "application/vnd.jupyter.widget-view+json": {
       "model_id": "",
       "version_major": 2,
       "version_minor": 0
      },
      "text/plain": [
       "cycle:   0%|          | 0/10 [00:00<?, ?it/s]"
      ]
     },
     "metadata": {},
     "output_type": "display_data"
    },
    {
     "data": {
      "application/vnd.jupyter.widget-view+json": {
       "model_id": "",
       "version_major": 2,
       "version_minor": 0
      },
      "text/plain": [
       "cycle:   0%|          | 0/10 [00:00<?, ?it/s]"
      ]
     },
     "metadata": {},
     "output_type": "display_data"
    },
    {
     "data": {
      "application/vnd.jupyter.widget-view+json": {
       "model_id": "",
       "version_major": 2,
       "version_minor": 0
      },
      "text/plain": [
       "cycle:   0%|          | 0/10 [00:00<?, ?it/s]"
      ]
     },
     "metadata": {},
     "output_type": "display_data"
    },
    {
     "data": {
      "application/vnd.jupyter.widget-view+json": {
       "model_id": "",
       "version_major": 2,
       "version_minor": 0
      },
      "text/plain": [
       "cycle:   0%|          | 0/10 [00:00<?, ?it/s]"
      ]
     },
     "metadata": {},
     "output_type": "display_data"
    },
    {
     "data": {
      "application/vnd.jupyter.widget-view+json": {
       "model_id": "",
       "version_major": 2,
       "version_minor": 0
      },
      "text/plain": [
       "cycle:   0%|          | 0/10 [00:00<?, ?it/s]"
      ]
     },
     "metadata": {},
     "output_type": "display_data"
    },
    {
     "data": {
      "application/vnd.jupyter.widget-view+json": {
       "model_id": "",
       "version_major": 2,
       "version_minor": 0
      },
      "text/plain": [
       "cycle:   0%|          | 0/10 [00:00<?, ?it/s]"
      ]
     },
     "metadata": {},
     "output_type": "display_data"
    },
    {
     "data": {
      "application/vnd.jupyter.widget-view+json": {
       "model_id": "",
       "version_major": 2,
       "version_minor": 0
      },
      "text/plain": [
       "cycle:   0%|          | 0/10 [00:00<?, ?it/s]"
      ]
     },
     "metadata": {},
     "output_type": "display_data"
    },
    {
     "data": {
      "application/vnd.jupyter.widget-view+json": {
       "model_id": "",
       "version_major": 2,
       "version_minor": 0
      },
      "text/plain": [
       "cycle:   0%|          | 0/10 [00:00<?, ?it/s]"
      ]
     },
     "metadata": {},
     "output_type": "display_data"
    },
    {
     "data": {
      "application/vnd.jupyter.widget-view+json": {
       "model_id": "",
       "version_major": 2,
       "version_minor": 0
      },
      "text/plain": [
       "cycle:   0%|          | 0/10 [00:00<?, ?it/s]"
      ]
     },
     "metadata": {},
     "output_type": "display_data"
    },
    {
     "data": {
      "application/vnd.jupyter.widget-view+json": {
       "model_id": "",
       "version_major": 2,
       "version_minor": 0
      },
      "text/plain": [
       "cycle:   0%|          | 0/10 [00:00<?, ?it/s]"
      ]
     },
     "metadata": {},
     "output_type": "display_data"
    },
    {
     "data": {
      "application/vnd.jupyter.widget-view+json": {
       "model_id": "",
       "version_major": 2,
       "version_minor": 0
      },
      "text/plain": [
       "cycle:   0%|          | 0/10 [00:00<?, ?it/s]"
      ]
     },
     "metadata": {},
     "output_type": "display_data"
    },
    {
     "data": {
      "application/vnd.jupyter.widget-view+json": {
       "model_id": "",
       "version_major": 2,
       "version_minor": 0
      },
      "text/plain": [
       "cycle:   0%|          | 0/10 [00:00<?, ?it/s]"
      ]
     },
     "metadata": {},
     "output_type": "display_data"
    },
    {
     "data": {
      "application/vnd.jupyter.widget-view+json": {
       "model_id": "",
       "version_major": 2,
       "version_minor": 0
      },
      "text/plain": [
       "cycle:   0%|          | 0/10 [00:00<?, ?it/s]"
      ]
     },
     "metadata": {},
     "output_type": "display_data"
    },
    {
     "data": {
      "application/vnd.jupyter.widget-view+json": {
       "model_id": "",
       "version_major": 2,
       "version_minor": 0
      },
      "text/plain": [
       "cycle:   0%|          | 0/10 [00:00<?, ?it/s]"
      ]
     },
     "metadata": {},
     "output_type": "display_data"
    },
    {
     "data": {
      "application/vnd.jupyter.widget-view+json": {
       "model_id": "",
       "version_major": 2,
       "version_minor": 0
      },
      "text/plain": [
       "cycle:   0%|          | 0/10 [00:00<?, ?it/s]"
      ]
     },
     "metadata": {},
     "output_type": "display_data"
    },
    {
     "data": {
      "application/vnd.jupyter.widget-view+json": {
       "model_id": "",
       "version_major": 2,
       "version_minor": 0
      },
      "text/plain": [
       "cycle:   0%|          | 0/10 [00:00<?, ?it/s]"
      ]
     },
     "metadata": {},
     "output_type": "display_data"
    },
    {
     "data": {
      "application/vnd.jupyter.widget-view+json": {
       "model_id": "",
       "version_major": 2,
       "version_minor": 0
      },
      "text/plain": [
       "cycle:   0%|          | 0/10 [00:00<?, ?it/s]"
      ]
     },
     "metadata": {},
     "output_type": "display_data"
    },
    {
     "data": {
      "application/vnd.jupyter.widget-view+json": {
       "model_id": "",
       "version_major": 2,
       "version_minor": 0
      },
      "text/plain": [
       "cycle:   0%|          | 0/10 [00:00<?, ?it/s]"
      ]
     },
     "metadata": {},
     "output_type": "display_data"
    },
    {
     "data": {
      "application/vnd.jupyter.widget-view+json": {
       "model_id": "",
       "version_major": 2,
       "version_minor": 0
      },
      "text/plain": [
       "cycle:   0%|          | 0/10 [00:00<?, ?it/s]"
      ]
     },
     "metadata": {},
     "output_type": "display_data"
    },
    {
     "data": {
      "application/vnd.jupyter.widget-view+json": {
       "model_id": "",
       "version_major": 2,
       "version_minor": 0
      },
      "text/plain": [
       "cycle:   0%|          | 0/10 [00:00<?, ?it/s]"
      ]
     },
     "metadata": {},
     "output_type": "display_data"
    },
    {
     "data": {
      "application/vnd.jupyter.widget-view+json": {
       "model_id": "",
       "version_major": 2,
       "version_minor": 0
      },
      "text/plain": [
       "cycle:   0%|          | 0/10 [00:00<?, ?it/s]"
      ]
     },
     "metadata": {},
     "output_type": "display_data"
    },
    {
     "data": {
      "application/vnd.jupyter.widget-view+json": {
       "model_id": "",
       "version_major": 2,
       "version_minor": 0
      },
      "text/plain": [
       "cycle:   0%|          | 0/10 [00:00<?, ?it/s]"
      ]
     },
     "metadata": {},
     "output_type": "display_data"
    },
    {
     "data": {
      "application/vnd.jupyter.widget-view+json": {
       "model_id": "",
       "version_major": 2,
       "version_minor": 0
      },
      "text/plain": [
       "cycle:   0%|          | 0/10 [00:00<?, ?it/s]"
      ]
     },
     "metadata": {},
     "output_type": "display_data"
    },
    {
     "data": {
      "application/vnd.jupyter.widget-view+json": {
       "model_id": "",
       "version_major": 2,
       "version_minor": 0
      },
      "text/plain": [
       "cycle:   0%|          | 0/10 [00:00<?, ?it/s]"
      ]
     },
     "metadata": {},
     "output_type": "display_data"
    },
    {
     "data": {
      "application/vnd.jupyter.widget-view+json": {
       "model_id": "",
       "version_major": 2,
       "version_minor": 0
      },
      "text/plain": [
       "cycle:   0%|          | 0/10 [00:00<?, ?it/s]"
      ]
     },
     "metadata": {},
     "output_type": "display_data"
    },
    {
     "data": {
      "application/vnd.jupyter.widget-view+json": {
       "model_id": "",
       "version_major": 2,
       "version_minor": 0
      },
      "text/plain": [
       "cycle:   0%|          | 0/10 [00:00<?, ?it/s]"
      ]
     },
     "metadata": {},
     "output_type": "display_data"
    },
    {
     "data": {
      "application/vnd.jupyter.widget-view+json": {
       "model_id": "",
       "version_major": 2,
       "version_minor": 0
      },
      "text/plain": [
       "cycle:   0%|          | 0/10 [00:00<?, ?it/s]"
      ]
     },
     "metadata": {},
     "output_type": "display_data"
    },
    {
     "data": {
      "application/vnd.jupyter.widget-view+json": {
       "model_id": "",
       "version_major": 2,
       "version_minor": 0
      },
      "text/plain": [
       "cycle:   0%|          | 0/10 [00:00<?, ?it/s]"
      ]
     },
     "metadata": {},
     "output_type": "display_data"
    },
    {
     "data": {
      "application/vnd.jupyter.widget-view+json": {
       "model_id": "",
       "version_major": 2,
       "version_minor": 0
      },
      "text/plain": [
       "cycle:   0%|          | 0/10 [00:00<?, ?it/s]"
      ]
     },
     "metadata": {},
     "output_type": "display_data"
    },
    {
     "data": {
      "application/vnd.jupyter.widget-view+json": {
       "model_id": "",
       "version_major": 2,
       "version_minor": 0
      },
      "text/plain": [
       "cycle:   0%|          | 0/10 [00:00<?, ?it/s]"
      ]
     },
     "metadata": {},
     "output_type": "display_data"
    },
    {
     "data": {
      "application/vnd.jupyter.widget-view+json": {
       "model_id": "",
       "version_major": 2,
       "version_minor": 0
      },
      "text/plain": [
       "cycle:   0%|          | 0/10 [00:00<?, ?it/s]"
      ]
     },
     "metadata": {},
     "output_type": "display_data"
    },
    {
     "data": {
      "application/vnd.jupyter.widget-view+json": {
       "model_id": "",
       "version_major": 2,
       "version_minor": 0
      },
      "text/plain": [
       "cycle:   0%|          | 0/10 [00:00<?, ?it/s]"
      ]
     },
     "metadata": {},
     "output_type": "display_data"
    },
    {
     "data": {
      "application/vnd.jupyter.widget-view+json": {
       "model_id": "",
       "version_major": 2,
       "version_minor": 0
      },
      "text/plain": [
       "cycle:   0%|          | 0/10 [00:00<?, ?it/s]"
      ]
     },
     "metadata": {},
     "output_type": "display_data"
    },
    {
     "data": {
      "application/vnd.jupyter.widget-view+json": {
       "model_id": "",
       "version_major": 2,
       "version_minor": 0
      },
      "text/plain": [
       "cycle:   0%|          | 0/10 [00:00<?, ?it/s]"
      ]
     },
     "metadata": {},
     "output_type": "display_data"
    },
    {
     "data": {
      "application/vnd.jupyter.widget-view+json": {
       "model_id": "",
       "version_major": 2,
       "version_minor": 0
      },
      "text/plain": [
       "cycle:   0%|          | 0/10 [00:00<?, ?it/s]"
      ]
     },
     "metadata": {},
     "output_type": "display_data"
    },
    {
     "data": {
      "application/vnd.jupyter.widget-view+json": {
       "model_id": "",
       "version_major": 2,
       "version_minor": 0
      },
      "text/plain": [
       "cycle:   0%|          | 0/10 [00:00<?, ?it/s]"
      ]
     },
     "metadata": {},
     "output_type": "display_data"
    },
    {
     "data": {
      "application/vnd.jupyter.widget-view+json": {
       "model_id": "",
       "version_major": 2,
       "version_minor": 0
      },
      "text/plain": [
       "cycle:   0%|          | 0/10 [00:00<?, ?it/s]"
      ]
     },
     "metadata": {},
     "output_type": "display_data"
    },
    {
     "data": {
      "application/vnd.jupyter.widget-view+json": {
       "model_id": "",
       "version_major": 2,
       "version_minor": 0
      },
      "text/plain": [
       "cycle:   0%|          | 0/10 [00:00<?, ?it/s]"
      ]
     },
     "metadata": {},
     "output_type": "display_data"
    },
    {
     "data": {
      "application/vnd.jupyter.widget-view+json": {
       "model_id": "",
       "version_major": 2,
       "version_minor": 0
      },
      "text/plain": [
       "cycle:   0%|          | 0/10 [00:00<?, ?it/s]"
      ]
     },
     "metadata": {},
     "output_type": "display_data"
    },
    {
     "data": {
      "application/vnd.jupyter.widget-view+json": {
       "model_id": "",
       "version_major": 2,
       "version_minor": 0
      },
      "text/plain": [
       "cycle:   0%|          | 0/10 [00:00<?, ?it/s]"
      ]
     },
     "metadata": {},
     "output_type": "display_data"
    },
    {
     "data": {
      "application/vnd.jupyter.widget-view+json": {
       "model_id": "",
       "version_major": 2,
       "version_minor": 0
      },
      "text/plain": [
       "cycle:   0%|          | 0/10 [00:00<?, ?it/s]"
      ]
     },
     "metadata": {},
     "output_type": "display_data"
    },
    {
     "data": {
      "application/vnd.jupyter.widget-view+json": {
       "model_id": "",
       "version_major": 2,
       "version_minor": 0
      },
      "text/plain": [
       "cycle:   0%|          | 0/10 [00:00<?, ?it/s]"
      ]
     },
     "metadata": {},
     "output_type": "display_data"
    },
    {
     "data": {
      "application/vnd.jupyter.widget-view+json": {
       "model_id": "",
       "version_major": 2,
       "version_minor": 0
      },
      "text/plain": [
       "cycle:   0%|          | 0/10 [00:00<?, ?it/s]"
      ]
     },
     "metadata": {},
     "output_type": "display_data"
    },
    {
     "data": {
      "application/vnd.jupyter.widget-view+json": {
       "model_id": "",
       "version_major": 2,
       "version_minor": 0
      },
      "text/plain": [
       "cycle:   0%|          | 0/10 [00:00<?, ?it/s]"
      ]
     },
     "metadata": {},
     "output_type": "display_data"
    },
    {
     "data": {
      "application/vnd.jupyter.widget-view+json": {
       "model_id": "",
       "version_major": 2,
       "version_minor": 0
      },
      "text/plain": [
       "cycle:   0%|          | 0/10 [00:00<?, ?it/s]"
      ]
     },
     "metadata": {},
     "output_type": "display_data"
    },
    {
     "data": {
      "application/vnd.jupyter.widget-view+json": {
       "model_id": "",
       "version_major": 2,
       "version_minor": 0
      },
      "text/plain": [
       "cycle:   0%|          | 0/10 [00:00<?, ?it/s]"
      ]
     },
     "metadata": {},
     "output_type": "display_data"
    },
    {
     "data": {
      "application/vnd.jupyter.widget-view+json": {
       "model_id": "",
       "version_major": 2,
       "version_minor": 0
      },
      "text/plain": [
       "cycle:   0%|          | 0/10 [00:00<?, ?it/s]"
      ]
     },
     "metadata": {},
     "output_type": "display_data"
    },
    {
     "data": {
      "application/vnd.jupyter.widget-view+json": {
       "model_id": "",
       "version_major": 2,
       "version_minor": 0
      },
      "text/plain": [
       "cycle:   0%|          | 0/10 [00:00<?, ?it/s]"
      ]
     },
     "metadata": {},
     "output_type": "display_data"
    },
    {
     "data": {
      "application/vnd.jupyter.widget-view+json": {
       "model_id": "",
       "version_major": 2,
       "version_minor": 0
      },
      "text/plain": [
       "cycle:   0%|          | 0/10 [00:00<?, ?it/s]"
      ]
     },
     "metadata": {},
     "output_type": "display_data"
    },
    {
     "data": {
      "application/vnd.jupyter.widget-view+json": {
       "model_id": "",
       "version_major": 2,
       "version_minor": 0
      },
      "text/plain": [
       "cycle:   0%|          | 0/10 [00:00<?, ?it/s]"
      ]
     },
     "metadata": {},
     "output_type": "display_data"
    },
    {
     "data": {
      "application/vnd.jupyter.widget-view+json": {
       "model_id": "",
       "version_major": 2,
       "version_minor": 0
      },
      "text/plain": [
       "cycle:   0%|          | 0/10 [00:00<?, ?it/s]"
      ]
     },
     "metadata": {},
     "output_type": "display_data"
    },
    {
     "data": {
      "application/vnd.jupyter.widget-view+json": {
       "model_id": "",
       "version_major": 2,
       "version_minor": 0
      },
      "text/plain": [
       "cycle:   0%|          | 0/10 [00:00<?, ?it/s]"
      ]
     },
     "metadata": {},
     "output_type": "display_data"
    },
    {
     "data": {
      "application/vnd.jupyter.widget-view+json": {
       "model_id": "",
       "version_major": 2,
       "version_minor": 0
      },
      "text/plain": [
       "cycle:   0%|          | 0/10 [00:00<?, ?it/s]"
      ]
     },
     "metadata": {},
     "output_type": "display_data"
    },
    {
     "data": {
      "application/vnd.jupyter.widget-view+json": {
       "model_id": "",
       "version_major": 2,
       "version_minor": 0
      },
      "text/plain": [
       "cycle:   0%|          | 0/10 [00:00<?, ?it/s]"
      ]
     },
     "metadata": {},
     "output_type": "display_data"
    },
    {
     "data": {
      "application/vnd.jupyter.widget-view+json": {
       "model_id": "",
       "version_major": 2,
       "version_minor": 0
      },
      "text/plain": [
       "cycle:   0%|          | 0/10 [00:00<?, ?it/s]"
      ]
     },
     "metadata": {},
     "output_type": "display_data"
    },
    {
     "data": {
      "application/vnd.jupyter.widget-view+json": {
       "model_id": "",
       "version_major": 2,
       "version_minor": 0
      },
      "text/plain": [
       "cycle:   0%|          | 0/10 [00:00<?, ?it/s]"
      ]
     },
     "metadata": {},
     "output_type": "display_data"
    },
    {
     "data": {
      "application/vnd.jupyter.widget-view+json": {
       "model_id": "",
       "version_major": 2,
       "version_minor": 0
      },
      "text/plain": [
       "cycle:   0%|          | 0/10 [00:00<?, ?it/s]"
      ]
     },
     "metadata": {},
     "output_type": "display_data"
    },
    {
     "data": {
      "application/vnd.jupyter.widget-view+json": {
       "model_id": "",
       "version_major": 2,
       "version_minor": 0
      },
      "text/plain": [
       "cycle:   0%|          | 0/10 [00:00<?, ?it/s]"
      ]
     },
     "metadata": {},
     "output_type": "display_data"
    },
    {
     "data": {
      "application/vnd.jupyter.widget-view+json": {
       "model_id": "",
       "version_major": 2,
       "version_minor": 0
      },
      "text/plain": [
       "cycle:   0%|          | 0/10 [00:00<?, ?it/s]"
      ]
     },
     "metadata": {},
     "output_type": "display_data"
    },
    {
     "data": {
      "application/vnd.jupyter.widget-view+json": {
       "model_id": "",
       "version_major": 2,
       "version_minor": 0
      },
      "text/plain": [
       "cycle:   0%|          | 0/10 [00:00<?, ?it/s]"
      ]
     },
     "metadata": {},
     "output_type": "display_data"
    },
    {
     "data": {
      "application/vnd.jupyter.widget-view+json": {
       "model_id": "",
       "version_major": 2,
       "version_minor": 0
      },
      "text/plain": [
       "cycle:   0%|          | 0/10 [00:00<?, ?it/s]"
      ]
     },
     "metadata": {},
     "output_type": "display_data"
    },
    {
     "data": {
      "application/vnd.jupyter.widget-view+json": {
       "model_id": "",
       "version_major": 2,
       "version_minor": 0
      },
      "text/plain": [
       "cycle:   0%|          | 0/10 [00:00<?, ?it/s]"
      ]
     },
     "metadata": {},
     "output_type": "display_data"
    },
    {
     "data": {
      "application/vnd.jupyter.widget-view+json": {
       "model_id": "",
       "version_major": 2,
       "version_minor": 0
      },
      "text/plain": [
       "cycle:   0%|          | 0/10 [00:00<?, ?it/s]"
      ]
     },
     "metadata": {},
     "output_type": "display_data"
    },
    {
     "data": {
      "application/vnd.jupyter.widget-view+json": {
       "model_id": "",
       "version_major": 2,
       "version_minor": 0
      },
      "text/plain": [
       "cycle:   0%|          | 0/10 [00:00<?, ?it/s]"
      ]
     },
     "metadata": {},
     "output_type": "display_data"
    },
    {
     "data": {
      "application/vnd.jupyter.widget-view+json": {
       "model_id": "",
       "version_major": 2,
       "version_minor": 0
      },
      "text/plain": [
       "cycle:   0%|          | 0/10 [00:00<?, ?it/s]"
      ]
     },
     "metadata": {},
     "output_type": "display_data"
    },
    {
     "data": {
      "application/vnd.jupyter.widget-view+json": {
       "model_id": "",
       "version_major": 2,
       "version_minor": 0
      },
      "text/plain": [
       "cycle:   0%|          | 0/10 [00:00<?, ?it/s]"
      ]
     },
     "metadata": {},
     "output_type": "display_data"
    },
    {
     "data": {
      "application/vnd.jupyter.widget-view+json": {
       "model_id": "",
       "version_major": 2,
       "version_minor": 0
      },
      "text/plain": [
       "cycle:   0%|          | 0/10 [00:00<?, ?it/s]"
      ]
     },
     "metadata": {},
     "output_type": "display_data"
    },
    {
     "data": {
      "application/vnd.jupyter.widget-view+json": {
       "model_id": "",
       "version_major": 2,
       "version_minor": 0
      },
      "text/plain": [
       "cycle:   0%|          | 0/10 [00:00<?, ?it/s]"
      ]
     },
     "metadata": {},
     "output_type": "display_data"
    },
    {
     "data": {
      "application/vnd.jupyter.widget-view+json": {
       "model_id": "",
       "version_major": 2,
       "version_minor": 0
      },
      "text/plain": [
       "cycle:   0%|          | 0/10 [00:00<?, ?it/s]"
      ]
     },
     "metadata": {},
     "output_type": "display_data"
    },
    {
     "data": {
      "application/vnd.jupyter.widget-view+json": {
       "model_id": "",
       "version_major": 2,
       "version_minor": 0
      },
      "text/plain": [
       "cycle:   0%|          | 0/10 [00:00<?, ?it/s]"
      ]
     },
     "metadata": {},
     "output_type": "display_data"
    },
    {
     "data": {
      "application/vnd.jupyter.widget-view+json": {
       "model_id": "",
       "version_major": 2,
       "version_minor": 0
      },
      "text/plain": [
       "cycle:   0%|          | 0/10 [00:00<?, ?it/s]"
      ]
     },
     "metadata": {},
     "output_type": "display_data"
    },
    {
     "data": {
      "application/vnd.jupyter.widget-view+json": {
       "model_id": "",
       "version_major": 2,
       "version_minor": 0
      },
      "text/plain": [
       "cycle:   0%|          | 0/10 [00:00<?, ?it/s]"
      ]
     },
     "metadata": {},
     "output_type": "display_data"
    },
    {
     "data": {
      "application/vnd.jupyter.widget-view+json": {
       "model_id": "",
       "version_major": 2,
       "version_minor": 0
      },
      "text/plain": [
       "cycle:   0%|          | 0/10 [00:00<?, ?it/s]"
      ]
     },
     "metadata": {},
     "output_type": "display_data"
    },
    {
     "data": {
      "application/vnd.jupyter.widget-view+json": {
       "model_id": "",
       "version_major": 2,
       "version_minor": 0
      },
      "text/plain": [
       "cycle:   0%|          | 0/10 [00:00<?, ?it/s]"
      ]
     },
     "metadata": {},
     "output_type": "display_data"
    },
    {
     "data": {
      "application/vnd.jupyter.widget-view+json": {
       "model_id": "",
       "version_major": 2,
       "version_minor": 0
      },
      "text/plain": [
       "cycle:   0%|          | 0/10 [00:00<?, ?it/s]"
      ]
     },
     "metadata": {},
     "output_type": "display_data"
    },
    {
     "data": {
      "application/vnd.jupyter.widget-view+json": {
       "model_id": "",
       "version_major": 2,
       "version_minor": 0
      },
      "text/plain": [
       "cycle:   0%|          | 0/10 [00:00<?, ?it/s]"
      ]
     },
     "metadata": {},
     "output_type": "display_data"
    },
    {
     "data": {
      "application/vnd.jupyter.widget-view+json": {
       "model_id": "",
       "version_major": 2,
       "version_minor": 0
      },
      "text/plain": [
       "cycle:   0%|          | 0/10 [00:00<?, ?it/s]"
      ]
     },
     "metadata": {},
     "output_type": "display_data"
    },
    {
     "data": {
      "application/vnd.jupyter.widget-view+json": {
       "model_id": "",
       "version_major": 2,
       "version_minor": 0
      },
      "text/plain": [
       "cycle:   0%|          | 0/10 [00:00<?, ?it/s]"
      ]
     },
     "metadata": {},
     "output_type": "display_data"
    },
    {
     "data": {
      "application/vnd.jupyter.widget-view+json": {
       "model_id": "",
       "version_major": 2,
       "version_minor": 0
      },
      "text/plain": [
       "cycle:   0%|          | 0/10 [00:00<?, ?it/s]"
      ]
     },
     "metadata": {},
     "output_type": "display_data"
    },
    {
     "data": {
      "application/vnd.jupyter.widget-view+json": {
       "model_id": "",
       "version_major": 2,
       "version_minor": 0
      },
      "text/plain": [
       "cycle:   0%|          | 0/10 [00:00<?, ?it/s]"
      ]
     },
     "metadata": {},
     "output_type": "display_data"
    },
    {
     "data": {
      "application/vnd.jupyter.widget-view+json": {
       "model_id": "",
       "version_major": 2,
       "version_minor": 0
      },
      "text/plain": [
       "cycle:   0%|          | 0/10 [00:00<?, ?it/s]"
      ]
     },
     "metadata": {},
     "output_type": "display_data"
    },
    {
     "data": {
      "application/vnd.jupyter.widget-view+json": {
       "model_id": "",
       "version_major": 2,
       "version_minor": 0
      },
      "text/plain": [
       "cycle:   0%|          | 0/10 [00:00<?, ?it/s]"
      ]
     },
     "metadata": {},
     "output_type": "display_data"
    },
    {
     "data": {
      "application/vnd.jupyter.widget-view+json": {
       "model_id": "",
       "version_major": 2,
       "version_minor": 0
      },
      "text/plain": [
       "cycle:   0%|          | 0/10 [00:00<?, ?it/s]"
      ]
     },
     "metadata": {},
     "output_type": "display_data"
    },
    {
     "data": {
      "application/vnd.jupyter.widget-view+json": {
       "model_id": "",
       "version_major": 2,
       "version_minor": 0
      },
      "text/plain": [
       "cycle:   0%|          | 0/10 [00:00<?, ?it/s]"
      ]
     },
     "metadata": {},
     "output_type": "display_data"
    },
    {
     "data": {
      "application/vnd.jupyter.widget-view+json": {
       "model_id": "",
       "version_major": 2,
       "version_minor": 0
      },
      "text/plain": [
       "cycle:   0%|          | 0/10 [00:00<?, ?it/s]"
      ]
     },
     "metadata": {},
     "output_type": "display_data"
    },
    {
     "data": {
      "application/vnd.jupyter.widget-view+json": {
       "model_id": "",
       "version_major": 2,
       "version_minor": 0
      },
      "text/plain": [
       "cycle:   0%|          | 0/10 [00:00<?, ?it/s]"
      ]
     },
     "metadata": {},
     "output_type": "display_data"
    },
    {
     "data": {
      "application/vnd.jupyter.widget-view+json": {
       "model_id": "",
       "version_major": 2,
       "version_minor": 0
      },
      "text/plain": [
       "cycle:   0%|          | 0/10 [00:00<?, ?it/s]"
      ]
     },
     "metadata": {},
     "output_type": "display_data"
    },
    {
     "data": {
      "application/vnd.jupyter.widget-view+json": {
       "model_id": "",
       "version_major": 2,
       "version_minor": 0
      },
      "text/plain": [
       "cycle:   0%|          | 0/10 [00:00<?, ?it/s]"
      ]
     },
     "metadata": {},
     "output_type": "display_data"
    },
    {
     "data": {
      "application/vnd.jupyter.widget-view+json": {
       "model_id": "",
       "version_major": 2,
       "version_minor": 0
      },
      "text/plain": [
       "cycle:   0%|          | 0/10 [00:00<?, ?it/s]"
      ]
     },
     "metadata": {},
     "output_type": "display_data"
    },
    {
     "data": {
      "application/vnd.jupyter.widget-view+json": {
       "model_id": "",
       "version_major": 2,
       "version_minor": 0
      },
      "text/plain": [
       "cycle:   0%|          | 0/10 [00:00<?, ?it/s]"
      ]
     },
     "metadata": {},
     "output_type": "display_data"
    },
    {
     "data": {
      "application/vnd.jupyter.widget-view+json": {
       "model_id": "",
       "version_major": 2,
       "version_minor": 0
      },
      "text/plain": [
       "cycle:   0%|          | 0/10 [00:00<?, ?it/s]"
      ]
     },
     "metadata": {},
     "output_type": "display_data"
    },
    {
     "data": {
      "application/vnd.jupyter.widget-view+json": {
       "model_id": "",
       "version_major": 2,
       "version_minor": 0
      },
      "text/plain": [
       "cycle:   0%|          | 0/10 [00:00<?, ?it/s]"
      ]
     },
     "metadata": {},
     "output_type": "display_data"
    },
    {
     "data": {
      "application/vnd.jupyter.widget-view+json": {
       "model_id": "",
       "version_major": 2,
       "version_minor": 0
      },
      "text/plain": [
       "cycle:   0%|          | 0/10 [00:00<?, ?it/s]"
      ]
     },
     "metadata": {},
     "output_type": "display_data"
    },
    {
     "data": {
      "application/vnd.jupyter.widget-view+json": {
       "model_id": "",
       "version_major": 2,
       "version_minor": 0
      },
      "text/plain": [
       "cycle:   0%|          | 0/10 [00:00<?, ?it/s]"
      ]
     },
     "metadata": {},
     "output_type": "display_data"
    },
    {
     "data": {
      "application/vnd.jupyter.widget-view+json": {
       "model_id": "",
       "version_major": 2,
       "version_minor": 0
      },
      "text/plain": [
       "cycle:   0%|          | 0/10 [00:00<?, ?it/s]"
      ]
     },
     "metadata": {},
     "output_type": "display_data"
    },
    {
     "data": {
      "application/vnd.jupyter.widget-view+json": {
       "model_id": "",
       "version_major": 2,
       "version_minor": 0
      },
      "text/plain": [
       "cycle:   0%|          | 0/10 [00:00<?, ?it/s]"
      ]
     },
     "metadata": {},
     "output_type": "display_data"
    },
    {
     "data": {
      "application/vnd.jupyter.widget-view+json": {
       "model_id": "",
       "version_major": 2,
       "version_minor": 0
      },
      "text/plain": [
       "cycle:   0%|          | 0/10 [00:00<?, ?it/s]"
      ]
     },
     "metadata": {},
     "output_type": "display_data"
    },
    {
     "data": {
      "application/vnd.jupyter.widget-view+json": {
       "model_id": "",
       "version_major": 2,
       "version_minor": 0
      },
      "text/plain": [
       "cycle:   0%|          | 0/10 [00:00<?, ?it/s]"
      ]
     },
     "metadata": {},
     "output_type": "display_data"
    },
    {
     "data": {
      "application/vnd.jupyter.widget-view+json": {
       "model_id": "",
       "version_major": 2,
       "version_minor": 0
      },
      "text/plain": [
       "cycle:   0%|          | 0/10 [00:00<?, ?it/s]"
      ]
     },
     "metadata": {},
     "output_type": "display_data"
    },
    {
     "data": {
      "application/vnd.jupyter.widget-view+json": {
       "model_id": "",
       "version_major": 2,
       "version_minor": 0
      },
      "text/plain": [
       "cycle:   0%|          | 0/10 [00:00<?, ?it/s]"
      ]
     },
     "metadata": {},
     "output_type": "display_data"
    },
    {
     "data": {
      "application/vnd.jupyter.widget-view+json": {
       "model_id": "",
       "version_major": 2,
       "version_minor": 0
      },
      "text/plain": [
       "cycle:   0%|          | 0/10 [00:00<?, ?it/s]"
      ]
     },
     "metadata": {},
     "output_type": "display_data"
    },
    {
     "data": {
      "application/vnd.jupyter.widget-view+json": {
       "model_id": "",
       "version_major": 2,
       "version_minor": 0
      },
      "text/plain": [
       "cycle:   0%|          | 0/10 [00:00<?, ?it/s]"
      ]
     },
     "metadata": {},
     "output_type": "display_data"
    },
    {
     "data": {
      "application/vnd.jupyter.widget-view+json": {
       "model_id": "",
       "version_major": 2,
       "version_minor": 0
      },
      "text/plain": [
       "cycle:   0%|          | 0/10 [00:00<?, ?it/s]"
      ]
     },
     "metadata": {},
     "output_type": "display_data"
    }
   ],
   "source": [
    "shift_dict = get_shift_between_cycle(df[df.Location < 64])"
   ]
  },
  {
   "cell_type": "code",
   "execution_count": 101,
   "metadata": {
    "collapsed": true,
    "jupyter": {
     "outputs_hidden": true
    },
    "tags": []
   },
   "outputs": [
    {
     "data": {
      "text/plain": [
       "defaultdict(dict,\n",
       "            {1: defaultdict(dict,\n",
       "                         {'Cycle2': {'norm': {'shift_x': 9.0, 'shift_y': -8.0},\n",
       "                           'af': {'shift_x': 0.0, 'shift_y': -6.0}},\n",
       "                          'Cycle3': {'norm': {'shift_x': 5.0, 'shift_y': 5.0},\n",
       "                           'af': {'shift_x': -4.0, 'shift_y': 0.0}},\n",
       "                          'Cycle4': {'norm': {'shift_x': -5.0,\n",
       "                            'shift_y': -24.0},\n",
       "                           'af': {'shift_x': 8.0, 'shift_y': -2.0}},\n",
       "                          'Cycle5': {'norm': {'shift_x': 22.0,\n",
       "                            'shift_y': -12.0},\n",
       "                           'af': {'shift_x': 12.0, 'shift_y': -30.0}},\n",
       "                          'Cycle6': {'norm': {'shift_x': 11.0,\n",
       "                            'shift_y': -29.0},\n",
       "                           'af': {'shift_x': 26.0, 'shift_y': 2.0}},\n",
       "                          'Cycle7': {'norm': {'shift_x': 30.0, 'shift_y': 1.0},\n",
       "                           'af': {'shift_x': 15.0, 'shift_y': -23.0}},\n",
       "                          'Cycle8': {'norm': {'shift_x': 13.0,\n",
       "                            'shift_y': -20.0},\n",
       "                           'af': {'shift_x': 19.0, 'shift_y': -13.0}},\n",
       "                          'Cycle9': {'norm': {'shift_x': 18.0,\n",
       "                            'shift_y': -11.0},\n",
       "                           'af': {'shift_x': 21.0, 'shift_y': -16.0}},\n",
       "                          'Cycle10': {'norm': {'shift_x': 17.0,\n",
       "                            'shift_y': -5.0},\n",
       "                           'af': {'shift_x': 24.0, 'shift_y': -4.0}},\n",
       "                          'Cycle11': {'norm': {'shift_x': -4.0,\n",
       "                            'shift_y': -15.0}},\n",
       "                          'Cycle1': {'af': {'shift_x': 9.0, 'shift_y': -3.0}},\n",
       "                          'max': {'max_shift_x': 30,\n",
       "                           'min_shift_x': -5,\n",
       "                           'max_shift_y': 5,\n",
       "                           'min_shift_y': -30},\n",
       "                          'norm': {}}),\n",
       "             2: defaultdict(dict,\n",
       "                         {'Cycle2': {'norm': {'shift_x': 1.0, 'shift_y': -9.0},\n",
       "                           'af': {'shift_x': 4.0, 'shift_y': -3.0}},\n",
       "                          'Cycle3': {'norm': {'shift_x': 6.0, 'shift_y': 6.0},\n",
       "                           'af': {'shift_x': -12.0, 'shift_y': 0.0}},\n",
       "                          'Cycle4': {'norm': {'shift_x': -8.0,\n",
       "                            'shift_y': -23.0},\n",
       "                           'af': {'shift_x': 16.0, 'shift_y': 0.0}},\n",
       "                          'Cycle5': {'norm': {'shift_x': 32.0,\n",
       "                            'shift_y': -8.0},\n",
       "                           'af': {'shift_x': 22.0, 'shift_y': -26.0}},\n",
       "                          'Cycle6': {'norm': {'shift_x': 22.0,\n",
       "                            'shift_y': -25.0},\n",
       "                           'af': {'shift_x': 32.0, 'shift_y': 1.0}},\n",
       "                          'Cycle7': {'norm': {'shift_x': 31.0, 'shift_y': 0.0},\n",
       "                           'af': {'shift_x': 17.0, 'shift_y': -24.0}},\n",
       "                          'Cycle8': {'norm': {'shift_x': 15.0,\n",
       "                            'shift_y': -21.0},\n",
       "                           'af': {'shift_x': 18.0, 'shift_y': -11.0}},\n",
       "                          'Cycle9': {'norm': {'shift_x': 21.0,\n",
       "                            'shift_y': -8.0},\n",
       "                           'af': {'shift_x': 25.0, 'shift_y': -14.0}},\n",
       "                          'Cycle10': {'norm': {'shift_x': 21.0,\n",
       "                            'shift_y': -2.0},\n",
       "                           'af': {'shift_x': 23.0, 'shift_y': -1.0}},\n",
       "                          'Cycle11': {'norm': {'shift_x': -9.0,\n",
       "                            'shift_y': -18.0}},\n",
       "                          'Cycle1': {'af': {'shift_x': 1.0, 'shift_y': -4.0}},\n",
       "                          'max': {'max_shift_x': 32,\n",
       "                           'min_shift_x': -12,\n",
       "                           'max_shift_y': 6,\n",
       "                           'min_shift_y': -26},\n",
       "                          'norm': {}}),\n",
       "             3: defaultdict(dict,\n",
       "                         {'Cycle2': {'norm': {'shift_x': 2.0, 'shift_y': -7.0},\n",
       "                           'af': {'shift_x': 2.0, 'shift_y': 0.0}},\n",
       "                          'Cycle3': {'norm': {'shift_x': 4.0, 'shift_y': 9.0},\n",
       "                           'af': {'shift_x': -13.0, 'shift_y': 1.0}},\n",
       "                          'Cycle4': {'norm': {'shift_x': -8.0,\n",
       "                            'shift_y': -22.0},\n",
       "                           'af': {'shift_x': 14.0, 'shift_y': 1.0}},\n",
       "                          'Cycle5': {'norm': {'shift_x': 27.0,\n",
       "                            'shift_y': -4.0},\n",
       "                           'af': {'shift_x': 19.0, 'shift_y': -20.0}},\n",
       "                          'Cycle6': {'norm': {'shift_x': 18.0,\n",
       "                            'shift_y': -19.0},\n",
       "                           'af': {'shift_x': 28.0, 'shift_y': 1.0}},\n",
       "                          'Cycle7': {'norm': {'shift_x': 30.0, 'shift_y': 0.0},\n",
       "                           'af': {'shift_x': 17.0, 'shift_y': -22.0}},\n",
       "                          'Cycle8': {'norm': {'shift_x': 14.0,\n",
       "                            'shift_y': -19.0},\n",
       "                           'af': {'shift_x': 16.0, 'shift_y': -7.0}},\n",
       "                          'Cycle9': {'norm': {'shift_x': 20.0,\n",
       "                            'shift_y': -5.0},\n",
       "                           'af': {'shift_x': 23.0, 'shift_y': -10.0}},\n",
       "                          'Cycle10': {'norm': {'shift_x': 19.0,\n",
       "                            'shift_y': 0.0},\n",
       "                           'af': {'shift_x': 21.0, 'shift_y': 0.0}},\n",
       "                          'Cycle11': {'norm': {'shift_x': -14.0,\n",
       "                            'shift_y': -18.0}},\n",
       "                          'Cycle1': {'af': {'shift_x': 1.0, 'shift_y': -3.0}},\n",
       "                          'max': {'max_shift_x': 30,\n",
       "                           'min_shift_x': -14,\n",
       "                           'max_shift_y': 9,\n",
       "                           'min_shift_y': -22},\n",
       "                          'norm': {}}),\n",
       "             4: defaultdict(dict,\n",
       "                         {'Cycle2': {'norm': {'shift_x': 2.0, 'shift_y': -8.0},\n",
       "                           'af': {'shift_x': -4.0, 'shift_y': 3.0}},\n",
       "                          'Cycle3': {'norm': {'shift_x': -3.0,\n",
       "                            'shift_y': 13.0},\n",
       "                           'af': {'shift_x': -12.0, 'shift_y': 0.0}},\n",
       "                          'Cycle4': {'norm': {'shift_x': -6.0,\n",
       "                            'shift_y': -23.0},\n",
       "                           'af': {'shift_x': 5.0, 'shift_y': 3.0}},\n",
       "                          'Cycle5': {'norm': {'shift_x': 14.0, 'shift_y': 0.0},\n",
       "                           'af': {'shift_x': 7.0, 'shift_y': -16.0}},\n",
       "                          'Cycle6': {'norm': {'shift_x': 6.0,\n",
       "                            'shift_y': -15.0},\n",
       "                           'af': {'shift_x': 18.0, 'shift_y': 3.0}},\n",
       "                          'Cycle7': {'norm': {'shift_x': 18.0, 'shift_y': 0.0},\n",
       "                           'af': {'shift_x': 7.0, 'shift_y': -22.0}},\n",
       "                          'Cycle8': {'norm': {'shift_x': 3.0,\n",
       "                            'shift_y': -18.0},\n",
       "                           'af': {'shift_x': 10.0, 'shift_y': -5.0}},\n",
       "                          'Cycle9': {'norm': {'shift_x': 14.0,\n",
       "                            'shift_y': -1.0},\n",
       "                           'af': {'shift_x': 17.0, 'shift_y': -6.0}},\n",
       "                          'Cycle10': {'norm': {'shift_x': 13.0,\n",
       "                            'shift_y': 2.0},\n",
       "                           'af': {'shift_x': 15.0, 'shift_y': 4.0}},\n",
       "                          'Cycle11': {'norm': {'shift_x': -16.0,\n",
       "                            'shift_y': -21.0}},\n",
       "                          'Cycle1': {'af': {'shift_x': 1.0, 'shift_y': -4.0}},\n",
       "                          'max': {'max_shift_x': 18,\n",
       "                           'min_shift_x': -16,\n",
       "                           'max_shift_y': 13,\n",
       "                           'min_shift_y': -23},\n",
       "                          'norm': {}}),\n",
       "             5: defaultdict(dict,\n",
       "                         {'Cycle2': {'norm': {'shift_x': 2.0, 'shift_y': -7.0},\n",
       "                           'af': {'shift_x': 0.0, 'shift_y': 10.0}},\n",
       "                          'Cycle3': {'norm': {'shift_x': 1.0, 'shift_y': 17.0},\n",
       "                           'af': {'shift_x': -13.0, 'shift_y': -1.0}},\n",
       "                          'Cycle4': {'norm': {'shift_x': -6.0,\n",
       "                            'shift_y': -21.0},\n",
       "                           'af': {'shift_x': 8.0, 'shift_y': 5.0}},\n",
       "                          'Cycle5': {'norm': {'shift_x': 20.0, 'shift_y': 4.0},\n",
       "                           'af': {'shift_x': 11.0, 'shift_y': -11.0}},\n",
       "                          'Cycle6': {'norm': {'shift_x': 11.0,\n",
       "                            'shift_y': -10.0},\n",
       "                           'af': {'shift_x': 22.0, 'shift_y': 3.0}},\n",
       "                          'Cycle7': {'norm': {'shift_x': 20.0,\n",
       "                            'shift_y': -1.0},\n",
       "                           'af': {'shift_x': 9.0, 'shift_y': -23.0}},\n",
       "                          'Cycle8': {'norm': {'shift_x': 6.0,\n",
       "                            'shift_y': -20.0},\n",
       "                           'af': {'shift_x': 15.0, 'shift_y': -3.0}},\n",
       "                          'Cycle9': {'norm': {'shift_x': 18.0, 'shift_y': 0.0},\n",
       "                           'af': {'shift_x': 21.0, 'shift_y': -5.0}},\n",
       "                          'Cycle10': {'norm': {'shift_x': 17.0,\n",
       "                            'shift_y': 6.0},\n",
       "                           'af': {'shift_x': 19.0, 'shift_y': 8.0}},\n",
       "                          'Cycle11': {'norm': {'shift_x': -13.0,\n",
       "                            'shift_y': -25.0}},\n",
       "                          'Cycle1': {'af': {'shift_x': 1.0, 'shift_y': -3.0}},\n",
       "                          'max': {'max_shift_x': 22,\n",
       "                           'min_shift_x': -13,\n",
       "                           'max_shift_y': 17,\n",
       "                           'min_shift_y': -25},\n",
       "                          'norm': {}}),\n",
       "             6: defaultdict(dict,\n",
       "                         {'Cycle2': {'norm': {'shift_x': 1.0, 'shift_y': -7.0},\n",
       "                           'af': {'shift_x': 5.0, 'shift_y': 12.0}},\n",
       "                          'Cycle3': {'norm': {'shift_x': 6.0, 'shift_y': 21.0},\n",
       "                           'af': {'shift_x': -14.0, 'shift_y': -2.0}},\n",
       "                          'Cycle4': {'norm': {'shift_x': -10.0,\n",
       "                            'shift_y': -22.0},\n",
       "                           'af': {'shift_x': 17.0, 'shift_y': 5.0}},\n",
       "                          'Cycle5': {'norm': {'shift_x': 28.0, 'shift_y': 6.0},\n",
       "                           'af': {'shift_x': 20.0, 'shift_y': -8.0}},\n",
       "                          'Cycle6': {'norm': {'shift_x': 20.0,\n",
       "                            'shift_y': -6.0},\n",
       "                           'af': {'shift_x': 29.0, 'shift_y': 3.0}},\n",
       "                          'Cycle7': {'norm': {'shift_x': 30.0,\n",
       "                            'shift_y': -1.0},\n",
       "                           'af': {'shift_x': 18.0, 'shift_y': -22.0}},\n",
       "                          'Cycle8': {'norm': {'shift_x': 16.0,\n",
       "                            'shift_y': -18.0},\n",
       "                           'af': {'shift_x': 18.0, 'shift_y': -1.0}},\n",
       "                          'Cycle9': {'norm': {'shift_x': 23.0, 'shift_y': 2.0},\n",
       "                           'af': {'shift_x': 26.0, 'shift_y': -1.0}},\n",
       "                          'Cycle10': {'norm': {'shift_x': 22.0,\n",
       "                            'shift_y': 9.0},\n",
       "                           'af': {'shift_x': 23.0, 'shift_y': 11.0}},\n",
       "                          'Cycle11': {'norm': {'shift_x': -15.0,\n",
       "                            'shift_y': -24.0}},\n",
       "                          'Cycle1': {'af': {'shift_x': 1.0, 'shift_y': -2.0}},\n",
       "                          'max': {'max_shift_x': 30,\n",
       "                           'min_shift_x': -15,\n",
       "                           'max_shift_y': 21,\n",
       "                           'min_shift_y': -24},\n",
       "                          'norm': {}}),\n",
       "             7: defaultdict(dict,\n",
       "                         {'Cycle2': {'norm': {'shift_x': 2.0, 'shift_y': -8.0},\n",
       "                           'af': {'shift_x': 1.0, 'shift_y': 13.0}},\n",
       "                          'Cycle3': {'norm': {'shift_x': 5.0, 'shift_y': 23.0},\n",
       "                           'af': {'shift_x': -14.0, 'shift_y': -3.0}},\n",
       "                          'Cycle4': {'norm': {'shift_x': -8.0,\n",
       "                            'shift_y': -22.0},\n",
       "                           'af': {'shift_x': 17.0, 'shift_y': 8.0}},\n",
       "                          'Cycle5': {'norm': {'shift_x': 25.0,\n",
       "                            'shift_y': 12.0},\n",
       "                           'af': {'shift_x': 19.0, 'shift_y': -1.0}},\n",
       "                          'Cycle6': {'norm': {'shift_x': 18.0, 'shift_y': 0.0},\n",
       "                           'af': {'shift_x': 27.0, 'shift_y': 2.0}},\n",
       "                          'Cycle7': {'norm': {'shift_x': 28.0,\n",
       "                            'shift_y': -2.0},\n",
       "                           'af': {'shift_x': 18.0, 'shift_y': -23.0}},\n",
       "                          'Cycle8': {'norm': {'shift_x': 15.0,\n",
       "                            'shift_y': -19.0},\n",
       "                           'af': {'shift_x': 17.0, 'shift_y': 1.0}},\n",
       "                          'Cycle9': {'norm': {'shift_x': 21.0, 'shift_y': 4.0},\n",
       "                           'af': {'shift_x': 25.0, 'shift_y': 0.0}},\n",
       "                          'Cycle10': {'norm': {'shift_x': 20.0,\n",
       "                            'shift_y': 11.0},\n",
       "                           'af': {'shift_x': 22.0, 'shift_y': 12.0}},\n",
       "                          'Cycle11': {'norm': {'shift_x': -14.0,\n",
       "                            'shift_y': -27.0}},\n",
       "                          'Cycle1': {'af': {'shift_x': 1.0, 'shift_y': -4.0}},\n",
       "                          'max': {'max_shift_x': 28,\n",
       "                           'min_shift_x': -14,\n",
       "                           'max_shift_y': 23,\n",
       "                           'min_shift_y': -27},\n",
       "                          'norm': {}}),\n",
       "             8: defaultdict(dict,\n",
       "                         {'Cycle2': {'norm': {'shift_x': 2.0,\n",
       "                            'shift_y': -11.0},\n",
       "                           'af': {'shift_x': -587.0, 'shift_y': 453.0}},\n",
       "                          'Cycle3': {'norm': {'shift_x': 2.0, 'shift_y': 23.0},\n",
       "                           'af': {'shift_x': -15.0, 'shift_y': -7.0}},\n",
       "                          'Cycle4': {'norm': {'shift_x': -8.0,\n",
       "                            'shift_y': -28.0},\n",
       "                           'af': {'shift_x': 15.0, 'shift_y': 7.0}},\n",
       "                          'Cycle5': {'norm': {'shift_x': 21.0, 'shift_y': 9.0},\n",
       "                           'af': {'shift_x': 15.0, 'shift_y': -5.0}},\n",
       "                          'Cycle6': {'norm': {'shift_x': 14.0,\n",
       "                            'shift_y': -4.0},\n",
       "                           'af': {'shift_x': 26.0, 'shift_y': 1.0}},\n",
       "                          'Cycle7': {'norm': {'shift_x': 26.0,\n",
       "                            'shift_y': -6.0},\n",
       "                           'af': {'shift_x': 17.0, 'shift_y': -26.0}},\n",
       "                          'Cycle8': {'norm': {'shift_x': 15.0,\n",
       "                            'shift_y': -22.0},\n",
       "                           'af': {'shift_x': 14.0, 'shift_y': 0.0}},\n",
       "                          'Cycle9': {'norm': {'shift_x': 18.0, 'shift_y': 4.0},\n",
       "                           'af': {'shift_x': 22.0, 'shift_y': -1.0}},\n",
       "                          'Cycle10': {'norm': {'shift_x': 18.0,\n",
       "                            'shift_y': 10.0},\n",
       "                           'af': {'shift_x': 19.0, 'shift_y': 12.0}},\n",
       "                          'Cycle11': {'norm': {'shift_x': -15.0,\n",
       "                            'shift_y': -29.0}},\n",
       "                          'Cycle1': {'af': {'shift_x': 1.0, 'shift_y': -7.0}},\n",
       "                          'max': {'max_shift_x': 26,\n",
       "                           'min_shift_x': -587,\n",
       "                           'max_shift_y': 453,\n",
       "                           'min_shift_y': -29},\n",
       "                          'norm': {}}),\n",
       "             9: defaultdict(dict,\n",
       "                         {'Cycle2': {'norm': {'shift_x': 2.0,\n",
       "                            'shift_y': -10.0},\n",
       "                           'af': {'shift_x': 44.0, 'shift_y': 570.0}},\n",
       "                          'Cycle3': {'norm': {'shift_x': 2.0, 'shift_y': 18.0},\n",
       "                           'af': {'shift_x': -15.0, 'shift_y': -7.0}},\n",
       "                          'Cycle4': {'norm': {'shift_x': -8.0,\n",
       "                            'shift_y': -27.0},\n",
       "                           'af': {'shift_x': 14.0, 'shift_y': 4.0}},\n",
       "                          'Cycle5': {'norm': {'shift_x': 22.0, 'shift_y': 3.0},\n",
       "                           'af': {'shift_x': 15.0, 'shift_y': -9.0}},\n",
       "                          'Cycle6': {'norm': {'shift_x': 14.0,\n",
       "                            'shift_y': -8.0},\n",
       "                           'af': {'shift_x': 27.0, 'shift_y': 0.0}},\n",
       "                          'Cycle7': {'norm': {'shift_x': 26.0,\n",
       "                            'shift_y': -7.0},\n",
       "                           'af': {'shift_x': 16.0, 'shift_y': -27.0}},\n",
       "                          'Cycle8': {'norm': {'shift_x': 14.0,\n",
       "                            'shift_y': -23.0},\n",
       "                           'af': {'shift_x': 16.0, 'shift_y': -2.0}},\n",
       "                          'Cycle9': {'norm': {'shift_x': 18.0, 'shift_y': 0.0},\n",
       "                           'af': {'shift_x': 22.0, 'shift_y': -4.0}},\n",
       "                          'Cycle10': {'norm': {'shift_x': 17.0,\n",
       "                            'shift_y': 7.0},\n",
       "                           'af': {'shift_x': 19.0, 'shift_y': 8.0}},\n",
       "                          'Cycle11': {'norm': {'shift_x': -14.0,\n",
       "                            'shift_y': -29.0}},\n",
       "                          'Cycle1': {'af': {'shift_x': 2.0, 'shift_y': -6.0}},\n",
       "                          'max': {'max_shift_x': 44,\n",
       "                           'min_shift_x': -15,\n",
       "                           'max_shift_y': 570,\n",
       "                           'min_shift_y': -29},\n",
       "                          'norm': {}}),\n",
       "             10: defaultdict(dict,\n",
       "                         {'Cycle2': {'norm': {'shift_x': 2.0,\n",
       "                            'shift_y': -11.0},\n",
       "                           'af': {'shift_x': -128.0, 'shift_y': 621.0}},\n",
       "                          'Cycle3': {'norm': {'shift_x': -2.0,\n",
       "                            'shift_y': 14.0},\n",
       "                           'af': {'shift_x': -14.0, 'shift_y': -8.0}},\n",
       "                          'Cycle4': {'norm': {'shift_x': -7.0,\n",
       "                            'shift_y': -27.0},\n",
       "                           'af': {'shift_x': 6.0, 'shift_y': 0.0}},\n",
       "                          'Cycle5': {'norm': {'shift_x': 12.0,\n",
       "                            'shift_y': -1.0},\n",
       "                           'af': {'shift_x': 6.0, 'shift_y': -15.0}},\n",
       "                          'Cycle6': {'norm': {'shift_x': 5.0,\n",
       "                            'shift_y': -14.0},\n",
       "                           'af': {'shift_x': 20.0, 'shift_y': -1.0}},\n",
       "                          'Cycle7': {'norm': {'shift_x': 17.0,\n",
       "                            'shift_y': -8.0},\n",
       "                           'af': {'shift_x': 9.0, 'shift_y': -27.0}},\n",
       "                          'Cycle8': {'norm': {'shift_x': 7.0,\n",
       "                            'shift_y': -23.0},\n",
       "                           'af': {'shift_x': 11.0, 'shift_y': -4.0}},\n",
       "                          'Cycle9': {'norm': {'shift_x': 15.0,\n",
       "                            'shift_y': -1.0},\n",
       "                           'af': {'shift_x': 18.0, 'shift_y': -6.0}},\n",
       "                          'Cycle10': {'norm': {'shift_x': 14.0,\n",
       "                            'shift_y': 3.0},\n",
       "                           'af': {'shift_x': 15.0, 'shift_y': 5.0}},\n",
       "                          'Cycle11': {'norm': {'shift_x': -15.0,\n",
       "                            'shift_y': -30.0}},\n",
       "                          'Cycle1': {'af': {'shift_x': 1.0, 'shift_y': -7.0}},\n",
       "                          'max': {'max_shift_x': 20,\n",
       "                           'min_shift_x': -128,\n",
       "                           'max_shift_y': 621,\n",
       "                           'min_shift_y': -30},\n",
       "                          'norm': {}}),\n",
       "             11: defaultdict(dict,\n",
       "                         {'Cycle2': {'norm': {'shift_x': 2.0, 'shift_y': -9.0},\n",
       "                           'af': {'shift_x': 279.0, 'shift_y': 170.0}},\n",
       "                          'Cycle3': {'norm': {'shift_x': -7.0,\n",
       "                            'shift_y': 12.0},\n",
       "                           'af': {'shift_x': -15.0, 'shift_y': -7.0}},\n",
       "                          'Cycle4': {'norm': {'shift_x': -7.0,\n",
       "                            'shift_y': -25.0},\n",
       "                           'af': {'shift_x': 1.0, 'shift_y': 0.0}},\n",
       "                          'Cycle5': {'norm': {'shift_x': 6.0, 'shift_y': -4.0},\n",
       "                           'af': {'shift_x': 1.0, 'shift_y': -18.0}},\n",
       "                          'Cycle6': {'norm': {'shift_x': 0.0,\n",
       "                            'shift_y': -16.0},\n",
       "                           'af': {'shift_x': 15.0, 'shift_y': 0.0}},\n",
       "                          'Cycle7': {'norm': {'shift_x': 13.0,\n",
       "                            'shift_y': -8.0},\n",
       "                           'af': {'shift_x': 5.0, 'shift_y': -26.0}},\n",
       "                          'Cycle8': {'norm': {'shift_x': 2.0,\n",
       "                            'shift_y': -23.0},\n",
       "                           'af': {'shift_x': 7.0, 'shift_y': -7.0}},\n",
       "                          'Cycle9': {'norm': {'shift_x': 12.0,\n",
       "                            'shift_y': -2.0},\n",
       "                           'af': {'shift_x': 15.0, 'shift_y': -7.0}},\n",
       "                          'Cycle10': {'norm': {'shift_x': 10.0,\n",
       "                            'shift_y': 4.0},\n",
       "                           'af': {'shift_x': 12.0, 'shift_y': 5.0}},\n",
       "                          'Cycle11': {'norm': {'shift_x': -21.0,\n",
       "                            'shift_y': -28.0}},\n",
       "                          'Cycle1': {'af': {'shift_x': 1.0, 'shift_y': -5.0}},\n",
       "                          'max': {'max_shift_x': 279,\n",
       "                           'min_shift_x': -21,\n",
       "                           'max_shift_y': 170,\n",
       "                           'min_shift_y': -28},\n",
       "                          'norm': {}}),\n",
       "             12: defaultdict(dict,\n",
       "                         {'Cycle2': {'norm': {'shift_x': 2.0, 'shift_y': -9.0},\n",
       "                           'af': {'shift_x': 814.0, 'shift_y': 171.0}},\n",
       "                          'Cycle3': {'norm': {'shift_x': 1.0, 'shift_y': 8.0},\n",
       "                           'af': {'shift_x': -16.0, 'shift_y': -5.0}},\n",
       "                          'Cycle4': {'norm': {'shift_x': -7.0,\n",
       "                            'shift_y': -24.0},\n",
       "                           'af': {'shift_x': 13.0, 'shift_y': -1.0}},\n",
       "                          'Cycle5': {'norm': {'shift_x': 23.0,\n",
       "                            'shift_y': -7.0},\n",
       "                           'af': {'shift_x': 17.0, 'shift_y': -21.0}},\n",
       "                          'Cycle6': {'norm': {'shift_x': 16.0,\n",
       "                            'shift_y': -20.0},\n",
       "                           'af': {'shift_x': 28.0, 'shift_y': -1.0}},\n",
       "                          'Cycle7': {'norm': {'shift_x': 24.0,\n",
       "                            'shift_y': -8.0},\n",
       "                           'af': {'shift_x': 17.0, 'shift_y': -26.0}},\n",
       "                          'Cycle8': {'norm': {'shift_x': 14.0,\n",
       "                            'shift_y': -22.0},\n",
       "                           'af': {'shift_x': 15.0, 'shift_y': -9.0}},\n",
       "                          'Cycle9': {'norm': {'shift_x': 19.0,\n",
       "                            'shift_y': -5.0},\n",
       "                           'af': {'shift_x': 22.0, 'shift_y': -10.0}},\n",
       "                          'Cycle10': {'norm': {'shift_x': 18.0,\n",
       "                            'shift_y': 0.0},\n",
       "                           'af': {'shift_x': 19.0, 'shift_y': 1.0}},\n",
       "                          'Cycle11': {'norm': {'shift_x': -16.0,\n",
       "                            'shift_y': -28.0}},\n",
       "                          'Cycle1': {'af': {'shift_x': 1.0, 'shift_y': -5.0}},\n",
       "                          'max': {'max_shift_x': 814,\n",
       "                           'min_shift_x': -16,\n",
       "                           'max_shift_y': 171,\n",
       "                           'min_shift_y': -28},\n",
       "                          'norm': {}}),\n",
       "             13: defaultdict(dict,\n",
       "                         {'Cycle2': {'norm': {'shift_x': 2.0,\n",
       "                            'shift_y': -10.0},\n",
       "                           'af': {'shift_x': -864.0, 'shift_y': 307.0}},\n",
       "                          'Cycle3': {'norm': {'shift_x': 4.0, 'shift_y': 4.0},\n",
       "                           'af': {'shift_x': -17.0, 'shift_y': -5.0}},\n",
       "                          'Cycle4': {'norm': {'shift_x': -9.0,\n",
       "                            'shift_y': -26.0},\n",
       "                           'af': {'shift_x': 14.0, 'shift_y': -4.0}},\n",
       "                          'Cycle5': {'norm': {'shift_x': 23.0,\n",
       "                            'shift_y': -14.0},\n",
       "                           'af': {'shift_x': 17.0, 'shift_y': -28.0}},\n",
       "                          'Cycle6': {'norm': {'shift_x': 16.0,\n",
       "                            'shift_y': -26.0},\n",
       "                           'af': {'shift_x': 30.0, 'shift_y': -3.0}},\n",
       "                          'Cycle7': {'norm': {'shift_x': 25.0,\n",
       "                            'shift_y': -9.0},\n",
       "                           'af': {'shift_x': 17.0, 'shift_y': -27.0}},\n",
       "                          'Cycle8': {'norm': {'shift_x': 14.0,\n",
       "                            'shift_y': -23.0},\n",
       "                           'af': {'shift_x': 14.0, 'shift_y': -15.0}},\n",
       "                          'Cycle9': {'norm': {'shift_x': 18.0,\n",
       "                            'shift_y': -8.0},\n",
       "                           'af': {'shift_x': 21.0, 'shift_y': -13.0}},\n",
       "                          'Cycle10': {'norm': {'shift_x': 17.0,\n",
       "                            'shift_y': -1.0},\n",
       "                           'af': {'shift_x': 18.0, 'shift_y': 0.0}},\n",
       "                          'Cycle11': {'norm': {'shift_x': -15.0,\n",
       "                            'shift_y': -28.0}},\n",
       "                          'Cycle1': {'af': {'shift_x': 1.0, 'shift_y': -6.0}},\n",
       "                          'max': {'max_shift_x': 30,\n",
       "                           'min_shift_x': -864,\n",
       "                           'max_shift_y': 307,\n",
       "                           'min_shift_y': -28},\n",
       "                          'norm': {}}),\n",
       "             14: defaultdict(dict,\n",
       "                         {'Cycle2': {'norm': {'shift_x': 2.0, 'shift_y': -9.0},\n",
       "                           'af': {'shift_x': -435.0, 'shift_y': 122.0}},\n",
       "                          'Cycle3': {'norm': {'shift_x': -7.0, 'shift_y': 0.0},\n",
       "                           'af': {'shift_x': -19.0, 'shift_y': -6.0}},\n",
       "                          'Cycle4': {'norm': {'shift_x': -11.0,\n",
       "                            'shift_y': -25.0},\n",
       "                           'af': {'shift_x': 2.0, 'shift_y': -7.0}},\n",
       "                          'Cycle5': {'norm': {'shift_x': 8.0,\n",
       "                            'shift_y': -18.0},\n",
       "                           'af': {'shift_x': 2.0, 'shift_y': -32.0}},\n",
       "                          'Cycle6': {'norm': {'shift_x': 1.0,\n",
       "                            'shift_y': -30.0},\n",
       "                           'af': {'shift_x': 16.0, 'shift_y': -6.0}},\n",
       "                          'Cycle7': {'norm': {'shift_x': 12.0,\n",
       "                            'shift_y': -10.0},\n",
       "                           'af': {'shift_x': 5.0, 'shift_y': -28.0}},\n",
       "                          'Cycle8': {'norm': {'shift_x': 3.0,\n",
       "                            'shift_y': -25.0},\n",
       "                           'af': {'shift_x': 8.0, 'shift_y': -18.0}},\n",
       "                          'Cycle9': {'norm': {'shift_x': 11.0,\n",
       "                            'shift_y': -12.0},\n",
       "                           'af': {'shift_x': 14.0, 'shift_y': -17.0}},\n",
       "                          'Cycle10': {'norm': {'shift_x': 10.0,\n",
       "                            'shift_y': -5.0},\n",
       "                           'af': {'shift_x': 12.0, 'shift_y': -4.0}},\n",
       "                          'Cycle11': {'norm': {'shift_x': -20.0,\n",
       "                            'shift_y': -30.0}},\n",
       "                          'Cycle1': {'af': {'shift_x': 1.0, 'shift_y': -5.0}},\n",
       "                          'max': {'max_shift_x': 16,\n",
       "                           'min_shift_x': -435,\n",
       "                           'max_shift_y': 122,\n",
       "                           'min_shift_y': -32},\n",
       "                          'norm': {}}),\n",
       "             15: defaultdict(dict,\n",
       "                         {'Cycle2': {'norm': {'shift_x': 2.0,\n",
       "                            'shift_y': -10.0},\n",
       "                           'af': {'shift_x': -605.0, 'shift_y': 429.0}},\n",
       "                          'Cycle3': {'norm': {'shift_x': -10.0,\n",
       "                            'shift_y': 0.0},\n",
       "                           'af': {'shift_x': -19.0, 'shift_y': -7.0}},\n",
       "                          'Cycle4': {'norm': {'shift_x': -9.0,\n",
       "                            'shift_y': -24.0},\n",
       "                           'af': {'shift_x': 1.0, 'shift_y': -7.0}},\n",
       "                          'Cycle5': {'norm': {'shift_x': 4.0,\n",
       "                            'shift_y': -19.0},\n",
       "                           'af': {'shift_x': -1.0, 'shift_y': -31.0}},\n",
       "                          'Cycle6': {'norm': {'shift_x': -2.0,\n",
       "                            'shift_y': -29.0},\n",
       "                           'af': {'shift_x': 17.0, 'shift_y': -8.0}},\n",
       "                          'Cycle7': {'norm': {'shift_x': 12.0,\n",
       "                            'shift_y': -13.0},\n",
       "                           'af': {'shift_x': 6.0, 'shift_y': -30.0}},\n",
       "                          'Cycle8': {'norm': {'shift_x': 3.0,\n",
       "                            'shift_y': -26.0},\n",
       "                           'af': {'shift_x': 7.0, 'shift_y': -18.0}},\n",
       "                          'Cycle9': {'norm': {'shift_x': 9.0,\n",
       "                            'shift_y': -12.0},\n",
       "                           'af': {'shift_x': 12.0, 'shift_y': -17.0}},\n",
       "                          'Cycle10': {'norm': {'shift_x': 8.0,\n",
       "                            'shift_y': -4.0},\n",
       "                           'af': {'shift_x': 9.0, 'shift_y': -4.0}},\n",
       "                          'Cycle11': {'norm': {'shift_x': -18.0,\n",
       "                            'shift_y': -34.0}},\n",
       "                          'Cycle1': {'af': {'shift_x': 1.0, 'shift_y': -6.0}},\n",
       "                          'max': {'max_shift_x': 17,\n",
       "                           'min_shift_x': -605,\n",
       "                           'max_shift_y': 429,\n",
       "                           'min_shift_y': -34},\n",
       "                          'norm': {}}),\n",
       "             16: defaultdict(dict,\n",
       "                         {'Cycle2': {'norm': {'shift_x': 1.0, 'shift_y': -8.0},\n",
       "                           'af': {'shift_x': 582.0, 'shift_y': 421.0}},\n",
       "                          'Cycle3': {'norm': {'shift_x': 0.0, 'shift_y': 6.0},\n",
       "                           'af': {'shift_x': -17.0, 'shift_y': -6.0}},\n",
       "                          'Cycle4': {'norm': {'shift_x': -9.0,\n",
       "                            'shift_y': -24.0},\n",
       "                           'af': {'shift_x': 12.0, 'shift_y': -5.0}},\n",
       "                          'Cycle5': {'norm': {'shift_x': 16.0,\n",
       "                            'shift_y': -14.0},\n",
       "                           'af': {'shift_x': 12.0, 'shift_y': -26.0}},\n",
       "                          'Cycle6': {'norm': {'shift_x': 11.0,\n",
       "                            'shift_y': -24.0},\n",
       "                           'af': {'shift_x': 28.0, 'shift_y': -4.0}},\n",
       "                          'Cycle7': {'norm': {'shift_x': 23.0,\n",
       "                            'shift_y': -12.0},\n",
       "                           'af': {'shift_x': 17.0, 'shift_y': -28.0}},\n",
       "                          'Cycle8': {'norm': {'shift_x': 15.0,\n",
       "                            'shift_y': -24.0},\n",
       "                           'af': {'shift_x': 12.0, 'shift_y': -15.0}},\n",
       "                          'Cycle9': {'norm': {'shift_x': 16.0,\n",
       "                            'shift_y': -7.0},\n",
       "                           'af': {'shift_x': 19.0, 'shift_y': -12.0}},\n",
       "                          'Cycle10': {'norm': {'shift_x': 14.0,\n",
       "                            'shift_y': 0.0},\n",
       "                           'af': {'shift_x': 16.0, 'shift_y': 1.0}},\n",
       "                          'Cycle11': {'norm': {'shift_x': -16.0,\n",
       "                            'shift_y': -33.0}},\n",
       "                          'Cycle1': {'af': {'shift_x': 0.0, 'shift_y': -4.0}},\n",
       "                          'max': {'max_shift_x': 582,\n",
       "                           'min_shift_x': -17,\n",
       "                           'max_shift_y': 421,\n",
       "                           'min_shift_y': -33},\n",
       "                          'norm': {}}),\n",
       "             17: defaultdict(dict,\n",
       "                         {'Cycle2': {'norm': {'shift_x': 2.0, 'shift_y': -9.0},\n",
       "                           'af': {'shift_x': 416.0, 'shift_y': -74.0}},\n",
       "                          'Cycle3': {'norm': {'shift_x': 0.0, 'shift_y': 9.0},\n",
       "                           'af': {'shift_x': -18.0, 'shift_y': -5.0}},\n",
       "                          'Cycle4': {'norm': {'shift_x': -7.0,\n",
       "                            'shift_y': -24.0},\n",
       "                           'af': {'shift_x': 10.0, 'shift_y': -2.0}},\n",
       "                          'Cycle5': {'norm': {'shift_x': 14.0,\n",
       "                            'shift_y': -10.0},\n",
       "                           'af': {'shift_x': 11.0, 'shift_y': -21.0}},\n",
       "                          'Cycle6': {'norm': {'shift_x': 10.0,\n",
       "                            'shift_y': -19.0},\n",
       "                           'af': {'shift_x': 25.0, 'shift_y': -4.0}},\n",
       "                          'Cycle7': {'norm': {'shift_x': 22.0,\n",
       "                            'shift_y': -11.0},\n",
       "                           'af': {'shift_x': 16.0, 'shift_y': -27.0}},\n",
       "                          'Cycle8': {'norm': {'shift_x': 14.0,\n",
       "                            'shift_y': -23.0},\n",
       "                           'af': {'shift_x': 12.0, 'shift_y': -11.0}},\n",
       "                          'Cycle9': {'norm': {'shift_x': 17.0,\n",
       "                            'shift_y': -4.0},\n",
       "                           'af': {'shift_x': 19.0, 'shift_y': -9.0}},\n",
       "                          'Cycle10': {'norm': {'shift_x': 15.0,\n",
       "                            'shift_y': 3.0},\n",
       "                           'af': {'shift_x': 17.0, 'shift_y': 4.0}},\n",
       "                          'Cycle11': {'norm': {'shift_x': -17.0,\n",
       "                            'shift_y': -35.0}},\n",
       "                          'Cycle1': {'af': {'shift_x': 1.0, 'shift_y': -6.0}},\n",
       "                          'max': {'max_shift_x': 416,\n",
       "                           'min_shift_x': -18,\n",
       "                           'max_shift_y': 9,\n",
       "                           'min_shift_y': -74},\n",
       "                          'norm': {}}),\n",
       "             18: defaultdict(dict,\n",
       "                         {'Cycle2': {'norm': {'shift_x': 1.0, 'shift_y': -7.0},\n",
       "                           'af': {'shift_x': 611.0, 'shift_y': 41.0}},\n",
       "                          'Cycle3': {'norm': {'shift_x': -9.0,\n",
       "                            'shift_y': 11.0},\n",
       "                           'af': {'shift_x': -16.0, 'shift_y': -6.0}},\n",
       "                          'Cycle4': {'norm': {'shift_x': -7.0,\n",
       "                            'shift_y': -22.0},\n",
       "                           'af': {'shift_x': 0.0, 'shift_y': -1.0}},\n",
       "                          'Cycle5': {'norm': {'shift_x': 1.0, 'shift_y': -5.0},\n",
       "                           'af': {'shift_x': -1.0, 'shift_y': -16.0}},\n",
       "                          'Cycle6': {'norm': {'shift_x': -2.0,\n",
       "                            'shift_y': -14.0},\n",
       "                           'af': {'shift_x': 16.0, 'shift_y': -3.0}},\n",
       "                          'Cycle7': {'norm': {'shift_x': 9.0,\n",
       "                            'shift_y': -11.0},\n",
       "                           'af': {'shift_x': 4.0, 'shift_y': -26.0}},\n",
       "                          'Cycle8': {'norm': {'shift_x': 1.0,\n",
       "                            'shift_y': -22.0},\n",
       "                           'af': {'shift_x': 4.0, 'shift_y': -9.0}},\n",
       "                          'Cycle9': {'norm': {'shift_x': 8.0, 'shift_y': -2.0},\n",
       "                           'af': {'shift_x': 10.0, 'shift_y': -6.0}},\n",
       "                          'Cycle10': {'norm': {'shift_x': 6.0, 'shift_y': 5.0},\n",
       "                           'af': {'shift_x': 8.0, 'shift_y': 6.0}},\n",
       "                          'Cycle11': {'norm': {'shift_x': -20.0,\n",
       "                            'shift_y': -37.0}},\n",
       "                          'Cycle1': {'af': {'shift_x': 1.0, 'shift_y': -4.0}},\n",
       "                          'max': {'max_shift_x': 611,\n",
       "                           'min_shift_x': -20,\n",
       "                           'max_shift_y': 41,\n",
       "                           'min_shift_y': -37},\n",
       "                          'norm': {}}),\n",
       "             19: defaultdict(dict,\n",
       "                         {'Cycle2': {'norm': {'shift_x': 2.0, 'shift_y': -8.0},\n",
       "                           'af': {'shift_x': 165.0, 'shift_y': -607.0}},\n",
       "                          'Cycle3': {'norm': {'shift_x': -5.0,\n",
       "                            'shift_y': 14.0},\n",
       "                           'af': {'shift_x': -15.0, 'shift_y': -7.0}},\n",
       "                          'Cycle4': {'norm': {'shift_x': -7.0,\n",
       "                            'shift_y': -23.0},\n",
       "                           'af': {'shift_x': 5.0, 'shift_y': 0.0}},\n",
       "                          'Cycle5': {'norm': {'shift_x': 6.0, 'shift_y': -2.0},\n",
       "                           'af': {'shift_x': 2.0, 'shift_y': -13.0}},\n",
       "                          'Cycle6': {'norm': {'shift_x': 1.0,\n",
       "                            'shift_y': -10.0},\n",
       "                           'af': {'shift_x': 20.0, 'shift_y': -3.0}},\n",
       "                          'Cycle7': {'norm': {'shift_x': 14.0,\n",
       "                            'shift_y': -11.0},\n",
       "                           'af': {'shift_x': 9.0, 'shift_y': -26.0}},\n",
       "                          'Cycle8': {'norm': {'shift_x': 7.0,\n",
       "                            'shift_y': -22.0},\n",
       "                           'af': {'shift_x': 10.0, 'shift_y': -7.0}},\n",
       "                          'Cycle9': {'norm': {'shift_x': 13.0, 'shift_y': 0.0},\n",
       "                           'af': {'shift_x': 16.0, 'shift_y': -3.0}},\n",
       "                          'Cycle10': {'norm': {'shift_x': 11.0,\n",
       "                            'shift_y': 7.0},\n",
       "                           'af': {'shift_x': 13.0, 'shift_y': 8.0}},\n",
       "                          'Cycle11': {'norm': {'shift_x': -17.0,\n",
       "                            'shift_y': -38.0}},\n",
       "                          'Cycle1': {'af': {'shift_x': 1.0, 'shift_y': -5.0}},\n",
       "                          'max': {'max_shift_x': 165,\n",
       "                           'min_shift_x': -17,\n",
       "                           'max_shift_y': 14,\n",
       "                           'min_shift_y': -607},\n",
       "                          'norm': {}}),\n",
       "             20: defaultdict(dict,\n",
       "                         {'Cycle2': {'norm': {'shift_x': 2.0, 'shift_y': -6.0},\n",
       "                           'af': {'shift_x': -461.0, 'shift_y': 456.0}},\n",
       "                          'Cycle3': {'norm': {'shift_x': 2.0, 'shift_y': 17.0},\n",
       "                           'af': {'shift_x': -18.0, 'shift_y': -7.0}},\n",
       "                          'Cycle4': {'norm': {'shift_x': -9.0,\n",
       "                            'shift_y': -23.0},\n",
       "                           'af': {'shift_x': 13.0, 'shift_y': 1.0}},\n",
       "                          'Cycle5': {'norm': {'shift_x': 16.0, 'shift_y': 1.0},\n",
       "                           'af': {'shift_x': 13.0, 'shift_y': -7.0}},\n",
       "                          'Cycle6': {'norm': {'shift_x': 11.0,\n",
       "                            'shift_y': -5.0},\n",
       "                           'af': {'shift_x': 26.0, 'shift_y': -3.0}},\n",
       "                          'Cycle7': {'norm': {'shift_x': 22.0,\n",
       "                            'shift_y': -11.0},\n",
       "                           'af': {'shift_x': 17.0, 'shift_y': -27.0}},\n",
       "                          'Cycle8': {'norm': {'shift_x': 15.0,\n",
       "                            'shift_y': -22.0},\n",
       "                           'af': {'shift_x': 15.0, 'shift_y': -2.0}},\n",
       "                          'Cycle9': {'norm': {'shift_x': 20.0, 'shift_y': 1.0},\n",
       "                           'af': {'shift_x': 22.0, 'shift_y': -1.0}},\n",
       "                          'Cycle10': {'norm': {'shift_x': 19.0,\n",
       "                            'shift_y': 10.0},\n",
       "                           'af': {'shift_x': 20.0, 'shift_y': 11.0}},\n",
       "                          'Cycle11': {'norm': {'shift_x': -17.0,\n",
       "                            'shift_y': -40.0}},\n",
       "                          'Cycle1': {'af': {'shift_x': 1.0, 'shift_y': -3.0}},\n",
       "                          'max': {'max_shift_x': 26,\n",
       "                           'min_shift_x': -461,\n",
       "                           'max_shift_y': 456,\n",
       "                           'min_shift_y': -40},\n",
       "                          'norm': {}}),\n",
       "             21: defaultdict(dict,\n",
       "                         {'Cycle2': {'norm': {'shift_x': 2.0, 'shift_y': -6.0},\n",
       "                           'af': {'shift_x': -688.0, 'shift_y': 395.0}},\n",
       "                          'Cycle3': {'norm': {'shift_x': -2.0,\n",
       "                            'shift_y': 24.0},\n",
       "                           'af': {'shift_x': -21.0, 'shift_y': -7.0}},\n",
       "                          'Cycle4': {'norm': {'shift_x': -10.0,\n",
       "                            'shift_y': -23.0},\n",
       "                           'af': {'shift_x': 11.0, 'shift_y': 5.0}},\n",
       "                          'Cycle5': {'norm': {'shift_x': 10.0, 'shift_y': 7.0},\n",
       "                           'af': {'shift_x': 8.0, 'shift_y': -2.0}},\n",
       "                          'Cycle6': {'norm': {'shift_x': 6.0, 'shift_y': 0.0},\n",
       "                           'af': {'shift_x': 22.0, 'shift_y': 0.0}},\n",
       "                          'Cycle7': {'norm': {'shift_x': 18.0,\n",
       "                            'shift_y': -11.0},\n",
       "                           'af': {'shift_x': 14.0, 'shift_y': -26.0}},\n",
       "                          'Cycle8': {'norm': {'shift_x': 12.0,\n",
       "                            'shift_y': -22.0},\n",
       "                           'af': {'shift_x': 9.0, 'shift_y': 0.0}},\n",
       "                          'Cycle9': {'norm': {'shift_x': 14.0, 'shift_y': 8.0},\n",
       "                           'af': {'shift_x': 17.0, 'shift_y': 3.0}},\n",
       "                          'Cycle10': {'norm': {'shift_x': 13.0,\n",
       "                            'shift_y': 16.0},\n",
       "                           'af': {'shift_x': 14.0, 'shift_y': 17.0}},\n",
       "                          'Cycle11': {'norm': {'shift_x': -18.0,\n",
       "                            'shift_y': -38.0}},\n",
       "                          'Cycle1': {'af': {'shift_x': 0.0, 'shift_y': -3.0}},\n",
       "                          'max': {'max_shift_x': 22,\n",
       "                           'min_shift_x': -688,\n",
       "                           'max_shift_y': 395,\n",
       "                           'min_shift_y': -38},\n",
       "                          'norm': {}}),\n",
       "             22: defaultdict(dict,\n",
       "                         {'Cycle2': {'norm': {'shift_x': 2.0, 'shift_y': -7.0},\n",
       "                           'af': {'shift_x': 954.0, 'shift_y': 111.0}},\n",
       "                          'Cycle3': {'norm': {'shift_x': -4.0,\n",
       "                            'shift_y': 28.0},\n",
       "                           'af': {'shift_x': -21.0, 'shift_y': -8.0}},\n",
       "                          'Cycle4': {'norm': {'shift_x': -10.0,\n",
       "                            'shift_y': -24.0},\n",
       "                           'af': {'shift_x': 9.0, 'shift_y': 7.0}},\n",
       "                          'Cycle5': {'norm': {'shift_x': 7.0, 'shift_y': 13.0},\n",
       "                           'af': {'shift_x': 4.0, 'shift_y': 2.0}},\n",
       "                          'Cycle6': {'norm': {'shift_x': 3.0, 'shift_y': 5.0},\n",
       "                           'af': {'shift_x': 20.0, 'shift_y': -2.0}},\n",
       "                          'Cycle7': {'norm': {'shift_x': 16.0,\n",
       "                            'shift_y': -13.0},\n",
       "                           'af': {'shift_x': 13.0, 'shift_y': -28.0}},\n",
       "                          'Cycle8': {'norm': {'shift_x': 10.0,\n",
       "                            'shift_y': -23.0},\n",
       "                           'af': {'shift_x': 7.0, 'shift_y': 1.0}},\n",
       "                          'Cycle9': {'norm': {'shift_x': 12.0, 'shift_y': 7.0},\n",
       "                           'af': {'shift_x': 15.0, 'shift_y': 4.0}},\n",
       "                          'Cycle10': {'norm': {'shift_x': 10.0,\n",
       "                            'shift_y': 17.0},\n",
       "                           'af': {'shift_x': 11.0, 'shift_y': 18.0}},\n",
       "                          'Cycle11': {'norm': {'shift_x': -18.0,\n",
       "                            'shift_y': -41.0}},\n",
       "                          'Cycle1': {'af': {'shift_x': 1.0, 'shift_y': -4.0}},\n",
       "                          'max': {'max_shift_x': 954,\n",
       "                           'min_shift_x': -21,\n",
       "                           'max_shift_y': 111,\n",
       "                           'min_shift_y': -41},\n",
       "                          'norm': {}}),\n",
       "             23: defaultdict(dict,\n",
       "                         {'Cycle2': {'norm': {'shift_x': 2.0, 'shift_y': -8.0},\n",
       "                           'af': {'shift_x': 532.0, 'shift_y': -61.0}},\n",
       "                          'Cycle3': {'norm': {'shift_x': -3.0,\n",
       "                            'shift_y': 24.0},\n",
       "                           'af': {'shift_x': -18.0, 'shift_y': -8.0}},\n",
       "                          'Cycle4': {'norm': {'shift_x': -10.0,\n",
       "                            'shift_y': -25.0},\n",
       "                           'af': {'shift_x': 10.0, 'shift_y': 4.0}},\n",
       "                          'Cycle5': {'norm': {'shift_x': 10.0, 'shift_y': 6.0},\n",
       "                           'af': {'shift_x': 7.0, 'shift_y': -3.0}},\n",
       "                          'Cycle6': {'norm': {'shift_x': 6.0, 'shift_y': -1.0},\n",
       "                           'af': {'shift_x': 25.0, 'shift_y': -4.0}},\n",
       "                          'Cycle7': {'norm': {'shift_x': 20.0,\n",
       "                            'shift_y': -14.0},\n",
       "                           'af': {'shift_x': 16.0, 'shift_y': -28.0}},\n",
       "                          'Cycle8': {'norm': {'shift_x': 13.0,\n",
       "                            'shift_y': -24.0},\n",
       "                           'af': {'shift_x': 11.0, 'shift_y': -1.0}},\n",
       "                          'Cycle9': {'norm': {'shift_x': 14.0, 'shift_y': 5.0},\n",
       "                           'af': {'shift_x': 17.0, 'shift_y': 1.0}},\n",
       "                          'Cycle10': {'norm': {'shift_x': 13.0,\n",
       "                            'shift_y': 13.0},\n",
       "                           'af': {'shift_x': 15.0, 'shift_y': 14.0}},\n",
       "                          'Cycle11': {'norm': {'shift_x': -19.0,\n",
       "                            'shift_y': -40.0}},\n",
       "                          'Cycle1': {'af': {'shift_x': 1.0, 'shift_y': -4.0}},\n",
       "                          'max': {'max_shift_x': 532,\n",
       "                           'min_shift_x': -19,\n",
       "                           'max_shift_y': 24,\n",
       "                           'min_shift_y': -61},\n",
       "                          'norm': {}}),\n",
       "             24: defaultdict(dict,\n",
       "                         {'Cycle2': {'norm': {'shift_x': 1.0, 'shift_y': -7.0},\n",
       "                           'af': {'shift_x': 715.0, 'shift_y': -95.0}},\n",
       "                          'Cycle3': {'norm': {'shift_x': -9.0,\n",
       "                            'shift_y': 20.0},\n",
       "                           'af': {'shift_x': -19.0, 'shift_y': -9.0}},\n",
       "                          'Cycle4': {'norm': {'shift_x': -9.0,\n",
       "                            'shift_y': -24.0},\n",
       "                           'af': {'shift_x': 2.0, 'shift_y': 0.0}},\n",
       "                          'Cycle5': {'norm': {'shift_x': 0.0, 'shift_y': 1.0},\n",
       "                           'af': {'shift_x': -3.0, 'shift_y': -9.0}},\n",
       "                          'Cycle6': {'norm': {'shift_x': -4.0,\n",
       "                            'shift_y': -6.0},\n",
       "                           'af': {'shift_x': 17.0, 'shift_y': -5.0}},\n",
       "                          'Cycle7': {'norm': {'shift_x': 11.0,\n",
       "                            'shift_y': -16.0},\n",
       "                           'af': {'shift_x': 7.0, 'shift_y': -30.0}},\n",
       "                          'Cycle8': {'norm': {'shift_x': 5.0,\n",
       "                            'shift_y': -26.0},\n",
       "                           'af': {'shift_x': 7.0, 'shift_y': -6.0}},\n",
       "                          'Cycle9': {'norm': {'shift_x': 10.0, 'shift_y': 1.0},\n",
       "                           'af': {'shift_x': 12.0, 'shift_y': -3.0}},\n",
       "                          'Cycle10': {'norm': {'shift_x': 8.0, 'shift_y': 9.0},\n",
       "                           'af': {'shift_x': 9.0, 'shift_y': 10.0}},\n",
       "                          'Cycle11': {'norm': {'shift_x': -18.0,\n",
       "                            'shift_y': -40.0}},\n",
       "                          'Cycle1': {'af': {'shift_x': 1.0, 'shift_y': -4.0}},\n",
       "                          'max': {'max_shift_x': 715,\n",
       "                           'min_shift_x': -19,\n",
       "                           'max_shift_y': 20,\n",
       "                           'min_shift_y': -95},\n",
       "                          'norm': {}}),\n",
       "             25: defaultdict(dict,\n",
       "                         {'Cycle2': {'norm': {'shift_x': 2.0, 'shift_y': -8.0},\n",
       "                           'af': {'shift_x': 115.0, 'shift_y': -423.0}},\n",
       "                          'Cycle3': {'norm': {'shift_x': -13.0,\n",
       "                            'shift_y': 15.0},\n",
       "                           'af': {'shift_x': -18.0, 'shift_y': -8.0}},\n",
       "                          'Cycle4': {'norm': {'shift_x': -6.0,\n",
       "                            'shift_y': -23.0},\n",
       "                           'af': {'shift_x': -3.0, 'shift_y': -2.0}},\n",
       "                          'Cycle5': {'norm': {'shift_x': -4.0,\n",
       "                            'shift_y': -4.0},\n",
       "                           'af': {'shift_x': -6.0, 'shift_y': -14.0}},\n",
       "                          'Cycle6': {'norm': {'shift_x': -7.0,\n",
       "                            'shift_y': -11.0},\n",
       "                           'af': {'shift_x': 13.0, 'shift_y': -6.0}},\n",
       "                          'Cycle7': {'norm': {'shift_x': 6.0,\n",
       "                            'shift_y': -16.0},\n",
       "                           'af': {'shift_x': 3.0, 'shift_y': -30.0}},\n",
       "                          'Cycle8': {'norm': {'shift_x': 0.0,\n",
       "                            'shift_y': -26.0},\n",
       "                           'af': {'shift_x': 4.0, 'shift_y': -9.0}},\n",
       "                          'Cycle9': {'norm': {'shift_x': 7.0, 'shift_y': -1.0},\n",
       "                           'af': {'shift_x': 11.0, 'shift_y': -6.0}},\n",
       "                          'Cycle10': {'norm': {'shift_x': 6.0, 'shift_y': 6.0},\n",
       "                           'af': {'shift_x': 7.0, 'shift_y': 7.0}},\n",
       "                          'Cycle11': {'norm': {'shift_x': -20.0,\n",
       "                            'shift_y': -41.0}},\n",
       "                          'Cycle1': {'af': {'shift_x': 1.0, 'shift_y': -5.0}},\n",
       "                          'max': {'max_shift_x': 115,\n",
       "                           'min_shift_x': -20,\n",
       "                           'max_shift_y': 15,\n",
       "                           'min_shift_y': -423},\n",
       "                          'norm': {}}),\n",
       "             26: defaultdict(dict,\n",
       "                         {'Cycle2': {'norm': {'shift_x': 2.0, 'shift_y': -6.0},\n",
       "                           'af': {'shift_x': -516.0, 'shift_y': 408.0}},\n",
       "                          'Cycle3': {'norm': {'shift_x': -3.0,\n",
       "                            'shift_y': 13.0},\n",
       "                           'af': {'shift_x': -18.0, 'shift_y': -7.0}},\n",
       "                          'Cycle4': {'norm': {'shift_x': -8.0,\n",
       "                            'shift_y': -22.0},\n",
       "                           'af': {'shift_x': 9.0, 'shift_y': -4.0}},\n",
       "                          'Cycle5': {'norm': {'shift_x': 9.0, 'shift_y': -7.0},\n",
       "                           'af': {'shift_x': 7.0, 'shift_y': -17.0}},\n",
       "                          'Cycle6': {'norm': {'shift_x': 6.0,\n",
       "                            'shift_y': -14.0},\n",
       "                           'af': {'shift_x': 26.0, 'shift_y': -5.0}},\n",
       "                          'Cycle7': {'norm': {'shift_x': 19.0,\n",
       "                            'shift_y': -15.0},\n",
       "                           'af': {'shift_x': 16.0, 'shift_y': -29.0}},\n",
       "                          'Cycle8': {'norm': {'shift_x': 13.0,\n",
       "                            'shift_y': -25.0},\n",
       "                           'af': {'shift_x': 10.0, 'shift_y': -12.0}},\n",
       "                          'Cycle9': {'norm': {'shift_x': 14.0,\n",
       "                            'shift_y': -3.0},\n",
       "                           'af': {'shift_x': 16.0, 'shift_y': -7.0}},\n",
       "                          'Cycle10': {'norm': {'shift_x': 12.0,\n",
       "                            'shift_y': 5.0},\n",
       "                           'af': {'shift_x': 13.0, 'shift_y': 6.0}},\n",
       "                          'Cycle11': {'norm': {'shift_x': -19.0,\n",
       "                            'shift_y': -39.0}},\n",
       "                          'Cycle1': {'af': {'shift_x': 1.0, 'shift_y': -3.0}},\n",
       "                          'max': {'max_shift_x': 26,\n",
       "                           'min_shift_x': -516,\n",
       "                           'max_shift_y': 408,\n",
       "                           'min_shift_y': -39},\n",
       "                          'norm': {}}),\n",
       "             27: defaultdict(dict,\n",
       "                         {'Cycle2': {'norm': {'shift_x': 1.0, 'shift_y': -6.0},\n",
       "                           'af': {'shift_x': 772.0, 'shift_y': -610.0}},\n",
       "                          'Cycle3': {'norm': {'shift_x': -5.0, 'shift_y': 8.0},\n",
       "                           'af': {'shift_x': -20.0, 'shift_y': -6.0}},\n",
       "                          'Cycle4': {'norm': {'shift_x': -12.0,\n",
       "                            'shift_y': -22.0},\n",
       "                           'af': {'shift_x': 8.0, 'shift_y': -5.0}},\n",
       "                          'Cycle5': {'norm': {'shift_x': 7.0,\n",
       "                            'shift_y': -11.0},\n",
       "                           'af': {'shift_x': 5.0, 'shift_y': -21.0}},\n",
       "                          'Cycle6': {'norm': {'shift_x': 4.0,\n",
       "                            'shift_y': -18.0},\n",
       "                           'af': {'shift_x': 25.0, 'shift_y': -8.0}},\n",
       "                          'Cycle7': {'norm': {'shift_x': 16.0,\n",
       "                            'shift_y': -16.0},\n",
       "                           'af': {'shift_x': 13.0, 'shift_y': -30.0}},\n",
       "                          'Cycle8': {'norm': {'shift_x': 11.0,\n",
       "                            'shift_y': -26.0},\n",
       "                           'af': {'shift_x': 7.0, 'shift_y': -15.0}},\n",
       "                          'Cycle9': {'norm': {'shift_x': 10.0,\n",
       "                            'shift_y': -6.0},\n",
       "                           'af': {'shift_x': 13.0, 'shift_y': -10.0}},\n",
       "                          'Cycle10': {'norm': {'shift_x': 9.0, 'shift_y': 1.0},\n",
       "                           'af': {'shift_x': 10.0, 'shift_y': 2.0}},\n",
       "                          'Cycle11': {'norm': {'shift_x': -18.0,\n",
       "                            'shift_y': -40.0}},\n",
       "                          'Cycle1': {'af': {'shift_x': 0.0, 'shift_y': -3.0}},\n",
       "                          'max': {'max_shift_x': 772,\n",
       "                           'min_shift_x': -20,\n",
       "                           'max_shift_y': 8,\n",
       "                           'min_shift_y': -610},\n",
       "                          'norm': {}}),\n",
       "             28: defaultdict(dict,\n",
       "                         {'Cycle2': {'norm': {'shift_x': 1.0, 'shift_y': -7.0},\n",
       "                           'af': {'shift_x': -43.0, 'shift_y': -543.0}},\n",
       "                          'Cycle3': {'norm': {'shift_x': -11.0,\n",
       "                            'shift_y': 4.0},\n",
       "                           'af': {'shift_x': -21.0, 'shift_y': -6.0}},\n",
       "                          'Cycle4': {'norm': {'shift_x': -9.0,\n",
       "                            'shift_y': -24.0},\n",
       "                           'af': {'shift_x': -1.0, 'shift_y': -7.0}},\n",
       "                          'Cycle5': {'norm': {'shift_x': 0.0,\n",
       "                            'shift_y': -17.0},\n",
       "                           'af': {'shift_x': -2.0, 'shift_y': -27.0}},\n",
       "                          'Cycle6': {'norm': {'shift_x': -3.0,\n",
       "                            'shift_y': -24.0},\n",
       "                           'af': {'shift_x': 16.0, 'shift_y': -9.0}},\n",
       "                          'Cycle7': {'norm': {'shift_x': 8.0,\n",
       "                            'shift_y': -16.0},\n",
       "                           'af': {'shift_x': 5.0, 'shift_y': -30.0}},\n",
       "                          'Cycle8': {'norm': {'shift_x': 2.0,\n",
       "                            'shift_y': -26.0},\n",
       "                           'af': {'shift_x': 6.0, 'shift_y': -19.0}},\n",
       "                          'Cycle9': {'norm': {'shift_x': 9.0, 'shift_y': -9.0},\n",
       "                           'af': {'shift_x': 12.0, 'shift_y': -13.0}},\n",
       "                          'Cycle10': {'norm': {'shift_x': 8.0, 'shift_y': 0.0},\n",
       "                           'af': {'shift_x': 9.0, 'shift_y': 0.0}},\n",
       "                          'Cycle11': {'norm': {'shift_x': -19.0,\n",
       "                            'shift_y': -39.0}},\n",
       "                          'Cycle1': {'af': {'shift_x': 0.0, 'shift_y': -4.0}},\n",
       "                          'max': {'max_shift_x': 16,\n",
       "                           'min_shift_x': -43,\n",
       "                           'max_shift_y': 4,\n",
       "                           'min_shift_y': -543},\n",
       "                          'norm': {}}),\n",
       "             29: defaultdict(dict,\n",
       "                         {'Cycle2': {'norm': {'shift_x': 1.0, 'shift_y': -6.0},\n",
       "                           'af': {'shift_x': -734.0, 'shift_y': 124.0}},\n",
       "                          'Cycle3': {'norm': {'shift_x': -14.0,\n",
       "                            'shift_y': 3.0},\n",
       "                           'af': {'shift_x': -18.0, 'shift_y': -8.0}},\n",
       "                          'Cycle4': {'norm': {'shift_x': -10.0,\n",
       "                            'shift_y': -24.0},\n",
       "                           'af': {'shift_x': -3.0, 'shift_y': -10.0}},\n",
       "                          'Cycle5': {'norm': {'shift_x': -4.0,\n",
       "                            'shift_y': -19.0},\n",
       "                           'af': {'shift_x': -6.0, 'shift_y': -28.0}},\n",
       "                          'Cycle6': {'norm': {'shift_x': -8.0,\n",
       "                            'shift_y': -25.0},\n",
       "                           'af': {'shift_x': 15.0, 'shift_y': -14.0}},\n",
       "                          'Cycle7': {'norm': {'shift_x': 9.0,\n",
       "                            'shift_y': -16.0},\n",
       "                           'af': {'shift_x': 6.0, 'shift_y': -29.0}},\n",
       "                          'Cycle8': {'norm': {'shift_x': 4.0,\n",
       "                            'shift_y': -24.0},\n",
       "                           'af': {'shift_x': 4.0, 'shift_y': -22.0}},\n",
       "                          'Cycle9': {'norm': {'shift_x': 7.0,\n",
       "                            'shift_y': -10.0},\n",
       "                           'af': {'shift_x': 9.0, 'shift_y': -14.0}},\n",
       "                          'Cycle10': {'norm': {'shift_x': 5.0,\n",
       "                            'shift_y': -2.0},\n",
       "                           'af': {'shift_x': 6.0, 'shift_y': -1.0}},\n",
       "                          'Cycle11': {'norm': {'shift_x': -18.0,\n",
       "                            'shift_y': -37.0}},\n",
       "                          'Cycle1': {'af': {'shift_x': 0.0, 'shift_y': -3.0}},\n",
       "                          'max': {'max_shift_x': 15,\n",
       "                           'min_shift_x': -734,\n",
       "                           'max_shift_y': 124,\n",
       "                           'min_shift_y': -37},\n",
       "                          'norm': {}}),\n",
       "             30: defaultdict(dict,\n",
       "                         {'Cycle2': {'norm': {'shift_x': 1.0, 'shift_y': -7.0},\n",
       "                           'af': {'shift_x': 562.0, 'shift_y': 468.0}},\n",
       "                          'Cycle3': {'norm': {'shift_x': -6.0, 'shift_y': 5.0},\n",
       "                           'af': {'shift_x': -21.0, 'shift_y': -7.0}},\n",
       "                          'Cycle4': {'norm': {'shift_x': -10.0,\n",
       "                            'shift_y': -24.0},\n",
       "                           'af': {'shift_x': 7.0, 'shift_y': -7.0}},\n",
       "                          'Cycle5': {'norm': {'shift_x': 2.0,\n",
       "                            'shift_y': -15.0},\n",
       "                           'af': {'shift_x': 0.0, 'shift_y': -24.0}},\n",
       "                          'Cycle6': {'norm': {'shift_x': 0.0,\n",
       "                            'shift_y': -21.0},\n",
       "                           'af': {'shift_x': 23.0, 'shift_y': -13.0}},\n",
       "                          'Cycle7': {'norm': {'shift_x': 16.0,\n",
       "                            'shift_y': -15.0},\n",
       "                           'af': {'shift_x': 12.0, 'shift_y': -27.0}},\n",
       "                          'Cycle8': {'norm': {'shift_x': 11.0,\n",
       "                            'shift_y': -23.0},\n",
       "                           'af': {'shift_x': 8.0, 'shift_y': -19.0}},\n",
       "                          'Cycle9': {'norm': {'shift_x': 10.0,\n",
       "                            'shift_y': -8.0},\n",
       "                           'af': {'shift_x': 12.0, 'shift_y': -12.0}},\n",
       "                          'Cycle10': {'norm': {'shift_x': 8.0, 'shift_y': 0.0},\n",
       "                           'af': {'shift_x': 8.0, 'shift_y': 0.0}},\n",
       "                          'Cycle11': {'norm': {'shift_x': -16.0,\n",
       "                            'shift_y': -39.0}},\n",
       "                          'Cycle1': {'af': {'shift_x': 0.0, 'shift_y': -4.0}},\n",
       "                          'max': {'max_shift_x': 562,\n",
       "                           'min_shift_x': -21,\n",
       "                           'max_shift_y': 468,\n",
       "                           'min_shift_y': -39},\n",
       "                          'norm': {}}),\n",
       "             31: defaultdict(dict,\n",
       "                         {'Cycle2': {'norm': {'shift_x': 3.0, 'shift_y': -5.0},\n",
       "                           'af': {'shift_x': -9.0, 'shift_y': -237.0}},\n",
       "                          'Cycle3': {'norm': {'shift_x': -5.0, 'shift_y': 8.0},\n",
       "                           'af': {'shift_x': -20.0, 'shift_y': -7.0}},\n",
       "                          'Cycle4': {'norm': {'shift_x': -9.0,\n",
       "                            'shift_y': -21.0},\n",
       "                           'af': {'shift_x': 9.0, 'shift_y': -5.0}},\n",
       "                          'Cycle5': {'norm': {'shift_x': 6.0, 'shift_y': -9.0},\n",
       "                           'af': {'shift_x': 4.0, 'shift_y': -18.0}},\n",
       "                          'Cycle6': {'norm': {'shift_x': 2.0,\n",
       "                            'shift_y': -15.0},\n",
       "                           'af': {'shift_x': 25.0, 'shift_y': -12.0}},\n",
       "                          'Cycle7': {'norm': {'shift_x': 17.0,\n",
       "                            'shift_y': -14.0},\n",
       "                           'af': {'shift_x': 14.0, 'shift_y': -26.0}},\n",
       "                          'Cycle8': {'norm': {'shift_x': 12.0,\n",
       "                            'shift_y': -22.0},\n",
       "                           'af': {'shift_x': 8.0, 'shift_y': -16.0}},\n",
       "                          'Cycle9': {'norm': {'shift_x': 11.0,\n",
       "                            'shift_y': -5.0},\n",
       "                           'af': {'shift_x': 14.0, 'shift_y': -9.0}},\n",
       "                          'Cycle10': {'norm': {'shift_x': 10.0,\n",
       "                            'shift_y': 2.0},\n",
       "                           'af': {'shift_x': 11.0, 'shift_y': 3.0}},\n",
       "                          'Cycle11': {'norm': {'shift_x': -17.0,\n",
       "                            'shift_y': -39.0}},\n",
       "                          'Cycle1': {'af': {'shift_x': 2.0, 'shift_y': -2.0}},\n",
       "                          'max': {'max_shift_x': 25,\n",
       "                           'min_shift_x': -20,\n",
       "                           'max_shift_y': 8,\n",
       "                           'min_shift_y': -237},\n",
       "                          'norm': {}}),\n",
       "             32: defaultdict(dict,\n",
       "                         {'Cycle2': {'norm': {'shift_x': 1.0, 'shift_y': -8.0},\n",
       "                           'af': {'shift_x': -55.0, 'shift_y': -95.0}},\n",
       "                          'Cycle3': {'norm': {'shift_x': -13.0,\n",
       "                            'shift_y': 11.0},\n",
       "                           'af': {'shift_x': -16.0, 'shift_y': -9.0}},\n",
       "                          'Cycle4': {'norm': {'shift_x': -7.0,\n",
       "                            'shift_y': -24.0},\n",
       "                           'af': {'shift_x': -4.0, 'shift_y': -5.0}},\n",
       "                          'Cycle5': {'norm': {'shift_x': -6.0,\n",
       "                            'shift_y': -7.0},\n",
       "                           'af': {'shift_x': -8.0, 'shift_y': -16.0}},\n",
       "                          'Cycle6': {'norm': {'shift_x': -9.0,\n",
       "                            'shift_y': -13.0},\n",
       "                           'af': {'shift_x': 13.0, 'shift_y': -13.0}},\n",
       "                          'Cycle7': {'norm': {'shift_x': 7.0,\n",
       "                            'shift_y': -16.0},\n",
       "                           'af': {'shift_x': 4.0, 'shift_y': -28.0}},\n",
       "                          'Cycle8': {'norm': {'shift_x': 3.0,\n",
       "                            'shift_y': -24.0},\n",
       "                           'af': {'shift_x': 2.0, 'shift_y': -16.0}},\n",
       "                          'Cycle9': {'norm': {'shift_x': 5.0, 'shift_y': -4.0},\n",
       "                           'af': {'shift_x': 7.0, 'shift_y': -7.0}},\n",
       "                          'Cycle10': {'norm': {'shift_x': 3.0, 'shift_y': 4.0},\n",
       "                           'af': {'shift_x': 4.0, 'shift_y': 5.0}},\n",
       "                          'Cycle11': {'norm': {'shift_x': -19.0,\n",
       "                            'shift_y': -43.0}},\n",
       "                          'Cycle1': {'af': {'shift_x': 0.0, 'shift_y': -5.0}},\n",
       "                          'max': {'max_shift_x': 13,\n",
       "                           'min_shift_x': -55,\n",
       "                           'max_shift_y': 11,\n",
       "                           'min_shift_y': -95},\n",
       "                          'norm': {}}),\n",
       "             33: defaultdict(dict,\n",
       "                         {'Cycle2': {'norm': {'shift_x': 1.0, 'shift_y': -5.0},\n",
       "                           'af': {'shift_x': -58.0, 'shift_y': -313.0}},\n",
       "                          'Cycle3': {'norm': {'shift_x': -13.0,\n",
       "                            'shift_y': 14.0},\n",
       "                           'af': {'shift_x': -20.0, 'shift_y': -10.0}},\n",
       "                          'Cycle4': {'norm': {'shift_x': -9.0,\n",
       "                            'shift_y': -23.0},\n",
       "                           'af': {'shift_x': -1.0, 'shift_y': -3.0}},\n",
       "                          'Cycle5': {'norm': {'shift_x': -7.0,\n",
       "                            'shift_y': -3.0},\n",
       "                           'af': {'shift_x': -9.0, 'shift_y': -11.0}},\n",
       "                          'Cycle6': {'norm': {'shift_x': -10.0,\n",
       "                            'shift_y': -8.0},\n",
       "                           'af': {'shift_x': 14.0, 'shift_y': -13.0}},\n",
       "                          'Cycle7': {'norm': {'shift_x': 7.0,\n",
       "                            'shift_y': -16.0},\n",
       "                           'af': {'shift_x': 5.0, 'shift_y': -28.0}},\n",
       "                          'Cycle8': {'norm': {'shift_x': 3.0,\n",
       "                            'shift_y': -23.0},\n",
       "                           'af': {'shift_x': 5.0, 'shift_y': -12.0}},\n",
       "                          'Cycle9': {'norm': {'shift_x': 7.0, 'shift_y': -1.0},\n",
       "                           'af': {'shift_x': 9.0, 'shift_y': -5.0}},\n",
       "                          'Cycle10': {'norm': {'shift_x': 5.0, 'shift_y': 7.0},\n",
       "                           'af': {'shift_x': 5.0, 'shift_y': 8.0}},\n",
       "                          'Cycle11': {'norm': {'shift_x': -20.0,\n",
       "                            'shift_y': -44.0}},\n",
       "                          'Cycle1': {'af': {'shift_x': 0.0, 'shift_y': -2.0}},\n",
       "                          'max': {'max_shift_x': 14,\n",
       "                           'min_shift_x': -58,\n",
       "                           'max_shift_y': 14,\n",
       "                           'min_shift_y': -313},\n",
       "                          'norm': {}}),\n",
       "             34: defaultdict(dict,\n",
       "                         {'Cycle2': {'norm': {'shift_x': 1.0, 'shift_y': -5.0},\n",
       "                           'af': {'shift_x': 717.0, 'shift_y': 548.0}},\n",
       "                          'Cycle3': {'norm': {'shift_x': -4.0,\n",
       "                            'shift_y': 20.0},\n",
       "                           'af': {'shift_x': -22.0, 'shift_y': -9.0}},\n",
       "                          'Cycle4': {'norm': {'shift_x': -10.0,\n",
       "                            'shift_y': -23.0},\n",
       "                           'af': {'shift_x': 10.0, 'shift_y': -1.0}},\n",
       "                          'Cycle5': {'norm': {'shift_x': 5.0, 'shift_y': 2.0},\n",
       "                           'af': {'shift_x': 3.0, 'shift_y': -6.0}},\n",
       "                          'Cycle6': {'norm': {'shift_x': 2.0, 'shift_y': -3.0},\n",
       "                           'af': {'shift_x': 24.0, 'shift_y': -12.0}},\n",
       "                          'Cycle7': {'norm': {'shift_x': 18.0,\n",
       "                            'shift_y': -13.0},\n",
       "                           'af': {'shift_x': 15.0, 'shift_y': -24.0}},\n",
       "                          'Cycle8': {'norm': {'shift_x': 14.0,\n",
       "                            'shift_y': -20.0},\n",
       "                           'af': {'shift_x': 10.0, 'shift_y': -8.0}},\n",
       "                          'Cycle9': {'norm': {'shift_x': 14.0, 'shift_y': 4.0},\n",
       "                           'af': {'shift_x': 16.0, 'shift_y': 0.0}},\n",
       "                          'Cycle10': {'norm': {'shift_x': 12.0,\n",
       "                            'shift_y': 13.0},\n",
       "                           'af': {'shift_x': 13.0, 'shift_y': 14.0}},\n",
       "                          'Cycle11': {'norm': {'shift_x': -17.0,\n",
       "                            'shift_y': -42.0}},\n",
       "                          'Cycle1': {'af': {'shift_x': 1.0, 'shift_y': -2.0}},\n",
       "                          'max': {'max_shift_x': 717,\n",
       "                           'min_shift_x': -22,\n",
       "                           'max_shift_y': 548,\n",
       "                           'min_shift_y': -42},\n",
       "                          'norm': {}}),\n",
       "             35: defaultdict(dict,\n",
       "                         {'Cycle2': {'norm': {'shift_x': 1.0, 'shift_y': -6.0},\n",
       "                           'af': {'shift_x': 724.0, 'shift_y': -3.0}},\n",
       "                          'Cycle3': {'norm': {'shift_x': -5.0,\n",
       "                            'shift_y': 23.0},\n",
       "                           'af': {'shift_x': -19.0, 'shift_y': -8.0}},\n",
       "                          'Cycle4': {'norm': {'shift_x': -9.0,\n",
       "                            'shift_y': -23.0},\n",
       "                           'af': {'shift_x': 7.0, 'shift_y': 3.0}},\n",
       "                          'Cycle5': {'norm': {'shift_x': 4.0, 'shift_y': 7.0},\n",
       "                           'af': {'shift_x': 3.0, 'shift_y': -1.0}},\n",
       "                          'Cycle6': {'norm': {'shift_x': 1.0, 'shift_y': 1.0},\n",
       "                           'af': {'shift_x': 21.0, 'shift_y': -12.0}},\n",
       "                          'Cycle7': {'norm': {'shift_x': 15.0,\n",
       "                            'shift_y': -12.0},\n",
       "                           'af': {'shift_x': 12.0, 'shift_y': -24.0}},\n",
       "                          'Cycle8': {'norm': {'shift_x': 10.0,\n",
       "                            'shift_y': -20.0},\n",
       "                           'af': {'shift_x': 8.0, 'shift_y': -4.0}},\n",
       "                          'Cycle9': {'norm': {'shift_x': 12.0, 'shift_y': 5.0},\n",
       "                           'af': {'shift_x': 15.0, 'shift_y': 2.0}},\n",
       "                          'Cycle10': {'norm': {'shift_x': 10.0,\n",
       "                            'shift_y': 15.0},\n",
       "                           'af': {'shift_x': 11.0, 'shift_y': 16.0}},\n",
       "                          'Cycle11': {'norm': {'shift_x': -15.0,\n",
       "                            'shift_y': -44.0}},\n",
       "                          'Cycle1': {'af': {'shift_x': 0.0, 'shift_y': -4.0}},\n",
       "                          'max': {'max_shift_x': 724,\n",
       "                           'min_shift_x': -19,\n",
       "                           'max_shift_y': 23,\n",
       "                           'min_shift_y': -44},\n",
       "                          'norm': {}}),\n",
       "             36: defaultdict(dict,\n",
       "                         {'Cycle2': {'norm': {'shift_x': 1.0, 'shift_y': -7.0},\n",
       "                           'af': {'shift_x': -78.0, 'shift_y': -515.0}},\n",
       "                          'Cycle3': {'norm': {'shift_x': -8.0,\n",
       "                            'shift_y': 21.0},\n",
       "                           'af': {'shift_x': -19.0, 'shift_y': -8.0}},\n",
       "                          'Cycle4': {'norm': {'shift_x': -9.0,\n",
       "                            'shift_y': -25.0},\n",
       "                           'af': {'shift_x': 5.0, 'shift_y': 1.0}},\n",
       "                          'Cycle5': {'norm': {'shift_x': 0.0, 'shift_y': 4.0},\n",
       "                           'af': {'shift_x': -1.0, 'shift_y': -4.0}},\n",
       "                          'Cycle6': {'norm': {'shift_x': -2.0,\n",
       "                            'shift_y': -1.0},\n",
       "                           'af': {'shift_x': 20.0, 'shift_y': -13.0}},\n",
       "                          'Cycle7': {'norm': {'shift_x': 14.0,\n",
       "                            'shift_y': -14.0},\n",
       "                           'af': {'shift_x': 11.0, 'shift_y': -25.0}},\n",
       "                          'Cycle8': {'norm': {'shift_x': 10.0,\n",
       "                            'shift_y': -21.0},\n",
       "                           'af': {'shift_x': 5.0, 'shift_y': -8.0}},\n",
       "                          'Cycle9': {'norm': {'shift_x': 9.0, 'shift_y': 3.0},\n",
       "                           'af': {'shift_x': 11.0, 'shift_y': 0.0}},\n",
       "                          'Cycle10': {'norm': {'shift_x': 7.0,\n",
       "                            'shift_y': 13.0},\n",
       "                           'af': {'shift_x': 8.0, 'shift_y': 14.0}},\n",
       "                          'Cycle11': {'norm': {'shift_x': -14.0,\n",
       "                            'shift_y': -44.0}},\n",
       "                          'Cycle1': {'af': {'shift_x': 0.0, 'shift_y': -4.0}},\n",
       "                          'max': {'max_shift_x': 20,\n",
       "                           'min_shift_x': -78,\n",
       "                           'max_shift_y': 21,\n",
       "                           'min_shift_y': -515},\n",
       "                          'norm': {}}),\n",
       "             37: defaultdict(dict,\n",
       "                         {'Cycle2': {'norm': {'shift_x': 1.0, 'shift_y': -5.0},\n",
       "                           'af': {'shift_x': 699.0, 'shift_y': -464.0}},\n",
       "                          'Cycle3': {'norm': {'shift_x': -9.0,\n",
       "                            'shift_y': 16.0},\n",
       "                           'af': {'shift_x': -22.0, 'shift_y': -9.0}},\n",
       "                          'Cycle4': {'norm': {'shift_x': -12.0,\n",
       "                            'shift_y': -25.0},\n",
       "                           'af': {'shift_x': 5.0, 'shift_y': -2.0}},\n",
       "                          'Cycle5': {'norm': {'shift_x': -1.0, 'shift_y': 0.0},\n",
       "                           'af': {'shift_x': -3.0, 'shift_y': -8.0}},\n",
       "                          'Cycle6': {'norm': {'shift_x': -5.0,\n",
       "                            'shift_y': -5.0},\n",
       "                           'af': {'shift_x': 21.0, 'shift_y': -16.0}},\n",
       "                          'Cycle7': {'norm': {'shift_x': 14.0,\n",
       "                            'shift_y': -15.0},\n",
       "                           'af': {'shift_x': 12.0, 'shift_y': -26.0}},\n",
       "                          'Cycle8': {'norm': {'shift_x': 10.0,\n",
       "                            'shift_y': -22.0},\n",
       "                           'af': {'shift_x': 4.0, 'shift_y': -10.0}},\n",
       "                          'Cycle9': {'norm': {'shift_x': 8.0, 'shift_y': 0.0},\n",
       "                           'af': {'shift_x': 10.0, 'shift_y': -3.0}},\n",
       "                          'Cycle10': {'norm': {'shift_x': 6.0, 'shift_y': 9.0},\n",
       "                           'af': {'shift_x': 7.0, 'shift_y': 10.0}},\n",
       "                          'Cycle11': {'norm': {'shift_x': -18.0,\n",
       "                            'shift_y': -45.0}},\n",
       "                          'Cycle1': {'af': {'shift_x': 0.0, 'shift_y': -3.0}},\n",
       "                          'max': {'max_shift_x': 699,\n",
       "                           'min_shift_x': -22,\n",
       "                           'max_shift_y': 16,\n",
       "                           'min_shift_y': -464},\n",
       "                          'norm': {}}),\n",
       "             38: defaultdict(dict,\n",
       "                         {'Cycle2': {'norm': {'shift_x': 1.0, 'shift_y': -6.0},\n",
       "                           'af': {'shift_x': -300.0, 'shift_y': 605.0}},\n",
       "                          'Cycle3': {'norm': {'shift_x': -15.0,\n",
       "                            'shift_y': 12.0},\n",
       "                           'af': {'shift_x': -20.0, 'shift_y': -10.0}},\n",
       "                          'Cycle4': {'norm': {'shift_x': -9.0,\n",
       "                            'shift_y': -26.0},\n",
       "                           'af': {'shift_x': -2.0, 'shift_y': -5.0}},\n",
       "                          'Cycle5': {'norm': {'shift_x': -8.0,\n",
       "                            'shift_y': -7.0},\n",
       "                           'af': {'shift_x': -10.0, 'shift_y': -15.0}},\n",
       "                          'Cycle6': {'norm': {'shift_x': -11.0,\n",
       "                            'shift_y': -12.0},\n",
       "                           'af': {'shift_x': 15.0, 'shift_y': -18.0}},\n",
       "                          'Cycle7': {'norm': {'shift_x': 9.0,\n",
       "                            'shift_y': -16.0},\n",
       "                           'af': {'shift_x': 6.0, 'shift_y': -28.0}},\n",
       "                          'Cycle8': {'norm': {'shift_x': 4.0,\n",
       "                            'shift_y': -24.0},\n",
       "                           'af': {'shift_x': 5.0, 'shift_y': -14.0}},\n",
       "                          'Cycle9': {'norm': {'shift_x': 8.0, 'shift_y': -3.0},\n",
       "                           'af': {'shift_x': 10.0, 'shift_y': -7.0}},\n",
       "                          'Cycle10': {'norm': {'shift_x': 5.0, 'shift_y': 5.0},\n",
       "                           'af': {'shift_x': 7.0, 'shift_y': 7.0}},\n",
       "                          'Cycle11': {'norm': {'shift_x': -17.0,\n",
       "                            'shift_y': -47.0}},\n",
       "                          'Cycle1': {'af': {'shift_x': 0.0, 'shift_y': -4.0}},\n",
       "                          'max': {'max_shift_x': 15,\n",
       "                           'min_shift_x': -300,\n",
       "                           'max_shift_y': 605,\n",
       "                           'min_shift_y': -47},\n",
       "                          'norm': {}}),\n",
       "             39: defaultdict(dict,\n",
       "                         {'Cycle2': {'norm': {'shift_x': 0.0, 'shift_y': -5.0},\n",
       "                           'af': {'shift_x': -502.0, 'shift_y': 229.0}},\n",
       "                          'Cycle3': {'norm': {'shift_x': -17.0,\n",
       "                            'shift_y': 9.0},\n",
       "                           'af': {'shift_x': -17.0, 'shift_y': -11.0}},\n",
       "                          'Cycle4': {'norm': {'shift_x': -7.0,\n",
       "                            'shift_y': -24.0},\n",
       "                           'af': {'shift_x': -4.0, 'shift_y': -8.0}},\n",
       "                          'Cycle5': {'norm': {'shift_x': -10.0,\n",
       "                            'shift_y': -9.0},\n",
       "                           'af': {'shift_x': -12.0, 'shift_y': -18.0}},\n",
       "                          'Cycle6': {'norm': {'shift_x': -14.0,\n",
       "                            'shift_y': -14.0},\n",
       "                           'af': {'shift_x': 13.0, 'shift_y': -17.0}},\n",
       "                          'Cycle7': {'norm': {'shift_x': 5.0,\n",
       "                            'shift_y': -18.0},\n",
       "                           'af': {'shift_x': 3.0, 'shift_y': -30.0}},\n",
       "                          'Cycle8': {'norm': {'shift_x': 0.0,\n",
       "                            'shift_y': -25.0},\n",
       "                           'af': {'shift_x': 0.0, 'shift_y': -17.0}},\n",
       "                          'Cycle9': {'norm': {'shift_x': 3.0, 'shift_y': -4.0},\n",
       "                           'af': {'shift_x': 5.0, 'shift_y': -8.0}},\n",
       "                          'Cycle10': {'norm': {'shift_x': 1.0, 'shift_y': 5.0},\n",
       "                           'af': {'shift_x': 2.0, 'shift_y': 6.0}},\n",
       "                          'Cycle11': {'norm': {'shift_x': -18.0,\n",
       "                            'shift_y': -45.0}},\n",
       "                          'Cycle1': {'af': {'shift_x': 0.0, 'shift_y': -3.0}},\n",
       "                          'max': {'max_shift_x': 13,\n",
       "                           'min_shift_x': -502,\n",
       "                           'max_shift_y': 229,\n",
       "                           'min_shift_y': -45},\n",
       "                          'norm': {}}),\n",
       "             40: defaultdict(dict,\n",
       "                         {'Cycle2': {'norm': {'shift_x': 0.0, 'shift_y': -5.0},\n",
       "                           'af': {'shift_x': 382.0, 'shift_y': -474.0}},\n",
       "                          'Cycle3': {'norm': {'shift_x': -9.0, 'shift_y': 4.0},\n",
       "                           'af': {'shift_x': -23.0, 'shift_y': -10.0}},\n",
       "                          'Cycle4': {'norm': {'shift_x': -11.0,\n",
       "                            'shift_y': -23.0},\n",
       "                           'af': {'shift_x': 5.0, 'shift_y': -11.0}},\n",
       "                          'Cycle5': {'norm': {'shift_x': 0.0,\n",
       "                            'shift_y': -14.0},\n",
       "                           'af': {'shift_x': -2.0, 'shift_y': -22.0}},\n",
       "                          'Cycle6': {'norm': {'shift_x': -3.0,\n",
       "                            'shift_y': -19.0},\n",
       "                           'af': {'shift_x': 22.0, 'shift_y': -19.0}},\n",
       "                          'Cycle7': {'norm': {'shift_x': 12.0,\n",
       "                            'shift_y': -19.0},\n",
       "                           'af': {'shift_x': 10.0, 'shift_y': -30.0}},\n",
       "                          'Cycle8': {'norm': {'shift_x': 8.0,\n",
       "                            'shift_y': -26.0},\n",
       "                           'af': {'shift_x': 2.0, 'shift_y': -21.0}},\n",
       "                          'Cycle9': {'norm': {'shift_x': 6.0, 'shift_y': -9.0},\n",
       "                           'af': {'shift_x': 8.0, 'shift_y': -13.0}},\n",
       "                          'Cycle10': {'norm': {'shift_x': 4.0, 'shift_y': 0.0},\n",
       "                           'af': {'shift_x': 5.0, 'shift_y': 1.0}},\n",
       "                          'Cycle11': {'norm': {'shift_x': -17.0,\n",
       "                            'shift_y': -47.0}},\n",
       "                          'Cycle1': {'af': {'shift_x': 0.0, 'shift_y': -2.0}},\n",
       "                          'max': {'max_shift_x': 382,\n",
       "                           'min_shift_x': -23,\n",
       "                           'max_shift_y': 4,\n",
       "                           'min_shift_y': -474},\n",
       "                          'norm': {}}),\n",
       "             41: defaultdict(dict,\n",
       "                         {'Cycle2': {'norm': {'shift_x': 1.0, 'shift_y': -7.0},\n",
       "                           'af': {'shift_x': -106.0, 'shift_y': 660.0}},\n",
       "                          'Cycle3': {'norm': {'shift_x': -9.0, 'shift_y': 0.0},\n",
       "                           'af': {'shift_x': -23.0, 'shift_y': -9.0}},\n",
       "                          'Cycle4': {'norm': {'shift_x': -12.0,\n",
       "                            'shift_y': -25.0},\n",
       "                           'af': {'shift_x': 5.0, 'shift_y': -15.0}},\n",
       "                          'Cycle5': {'norm': {'shift_x': 0.0,\n",
       "                            'shift_y': -23.0},\n",
       "                           'af': {'shift_x': -2.0, 'shift_y': -30.0}},\n",
       "                          'Cycle6': {'norm': {'shift_x': -3.0,\n",
       "                            'shift_y': -27.0},\n",
       "                           'af': {'shift_x': 22.0, 'shift_y': -21.0}},\n",
       "                          'Cycle7': {'norm': {'shift_x': 14.0,\n",
       "                            'shift_y': -20.0},\n",
       "                           'af': {'shift_x': 11.0, 'shift_y': -31.0}},\n",
       "                          'Cycle8': {'norm': {'shift_x': 10.0,\n",
       "                            'shift_y': -26.0},\n",
       "                           'af': {'shift_x': 6.0, 'shift_y': -27.0}},\n",
       "                          'Cycle9': {'norm': {'shift_x': 9.0,\n",
       "                            'shift_y': -13.0},\n",
       "                           'af': {'shift_x': 11.0, 'shift_y': -16.0}},\n",
       "                          'Cycle10': {'norm': {'shift_x': 6.0,\n",
       "                            'shift_y': -3.0},\n",
       "                           'af': {'shift_x': 7.0, 'shift_y': -2.0}},\n",
       "                          'Cycle11': {'norm': {'shift_x': -16.0,\n",
       "                            'shift_y': -46.0}},\n",
       "                          'Cycle1': {'af': {'shift_x': 0.0, 'shift_y': -4.0}},\n",
       "                          'max': {'max_shift_x': 22,\n",
       "                           'min_shift_x': -106,\n",
       "                           'max_shift_y': 660,\n",
       "                           'min_shift_y': -46},\n",
       "                          'norm': {}}),\n",
       "             42: defaultdict(dict,\n",
       "                         {'Cycle2': {'norm': {'shift_x': 0.0, 'shift_y': -5.0},\n",
       "                           'af': {'shift_x': 496.0, 'shift_y': 306.0}},\n",
       "                          'Cycle3': {'norm': {'shift_x': -16.0,\n",
       "                            'shift_y': -2.0},\n",
       "                           'af': {'shift_x': -20.0, 'shift_y': -8.0}},\n",
       "                          'Cycle4': {'norm': {'shift_x': -11.0,\n",
       "                            'shift_y': -23.0},\n",
       "                           'af': {'shift_x': -4.0, 'shift_y': -14.0}},\n",
       "                          'Cycle5': {'norm': {'shift_x': -8.0,\n",
       "                            'shift_y': -24.0},\n",
       "                           'af': {'shift_x': -10.0, 'shift_y': -31.0}},\n",
       "                          'Cycle6': {'norm': {'shift_x': -12.0,\n",
       "                            'shift_y': -28.0},\n",
       "                           'af': {'shift_x': 16.0, 'shift_y': -22.0}},\n",
       "                          'Cycle7': {'norm': {'shift_x': 7.0,\n",
       "                            'shift_y': -18.0},\n",
       "                           'af': {'shift_x': 5.0, 'shift_y': -30.0}},\n",
       "                          'Cycle8': {'norm': {'shift_x': 3.0,\n",
       "                            'shift_y': -25.0},\n",
       "                           'af': {'shift_x': 3.0, 'shift_y': -27.0}},\n",
       "                          'Cycle9': {'norm': {'shift_x': 5.0,\n",
       "                            'shift_y': -14.0},\n",
       "                           'af': {'shift_x': 7.0, 'shift_y': -17.0}},\n",
       "                          'Cycle10': {'norm': {'shift_x': 3.0,\n",
       "                            'shift_y': -5.0},\n",
       "                           'af': {'shift_x': 4.0, 'shift_y': -3.0}},\n",
       "                          'Cycle11': {'norm': {'shift_x': -18.0,\n",
       "                            'shift_y': -45.0}},\n",
       "                          'Cycle1': {'af': {'shift_x': 0.0, 'shift_y': -2.0}},\n",
       "                          'max': {'max_shift_x': 496,\n",
       "                           'min_shift_x': -20,\n",
       "                           'max_shift_y': 306,\n",
       "                           'min_shift_y': -45},\n",
       "                          'norm': {}}),\n",
       "             43: defaultdict(dict,\n",
       "                         {'Cycle2': {'norm': {'shift_x': 0.0, 'shift_y': -5.0},\n",
       "                           'af': {'shift_x': 301.0, 'shift_y': -299.0}},\n",
       "                          'Cycle3': {'norm': {'shift_x': -20.0,\n",
       "                            'shift_y': 0.0},\n",
       "                           'af': {'shift_x': -22.0, 'shift_y': -7.0}},\n",
       "                          'Cycle4': {'norm': {'shift_x': -12.0,\n",
       "                            'shift_y': -22.0},\n",
       "                           'af': {'shift_x': -7.0, 'shift_y': -12.0}},\n",
       "                          'Cycle5': {'norm': {'shift_x': -12.0,\n",
       "                            'shift_y': -23.0},\n",
       "                           'af': {'shift_x': -16.0, 'shift_y': -29.0}},\n",
       "                          'Cycle6': {'norm': {'shift_x': -18.0,\n",
       "                            'shift_y': -26.0},\n",
       "                           'af': {'shift_x': 11.0, 'shift_y': -21.0}},\n",
       "                          'Cycle7': {'norm': {'shift_x': 4.0,\n",
       "                            'shift_y': -18.0},\n",
       "                           'af': {'shift_x': 1.0, 'shift_y': -29.0}},\n",
       "                          'Cycle8': {'norm': {'shift_x': 0.0,\n",
       "                            'shift_y': -24.0},\n",
       "                           'af': {'shift_x': 0.0, 'shift_y': -25.0}},\n",
       "                          'Cycle9': {'norm': {'shift_x': 0.0,\n",
       "                            'shift_y': -12.0},\n",
       "                           'af': {'shift_x': 2.0, 'shift_y': -15.0}},\n",
       "                          'Cycle10': {'norm': {'shift_x': 0.0,\n",
       "                            'shift_y': -3.0},\n",
       "                           'af': {'shift_x': 0.0, 'shift_y': -2.0}},\n",
       "                          'Cycle11': {'norm': {'shift_x': -18.0,\n",
       "                            'shift_y': -45.0}},\n",
       "                          'Cycle1': {'af': {'shift_x': 0.0, 'shift_y': -3.0}},\n",
       "                          'max': {'max_shift_x': 301,\n",
       "                           'min_shift_x': -22,\n",
       "                           'max_shift_y': 0,\n",
       "                           'min_shift_y': -299},\n",
       "                          'norm': {}}),\n",
       "             44: defaultdict(dict,\n",
       "                         {'Cycle2': {'norm': {'shift_x': 0.0, 'shift_y': -3.0},\n",
       "                           'af': {'shift_x': -461.0, 'shift_y': -197.0}},\n",
       "                          'Cycle3': {'norm': {'shift_x': -11.0,\n",
       "                            'shift_y': 2.0},\n",
       "                           'af': {'shift_x': -23.0, 'shift_y': -6.0}},\n",
       "                          'Cycle4': {'norm': {'shift_x': -12.0,\n",
       "                            'shift_y': -21.0},\n",
       "                           'af': {'shift_x': 3.0, 'shift_y': -10.0}},\n",
       "                          'Cycle5': {'norm': {'shift_x': -3.0,\n",
       "                            'shift_y': -16.0},\n",
       "                           'af': {'shift_x': -6.0, 'shift_y': -23.0}},\n",
       "                          'Cycle6': {'norm': {'shift_x': -7.0,\n",
       "                            'shift_y': -20.0},\n",
       "                           'af': {'shift_x': 22.0, 'shift_y': -19.0}},\n",
       "                          'Cycle7': {'norm': {'shift_x': 14.0,\n",
       "                            'shift_y': -17.0},\n",
       "                           'af': {'shift_x': 12.0, 'shift_y': -28.0}},\n",
       "                          'Cycle8': {'norm': {'shift_x': 10.0,\n",
       "                            'shift_y': -24.0},\n",
       "                           'af': {'shift_x': 3.0, 'shift_y': -22.0}},\n",
       "                          'Cycle9': {'norm': {'shift_x': 6.0, 'shift_y': -8.0},\n",
       "                           'af': {'shift_x': 8.0, 'shift_y': -12.0}},\n",
       "                          'Cycle10': {'norm': {'shift_x': 4.0, 'shift_y': 0.0},\n",
       "                           'af': {'shift_x': 5.0, 'shift_y': 0.0}},\n",
       "                          'Cycle11': {'norm': {'shift_x': -15.0,\n",
       "                            'shift_y': -45.0}},\n",
       "                          'Cycle1': {'af': {'shift_x': 0.0, 'shift_y': -1.0}},\n",
       "                          'max': {'max_shift_x': 22,\n",
       "                           'min_shift_x': -461,\n",
       "                           'max_shift_y': 2,\n",
       "                           'min_shift_y': -197},\n",
       "                          'norm': {}}),\n",
       "             45: defaultdict(dict,\n",
       "                         {'Cycle2': {'norm': {'shift_x': 0.0, 'shift_y': -5.0},\n",
       "                           'af': {'shift_x': -70.0, 'shift_y': -255.0}},\n",
       "                          'Cycle3': {'norm': {'shift_x': -13.0,\n",
       "                            'shift_y': 6.0},\n",
       "                           'af': {'shift_x': -23.0, 'shift_y': -7.0}},\n",
       "                          'Cycle4': {'norm': {'shift_x': -11.0,\n",
       "                            'shift_y': -22.0},\n",
       "                           'af': {'shift_x': 2.0, 'shift_y': -8.0}},\n",
       "                          'Cycle5': {'norm': {'shift_x': -4.0,\n",
       "                            'shift_y': -13.0},\n",
       "                           'af': {'shift_x': -5.0, 'shift_y': -20.0}},\n",
       "                          'Cycle6': {'norm': {'shift_x': -7.0,\n",
       "                            'shift_y': -17.0},\n",
       "                           'af': {'shift_x': 22.0, 'shift_y': -18.0}},\n",
       "                          'Cycle7': {'norm': {'shift_x': 12.0,\n",
       "                            'shift_y': -17.0},\n",
       "                           'af': {'shift_x': 11.0, 'shift_y': -28.0}},\n",
       "                          'Cycle8': {'norm': {'shift_x': 8.0,\n",
       "                            'shift_y': -23.0},\n",
       "                           'af': {'shift_x': 2.0, 'shift_y': -20.0}},\n",
       "                          'Cycle9': {'norm': {'shift_x': 5.0, 'shift_y': -5.0},\n",
       "                           'af': {'shift_x': 8.0, 'shift_y': -9.0}},\n",
       "                          'Cycle10': {'norm': {'shift_x': 3.0, 'shift_y': 3.0},\n",
       "                           'af': {'shift_x': 4.0, 'shift_y': 4.0}},\n",
       "                          'Cycle11': {'norm': {'shift_x': -15.0,\n",
       "                            'shift_y': -48.0}},\n",
       "                          'Cycle1': {'af': {'shift_x': 0.0, 'shift_y': -3.0}},\n",
       "                          'max': {'max_shift_x': 22,\n",
       "                           'min_shift_x': -70,\n",
       "                           'max_shift_y': 6,\n",
       "                           'min_shift_y': -255},\n",
       "                          'norm': {}}),\n",
       "             46: defaultdict(dict,\n",
       "                         {'Cycle2': {'norm': {'shift_x': 0.0, 'shift_y': -3.0},\n",
       "                           'af': {'shift_x': 776.0, 'shift_y': 192.0}},\n",
       "                          'Cycle3': {'norm': {'shift_x': -21.0,\n",
       "                            'shift_y': 8.0},\n",
       "                           'af': {'shift_x': -19.0, 'shift_y': -8.0}},\n",
       "                          'Cycle4': {'norm': {'shift_x': -9.0,\n",
       "                            'shift_y': -21.0},\n",
       "                           'af': {'shift_x': -8.0, 'shift_y': -8.0}},\n",
       "                          'Cycle5': {'norm': {'shift_x': -17.0,\n",
       "                            'shift_y': -7.0},\n",
       "                           'af': {'shift_x': -18.0, 'shift_y': -15.0}},\n",
       "                          'Cycle6': {'norm': {'shift_x': -20.0,\n",
       "                            'shift_y': -11.0},\n",
       "                           'af': {'shift_x': 11.0, 'shift_y': -19.0}},\n",
       "                          'Cycle7': {'norm': {'shift_x': 3.0,\n",
       "                            'shift_y': -18.0},\n",
       "                           'af': {'shift_x': 1.0, 'shift_y': -28.0}},\n",
       "                          'Cycle8': {'norm': {'shift_x': 0.0,\n",
       "                            'shift_y': -24.0},\n",
       "                           'af': {'shift_x': -3.0, 'shift_y': -17.0}},\n",
       "                          'Cycle9': {'norm': {'shift_x': 0.0, 'shift_y': -4.0},\n",
       "                           'af': {'shift_x': 1.0, 'shift_y': -7.0}},\n",
       "                          'Cycle10': {'norm': {'shift_x': -2.0,\n",
       "                            'shift_y': 4.0},\n",
       "                           'af': {'shift_x': -2.0, 'shift_y': 6.0}},\n",
       "                          'Cycle11': {'norm': {'shift_x': -20.0,\n",
       "                            'shift_y': -49.0}},\n",
       "                          'Cycle1': {'af': {'shift_x': 0.0, 'shift_y': -1.0}},\n",
       "                          'max': {'max_shift_x': 776,\n",
       "                           'min_shift_x': -21,\n",
       "                           'max_shift_y': 192,\n",
       "                           'min_shift_y': -49},\n",
       "                          'norm': {}}),\n",
       "             47: defaultdict(dict,\n",
       "                         {'Cycle2': {'norm': {'shift_x': 0.0, 'shift_y': -3.0},\n",
       "                           'af': {'shift_x': 439.0, 'shift_y': 576.0}},\n",
       "                          'Cycle3': {'norm': {'shift_x': -16.0,\n",
       "                            'shift_y': 14.0},\n",
       "                           'af': {'shift_x': -20.0, 'shift_y': -9.0}},\n",
       "                          'Cycle4': {'norm': {'shift_x': -9.0,\n",
       "                            'shift_y': -22.0},\n",
       "                           'af': {'shift_x': -5.0, 'shift_y': -6.0}},\n",
       "                          'Cycle5': {'norm': {'shift_x': -15.0,\n",
       "                            'shift_y': -3.0},\n",
       "                           'af': {'shift_x': -16.0, 'shift_y': -10.0}},\n",
       "                          'Cycle6': {'norm': {'shift_x': -18.0,\n",
       "                            'shift_y': -7.0},\n",
       "                           'af': {'shift_x': 12.0, 'shift_y': -17.0}},\n",
       "                          'Cycle7': {'norm': {'shift_x': 6.0,\n",
       "                            'shift_y': -16.0},\n",
       "                           'af': {'shift_x': 5.0, 'shift_y': -26.0}},\n",
       "                          'Cycle8': {'norm': {'shift_x': 3.0,\n",
       "                            'shift_y': -22.0},\n",
       "                           'af': {'shift_x': 0.0, 'shift_y': -14.0}},\n",
       "                          'Cycle9': {'norm': {'shift_x': 3.0, 'shift_y': 0.0},\n",
       "                           'af': {'shift_x': 6.0, 'shift_y': -2.0}},\n",
       "                          'Cycle10': {'norm': {'shift_x': 1.0, 'shift_y': 9.0},\n",
       "                           'af': {'shift_x': 2.0, 'shift_y': 11.0}},\n",
       "                          'Cycle11': {'norm': {'shift_x': -18.0,\n",
       "                            'shift_y': -49.0}},\n",
       "                          'Cycle1': {'af': {'shift_x': 0.0, 'shift_y': -1.0}},\n",
       "                          'max': {'max_shift_x': 439,\n",
       "                           'min_shift_x': -20,\n",
       "                           'max_shift_y': 576,\n",
       "                           'min_shift_y': -49},\n",
       "                          'norm': {}}),\n",
       "             48: defaultdict(dict,\n",
       "                         {'Cycle2': {'norm': {'shift_x': 0.0, 'shift_y': -4.0},\n",
       "                           'af': {'shift_x': -310.0, 'shift_y': -269.0}},\n",
       "                          'Cycle3': {'norm': {'shift_x': -11.0,\n",
       "                            'shift_y': 17.0},\n",
       "                           'af': {'shift_x': -23.0, 'shift_y': -8.0}},\n",
       "                          'Cycle4': {'norm': {'shift_x': -11.0,\n",
       "                            'shift_y': -21.0},\n",
       "                           'af': {'shift_x': 4.0, 'shift_y': -2.0}},\n",
       "                          'Cycle5': {'norm': {'shift_x': -5.0, 'shift_y': 1.0},\n",
       "                           'af': {'shift_x': -6.0, 'shift_y': -5.0}},\n",
       "                          'Cycle6': {'norm': {'shift_x': -7.0,\n",
       "                            'shift_y': -1.0},\n",
       "                           'af': {'shift_x': 22.0, 'shift_y': -19.0}},\n",
       "                          'Cycle7': {'norm': {'shift_x': 13.0,\n",
       "                            'shift_y': -16.0},\n",
       "                           'af': {'shift_x': 11.0, 'shift_y': -26.0}},\n",
       "                          'Cycle8': {'norm': {'shift_x': 10.0,\n",
       "                            'shift_y': -21.0},\n",
       "                           'af': {'shift_x': 5.0, 'shift_y': -10.0}},\n",
       "                          'Cycle9': {'norm': {'shift_x': 6.0, 'shift_y': 1.0},\n",
       "                           'af': {'shift_x': 9.0, 'shift_y': 0.0}},\n",
       "                          'Cycle10': {'norm': {'shift_x': 4.0,\n",
       "                            'shift_y': 12.0},\n",
       "                           'af': {'shift_x': 5.0, 'shift_y': 13.0}},\n",
       "                          'Cycle11': {'norm': {'shift_x': -14.0,\n",
       "                            'shift_y': -50.0}},\n",
       "                          'Cycle1': {'af': {'shift_x': 0.0, 'shift_y': -2.0}},\n",
       "                          'max': {'max_shift_x': 22,\n",
       "                           'min_shift_x': -310,\n",
       "                           'max_shift_y': 17,\n",
       "                           'min_shift_y': -269},\n",
       "                          'norm': {}}),\n",
       "             49: defaultdict(dict,\n",
       "                         {'Cycle2': {'norm': {'shift_x': 0.0, 'shift_y': -3.0},\n",
       "                           'af': {'shift_x': 570.0, 'shift_y': -3.0}},\n",
       "                          'Cycle3': {'norm': {'shift_x': -11.0,\n",
       "                            'shift_y': 23.0},\n",
       "                           'af': {'shift_x': -19.0, 'shift_y': -7.0}},\n",
       "                          'Cycle4': {'norm': {'shift_x': -10.0,\n",
       "                            'shift_y': -22.0},\n",
       "                           'af': {'shift_x': 2.0, 'shift_y': 0.0}},\n",
       "                          'Cycle5': {'norm': {'shift_x': -3.0, 'shift_y': 7.0},\n",
       "                           'af': {'shift_x': -4.0, 'shift_y': 0.0}},\n",
       "                          'Cycle6': {'norm': {'shift_x': -6.0, 'shift_y': 3.0},\n",
       "                           'af': {'shift_x': 19.0, 'shift_y': -15.0}},\n",
       "                          'Cycle7': {'norm': {'shift_x': 13.0,\n",
       "                            'shift_y': -15.0},\n",
       "                           'af': {'shift_x': 10.0, 'shift_y': -25.0}},\n",
       "                          'Cycle8': {'norm': {'shift_x': 9.0,\n",
       "                            'shift_y': -20.0},\n",
       "                           'af': {'shift_x': 1.0, 'shift_y': -7.0}},\n",
       "                          'Cycle9': {'norm': {'shift_x': 5.0, 'shift_y': 7.0},\n",
       "                           'af': {'shift_x': 7.0, 'shift_y': 4.0}},\n",
       "                          'Cycle10': {'norm': {'shift_x': 3.0,\n",
       "                            'shift_y': 17.0},\n",
       "                           'af': {'shift_x': 4.0, 'shift_y': 18.0}},\n",
       "                          'Cycle11': {'norm': {'shift_x': -9.0,\n",
       "                            'shift_y': -50.0}},\n",
       "                          'Cycle1': {'af': {'shift_x': 0.0, 'shift_y': -1.0}},\n",
       "                          'max': {'max_shift_x': 570,\n",
       "                           'min_shift_x': -19,\n",
       "                           'max_shift_y': 23,\n",
       "                           'min_shift_y': -50},\n",
       "                          'norm': {}}),\n",
       "             50: defaultdict(dict,\n",
       "                         {'Cycle2': {'norm': {'shift_x': 0.0, 'shift_y': -4.0},\n",
       "                           'af': {'shift_x': -274.0, 'shift_y': -506.0}},\n",
       "                          'Cycle3': {'norm': {'shift_x': -16.0,\n",
       "                            'shift_y': 21.0},\n",
       "                           'af': {'shift_x': -20.0, 'shift_y': -7.0}},\n",
       "                          'Cycle4': {'norm': {'shift_x': -11.0,\n",
       "                            'shift_y': -23.0},\n",
       "                           'af': {'shift_x': 0.0, 'shift_y': -2.0}},\n",
       "                          'Cycle5': {'norm': {'shift_x': -9.0, 'shift_y': 6.0},\n",
       "                           'af': {'shift_x': -9.0, 'shift_y': 0.0}},\n",
       "                          'Cycle6': {'norm': {'shift_x': -11.0,\n",
       "                            'shift_y': 3.0},\n",
       "                           'af': {'shift_x': 19.0, 'shift_y': -17.0}},\n",
       "                          'Cycle7': {'norm': {'shift_x': 12.0,\n",
       "                            'shift_y': -15.0},\n",
       "                           'af': {'shift_x': 10.0, 'shift_y': -25.0}},\n",
       "                          'Cycle8': {'norm': {'shift_x': 8.0,\n",
       "                            'shift_y': -20.0},\n",
       "                           'af': {'shift_x': 0.0, 'shift_y': -9.0}},\n",
       "                          'Cycle9': {'norm': {'shift_x': 2.0, 'shift_y': 2.0},\n",
       "                           'af': {'shift_x': 4.0, 'shift_y': 0.0}},\n",
       "                          'Cycle10': {'norm': {'shift_x': 0.0,\n",
       "                            'shift_y': 13.0},\n",
       "                           'af': {'shift_x': 1.0, 'shift_y': 14.0}},\n",
       "                          'Cycle11': {'norm': {'shift_x': -13.0,\n",
       "                            'shift_y': -50.0}},\n",
       "                          'Cycle1': {'af': {'shift_x': 0.0, 'shift_y': -1.0}},\n",
       "                          'max': {'max_shift_x': 19,\n",
       "                           'min_shift_x': -274,\n",
       "                           'max_shift_y': 21,\n",
       "                           'min_shift_y': -506},\n",
       "                          'norm': {}}),\n",
       "             51: defaultdict(dict,\n",
       "                         {'Cycle2': {'norm': {'shift_x': 0.0, 'shift_y': -4.0},\n",
       "                           'af': {'shift_x': 368.0, 'shift_y': -356.0}},\n",
       "                          'Cycle3': {'norm': {'shift_x': -14.0,\n",
       "                            'shift_y': 17.0},\n",
       "                           'af': {'shift_x': -24.0, 'shift_y': -7.0}},\n",
       "                          'Cycle4': {'norm': {'shift_x': -11.0,\n",
       "                            'shift_y': -24.0},\n",
       "                           'af': {'shift_x': 0.0, 'shift_y': -4.0}},\n",
       "                          'Cycle5': {'norm': {'shift_x': -9.0, 'shift_y': 0.0},\n",
       "                           'af': {'shift_x': -10.0, 'shift_y': -6.0}},\n",
       "                          'Cycle6': {'norm': {'shift_x': -12.0,\n",
       "                            'shift_y': -3.0},\n",
       "                           'af': {'shift_x': 18.0, 'shift_y': -18.0}},\n",
       "                          'Cycle7': {'norm': {'shift_x': 10.0,\n",
       "                            'shift_y': -15.0},\n",
       "                           'af': {'shift_x': 8.0, 'shift_y': -25.0}},\n",
       "                          'Cycle8': {'norm': {'shift_x': 6.0,\n",
       "                            'shift_y': -20.0},\n",
       "                           'af': {'shift_x': 0.0, 'shift_y': -13.0}},\n",
       "                          'Cycle9': {'norm': {'shift_x': 3.0, 'shift_y': 0.0},\n",
       "                           'af': {'shift_x': 5.0, 'shift_y': -3.0}},\n",
       "                          'Cycle10': {'norm': {'shift_x': 1.0, 'shift_y': 8.0},\n",
       "                           'af': {'shift_x': 1.0, 'shift_y': 10.0}},\n",
       "                          'Cycle11': {'norm': {'shift_x': -13.0,\n",
       "                            'shift_y': -50.0}},\n",
       "                          'Cycle1': {'af': {'shift_x': 0.0, 'shift_y': -2.0}},\n",
       "                          'max': {'max_shift_x': 368,\n",
       "                           'min_shift_x': -24,\n",
       "                           'max_shift_y': 17,\n",
       "                           'min_shift_y': -356},\n",
       "                          'norm': {}}),\n",
       "             52: defaultdict(dict,\n",
       "                         {'Cycle2': {'norm': {'shift_x': 0.0, 'shift_y': -3.0},\n",
       "                           'af': {'shift_x': 590.0, 'shift_y': 126.0}},\n",
       "                          'Cycle3': {'norm': {'shift_x': -19.0,\n",
       "                            'shift_y': 12.0},\n",
       "                           'af': {'shift_x': -21.0, 'shift_y': -8.0}},\n",
       "                          'Cycle4': {'norm': {'shift_x': -10.0,\n",
       "                            'shift_y': -24.0},\n",
       "                           'af': {'shift_x': -5.0, 'shift_y': -8.0}},\n",
       "                          'Cycle5': {'norm': {'shift_x': -19.0,\n",
       "                            'shift_y': -4.0},\n",
       "                           'af': {'shift_x': -20.0, 'shift_y': -11.0}},\n",
       "                          'Cycle6': {'norm': {'shift_x': -21.0,\n",
       "                            'shift_y': -7.0},\n",
       "                           'af': {'shift_x': 13.0, 'shift_y': -22.0}},\n",
       "                          'Cycle7': {'norm': {'shift_x': 6.0,\n",
       "                            'shift_y': -17.0},\n",
       "                           'af': {'shift_x': 5.0, 'shift_y': -27.0}},\n",
       "                          'Cycle8': {'norm': {'shift_x': 2.0,\n",
       "                            'shift_y': -22.0},\n",
       "                           'af': {'shift_x': -1.0, 'shift_y': -16.0}},\n",
       "                          'Cycle9': {'norm': {'shift_x': 1.0, 'shift_y': -4.0},\n",
       "                           'af': {'shift_x': 3.0, 'shift_y': -7.0}},\n",
       "                          'Cycle10': {'norm': {'shift_x': -1.0,\n",
       "                            'shift_y': 5.0},\n",
       "                           'af': {'shift_x': 0.0, 'shift_y': 7.0}},\n",
       "                          'Cycle11': {'norm': {'shift_x': -15.0,\n",
       "                            'shift_y': -52.0}},\n",
       "                          'Cycle1': {'af': {'shift_x': 0.0, 'shift_y': -1.0}},\n",
       "                          'max': {'max_shift_x': 590,\n",
       "                           'min_shift_x': -21,\n",
       "                           'max_shift_y': 126,\n",
       "                           'min_shift_y': -52},\n",
       "                          'norm': {}}),\n",
       "             53: defaultdict(dict,\n",
       "                         {'Cycle2': {'norm': {'shift_x': 0.0, 'shift_y': -4.0},\n",
       "                           'af': {'shift_x': 348.0, 'shift_y': -683.0}},\n",
       "                          'Cycle3': {'norm': {'shift_x': -25.0,\n",
       "                            'shift_y': 7.0},\n",
       "                           'af': {'shift_x': -20.0, 'shift_y': -9.0}},\n",
       "                          'Cycle4': {'norm': {'shift_x': -11.0,\n",
       "                            'shift_y': -24.0},\n",
       "                           'af': {'shift_x': -12.0, 'shift_y': -10.0}},\n",
       "                          'Cycle5': {'norm': {'shift_x': -21.0,\n",
       "                            'shift_y': -9.0},\n",
       "                           'af': {'shift_x': -22.0, 'shift_y': -16.0}},\n",
       "                          'Cycle6': {'norm': {'shift_x': -24.0,\n",
       "                            'shift_y': -13.0},\n",
       "                           'af': {'shift_x': 11.0, 'shift_y': -23.0}},\n",
       "                          'Cycle7': {'norm': {'shift_x': 2.0,\n",
       "                            'shift_y': -18.0},\n",
       "                           'af': {'shift_x': 1.0, 'shift_y': -28.0}},\n",
       "                          'Cycle8': {'norm': {'shift_x': -2.0,\n",
       "                            'shift_y': -23.0},\n",
       "                           'af': {'shift_x': -5.0, 'shift_y': -20.0}},\n",
       "                          'Cycle9': {'norm': {'shift_x': -3.0,\n",
       "                            'shift_y': -6.0},\n",
       "                           'af': {'shift_x': -1.0, 'shift_y': -9.0}},\n",
       "                          'Cycle10': {'norm': {'shift_x': -6.0,\n",
       "                            'shift_y': 2.0},\n",
       "                           'af': {'shift_x': -5.0, 'shift_y': 3.0}},\n",
       "                          'Cycle11': {'norm': {'shift_x': -18.0,\n",
       "                            'shift_y': -53.0}},\n",
       "                          'Cycle1': {'af': {'shift_x': 0.0, 'shift_y': -1.0}},\n",
       "                          'max': {'max_shift_x': 348,\n",
       "                           'min_shift_x': -25,\n",
       "                           'max_shift_y': 7,\n",
       "                           'min_shift_y': -683},\n",
       "                          'norm': {}}),\n",
       "             54: defaultdict(dict,\n",
       "                         {'Cycle2': {'norm': {'shift_x': 0.0, 'shift_y': -2.0},\n",
       "                           'af': {'shift_x': -16.0, 'shift_y': 265.0}},\n",
       "                          'Cycle3': {'norm': {'shift_x': -14.0,\n",
       "                            'shift_y': 4.0},\n",
       "                           'af': {'shift_x': -22.0, 'shift_y': -8.0}},\n",
       "                          'Cycle4': {'norm': {'shift_x': -12.0,\n",
       "                            'shift_y': -22.0},\n",
       "                           'af': {'shift_x': 0.0, 'shift_y': -13.0}},\n",
       "                          'Cycle5': {'norm': {'shift_x': -6.0,\n",
       "                            'shift_y': -13.0},\n",
       "                           'af': {'shift_x': -9.0, 'shift_y': -20.0}},\n",
       "                          'Cycle6': {'norm': {'shift_x': -10.0,\n",
       "                            'shift_y': -17.0},\n",
       "                           'af': {'shift_x': 21.0, 'shift_y': -22.0}},\n",
       "                          'Cycle7': {'norm': {'shift_x': 10.0,\n",
       "                            'shift_y': -19.0},\n",
       "                           'af': {'shift_x': 9.0, 'shift_y': -29.0}},\n",
       "                          'Cycle8': {'norm': {'shift_x': 6.0,\n",
       "                            'shift_y': -24.0},\n",
       "                           'af': {'shift_x': 0.0, 'shift_y': -24.0}},\n",
       "                          'Cycle9': {'norm': {'shift_x': 1.0, 'shift_y': -8.0},\n",
       "                           'af': {'shift_x': 3.0, 'shift_y': -11.0}},\n",
       "                          'Cycle10': {'norm': {'shift_x': 0.0, 'shift_y': 0.0},\n",
       "                           'af': {'shift_x': 0.0, 'shift_y': 1.0}},\n",
       "                          'Cycle11': {'norm': {'shift_x': -12.0,\n",
       "                            'shift_y': -51.0}},\n",
       "                          'Cycle1': {'af': {'shift_x': 0.0, 'shift_y': 0.0}},\n",
       "                          'max': {'max_shift_x': 21,\n",
       "                           'min_shift_x': -22,\n",
       "                           'max_shift_y': 265,\n",
       "                           'min_shift_y': -51},\n",
       "                          'norm': {}}),\n",
       "             55: defaultdict(dict,\n",
       "                         {'Cycle2': {'norm': {'shift_x': 0.0, 'shift_y': -3.0},\n",
       "                           'af': {'shift_x': 943.0, 'shift_y': -124.0}},\n",
       "                          'Cycle3': {'norm': {'shift_x': -15.0,\n",
       "                            'shift_y': 0.0},\n",
       "                           'af': {'shift_x': -24.0, 'shift_y': -9.0}},\n",
       "                          'Cycle4': {'norm': {'shift_x': -13.0,\n",
       "                            'shift_y': -22.0},\n",
       "                           'af': {'shift_x': 1.0, 'shift_y': -17.0}},\n",
       "                          'Cycle5': {'norm': {'shift_x': -8.0,\n",
       "                            'shift_y': -20.0},\n",
       "                           'af': {'shift_x': -11.0, 'shift_y': -26.0}},\n",
       "                          'Cycle6': {'norm': {'shift_x': -12.0,\n",
       "                            'shift_y': -23.0},\n",
       "                           'af': {'shift_x': 19.0, 'shift_y': -25.0}},\n",
       "                          'Cycle7': {'norm': {'shift_x': 11.0,\n",
       "                            'shift_y': -21.0},\n",
       "                           'af': {'shift_x': 9.0, 'shift_y': -31.0}},\n",
       "                          'Cycle8': {'norm': {'shift_x': 7.0,\n",
       "                            'shift_y': -25.0},\n",
       "                           'af': {'shift_x': -1.0, 'shift_y': -29.0}},\n",
       "                          'Cycle9': {'norm': {'shift_x': 1.0,\n",
       "                            'shift_y': -14.0},\n",
       "                           'af': {'shift_x': 3.0, 'shift_y': -16.0}},\n",
       "                          'Cycle10': {'norm': {'shift_x': 0.0,\n",
       "                            'shift_y': -4.0},\n",
       "                           'af': {'shift_x': 0.0, 'shift_y': -2.0}},\n",
       "                          'Cycle11': {'norm': {'shift_x': -16.0,\n",
       "                            'shift_y': -54.0}},\n",
       "                          'Cycle1': {'af': {'shift_x': 0.0, 'shift_y': -1.0}},\n",
       "                          'max': {'max_shift_x': 943,\n",
       "                           'min_shift_x': -24,\n",
       "                           'max_shift_y': 0,\n",
       "                           'min_shift_y': -124},\n",
       "                          'norm': {}}),\n",
       "             56: defaultdict(dict,\n",
       "                         {'Cycle2': {'norm': {'shift_x': 0.0, 'shift_y': -5.0},\n",
       "                           'af': {'shift_x': -509.0, 'shift_y': 442.0}},\n",
       "                          'Cycle3': {'norm': {'shift_x': -25.0,\n",
       "                            'shift_y': -3.0},\n",
       "                           'af': {'shift_x': -23.0, 'shift_y': -8.0}},\n",
       "                          'Cycle4': {'norm': {'shift_x': -13.0,\n",
       "                            'shift_y': -24.0},\n",
       "                           'af': {'shift_x': -11.0, 'shift_y': -19.0}},\n",
       "                          'Cycle5': {'norm': {'shift_x': -18.0,\n",
       "                            'shift_y': -27.0},\n",
       "                           'af': {'shift_x': -22.0, 'shift_y': -32.0}},\n",
       "                          'Cycle6': {'norm': {'shift_x': -24.0,\n",
       "                            'shift_y': -29.0},\n",
       "                           'af': {'shift_x': 9.0, 'shift_y': -26.0}},\n",
       "                          'Cycle7': {'norm': {'shift_x': 1.0,\n",
       "                            'shift_y': -21.0},\n",
       "                           'af': {'shift_x': 0.0, 'shift_y': -30.0}},\n",
       "                          'Cycle8': {'norm': {'shift_x': -1.0,\n",
       "                            'shift_y': -25.0},\n",
       "                           'af': {'shift_x': -6.0, 'shift_y': -33.0}},\n",
       "                          'Cycle9': {'norm': {'shift_x': -3.0,\n",
       "                            'shift_y': -16.0},\n",
       "                           'af': {'shift_x': -1.0, 'shift_y': -19.0}},\n",
       "                          'Cycle10': {'norm': {'shift_x': -6.0,\n",
       "                            'shift_y': -7.0},\n",
       "                           'af': {'shift_x': -4.0, 'shift_y': -6.0}},\n",
       "                          'Cycle11': {'norm': {'shift_x': -20.0,\n",
       "                            'shift_y': -52.0}},\n",
       "                          'Cycle1': {'af': {'shift_x': 0.0, 'shift_y': -3.0}},\n",
       "                          'max': {'max_shift_x': 9,\n",
       "                           'min_shift_x': -509,\n",
       "                           'max_shift_y': 442,\n",
       "                           'min_shift_y': -52},\n",
       "                          'norm': {}}),\n",
       "             57: defaultdict(dict,\n",
       "                         {'Cycle2': {'norm': {'shift_x': 0.0, 'shift_y': -1.0},\n",
       "                           'af': {'shift_x': -930.0, 'shift_y': 284.0}},\n",
       "                          'Cycle3': {'norm': {'shift_x': -26.0,\n",
       "                            'shift_y': 3.0},\n",
       "                           'af': {'shift_x': -24.0, 'shift_y': -4.0}},\n",
       "                          'Cycle4': {'norm': {'shift_x': -12.0,\n",
       "                            'shift_y': -19.0},\n",
       "                           'af': {'shift_x': -12.0, 'shift_y': -14.0}},\n",
       "                          'Cycle5': {'norm': {'shift_x': -19.0,\n",
       "                            'shift_y': -19.0},\n",
       "                           'af': {'shift_x': -24.0, 'shift_y': -25.0}},\n",
       "                          'Cycle6': {'norm': {'shift_x': -26.0,\n",
       "                            'shift_y': -22.0},\n",
       "                           'af': {'shift_x': 6.0, 'shift_y': -20.0}},\n",
       "                          'Cycle7': {'norm': {'shift_x': 0.0,\n",
       "                            'shift_y': -18.0},\n",
       "                           'af': {'shift_x': 0.0, 'shift_y': -28.0}},\n",
       "                          'Cycle8': {'norm': {'shift_x': -2.0,\n",
       "                            'shift_y': -22.0},\n",
       "                           'af': {'shift_x': -5.0, 'shift_y': -27.0}},\n",
       "                          'Cycle9': {'norm': {'shift_x': -3.0,\n",
       "                            'shift_y': -10.0},\n",
       "                           'af': {'shift_x': -1.0, 'shift_y': -13.0}},\n",
       "                          'Cycle10': {'norm': {'shift_x': -6.0,\n",
       "                            'shift_y': 0.0},\n",
       "                           'af': {'shift_x': -5.0, 'shift_y': 0.0}},\n",
       "                          'Cycle11': {'norm': {'shift_x': -16.0,\n",
       "                            'shift_y': -51.0}},\n",
       "                          'Cycle1': {'af': {'shift_x': 0.0, 'shift_y': 0.0}},\n",
       "                          'max': {'max_shift_x': 6,\n",
       "                           'min_shift_x': -930,\n",
       "                           'max_shift_y': 284,\n",
       "                           'min_shift_y': -51},\n",
       "                          'norm': {}}),\n",
       "             58: defaultdict(dict,\n",
       "                         {'Cycle2': {'norm': {'shift_x': 0.0, 'shift_y': -4.0},\n",
       "                           'af': {'shift_x': 954.0, 'shift_y': -75.0}},\n",
       "                          'Cycle3': {'norm': {'shift_x': -17.0,\n",
       "                            'shift_y': 6.0},\n",
       "                           'af': {'shift_x': -24.0, 'shift_y': -5.0}},\n",
       "                          'Cycle4': {'norm': {'shift_x': -15.0,\n",
       "                            'shift_y': -21.0},\n",
       "                           'af': {'shift_x': 0.0, 'shift_y': -13.0}},\n",
       "                          'Cycle5': {'norm': {'shift_x': -10.0,\n",
       "                            'shift_y': -16.0},\n",
       "                           'af': {'shift_x': -13.0, 'shift_y': -23.0}},\n",
       "                          'Cycle6': {'norm': {'shift_x': -15.0,\n",
       "                            'shift_y': -20.0},\n",
       "                           'af': {'shift_x': 19.0, 'shift_y': -21.0}},\n",
       "                          'Cycle7': {'norm': {'shift_x': 10.0,\n",
       "                            'shift_y': -19.0},\n",
       "                           'af': {'shift_x': 8.0, 'shift_y': -28.0}},\n",
       "                          'Cycle8': {'norm': {'shift_x': 6.0,\n",
       "                            'shift_y': -23.0},\n",
       "                           'af': {'shift_x': -1.0, 'shift_y': -26.0}},\n",
       "                          'Cycle9': {'norm': {'shift_x': 0.0,\n",
       "                            'shift_y': -10.0},\n",
       "                           'af': {'shift_x': 1.0, 'shift_y': -12.0}},\n",
       "                          'Cycle10': {'norm': {'shift_x': -2.0,\n",
       "                            'shift_y': 0.0},\n",
       "                           'af': {'shift_x': -1.0, 'shift_y': 0.0}},\n",
       "                          'Cycle11': {'norm': {'shift_x': -14.0,\n",
       "                            'shift_y': -54.0}},\n",
       "                          'Cycle1': {'af': {'shift_x': 0.0, 'shift_y': -1.0}},\n",
       "                          'max': {'max_shift_x': 954,\n",
       "                           'min_shift_x': -24,\n",
       "                           'max_shift_y': 6,\n",
       "                           'min_shift_y': -75},\n",
       "                          'norm': {}}),\n",
       "             59: defaultdict(dict,\n",
       "                         {'Cycle2': {'norm': {'shift_x': 0.0, 'shift_y': -2.0},\n",
       "                           'af': {'shift_x': -777.0, 'shift_y': -206.0}},\n",
       "                          'Cycle3': {'norm': {'shift_x': -18.0,\n",
       "                            'shift_y': 10.0},\n",
       "                           'af': {'shift_x': -22.0, 'shift_y': -6.0}},\n",
       "                          'Cycle4': {'norm': {'shift_x': -13.0,\n",
       "                            'shift_y': -19.0},\n",
       "                           'af': {'shift_x': -3.0, 'shift_y': -11.0}},\n",
       "                          'Cycle5': {'norm': {'shift_x': -12.0,\n",
       "                            'shift_y': -10.0},\n",
       "                           'af': {'shift_x': -13.0, 'shift_y': -16.0}},\n",
       "                          'Cycle6': {'norm': {'shift_x': -15.0,\n",
       "                            'shift_y': -13.0},\n",
       "                           'af': {'shift_x': 20.0, 'shift_y': -20.0}},\n",
       "                          'Cycle7': {'norm': {'shift_x': 11.0,\n",
       "                            'shift_y': -18.0},\n",
       "                           'af': {'shift_x': 10.0, 'shift_y': -28.0}},\n",
       "                          'Cycle8': {'norm': {'shift_x': 8.0,\n",
       "                            'shift_y': -22.0},\n",
       "                           'af': {'shift_x': -2.0, 'shift_y': -21.0}},\n",
       "                          'Cycle9': {'norm': {'shift_x': 0.0, 'shift_y': -6.0},\n",
       "                           'af': {'shift_x': 1.0, 'shift_y': -9.0}},\n",
       "                          'Cycle10': {'norm': {'shift_x': -3.0,\n",
       "                            'shift_y': 2.0},\n",
       "                           'af': {'shift_x': -2.0, 'shift_y': 4.0}},\n",
       "                          'Cycle11': {'norm': {'shift_x': -16.0,\n",
       "                            'shift_y': -54.0}},\n",
       "                          'Cycle1': {'af': {'shift_x': 0.0, 'shift_y': 0.0}},\n",
       "                          'max': {'max_shift_x': 20,\n",
       "                           'min_shift_x': -777,\n",
       "                           'max_shift_y': 10,\n",
       "                           'min_shift_y': -206},\n",
       "                          'norm': {}}),\n",
       "             60: defaultdict(dict,\n",
       "                         {'Cycle2': {'norm': {'shift_x': 0.0, 'shift_y': -4.0},\n",
       "                           'af': {'shift_x': -351.0, 'shift_y': 341.0}},\n",
       "                          'Cycle3': {'norm': {'shift_x': -28.0,\n",
       "                            'shift_y': 12.0},\n",
       "                           'af': {'shift_x': -23.0, 'shift_y': -6.0}},\n",
       "                          'Cycle4': {'norm': {'shift_x': -10.0,\n",
       "                            'shift_y': -21.0},\n",
       "                           'af': {'shift_x': -15.0, 'shift_y': -10.0}},\n",
       "                          'Cycle5': {'norm': {'shift_x': -27.0,\n",
       "                            'shift_y': -8.0},\n",
       "                           'af': {'shift_x': -28.0, 'shift_y': -14.0}},\n",
       "                          'Cycle6': {'norm': {'shift_x': -29.0,\n",
       "                            'shift_y': -11.0},\n",
       "                           'af': {'shift_x': 7.0, 'shift_y': -20.0}},\n",
       "                          'Cycle7': {'norm': {'shift_x': -1.0,\n",
       "                            'shift_y': -18.0},\n",
       "                           'af': {'shift_x': -2.0, 'shift_y': -28.0}},\n",
       "                          'Cycle8': {'norm': {'shift_x': -3.0,\n",
       "                            'shift_y': -22.0},\n",
       "                           'af': {'shift_x': -9.0, 'shift_y': -21.0}},\n",
       "                          'Cycle9': {'norm': {'shift_x': -6.0,\n",
       "                            'shift_y': -4.0},\n",
       "                           'af': {'shift_x': -5.0, 'shift_y': -7.0}},\n",
       "                          'Cycle10': {'norm': {'shift_x': -9.0,\n",
       "                            'shift_y': 4.0},\n",
       "                           'af': {'shift_x': -9.0, 'shift_y': 6.0}},\n",
       "                          'Cycle11': {'norm': {'shift_x': -19.0,\n",
       "                            'shift_y': -53.0}},\n",
       "                          'Cycle1': {'af': {'shift_x': 0.0, 'shift_y': -1.0}},\n",
       "                          'max': {'max_shift_x': 7,\n",
       "                           'min_shift_x': -351,\n",
       "                           'max_shift_y': 341,\n",
       "                           'min_shift_y': -53},\n",
       "                          'norm': {}}),\n",
       "             61: defaultdict(dict,\n",
       "                         {'Cycle2': {'norm': {'shift_x': 0.0, 'shift_y': -2.0},\n",
       "                           'af': {'shift_x': -100.0, 'shift_y': -613.0}},\n",
       "                          'Cycle3': {'norm': {'shift_x': -25.0,\n",
       "                            'shift_y': 17.0},\n",
       "                           'af': {'shift_x': -23.0, 'shift_y': -7.0}},\n",
       "                          'Cycle4': {'norm': {'shift_x': -13.0,\n",
       "                            'shift_y': -21.0},\n",
       "                           'af': {'shift_x': -10.0, 'shift_y': -8.0}},\n",
       "                          'Cycle5': {'norm': {'shift_x': -26.0,\n",
       "                            'shift_y': -2.0},\n",
       "                           'af': {'shift_x': -26.0, 'shift_y': -8.0}},\n",
       "                          'Cycle6': {'norm': {'shift_x': -28.0,\n",
       "                            'shift_y': -5.0},\n",
       "                           'af': {'shift_x': 11.0, 'shift_y': -21.0}},\n",
       "                          'Cycle7': {'norm': {'shift_x': 2.0,\n",
       "                            'shift_y': -19.0},\n",
       "                           'af': {'shift_x': 1.0, 'shift_y': -27.0}},\n",
       "                          'Cycle8': {'norm': {'shift_x': -1.0,\n",
       "                            'shift_y': -22.0},\n",
       "                           'af': {'shift_x': -6.0, 'shift_y': -16.0}},\n",
       "                          'Cycle9': {'norm': {'shift_x': -4.0,\n",
       "                            'shift_y': -2.0},\n",
       "                           'af': {'shift_x': -3.0, 'shift_y': -4.0}},\n",
       "                          'Cycle10': {'norm': {'shift_x': -7.0,\n",
       "                            'shift_y': 8.0},\n",
       "                           'af': {'shift_x': -7.0, 'shift_y': 10.0}},\n",
       "                          'Cycle11': {'norm': {'shift_x': -14.0,\n",
       "                            'shift_y': -56.0}},\n",
       "                          'Cycle1': {'af': {'shift_x': -1.0, 'shift_y': 0.0}},\n",
       "                          'max': {'max_shift_x': 11,\n",
       "                           'min_shift_x': -100,\n",
       "                           'max_shift_y': 17,\n",
       "                           'min_shift_y': -613},\n",
       "                          'norm': {}}),\n",
       "             62: defaultdict(dict,\n",
       "                         {'Cycle2': {'norm': {'shift_x': 0.0, 'shift_y': -1.0},\n",
       "                           'af': {'shift_x': -638.0, 'shift_y': -7.0}},\n",
       "                          'Cycle3': {'norm': {'shift_x': -16.0,\n",
       "                            'shift_y': 23.0},\n",
       "                           'af': {'shift_x': -23.0, 'shift_y': -5.0}},\n",
       "                          'Cycle4': {'norm': {'shift_x': -13.0,\n",
       "                            'shift_y': -20.0},\n",
       "                           'af': {'shift_x': -1.0, 'shift_y': -4.0}},\n",
       "                          'Cycle5': {'norm': {'shift_x': -12.0,\n",
       "                            'shift_y': 3.0},\n",
       "                           'af': {'shift_x': -13.0, 'shift_y': -1.0}},\n",
       "                          'Cycle6': {'norm': {'shift_x': -14.0,\n",
       "                            'shift_y': 0.0},\n",
       "                           'af': {'shift_x': 20.0, 'shift_y': -18.0}},\n",
       "                          'Cycle7': {'norm': {'shift_x': 11.0,\n",
       "                            'shift_y': -17.0},\n",
       "                           'af': {'shift_x': 10.0, 'shift_y': -26.0}},\n",
       "                          'Cycle8': {'norm': {'shift_x': 8.0,\n",
       "                            'shift_y': -20.0},\n",
       "                           'af': {'shift_x': -1.0, 'shift_y': -12.0}},\n",
       "                          'Cycle9': {'norm': {'shift_x': 1.0, 'shift_y': 2.0},\n",
       "                           'af': {'shift_x': 4.0, 'shift_y': 1.0}},\n",
       "                          'Cycle10': {'norm': {'shift_x': -1.0,\n",
       "                            'shift_y': 14.0},\n",
       "                           'af': {'shift_x': 0.0, 'shift_y': 15.0}},\n",
       "                          'Cycle11': {'norm': {'shift_x': -16.0,\n",
       "                            'shift_y': -52.0}},\n",
       "                          'Cycle1': {'af': {'shift_x': 0.0, 'shift_y': 0.0}},\n",
       "                          'max': {'max_shift_x': 20,\n",
       "                           'min_shift_x': -638,\n",
       "                           'max_shift_y': 23,\n",
       "                           'min_shift_y': -52},\n",
       "                          'norm': {}}),\n",
       "             63: defaultdict(dict,\n",
       "                         {'Cycle2': {'norm': {'shift_x': 0.0, 'shift_y': -3.0},\n",
       "                           'af': {'shift_x': 179.0, 'shift_y': 341.0}},\n",
       "                          'Cycle3': {'norm': {'shift_x': -19.0,\n",
       "                            'shift_y': 26.0},\n",
       "                           'af': {'shift_x': -24.0, 'shift_y': -4.0}},\n",
       "                          'Cycle4': {'norm': {'shift_x': -12.0,\n",
       "                            'shift_y': -22.0},\n",
       "                           'af': {'shift_x': -2.0, 'shift_y': -2.0}},\n",
       "                          'Cycle5': {'norm': {'shift_x': -16.0,\n",
       "                            'shift_y': 7.0},\n",
       "                           'af': {'shift_x': -16.0, 'shift_y': 1.0}},\n",
       "                          'Cycle6': {'norm': {'shift_x': -18.0,\n",
       "                            'shift_y': 5.0},\n",
       "                           'af': {'shift_x': 16.0, 'shift_y': -18.0}},\n",
       "                          'Cycle7': {'norm': {'shift_x': 10.0,\n",
       "                            'shift_y': -16.0},\n",
       "                           'af': {'shift_x': 8.0, 'shift_y': -25.0}},\n",
       "                          'Cycle8': {'norm': {'shift_x': 6.0,\n",
       "                            'shift_y': -19.0},\n",
       "                           'af': {'shift_x': 0.0, 'shift_y': -11.0}},\n",
       "                          'Cycle9': {'norm': {'shift_x': 0.0, 'shift_y': 5.0},\n",
       "                           'af': {'shift_x': 1.0, 'shift_y': 3.0}},\n",
       "                          'Cycle10': {'norm': {'shift_x': -2.0,\n",
       "                            'shift_y': 16.0},\n",
       "                           'af': {'shift_x': -2.0, 'shift_y': 17.0}},\n",
       "                          'Cycle11': {'norm': {'shift_x': -15.0,\n",
       "                            'shift_y': -57.0}},\n",
       "                          'Cycle1': {'af': {'shift_x': 0.0, 'shift_y': -1.0}},\n",
       "                          'max': {'max_shift_x': 179,\n",
       "                           'min_shift_x': -24,\n",
       "                           'max_shift_y': 341,\n",
       "                           'min_shift_y': -57},\n",
       "                          'norm': {}})})"
      ]
     },
     "execution_count": 101,
     "metadata": {},
     "output_type": "execute_result"
    }
   ],
   "source": [
    "shift_dict"
   ]
  },
  {
   "cell_type": "code",
   "execution_count": 110,
   "metadata": {},
   "outputs": [],
   "source": [
    "data = []\n",
    "index = []\n",
    "for k,v in shift_dict.items():\n",
    "    row = {}\n",
    "    index.append(k)\n",
    "    for loc, shift in v.items():\n",
    "        if loc != 'max' and loc != 'norm':\n",
    "            if \"norm\" in shift:\n",
    "                row[loc+'_norm_x'] = shift['norm']['shift_x'] \n",
    "                row[loc+'_norm_y'] = shift['norm']['shift_y'] \n",
    "            else:\n",
    "                row[loc+'_norm_x'] = 0\n",
    "                row[loc+'_norm_y'] = 0\n",
    "            if 'af' in shift:\n",
    "                row[loc+'_af_x'] = shift['af']['shift_x'] \n",
    "                row[loc+'_af_x'] = shift['af']['shift_y']\n",
    "            else:\n",
    "                row[loc+'_af_x'] = 0\n",
    "                row[loc+'_af_x'] = 0\n",
    "    data.append(row)"
   ]
  },
  {
   "cell_type": "code",
   "execution_count": 112,
   "metadata": {},
   "outputs": [],
   "source": [
    "pd.DataFrame(data, index=index).to_clipboard()  "
   ]
  },
  {
   "cell_type": "code",
   "execution_count": 68,
   "metadata": {
    "ExecuteTime": {
     "end_time": "2021-03-28T18:02:38.164701Z",
     "start_time": "2021-03-28T18:02:37.799316Z"
    },
    "scrolled": true
   },
   "outputs": [],
   "source": [
    "# get_shift_within_cycle(df)"
   ]
  },
  {
   "cell_type": "code",
   "execution_count": 71,
   "metadata": {},
   "outputs": [
    {
     "data": {
      "application/vnd.jupyter.widget-view+json": {
       "model_id": "fceb8a67806047c1ab1fb064422d4273",
       "version_major": 2,
       "version_minor": 0
      },
      "text/plain": [
       "location:   0%|          | 0/63 [00:00<?, ?it/s]"
      ]
     },
     "metadata": {},
     "output_type": "display_data"
    },
    {
     "data": {
      "application/vnd.jupyter.widget-view+json": {
       "model_id": "",
       "version_major": 2,
       "version_minor": 0
      },
      "text/plain": [
       "cycle:   0%|          | 0/10 [00:00<?, ?it/s]"
      ]
     },
     "metadata": {},
     "output_type": "display_data"
    },
    {
     "data": {
      "application/vnd.jupyter.widget-view+json": {
       "model_id": "",
       "version_major": 2,
       "version_minor": 0
      },
      "text/plain": [
       "cycle:   0%|          | 0/10 [00:00<?, ?it/s]"
      ]
     },
     "metadata": {},
     "output_type": "display_data"
    },
    {
     "data": {
      "application/vnd.jupyter.widget-view+json": {
       "model_id": "",
       "version_major": 2,
       "version_minor": 0
      },
      "text/plain": [
       "cycle:   0%|          | 0/10 [00:00<?, ?it/s]"
      ]
     },
     "metadata": {},
     "output_type": "display_data"
    },
    {
     "data": {
      "application/vnd.jupyter.widget-view+json": {
       "model_id": "",
       "version_major": 2,
       "version_minor": 0
      },
      "text/plain": [
       "cycle:   0%|          | 0/10 [00:00<?, ?it/s]"
      ]
     },
     "metadata": {},
     "output_type": "display_data"
    },
    {
     "data": {
      "application/vnd.jupyter.widget-view+json": {
       "model_id": "",
       "version_major": 2,
       "version_minor": 0
      },
      "text/plain": [
       "cycle:   0%|          | 0/10 [00:00<?, ?it/s]"
      ]
     },
     "metadata": {},
     "output_type": "display_data"
    },
    {
     "data": {
      "application/vnd.jupyter.widget-view+json": {
       "model_id": "",
       "version_major": 2,
       "version_minor": 0
      },
      "text/plain": [
       "cycle:   0%|          | 0/10 [00:00<?, ?it/s]"
      ]
     },
     "metadata": {},
     "output_type": "display_data"
    },
    {
     "data": {
      "application/vnd.jupyter.widget-view+json": {
       "model_id": "",
       "version_major": 2,
       "version_minor": 0
      },
      "text/plain": [
       "cycle:   0%|          | 0/10 [00:00<?, ?it/s]"
      ]
     },
     "metadata": {},
     "output_type": "display_data"
    },
    {
     "data": {
      "application/vnd.jupyter.widget-view+json": {
       "model_id": "",
       "version_major": 2,
       "version_minor": 0
      },
      "text/plain": [
       "cycle:   0%|          | 0/10 [00:00<?, ?it/s]"
      ]
     },
     "metadata": {},
     "output_type": "display_data"
    },
    {
     "data": {
      "application/vnd.jupyter.widget-view+json": {
       "model_id": "",
       "version_major": 2,
       "version_minor": 0
      },
      "text/plain": [
       "cycle:   0%|          | 0/10 [00:00<?, ?it/s]"
      ]
     },
     "metadata": {},
     "output_type": "display_data"
    },
    {
     "data": {
      "application/vnd.jupyter.widget-view+json": {
       "model_id": "",
       "version_major": 2,
       "version_minor": 0
      },
      "text/plain": [
       "cycle:   0%|          | 0/10 [00:00<?, ?it/s]"
      ]
     },
     "metadata": {},
     "output_type": "display_data"
    },
    {
     "data": {
      "application/vnd.jupyter.widget-view+json": {
       "model_id": "",
       "version_major": 2,
       "version_minor": 0
      },
      "text/plain": [
       "cycle:   0%|          | 0/10 [00:00<?, ?it/s]"
      ]
     },
     "metadata": {},
     "output_type": "display_data"
    },
    {
     "data": {
      "application/vnd.jupyter.widget-view+json": {
       "model_id": "",
       "version_major": 2,
       "version_minor": 0
      },
      "text/plain": [
       "cycle:   0%|          | 0/10 [00:00<?, ?it/s]"
      ]
     },
     "metadata": {},
     "output_type": "display_data"
    },
    {
     "data": {
      "application/vnd.jupyter.widget-view+json": {
       "model_id": "",
       "version_major": 2,
       "version_minor": 0
      },
      "text/plain": [
       "cycle:   0%|          | 0/10 [00:00<?, ?it/s]"
      ]
     },
     "metadata": {},
     "output_type": "display_data"
    },
    {
     "data": {
      "application/vnd.jupyter.widget-view+json": {
       "model_id": "",
       "version_major": 2,
       "version_minor": 0
      },
      "text/plain": [
       "cycle:   0%|          | 0/10 [00:00<?, ?it/s]"
      ]
     },
     "metadata": {},
     "output_type": "display_data"
    },
    {
     "data": {
      "application/vnd.jupyter.widget-view+json": {
       "model_id": "",
       "version_major": 2,
       "version_minor": 0
      },
      "text/plain": [
       "cycle:   0%|          | 0/10 [00:00<?, ?it/s]"
      ]
     },
     "metadata": {},
     "output_type": "display_data"
    },
    {
     "data": {
      "application/vnd.jupyter.widget-view+json": {
       "model_id": "",
       "version_major": 2,
       "version_minor": 0
      },
      "text/plain": [
       "cycle:   0%|          | 0/10 [00:00<?, ?it/s]"
      ]
     },
     "metadata": {},
     "output_type": "display_data"
    },
    {
     "data": {
      "application/vnd.jupyter.widget-view+json": {
       "model_id": "",
       "version_major": 2,
       "version_minor": 0
      },
      "text/plain": [
       "cycle:   0%|          | 0/10 [00:00<?, ?it/s]"
      ]
     },
     "metadata": {},
     "output_type": "display_data"
    },
    {
     "data": {
      "application/vnd.jupyter.widget-view+json": {
       "model_id": "",
       "version_major": 2,
       "version_minor": 0
      },
      "text/plain": [
       "cycle:   0%|          | 0/10 [00:00<?, ?it/s]"
      ]
     },
     "metadata": {},
     "output_type": "display_data"
    },
    {
     "data": {
      "application/vnd.jupyter.widget-view+json": {
       "model_id": "",
       "version_major": 2,
       "version_minor": 0
      },
      "text/plain": [
       "cycle:   0%|          | 0/10 [00:00<?, ?it/s]"
      ]
     },
     "metadata": {},
     "output_type": "display_data"
    },
    {
     "data": {
      "application/vnd.jupyter.widget-view+json": {
       "model_id": "",
       "version_major": 2,
       "version_minor": 0
      },
      "text/plain": [
       "cycle:   0%|          | 0/10 [00:00<?, ?it/s]"
      ]
     },
     "metadata": {},
     "output_type": "display_data"
    },
    {
     "data": {
      "application/vnd.jupyter.widget-view+json": {
       "model_id": "",
       "version_major": 2,
       "version_minor": 0
      },
      "text/plain": [
       "cycle:   0%|          | 0/10 [00:00<?, ?it/s]"
      ]
     },
     "metadata": {},
     "output_type": "display_data"
    },
    {
     "data": {
      "application/vnd.jupyter.widget-view+json": {
       "model_id": "",
       "version_major": 2,
       "version_minor": 0
      },
      "text/plain": [
       "cycle:   0%|          | 0/10 [00:00<?, ?it/s]"
      ]
     },
     "metadata": {},
     "output_type": "display_data"
    },
    {
     "data": {
      "application/vnd.jupyter.widget-view+json": {
       "model_id": "",
       "version_major": 2,
       "version_minor": 0
      },
      "text/plain": [
       "cycle:   0%|          | 0/10 [00:00<?, ?it/s]"
      ]
     },
     "metadata": {},
     "output_type": "display_data"
    },
    {
     "data": {
      "application/vnd.jupyter.widget-view+json": {
       "model_id": "",
       "version_major": 2,
       "version_minor": 0
      },
      "text/plain": [
       "cycle:   0%|          | 0/10 [00:00<?, ?it/s]"
      ]
     },
     "metadata": {},
     "output_type": "display_data"
    },
    {
     "data": {
      "application/vnd.jupyter.widget-view+json": {
       "model_id": "",
       "version_major": 2,
       "version_minor": 0
      },
      "text/plain": [
       "cycle:   0%|          | 0/10 [00:00<?, ?it/s]"
      ]
     },
     "metadata": {},
     "output_type": "display_data"
    },
    {
     "data": {
      "application/vnd.jupyter.widget-view+json": {
       "model_id": "",
       "version_major": 2,
       "version_minor": 0
      },
      "text/plain": [
       "cycle:   0%|          | 0/10 [00:00<?, ?it/s]"
      ]
     },
     "metadata": {},
     "output_type": "display_data"
    },
    {
     "data": {
      "application/vnd.jupyter.widget-view+json": {
       "model_id": "",
       "version_major": 2,
       "version_minor": 0
      },
      "text/plain": [
       "cycle:   0%|          | 0/10 [00:00<?, ?it/s]"
      ]
     },
     "metadata": {},
     "output_type": "display_data"
    },
    {
     "data": {
      "application/vnd.jupyter.widget-view+json": {
       "model_id": "",
       "version_major": 2,
       "version_minor": 0
      },
      "text/plain": [
       "cycle:   0%|          | 0/10 [00:00<?, ?it/s]"
      ]
     },
     "metadata": {},
     "output_type": "display_data"
    },
    {
     "data": {
      "application/vnd.jupyter.widget-view+json": {
       "model_id": "",
       "version_major": 2,
       "version_minor": 0
      },
      "text/plain": [
       "cycle:   0%|          | 0/10 [00:00<?, ?it/s]"
      ]
     },
     "metadata": {},
     "output_type": "display_data"
    },
    {
     "data": {
      "application/vnd.jupyter.widget-view+json": {
       "model_id": "",
       "version_major": 2,
       "version_minor": 0
      },
      "text/plain": [
       "cycle:   0%|          | 0/10 [00:00<?, ?it/s]"
      ]
     },
     "metadata": {},
     "output_type": "display_data"
    },
    {
     "data": {
      "application/vnd.jupyter.widget-view+json": {
       "model_id": "",
       "version_major": 2,
       "version_minor": 0
      },
      "text/plain": [
       "cycle:   0%|          | 0/10 [00:00<?, ?it/s]"
      ]
     },
     "metadata": {},
     "output_type": "display_data"
    },
    {
     "data": {
      "application/vnd.jupyter.widget-view+json": {
       "model_id": "",
       "version_major": 2,
       "version_minor": 0
      },
      "text/plain": [
       "cycle:   0%|          | 0/10 [00:00<?, ?it/s]"
      ]
     },
     "metadata": {},
     "output_type": "display_data"
    },
    {
     "data": {
      "application/vnd.jupyter.widget-view+json": {
       "model_id": "",
       "version_major": 2,
       "version_minor": 0
      },
      "text/plain": [
       "cycle:   0%|          | 0/10 [00:00<?, ?it/s]"
      ]
     },
     "metadata": {},
     "output_type": "display_data"
    },
    {
     "data": {
      "application/vnd.jupyter.widget-view+json": {
       "model_id": "",
       "version_major": 2,
       "version_minor": 0
      },
      "text/plain": [
       "cycle:   0%|          | 0/10 [00:00<?, ?it/s]"
      ]
     },
     "metadata": {},
     "output_type": "display_data"
    },
    {
     "data": {
      "application/vnd.jupyter.widget-view+json": {
       "model_id": "",
       "version_major": 2,
       "version_minor": 0
      },
      "text/plain": [
       "cycle:   0%|          | 0/10 [00:00<?, ?it/s]"
      ]
     },
     "metadata": {},
     "output_type": "display_data"
    },
    {
     "data": {
      "application/vnd.jupyter.widget-view+json": {
       "model_id": "",
       "version_major": 2,
       "version_minor": 0
      },
      "text/plain": [
       "cycle:   0%|          | 0/10 [00:00<?, ?it/s]"
      ]
     },
     "metadata": {},
     "output_type": "display_data"
    },
    {
     "data": {
      "application/vnd.jupyter.widget-view+json": {
       "model_id": "",
       "version_major": 2,
       "version_minor": 0
      },
      "text/plain": [
       "cycle:   0%|          | 0/10 [00:00<?, ?it/s]"
      ]
     },
     "metadata": {},
     "output_type": "display_data"
    },
    {
     "data": {
      "application/vnd.jupyter.widget-view+json": {
       "model_id": "",
       "version_major": 2,
       "version_minor": 0
      },
      "text/plain": [
       "cycle:   0%|          | 0/10 [00:00<?, ?it/s]"
      ]
     },
     "metadata": {},
     "output_type": "display_data"
    },
    {
     "data": {
      "application/vnd.jupyter.widget-view+json": {
       "model_id": "",
       "version_major": 2,
       "version_minor": 0
      },
      "text/plain": [
       "cycle:   0%|          | 0/10 [00:00<?, ?it/s]"
      ]
     },
     "metadata": {},
     "output_type": "display_data"
    },
    {
     "data": {
      "application/vnd.jupyter.widget-view+json": {
       "model_id": "",
       "version_major": 2,
       "version_minor": 0
      },
      "text/plain": [
       "cycle:   0%|          | 0/10 [00:00<?, ?it/s]"
      ]
     },
     "metadata": {},
     "output_type": "display_data"
    },
    {
     "data": {
      "application/vnd.jupyter.widget-view+json": {
       "model_id": "",
       "version_major": 2,
       "version_minor": 0
      },
      "text/plain": [
       "cycle:   0%|          | 0/10 [00:00<?, ?it/s]"
      ]
     },
     "metadata": {},
     "output_type": "display_data"
    },
    {
     "data": {
      "application/vnd.jupyter.widget-view+json": {
       "model_id": "",
       "version_major": 2,
       "version_minor": 0
      },
      "text/plain": [
       "cycle:   0%|          | 0/10 [00:00<?, ?it/s]"
      ]
     },
     "metadata": {},
     "output_type": "display_data"
    },
    {
     "data": {
      "application/vnd.jupyter.widget-view+json": {
       "model_id": "",
       "version_major": 2,
       "version_minor": 0
      },
      "text/plain": [
       "cycle:   0%|          | 0/10 [00:00<?, ?it/s]"
      ]
     },
     "metadata": {},
     "output_type": "display_data"
    },
    {
     "data": {
      "application/vnd.jupyter.widget-view+json": {
       "model_id": "",
       "version_major": 2,
       "version_minor": 0
      },
      "text/plain": [
       "cycle:   0%|          | 0/10 [00:00<?, ?it/s]"
      ]
     },
     "metadata": {},
     "output_type": "display_data"
    },
    {
     "data": {
      "application/vnd.jupyter.widget-view+json": {
       "model_id": "",
       "version_major": 2,
       "version_minor": 0
      },
      "text/plain": [
       "cycle:   0%|          | 0/10 [00:00<?, ?it/s]"
      ]
     },
     "metadata": {},
     "output_type": "display_data"
    },
    {
     "data": {
      "application/vnd.jupyter.widget-view+json": {
       "model_id": "",
       "version_major": 2,
       "version_minor": 0
      },
      "text/plain": [
       "cycle:   0%|          | 0/10 [00:00<?, ?it/s]"
      ]
     },
     "metadata": {},
     "output_type": "display_data"
    },
    {
     "data": {
      "application/vnd.jupyter.widget-view+json": {
       "model_id": "",
       "version_major": 2,
       "version_minor": 0
      },
      "text/plain": [
       "cycle:   0%|          | 0/10 [00:00<?, ?it/s]"
      ]
     },
     "metadata": {},
     "output_type": "display_data"
    },
    {
     "data": {
      "application/vnd.jupyter.widget-view+json": {
       "model_id": "",
       "version_major": 2,
       "version_minor": 0
      },
      "text/plain": [
       "cycle:   0%|          | 0/10 [00:00<?, ?it/s]"
      ]
     },
     "metadata": {},
     "output_type": "display_data"
    },
    {
     "data": {
      "application/vnd.jupyter.widget-view+json": {
       "model_id": "",
       "version_major": 2,
       "version_minor": 0
      },
      "text/plain": [
       "cycle:   0%|          | 0/10 [00:00<?, ?it/s]"
      ]
     },
     "metadata": {},
     "output_type": "display_data"
    },
    {
     "data": {
      "application/vnd.jupyter.widget-view+json": {
       "model_id": "",
       "version_major": 2,
       "version_minor": 0
      },
      "text/plain": [
       "cycle:   0%|          | 0/10 [00:00<?, ?it/s]"
      ]
     },
     "metadata": {},
     "output_type": "display_data"
    },
    {
     "data": {
      "application/vnd.jupyter.widget-view+json": {
       "model_id": "",
       "version_major": 2,
       "version_minor": 0
      },
      "text/plain": [
       "cycle:   0%|          | 0/10 [00:00<?, ?it/s]"
      ]
     },
     "metadata": {},
     "output_type": "display_data"
    },
    {
     "data": {
      "application/vnd.jupyter.widget-view+json": {
       "model_id": "",
       "version_major": 2,
       "version_minor": 0
      },
      "text/plain": [
       "cycle:   0%|          | 0/10 [00:00<?, ?it/s]"
      ]
     },
     "metadata": {},
     "output_type": "display_data"
    },
    {
     "data": {
      "application/vnd.jupyter.widget-view+json": {
       "model_id": "",
       "version_major": 2,
       "version_minor": 0
      },
      "text/plain": [
       "cycle:   0%|          | 0/10 [00:00<?, ?it/s]"
      ]
     },
     "metadata": {},
     "output_type": "display_data"
    },
    {
     "data": {
      "application/vnd.jupyter.widget-view+json": {
       "model_id": "",
       "version_major": 2,
       "version_minor": 0
      },
      "text/plain": [
       "cycle:   0%|          | 0/10 [00:00<?, ?it/s]"
      ]
     },
     "metadata": {},
     "output_type": "display_data"
    },
    {
     "data": {
      "application/vnd.jupyter.widget-view+json": {
       "model_id": "",
       "version_major": 2,
       "version_minor": 0
      },
      "text/plain": [
       "cycle:   0%|          | 0/10 [00:00<?, ?it/s]"
      ]
     },
     "metadata": {},
     "output_type": "display_data"
    },
    {
     "data": {
      "application/vnd.jupyter.widget-view+json": {
       "model_id": "",
       "version_major": 2,
       "version_minor": 0
      },
      "text/plain": [
       "cycle:   0%|          | 0/10 [00:00<?, ?it/s]"
      ]
     },
     "metadata": {},
     "output_type": "display_data"
    },
    {
     "data": {
      "application/vnd.jupyter.widget-view+json": {
       "model_id": "",
       "version_major": 2,
       "version_minor": 0
      },
      "text/plain": [
       "cycle:   0%|          | 0/10 [00:00<?, ?it/s]"
      ]
     },
     "metadata": {},
     "output_type": "display_data"
    },
    {
     "data": {
      "application/vnd.jupyter.widget-view+json": {
       "model_id": "",
       "version_major": 2,
       "version_minor": 0
      },
      "text/plain": [
       "cycle:   0%|          | 0/10 [00:00<?, ?it/s]"
      ]
     },
     "metadata": {},
     "output_type": "display_data"
    },
    {
     "data": {
      "application/vnd.jupyter.widget-view+json": {
       "model_id": "",
       "version_major": 2,
       "version_minor": 0
      },
      "text/plain": [
       "cycle:   0%|          | 0/10 [00:00<?, ?it/s]"
      ]
     },
     "metadata": {},
     "output_type": "display_data"
    },
    {
     "data": {
      "application/vnd.jupyter.widget-view+json": {
       "model_id": "",
       "version_major": 2,
       "version_minor": 0
      },
      "text/plain": [
       "cycle:   0%|          | 0/10 [00:00<?, ?it/s]"
      ]
     },
     "metadata": {},
     "output_type": "display_data"
    },
    {
     "data": {
      "application/vnd.jupyter.widget-view+json": {
       "model_id": "",
       "version_major": 2,
       "version_minor": 0
      },
      "text/plain": [
       "cycle:   0%|          | 0/10 [00:00<?, ?it/s]"
      ]
     },
     "metadata": {},
     "output_type": "display_data"
    },
    {
     "data": {
      "application/vnd.jupyter.widget-view+json": {
       "model_id": "",
       "version_major": 2,
       "version_minor": 0
      },
      "text/plain": [
       "cycle:   0%|          | 0/10 [00:00<?, ?it/s]"
      ]
     },
     "metadata": {},
     "output_type": "display_data"
    },
    {
     "data": {
      "application/vnd.jupyter.widget-view+json": {
       "model_id": "",
       "version_major": 2,
       "version_minor": 0
      },
      "text/plain": [
       "cycle:   0%|          | 0/10 [00:00<?, ?it/s]"
      ]
     },
     "metadata": {},
     "output_type": "display_data"
    }
   ],
   "source": [
    "shift_file = data_meta / 'shift.pkl'\n",
    "\n",
    "if not shift_file.is_file():\n",
    "    shift_dict = get_shift_between_cycle(df[df.Location < 64])\n",
    "    with open(data_meta / 'shift.pkl', 'wb') as file:\n",
    "        pickle.dump(shift_dict, file)\n",
    "else: \n",
    "    with open(data_meta / 'shift.pkl', 'rb') as file:\n",
    "        shift_dict = pickle.load(file)"
   ]
  },
  {
   "cell_type": "code",
   "execution_count": 78,
   "metadata": {},
   "outputs": [
    {
     "data": {
      "text/html": [
       "<div>\n",
       "<style scoped>\n",
       "    .dataframe tbody tr th:only-of-type {\n",
       "        vertical-align: middle;\n",
       "    }\n",
       "\n",
       "    .dataframe tbody tr th {\n",
       "        vertical-align: top;\n",
       "    }\n",
       "\n",
       "    .dataframe thead th {\n",
       "        text-align: right;\n",
       "    }\n",
       "</style>\n",
       "<table border=\"1\" class=\"dataframe\">\n",
       "  <thead>\n",
       "    <tr style=\"text-align: right;\">\n",
       "      <th></th>\n",
       "      <th>Cycle</th>\n",
       "      <th>Location</th>\n",
       "      <th>Channel</th>\n",
       "      <th>Marker</th>\n",
       "      <th>Path</th>\n",
       "      <th>After_bleach</th>\n",
       "    </tr>\n",
       "  </thead>\n",
       "  <tbody>\n",
       "    <tr>\n",
       "      <th>0</th>\n",
       "      <td>Cycle1</td>\n",
       "      <td>1</td>\n",
       "      <td>CH1</td>\n",
       "      <td>Hoeschst</td>\n",
       "      <td>Y:\\coskun-lab\\Thomas\\Spatial signaling\\dataset...</td>\n",
       "      <td>False</td>\n",
       "    </tr>\n",
       "    <tr>\n",
       "      <th>2</th>\n",
       "      <td>Cycle1</td>\n",
       "      <td>1</td>\n",
       "      <td>CH2</td>\n",
       "      <td>p-EGFR</td>\n",
       "      <td>Y:\\coskun-lab\\Thomas\\Spatial signaling\\dataset...</td>\n",
       "      <td>False</td>\n",
       "    </tr>\n",
       "    <tr>\n",
       "      <th>4</th>\n",
       "      <td>Cycle10</td>\n",
       "      <td>1</td>\n",
       "      <td>CH2</td>\n",
       "      <td>Concanavalin A</td>\n",
       "      <td>Y:\\coskun-lab\\Thomas\\Spatial signaling\\dataset...</td>\n",
       "      <td>False</td>\n",
       "    </tr>\n",
       "    <tr>\n",
       "      <th>6</th>\n",
       "      <td>Cycle10</td>\n",
       "      <td>1</td>\n",
       "      <td>CH1</td>\n",
       "      <td>Hoeschst</td>\n",
       "      <td>Y:\\coskun-lab\\Thomas\\Spatial signaling\\dataset...</td>\n",
       "      <td>False</td>\n",
       "    </tr>\n",
       "    <tr>\n",
       "      <th>8</th>\n",
       "      <td>Cycle10</td>\n",
       "      <td>1</td>\n",
       "      <td>CH4</td>\n",
       "      <td>PCNA</td>\n",
       "      <td>Y:\\coskun-lab\\Thomas\\Spatial signaling\\dataset...</td>\n",
       "      <td>False</td>\n",
       "    </tr>\n",
       "  </tbody>\n",
       "</table>\n",
       "</div>"
      ],
      "text/plain": [
       "     Cycle  Location Channel          Marker  \\\n",
       "0   Cycle1         1     CH1        Hoeschst   \n",
       "2   Cycle1         1     CH2          p-EGFR   \n",
       "4  Cycle10         1     CH2  Concanavalin A   \n",
       "6  Cycle10         1     CH1        Hoeschst   \n",
       "8  Cycle10         1     CH4            PCNA   \n",
       "\n",
       "                                                Path  After_bleach  \n",
       "0  Y:\\coskun-lab\\Thomas\\Spatial signaling\\dataset...         False  \n",
       "2  Y:\\coskun-lab\\Thomas\\Spatial signaling\\dataset...         False  \n",
       "4  Y:\\coskun-lab\\Thomas\\Spatial signaling\\dataset...         False  \n",
       "6  Y:\\coskun-lab\\Thomas\\Spatial signaling\\dataset...         False  \n",
       "8  Y:\\coskun-lab\\Thomas\\Spatial signaling\\dataset...         False  "
      ]
     },
     "execution_count": 78,
     "metadata": {},
     "output_type": "execute_result"
    }
   ],
   "source": [
    "df_combined = pd.read_csv(data_meta / 'info_combined.csv')\n",
    "df_combined['After_bleach'] = df_combined['After_bleach'].astype(bool)\n",
    "df_combined.to_csv(data_meta / 'info_combined.csv', index=False)\n",
    "df_combined_subset = df_combined[df_combined.After_bleach == False]\n",
    "df_combined_subset.head()"
   ]
  },
  {
   "cell_type": "code",
   "execution_count": 77,
   "metadata": {},
   "outputs": [
    {
     "data": {
      "application/vnd.jupyter.widget-view+json": {
       "model_id": "860013f10c674c75ad662c8a6a9bfb9b",
       "version_major": 2,
       "version_minor": 0
      },
      "text/plain": [
       "  0%|          | 0/63 [00:00<?, ?it/s]"
      ]
     },
     "metadata": {},
     "output_type": "display_data"
    }
   ],
   "source": [
    "shift_crop(df_combined_subset, shift_dict)"
   ]
  },
  {
   "cell_type": "code",
   "execution_count": null,
   "metadata": {},
   "outputs": [],
   "source": []
  }
 ],
 "metadata": {
  "kernelspec": {
   "display_name": "Python 3 (ipykernel)",
   "language": "python",
   "name": "python3"
  },
  "language_info": {
   "codemirror_mode": {
    "name": "ipython",
    "version": 3
   },
   "file_extension": ".py",
   "mimetype": "text/x-python",
   "name": "python",
   "nbconvert_exporter": "python",
   "pygments_lexer": "ipython3",
   "version": "3.9.10"
  },
  "toc": {
   "base_numbering": 1,
   "nav_menu": {},
   "number_sections": true,
   "sideBar": true,
   "skip_h1_title": false,
   "title_cell": "Table of Contents",
   "title_sidebar": "Contents",
   "toc_cell": false,
   "toc_position": {},
   "toc_section_display": true,
   "toc_window_display": false
  },
  "varInspector": {
   "cols": {
    "lenName": 16,
    "lenType": 16,
    "lenVar": 40
   },
   "kernels_config": {
    "python": {
     "delete_cmd_postfix": "",
     "delete_cmd_prefix": "del ",
     "library": "var_list.py",
     "varRefreshCmd": "print(var_dic_list())"
    },
    "r": {
     "delete_cmd_postfix": ") ",
     "delete_cmd_prefix": "rm(",
     "library": "var_list.r",
     "varRefreshCmd": "cat(var_dic_list()) "
    }
   },
   "types_to_exclude": [
    "module",
    "function",
    "builtin_function_or_method",
    "instance",
    "_Feature"
   ],
   "window_display": false
  }
 },
 "nbformat": 4,
 "nbformat_minor": 4
}
