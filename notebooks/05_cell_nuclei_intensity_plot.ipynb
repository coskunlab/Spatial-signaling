{
 "cells": [
  {
   "cell_type": "code",
   "execution_count": 1,
   "metadata": {
    "ExecuteTime": {
     "end_time": "2021-08-26T20:21:53.783710Z",
     "start_time": "2021-08-26T20:21:53.580504Z"
    }
   },
   "outputs": [],
   "source": [
    "import sys\n",
    "from pathlib import Path\n",
    "\n",
    "import cv2\n",
    "import matplotlib as mpl\n",
    "import matplotlib.pylab as pl\n",
    "import matplotlib.pyplot as plt\n",
    "import numpy as np\n",
    "import pandas as pd"
   ]
  },
  {
   "cell_type": "code",
   "execution_count": 2,
   "metadata": {
    "ExecuteTime": {
     "end_time": "2021-08-26T20:21:53.965491Z",
     "start_time": "2021-08-26T20:21:53.786710Z"
    }
   },
   "outputs": [],
   "source": [
    "%load_ext autoreload\n",
    "%autoreload 2"
   ]
  },
  {
   "cell_type": "code",
   "execution_count": 3,
   "metadata": {
    "ExecuteTime": {
     "end_time": "2021-08-26T20:21:54.121493Z",
     "start_time": "2021-08-26T20:21:53.967491Z"
    }
   },
   "outputs": [],
   "source": [
    "# Import path\n",
    "module_path = str(Path.cwd().parents[0])\n",
    "if module_path not in sys.path:\n",
    "    sys.path.append(module_path)\n",
    "    \n",
    "from config import *"
   ]
  },
  {
   "cell_type": "code",
   "execution_count": 4,
   "metadata": {
    "ExecuteTime": {
     "end_time": "2021-08-26T20:21:54.337237Z",
     "start_time": "2021-08-26T20:21:54.124492Z"
    }
   },
   "outputs": [],
   "source": [
    "module_path = str(Path.cwd().parents[0] / \"src\")\n",
    "\n",
    "if module_path not in sys.path:\n",
    "    sys.path.append(module_path)\n",
    "\n",
    "import utils as utils"
   ]
  },
  {
   "cell_type": "code",
   "execution_count": 5,
   "metadata": {
    "ExecuteTime": {
     "end_time": "2021-08-26T20:21:54.597915Z",
     "start_time": "2021-08-26T20:21:54.340237Z"
    }
   },
   "outputs": [],
   "source": [
    "csv_file = data_meta / \"info_combined.csv\"\n",
    "\n",
    "# Read dataframe containing images information\n",
    "df = pd.read_csv(csv_file)"
   ]
  },
  {
   "cell_type": "markdown",
   "metadata": {},
   "source": [
    "# Read masks image and corresponding intensity measurement"
   ]
  },
  {
   "cell_type": "code",
   "execution_count": 6,
   "metadata": {
    "ExecuteTime": {
     "end_time": "2021-08-26T20:22:06.214757Z",
     "start_time": "2021-08-26T20:21:54.600519Z"
    },
    "code_folding": []
   },
   "outputs": [],
   "source": [
    "# Read mask image\n",
    "masks = utils.get_masks(data_mask)"
   ]
  },
  {
   "cell_type": "markdown",
   "metadata": {},
   "source": [
    "# Create image based on intensity level of expression "
   ]
  },
  {
   "cell_type": "code",
   "execution_count": 7,
   "metadata": {
    "ExecuteTime": {
     "end_time": "2021-08-26T23:14:18.492038Z",
     "start_time": "2021-08-26T23:14:17.931300Z"
    }
   },
   "outputs": [],
   "source": [
    "df_intensity = pd.read_csv(data_meta / \"measurements_intensity.csv\")\n",
    "df_morph = pd.read_csv(data_meta / \"measurements_morphology.csv\")\n",
    "markers = df_intensity.Marker.unique()"
   ]
  },
  {
   "cell_type": "code",
   "execution_count": 8,
   "metadata": {
    "ExecuteTime": {
     "end_time": "2021-08-26T23:18:00.516224Z",
     "start_time": "2021-08-26T23:14:18.957094Z"
    }
   },
   "outputs": [],
   "source": [
    "# Calculate total intensity from mena intensity and area size\n",
    "for row in df_intensity.itertuples():\n",
    "    cond = row.Location\n",
    "    i = row.Id\n",
    "    total_nuclei_intensity = (\n",
    "        row.Nuclei_mean_intensity\n",
    "        * df_morph[(df_morph.Location == cond) & (df_morph.Id == i)][\n",
    "            \"Nuclei_area\"\n",
    "        ].item()\n",
    "    )\n",
    "    total_cyto_intensity = (\n",
    "        row.Cyto_mean_intensity\n",
    "        * df_morph[(df_morph.Location == cond) & (df_morph.Id == i)][\"Cyto_area\"].item()\n",
    "    )\n",
    "    df_intensity.loc[row.Index, \"Nuclei_total_intensity\"] = total_nuclei_intensity\n",
    "    df_intensity.loc[row.Index, \"Cyto_total_intensity\"] = total_cyto_intensity"
   ]
  },
  {
   "cell_type": "code",
   "execution_count": 9,
   "metadata": {
    "ExecuteTime": {
     "end_time": "2021-08-26T23:18:01.170784Z",
     "start_time": "2021-08-26T23:18:01.006270Z"
    }
   },
   "outputs": [],
   "source": [
    "df_intensity = df_intensity[df_intensity.Marker != 'Hoeschst']"
   ]
  },
  {
   "cell_type": "code",
   "execution_count": 10,
   "metadata": {
    "ExecuteTime": {
     "end_time": "2021-08-26T23:18:01.760662Z",
     "start_time": "2021-08-26T23:18:01.620025Z"
    }
   },
   "outputs": [
    {
     "data": {
      "text/plain": [
       "array(['p-EGFR', 'Concanavalin A', 'PCNA', 'B-actin', 'Phalloidin', 'WGA',\n",
       "       'APC', 'DKK1', 'Non-p-B-catenin', 'Cyclin E', 'EMMPRIN', 'Wnt1',\n",
       "       'RNF 43', 'p-AKT', 'p-B-catenin', 'AKT', 'mTOR', 'p-mTOR', 'AXIN1',\n",
       "       'DKK2', 'EGFR', 'B-tubin', 'Cyclin D1', 'H3k27me3-488',\n",
       "       'H3k4me3-647', 'H3k9Ac-555'], dtype=object)"
      ]
     },
     "execution_count": 10,
     "metadata": {},
     "output_type": "execute_result"
    }
   ],
   "source": [
    "df_intensity.Marker.unique()"
   ]
  },
  {
   "cell_type": "code",
   "execution_count": 11,
   "metadata": {
    "ExecuteTime": {
     "end_time": "2021-08-26T23:18:02.319163Z",
     "start_time": "2021-08-26T23:18:02.171956Z"
    }
   },
   "outputs": [],
   "source": [
    "df_intensity = df_intensity[~df_intensity.Marker.isin(['PCNA'])]"
   ]
  },
  {
   "cell_type": "markdown",
   "metadata": {
    "variables": {
     "len(markers)": "27"
    }
   },
   "source": [
    "We have {{len(markers)}} markers (no including DAPI and cell segmentation markers) "
   ]
  },
  {
   "cell_type": "code",
   "execution_count": 12,
   "metadata": {
    "ExecuteTime": {
     "end_time": "2021-08-26T23:44:21.551535Z",
     "start_time": "2021-08-26T23:44:21.360535Z"
    }
   },
   "outputs": [],
   "source": [
    "def create_expression_img(mask_cyto, mask_nuclei, df, mean=True):\n",
    "    markers = df.Marker.unique()\n",
    "    imgs = []\n",
    "\n",
    "    cell = np.zeros((mask_cyto.shape), dtype=np.uint8)\n",
    "    nuclei = np.zeros((mask_cyto.shape), dtype=np.uint8)\n",
    "    cyto = np.zeros((mask_cyto.shape), dtype=np.uint8)\n",
    "\n",
    "    for label in range(1, mask_cyto.max()):\n",
    "        # Check if cell has nuclei\n",
    "        cell_mask = np.where(mask_cyto == label, 1, 0).astype(np.uint8)\n",
    "        maski = cv2.bitwise_and(mask_nuclei, mask_nuclei, mask=cell_mask)\n",
    "\n",
    "        # If no nuclei detected then pass\n",
    "        if maski.max() == 0:\n",
    "            continue\n",
    "\n",
    "        # Link label accross cell, nuclei, cyto\n",
    "        cell = np.where(mask_cyto == label, label, cell)\n",
    "        nuclei = np.where(maski > 0, label, nuclei)\n",
    "        maski = cv2.subtract(cell_mask, maski)\n",
    "        cyto = np.where(maski > 0, label, cyto)\n",
    "\n",
    "    for marker in markers:\n",
    "        img = np.zeros((mask_cyto.shape), dtype=np.uint16)\n",
    "        for label in df.Id.unique():\n",
    "            row = df[(df.Id == label) & (df.Marker == marker)]\n",
    "            if mean:\n",
    "                nuclei_intensity = row[\"Nuclei_mean_intensity\"].item()\n",
    "                cyto_intensity = row[\"Cyto_mean_intensity\"].item()\n",
    "            else:\n",
    "                nuclei_intensity = row[\"Nuclei_total_intensity\"].item()\n",
    "                cyto_intensity = row[\"Cyto_total_intensity\"].item()\n",
    "            img = np.where(cyto == label, cyto_intensity, img)\n",
    "            img = np.where(nuclei == label, nuclei_intensity, img)\n",
    "        imgs.append(img)\n",
    "    return imgs, markers\n",
    "\n",
    "\n",
    "def plot_expression_img(imgs, markers, condition, mean=True):\n",
    "    # Generate figure\n",
    "    cmap = pl.cm.bwr\n",
    "    bg_color = np.array([[0, 0, 0, 1]])\n",
    "    colors = np.concatenate((bg_color, cmap(np.linspace(0, 1, 256))))\n",
    "    my_cmap = plt.cm.colors.ListedColormap(colors)\n",
    "\n",
    "    fig, axs = plt.subplots(5, 5, figsize=(30, 24))\n",
    "    axs = axs.flatten()\n",
    "    for idx, ax in enumerate(axs):\n",
    "        try:\n",
    "            im = ax.imshow(imgs[idx], cmap=my_cmap)\n",
    "            ax.set_title(markers[idx], fontweight=\"bold\", size=25)\n",
    "        except:\n",
    "            pass\n",
    "        ax.axis(\"off\")\n",
    "    plt.subplots_adjust(wspace=0.05, hspace=0.1)\n",
    "\n",
    "    # Add colobar\n",
    "    fig.subplots_adjust(right=0.9)\n",
    "    cbar_ax = fig.add_axes([0.91, 0.35, 0.01, 0.3])\n",
    "    norm = mpl.colors.Normalize(vmin=0, vmax=1)\n",
    "    sm = plt.cm.ScalarMappable(cmap=cmap, norm=norm)\n",
    "    sm.set_array([])\n",
    "    cbar = plt.colorbar(sm, ticks=np.linspace(0, 1, 3), cax=cbar_ax)\n",
    "    cbar.set_label(\"Relative intensity\", rotation=270, fontsize=15, labelpad=20)\n",
    "    cbar.ax.set_yticklabels([\"0\", \"0.5\", \"1\"])\n",
    "\n",
    "    # Save fig and show\n",
    "    if mean:\n",
    "        name = condition + \"_expression_level.png\"\n",
    "    else:\n",
    "        name = condition + \"_expression_level_total.png\"\n",
    "    fig.savefig(figure_dir / 'expression_per_cell' / name, bbox_inches=\"tight\", dpi=100)\n",
    "    plt.close(fig)\n",
    "    plt.show()"
   ]
  },
  {
   "cell_type": "code",
   "execution_count": 13,
   "metadata": {
    "ExecuteTime": {
     "end_time": "2021-08-26T21:41:23.795011Z",
     "start_time": "2021-08-26T20:27:19.151693Z"
    },
    "code_folding": [],
    "scrolled": true
   },
   "outputs": [],
   "source": [
    "# # # Show mean intensity\n",
    "\n",
    "# for idx, location in enumerate(masks.keys()):\n",
    "#     mask_cyto = masks[location][\"cyto\"]\n",
    "#     mask_nuclei = masks[location][\"nuclei\"]\n",
    "#     df_intensity_subset = df_intensity[df_intensity.Location == int(location)]\n",
    "#     imgs, markers = create_expression_img(mask_cyto, mask_nuclei, df_intensity_subset)\n",
    "\n",
    "#     # Generate figure\n",
    "#     plot_expression_img(imgs, markers, location)"
   ]
  },
  {
   "cell_type": "code",
   "execution_count": 14,
   "metadata": {
    "ExecuteTime": {
     "end_time": "2021-08-27T01:00:17.242231Z",
     "start_time": "2021-08-26T23:44:22.579544Z"
    }
   },
   "outputs": [],
   "source": [
    "# Show total intensity\n",
    "\n",
    "for idx, location in enumerate(masks.keys()):\n",
    "    mask_cyto = masks[location][\"cyto\"]\n",
    "    mask_nuclei = masks[location][\"nuclei\"]\n",
    "    df_intensity_subset = df_intensity[df_intensity.Location == int(location)]\n",
    "    imgs, markers = create_expression_img(\n",
    "        mask_cyto, mask_nuclei, df_intensity_subset, mean=False\n",
    "    )\n",
    "\n",
    "    plot_expression_img(imgs, markers, location, mean=False)\n"
   ]
  },
  {
   "cell_type": "markdown",
   "metadata": {
    "heading_collapsed": true,
    "jp-MarkdownHeadingCollapsed": true,
    "tags": []
   },
   "source": [
    "# Normalize by cell too"
   ]
  },
  {
   "cell_type": "code",
   "execution_count": null,
   "metadata": {
    "ExecuteTime": {
     "end_time": "2021-08-26T20:21:50.919689Z",
     "start_time": "2021-08-26T20:21:50.919689Z"
    },
    "hidden": true
   },
   "outputs": [],
   "source": [
    "df_intensity = pd.read_csv(data_meta / \"measurements_intensity.csv\")\n",
    "df_morph = pd.read_csv(data_meta / \"measurements_morphology.csv\")\n",
    "markers = df_intensity.Marker.unique()"
   ]
  },
  {
   "cell_type": "code",
   "execution_count": null,
   "metadata": {
    "ExecuteTime": {
     "end_time": "2021-08-26T20:21:50.919689Z",
     "start_time": "2021-08-26T20:21:50.919689Z"
    },
    "hidden": true
   },
   "outputs": [],
   "source": [
    "df_intensity"
   ]
  },
  {
   "cell_type": "code",
   "execution_count": null,
   "metadata": {
    "hidden": true
   },
   "outputs": [],
   "source": []
  }
 ],
 "metadata": {
  "kernelspec": {
   "display_name": "Python [conda env:new_codex]",
   "language": "python",
   "name": "conda-env-new_codex-py"
  },
  "language_info": {
   "codemirror_mode": {
    "name": "ipython",
    "version": 3
   },
   "file_extension": ".py",
   "mimetype": "text/x-python",
   "name": "python",
   "nbconvert_exporter": "python",
   "pygments_lexer": "ipython3",
   "version": "3.9.7"
  },
  "toc": {
   "base_numbering": 1,
   "nav_menu": {},
   "number_sections": true,
   "sideBar": true,
   "skip_h1_title": false,
   "title_cell": "Table of Contents",
   "title_sidebar": "Contents",
   "toc_cell": false,
   "toc_position": {},
   "toc_section_display": true,
   "toc_window_display": false
  },
  "varInspector": {
   "cols": {
    "lenName": 16,
    "lenType": 16,
    "lenVar": 40
   },
   "kernels_config": {
    "python": {
     "delete_cmd_postfix": "",
     "delete_cmd_prefix": "del ",
     "library": "var_list.py",
     "varRefreshCmd": "print(var_dic_list())"
    },
    "r": {
     "delete_cmd_postfix": ") ",
     "delete_cmd_prefix": "rm(",
     "library": "var_list.r",
     "varRefreshCmd": "cat(var_dic_list()) "
    }
   },
   "types_to_exclude": [
    "module",
    "function",
    "builtin_function_or_method",
    "instance",
    "_Feature"
   ],
   "window_display": false
  }
 },
 "nbformat": 4,
 "nbformat_minor": 4
}
