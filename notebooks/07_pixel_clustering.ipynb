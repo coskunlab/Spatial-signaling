{
 "cells": [
  {
   "cell_type": "code",
   "execution_count": 1,
   "metadata": {
    "ExecuteTime": {
     "end_time": "2021-02-12T18:11:19.440664Z",
     "start_time": "2021-02-12T18:11:02.385691Z"
    }
   },
   "outputs": [],
   "source": [
    "import pickle\n",
    "import sys\n",
    "from collections import defaultdict\n",
    "from pathlib import Path\n",
    "\n",
    "import cv2\n",
    "import matplotlib\n",
    "import matplotlib.pyplot as plt\n",
    "import numpy as np\n",
    "import pandas as pd\n",
    "import parc\n",
    "import scipy.cluster.hierarchy as sch\n",
    "import seaborn as sns\n",
    "from matplotlib.colors import LogNorm\n",
    "from mpl_toolkits.axes_grid1.inset_locator import mark_inset, zoomed_inset_axes\n",
    "from skimage import measure, exposure\n",
    "import skimage.io\n",
    "from sklearn.preprocessing import MinMaxScaler\n",
    "from typing import List\n"
   ]
  },
  {
   "cell_type": "code",
   "execution_count": 2,
   "metadata": {
    "ExecuteTime": {
     "end_time": "2021-02-12T18:11:19.733662Z",
     "start_time": "2021-02-12T18:11:19.444662Z"
    }
   },
   "outputs": [],
   "source": [
    "%load_ext autoreload\n",
    "%autoreload 2"
   ]
  },
  {
   "cell_type": "code",
   "execution_count": 3,
   "metadata": {
    "ExecuteTime": {
     "end_time": "2021-02-12T18:11:19.945737Z",
     "start_time": "2021-02-12T18:11:19.737662Z"
    }
   },
   "outputs": [],
   "source": [
    "# Import path\n",
    "module_path = str(Path.cwd().parents[0])\n",
    "if module_path not in sys.path:\n",
    "    sys.path.append(module_path)\n",
    "\n",
    "module_path = str(Path.cwd().parents[0] / \"src\")\n",
    "\n",
    "if module_path not in sys.path:\n",
    "    sys.path.append(module_path)"
   ]
  },
  {
   "cell_type": "code",
   "execution_count": 4,
   "metadata": {
    "ExecuteTime": {
     "end_time": "2021-02-12T18:11:20.206660Z",
     "start_time": "2021-02-12T18:11:19.949663Z"
    }
   },
   "outputs": [],
   "source": [
    "import utils as utils\n",
    "from config import *"
   ]
  },
  {
   "cell_type": "code",
   "execution_count": 5,
   "metadata": {
    "ExecuteTime": {
     "end_time": "2021-02-12T18:11:20.422660Z",
     "start_time": "2021-02-12T18:11:20.210660Z"
    }
   },
   "outputs": [],
   "source": [
    "csv_file = data_meta / \"info_combined.csv\"\n",
    "\n",
    "# Read dataframe containing images information\n",
    "df = pd.read_csv(csv_file)"
   ]
  },
  {
   "cell_type": "code",
   "execution_count": 6,
   "metadata": {
    "ExecuteTime": {
     "end_time": "2021-02-12T18:11:20.602661Z",
     "start_time": "2021-02-12T18:11:20.425661Z"
    }
   },
   "outputs": [],
   "source": [
    "# Parameters\n",
    "min_cluster_size = 500\n",
    "min_intensity = 0.3\n",
    "random_seed = 1"
   ]
  },
  {
   "cell_type": "markdown",
   "metadata": {},
   "source": [
    "# Read data"
   ]
  },
  {
   "cell_type": "code",
   "execution_count": 7,
   "metadata": {
    "ExecuteTime": {
     "end_time": "2021-02-12T18:11:20.785659Z",
     "start_time": "2021-02-12T18:11:20.605660Z"
    }
   },
   "outputs": [],
   "source": [
    "def get_location(df, location):\n",
    "    imgs_path = []\n",
    "    markers = []\n",
    "\n",
    "    df = df[(df.Location == location)]\n",
    "    for row in df.itertuples():\n",
    "        imgs_path.append(row.Path)\n",
    "        markers.append(row.Marker)\n",
    "    return imgs_path, markers\n",
    "\n",
    "def combined_imgs(imgs: List[str]) -> np.ndarray:\n",
    "    \"\"\"\n",
    "    Return an multiplex image of dimension (num markers, height,width)\n",
    "    \"\"\"\n",
    "    if not imgs:\n",
    "        raise Exception(\"You passed a empty list of images path\")\n",
    "    pixels = []\n",
    "    for img_path in imgs:\n",
    "        img = skimage.io.imread(img_path)\n",
    "        p2, p98 = np.percentile(img, (1, 99))\n",
    "        img = exposure.rescale_intensity(img, in_range=(p2, p98))\n",
    "        mean = np.mean(img)\n",
    "        img_rescale = cv2.subtract(img, np.ones(img.shape, dtype=img.dtype)*np.mean(img).astype(img.dtype))\n",
    "        pixels.append(img_rescale)\n",
    "    return np.stack(pixels)\n",
    "\n",
    "def get_multiplex_pix(df, masks, save=False):\n",
    "    df_appended = []\n",
    "    for idx, location in enumerate(masks.keys()):\n",
    "        imgs, markers = get_location(df, location)\n",
    "        pixels = combined_imgs(imgs)\n",
    "\n",
    "        mask_cyto = masks[location][\"cyto\"]\n",
    "        mask_nuclei = masks[location][\"nuclei\"]\n",
    "        cell, _, _ = utils.qc_nuclei(mask_cyto, mask_nuclei)\n",
    "        labels = [n for n in np.unique(cell) if n > 0]\n",
    "\n",
    "        # Extracted all multiplex pixels in cell\n",
    "        rows, cols = np.where(np.isin(cell, labels))\n",
    "        cell_pixels = pixels[:, rows, cols]\n",
    "\n",
    "        # Create dataframe\n",
    "        df_pixels = pd.DataFrame(cell_pixels.T, columns=markers)\n",
    "        df_pixels[\"Location\"] = location\n",
    "        df_pixels[\"X\"] = rows\n",
    "        df_pixels[\"Y\"] = cols\n",
    "        df_pixels[\"Id\"] = cell[rows, cols]\n",
    "        df_dapi = df_pixels.filter(like=\"Hoeschst\")\n",
    "        df_pixels = df_pixels.drop(df_dapi, axis=1)\n",
    "        df_pixels.insert(\n",
    "            0, column=\"Hoeschst\", value=df_dapi.mean(axis=1).astype(np.uint16)\n",
    "        )\n",
    "        df_appended.append(df_pixels)\n",
    "\n",
    "    df_pixels = pd.concat(df_appended, ignore_index=True)\n",
    "\n",
    "    if save:\n",
    "        df_pixels.to_csv(data_meta / \"pixel_intensity.csv\", index=False)\n",
    "\n",
    "    return df_pixels"
   ]
  },
  {
   "cell_type": "code",
   "execution_count": null,
   "metadata": {
    "ExecuteTime": {
     "start_time": "2021-02-12T18:11:02.558Z"
    }
   },
   "outputs": [],
   "source": [
    "df_pixels = pd.read_csv(data_meta / \"pixel_intensity.csv\")"
   ]
  },
  {
   "cell_type": "code",
   "execution_count": null,
   "metadata": {},
   "outputs": [],
   "source": [
    "df_pixels"
   ]
  },
  {
   "cell_type": "code",
   "execution_count": null,
   "metadata": {
    "ExecuteTime": {
     "start_time": "2021-02-12T18:11:02.560Z"
    }
   },
   "outputs": [],
   "source": [
    "# masks = utils.get_masks(data_mask)\n",
    "# df_pixels = get_multiplex_pix(df, masks, save=True)"
   ]
  },
  {
   "cell_type": "code",
   "execution_count": null,
   "metadata": {
    "ExecuteTime": {
     "start_time": "2021-02-12T18:11:02.562Z"
    },
    "scrolled": true
   },
   "outputs": [],
   "source": [
    "locations = df_pixels.Location.unique()\n",
    "location = locations[:9]\n",
    "\n",
    "# for location in locations:\n",
    "#     pixels = df_pixels[df_pixels.Location==location].iloc[:, 3:-4]\n",
    "#     pixels.drop(columns=['Concanavalin A'], inplace=True)\n",
    "    \n",
    "#     # Scale data\n",
    "#     scaler = MinMaxScaler()\n",
    "#     x_scaled = scaler.fit_transform(pixels)\n",
    "#     pixels_scaled = pd.DataFrame(x_scaled, columns=pixels.columns)\n",
    "    \n",
    "#     # Filter low intensity pixels\n",
    "#     pixel_dark = pixels_scaled.le(min_intensity).all(axis=1)\n",
    "#     pixels_bright = pixels_scaled[~pixel_dark]\n",
    "\n",
    "#     # Parc clustering\n",
    "#     parc1 = parc.PARC(pixels_bright.values, jac_weighted_edges = False, small_pop = 2000, random_seed=0)\n",
    "#     parc1.run_PARC() \n",
    "#     parc_labels = parc1.labels\n",
    "    \n",
    "#     graph = parc1.knngraph_full()\n",
    "#     embeddings = parc1.run_umap_hnsw(pixels_bright.values, graph, random_state = 0)\n",
    "    \n",
    "#     with open(data_meta / f\"{location}_{min_ntensity}.pickle\", \"wb\") as f:\n",
    "#         pickle.dump([parc_labels, embeddings, pixels_bright], f)"
   ]
  },
  {
   "cell_type": "code",
   "execution_count": null,
   "metadata": {
    "ExecuteTime": {
     "start_time": "2021-02-12T18:11:02.563Z"
    }
   },
   "outputs": [],
   "source": [
    "location"
   ]
  },
  {
   "cell_type": "code",
   "execution_count": null,
   "metadata": {
    "ExecuteTime": {
     "start_time": "2021-02-12T18:11:02.567Z"
    }
   },
   "outputs": [],
   "source": [
    "pixels = df_pixels[df_pixels.Location.isin(location)].iloc[:, 3:-4]\n",
    "pixels.drop(columns=['Concanavalin A'], inplace=True)\n",
    "display(pixels.max())\n",
    "\n",
    "# Scale data\n",
    "scaler = MinMaxScaler()\n",
    "x_scaled = scaler.fit_transform(pixels)\n",
    "pixels_scaled = pd.DataFrame(x_scaled, columns=pixels.columns)\n",
    "display(pixels_scaled.describe())"
   ]
  },
  {
   "cell_type": "code",
   "execution_count": null,
   "metadata": {
    "ExecuteTime": {
     "start_time": "2021-02-12T18:11:02.570Z"
    }
   },
   "outputs": [],
   "source": [
    "pixel_dark = pixels_scaled.le(min_intensity).all(axis=1)\n",
    "display(pixel_dark.value_counts())\n",
    "pixels_bright = pixels_scaled[~pixel_dark]\n",
    "display(pixels_bright.head())"
   ]
  },
  {
   "cell_type": "markdown",
   "metadata": {},
   "source": [
    "# Clustering"
   ]
  },
  {
   "cell_type": "code",
   "execution_count": null,
   "metadata": {
    "ExecuteTime": {
     "start_time": "2021-02-12T18:11:02.609Z"
    }
   },
   "outputs": [],
   "source": [
    "parc1 = parc.PARC(pixels_bright.values, jac_weighted_edges = False, small_pop = 2000, random_seed=0)\n",
    "parc1.run_PARC() \n",
    "parc_labels = parc1.labels"
   ]
  },
  {
   "cell_type": "code",
   "execution_count": null,
   "metadata": {
    "ExecuteTime": {
     "start_time": "2021-02-12T18:11:02.611Z"
    }
   },
   "outputs": [],
   "source": [
    "# graph = parc1.knngraph_full()\n",
    "# embeddings = parc1.run_umap_hnsw(pixels_bright.values, graph, random_state = 0)"
   ]
  },
  {
   "cell_type": "code",
   "execution_count": null,
   "metadata": {
    "ExecuteTime": {
     "start_time": "2021-02-12T18:11:02.613Z"
    }
   },
   "outputs": [],
   "source": [
    "import scipy\n",
    "\n",
    "%%time\n",
    "sparse_mat = scipy.sparse.csr_matrix(pixels_bright.values)\n",
    "print('Umap embedding')\n",
    "embeddings = umap.UMAP(metric='cosine', n_neighbors=100).fit_transform(sparse_mat)\n"
   ]
  },
  {
   "cell_type": "code",
   "execution_count": null,
   "metadata": {
    "ExecuteTime": {
     "start_time": "2021-02-12T18:11:02.615Z"
    }
   },
   "outputs": [],
   "source": [
    "fig, ax = plt.subplots(figsize=(15, 15))\n",
    "X, Y = embeddings[:, 0], embeddings[:, 1]\n",
    "ax.scatter(X, Y, c=parc_labels, s=2, cmap='jet')\n",
    "ax.axis(\"off\")"
   ]
  },
  {
   "cell_type": "code",
   "execution_count": null,
   "metadata": {
    "ExecuteTime": {
     "start_time": "2021-02-12T18:11:02.616Z"
    }
   },
   "outputs": [],
   "source": [
    "with open(data_meta / f\"1_{min_intensity}.pickle\", \"wb\") as f:\n",
    "    pickle.dump([parc_labels, embeddings, pixels_bright], f)"
   ]
  },
  {
   "cell_type": "code",
   "execution_count": null,
   "metadata": {},
   "outputs": [],
   "source": []
  }
 ],
 "metadata": {
  "kernelspec": {
   "display_name": "Python [conda env:new_codex]",
   "language": "python",
   "name": "conda-env-new_codex-py"
  },
  "language_info": {
   "codemirror_mode": {
    "name": "ipython",
    "version": 3
   },
   "file_extension": ".py",
   "mimetype": "text/x-python",
   "name": "python",
   "nbconvert_exporter": "python",
   "pygments_lexer": "ipython3",
   "version": "3.9.7"
  },
  "toc": {
   "base_numbering": 1,
   "nav_menu": {},
   "number_sections": true,
   "sideBar": true,
   "skip_h1_title": false,
   "title_cell": "Table of Contents",
   "title_sidebar": "Contents",
   "toc_cell": false,
   "toc_position": {},
   "toc_section_display": true,
   "toc_window_display": false
  },
  "varInspector": {
   "cols": {
    "lenName": 16,
    "lenType": 16,
    "lenVar": 40
   },
   "kernels_config": {
    "python": {
     "delete_cmd_postfix": "",
     "delete_cmd_prefix": "del ",
     "library": "var_list.py",
     "varRefreshCmd": "print(var_dic_list())"
    },
    "r": {
     "delete_cmd_postfix": ") ",
     "delete_cmd_prefix": "rm(",
     "library": "var_list.r",
     "varRefreshCmd": "cat(var_dic_list()) "
    }
   },
   "types_to_exclude": [
    "module",
    "function",
    "builtin_function_or_method",
    "instance",
    "_Feature"
   ],
   "window_display": false
  }
 },
 "nbformat": 4,
 "nbformat_minor": 4
}
