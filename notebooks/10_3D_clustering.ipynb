{
 "cells": [
  {
   "cell_type": "code",
   "execution_count": 2,
   "id": "1b0f3a1a",
   "metadata": {
    "ExecuteTime": {
     "end_time": "2021-09-14T22:13:58.845031Z",
     "start_time": "2021-09-14T22:13:58.824888Z"
    }
   },
   "outputs": [],
   "source": [
    "import os\n",
    "import sys\n",
    "from pathlib import Path\n",
    "from typing import List\n",
    "\n",
    "import cv2\n",
    "import matplotlib.pyplot as plt\n",
    "import numpy as np\n",
    "import pandas as pd\n",
    "import skimage.io\n",
    "from skimage.measure import regionprops_table\n",
    "from skimage import exposure, measure\n",
    "from tqdm.notebook import trange, tqdm\n"
   ]
  },
  {
   "cell_type": "code",
   "execution_count": 3,
   "id": "55142904",
   "metadata": {
    "ExecuteTime": {
     "end_time": "2021-09-14T22:13:59.180175Z",
     "start_time": "2021-09-14T22:13:58.974352Z"
    }
   },
   "outputs": [],
   "source": [
    "%load_ext autoreload\n",
    "%autoreload 2"
   ]
  },
  {
   "cell_type": "code",
   "execution_count": 4,
   "id": "6b901ffb",
   "metadata": {
    "ExecuteTime": {
     "end_time": "2021-09-14T22:14:01.009840Z",
     "start_time": "2021-09-14T22:14:00.797272Z"
    }
   },
   "outputs": [],
   "source": [
    "# Import path\n",
    "module_path = str(Path.cwd().parents[0])\n",
    "if module_path not in sys.path:\n",
    "    sys.path.append(module_path)\n",
    "\n",
    "from config import *"
   ]
  },
  {
   "cell_type": "code",
   "execution_count": 5,
   "id": "be980a4a",
   "metadata": {
    "ExecuteTime": {
     "end_time": "2021-09-14T22:14:02.777910Z",
     "start_time": "2021-09-14T22:14:02.533076Z"
    }
   },
   "outputs": [],
   "source": [
    "module_path = str(Path.cwd().parents[0] / \"src\")\n",
    "\n",
    "if module_path not in sys.path:\n",
    "    sys.path.append(module_path)\n",
    "\n",
    "import utils as my_utils"
   ]
  },
  {
   "cell_type": "code",
   "execution_count": 6,
   "id": "619eac7c",
   "metadata": {
    "ExecuteTime": {
     "end_time": "2021-09-14T22:14:05.292802Z",
     "start_time": "2021-09-14T22:14:04.299285Z"
    }
   },
   "outputs": [],
   "source": [
    "# Define image and masks folder\n",
    "info_csv = data_meta / \"all_info.csv\"\n",
    "\n",
    "df = pd.read_csv(info_csv)"
   ]
  },
  {
   "cell_type": "code",
   "execution_count": 7,
   "id": "1d01ed64",
   "metadata": {
    "ExecuteTime": {
     "end_time": "2021-09-14T22:14:07.132417Z",
     "start_time": "2021-09-14T22:14:06.917700Z"
    }
   },
   "outputs": [],
   "source": [
    "df_subset = df[(df.Location == 36) & (df.After_bleach == False)]"
   ]
  },
  {
   "cell_type": "code",
   "execution_count": 8,
   "id": "bbc71355",
   "metadata": {
    "ExecuteTime": {
     "end_time": "2021-09-14T22:14:09.125960Z",
     "start_time": "2021-09-14T22:14:08.925031Z"
    }
   },
   "outputs": [
    {
     "data": {
      "text/html": [
       "<div>\n",
       "<style scoped>\n",
       "    .dataframe tbody tr th:only-of-type {\n",
       "        vertical-align: middle;\n",
       "    }\n",
       "\n",
       "    .dataframe tbody tr th {\n",
       "        vertical-align: top;\n",
       "    }\n",
       "\n",
       "    .dataframe thead th {\n",
       "        text-align: right;\n",
       "    }\n",
       "</style>\n",
       "<table border=\"1\" class=\"dataframe\">\n",
       "  <thead>\n",
       "    <tr style=\"text-align: right;\">\n",
       "      <th></th>\n",
       "      <th>Cycle</th>\n",
       "      <th>Location</th>\n",
       "      <th>After_bleach</th>\n",
       "      <th>Z_stack</th>\n",
       "      <th>Channel</th>\n",
       "      <th>Marker</th>\n",
       "      <th>Path</th>\n",
       "      <th>Path_corrected</th>\n",
       "    </tr>\n",
       "  </thead>\n",
       "  <tbody>\n",
       "    <tr>\n",
       "      <th>2625</th>\n",
       "      <td>Cycle10</td>\n",
       "      <td>36</td>\n",
       "      <td>False</td>\n",
       "      <td>1</td>\n",
       "      <td>CH1</td>\n",
       "      <td>Hoeschst</td>\n",
       "      <td>Y:\\coskun-lab\\Thomas\\Spatial signaling\\dataset...</td>\n",
       "      <td>Y:\\coskun-lab\\Thomas\\Spatial signaling\\dataset...</td>\n",
       "    </tr>\n",
       "    <tr>\n",
       "      <th>2626</th>\n",
       "      <td>Cycle10</td>\n",
       "      <td>36</td>\n",
       "      <td>False</td>\n",
       "      <td>1</td>\n",
       "      <td>CH2</td>\n",
       "      <td>Concanavalin A</td>\n",
       "      <td>Y:\\coskun-lab\\Thomas\\Spatial signaling\\dataset...</td>\n",
       "      <td>Y:\\coskun-lab\\Thomas\\Spatial signaling\\dataset...</td>\n",
       "    </tr>\n",
       "    <tr>\n",
       "      <th>2627</th>\n",
       "      <td>Cycle10</td>\n",
       "      <td>36</td>\n",
       "      <td>False</td>\n",
       "      <td>1</td>\n",
       "      <td>CH4</td>\n",
       "      <td>PCNA</td>\n",
       "      <td>Y:\\coskun-lab\\Thomas\\Spatial signaling\\dataset...</td>\n",
       "      <td>Y:\\coskun-lab\\Thomas\\Spatial signaling\\dataset...</td>\n",
       "    </tr>\n",
       "    <tr>\n",
       "      <th>2628</th>\n",
       "      <td>Cycle10</td>\n",
       "      <td>36</td>\n",
       "      <td>False</td>\n",
       "      <td>2</td>\n",
       "      <td>CH1</td>\n",
       "      <td>Hoeschst</td>\n",
       "      <td>Y:\\coskun-lab\\Thomas\\Spatial signaling\\dataset...</td>\n",
       "      <td>Y:\\coskun-lab\\Thomas\\Spatial signaling\\dataset...</td>\n",
       "    </tr>\n",
       "    <tr>\n",
       "      <th>2629</th>\n",
       "      <td>Cycle10</td>\n",
       "      <td>36</td>\n",
       "      <td>False</td>\n",
       "      <td>2</td>\n",
       "      <td>CH2</td>\n",
       "      <td>Concanavalin A</td>\n",
       "      <td>Y:\\coskun-lab\\Thomas\\Spatial signaling\\dataset...</td>\n",
       "      <td>Y:\\coskun-lab\\Thomas\\Spatial signaling\\dataset...</td>\n",
       "    </tr>\n",
       "    <tr>\n",
       "      <th>...</th>\n",
       "      <td>...</td>\n",
       "      <td>...</td>\n",
       "      <td>...</td>\n",
       "      <td>...</td>\n",
       "      <td>...</td>\n",
       "      <td>...</td>\n",
       "      <td>...</td>\n",
       "      <td>...</td>\n",
       "    </tr>\n",
       "    <tr>\n",
       "      <th>84519</th>\n",
       "      <td>Cycle9</td>\n",
       "      <td>36</td>\n",
       "      <td>False</td>\n",
       "      <td>24</td>\n",
       "      <td>CH4</td>\n",
       "      <td>H3k4me3-647</td>\n",
       "      <td>Y:\\coskun-lab\\Thomas\\Spatial signaling\\dataset...</td>\n",
       "      <td>Y:\\coskun-lab\\Thomas\\Spatial signaling\\dataset...</td>\n",
       "    </tr>\n",
       "    <tr>\n",
       "      <th>84520</th>\n",
       "      <td>Cycle9</td>\n",
       "      <td>36</td>\n",
       "      <td>False</td>\n",
       "      <td>25</td>\n",
       "      <td>CH1</td>\n",
       "      <td>Hoeschst</td>\n",
       "      <td>Y:\\coskun-lab\\Thomas\\Spatial signaling\\dataset...</td>\n",
       "      <td>Y:\\coskun-lab\\Thomas\\Spatial signaling\\dataset...</td>\n",
       "    </tr>\n",
       "    <tr>\n",
       "      <th>84521</th>\n",
       "      <td>Cycle9</td>\n",
       "      <td>36</td>\n",
       "      <td>False</td>\n",
       "      <td>25</td>\n",
       "      <td>CH2</td>\n",
       "      <td>H3k27me3-488</td>\n",
       "      <td>Y:\\coskun-lab\\Thomas\\Spatial signaling\\dataset...</td>\n",
       "      <td>Y:\\coskun-lab\\Thomas\\Spatial signaling\\dataset...</td>\n",
       "    </tr>\n",
       "    <tr>\n",
       "      <th>84522</th>\n",
       "      <td>Cycle9</td>\n",
       "      <td>36</td>\n",
       "      <td>False</td>\n",
       "      <td>25</td>\n",
       "      <td>CH3</td>\n",
       "      <td>H3k9Ac-555</td>\n",
       "      <td>Y:\\coskun-lab\\Thomas\\Spatial signaling\\dataset...</td>\n",
       "      <td>Y:\\coskun-lab\\Thomas\\Spatial signaling\\dataset...</td>\n",
       "    </tr>\n",
       "    <tr>\n",
       "      <th>84523</th>\n",
       "      <td>Cycle9</td>\n",
       "      <td>36</td>\n",
       "      <td>False</td>\n",
       "      <td>25</td>\n",
       "      <td>CH4</td>\n",
       "      <td>H3k4me3-647</td>\n",
       "      <td>Y:\\coskun-lab\\Thomas\\Spatial signaling\\dataset...</td>\n",
       "      <td>Y:\\coskun-lab\\Thomas\\Spatial signaling\\dataset...</td>\n",
       "    </tr>\n",
       "  </tbody>\n",
       "</table>\n",
       "<p>790 rows × 8 columns</p>\n",
       "</div>"
      ],
      "text/plain": [
       "         Cycle  Location  After_bleach  Z_stack Channel          Marker  \\\n",
       "2625   Cycle10        36         False        1     CH1        Hoeschst   \n",
       "2626   Cycle10        36         False        1     CH2  Concanavalin A   \n",
       "2627   Cycle10        36         False        1     CH4            PCNA   \n",
       "2628   Cycle10        36         False        2     CH1        Hoeschst   \n",
       "2629   Cycle10        36         False        2     CH2  Concanavalin A   \n",
       "...        ...       ...           ...      ...     ...             ...   \n",
       "84519   Cycle9        36         False       24     CH4     H3k4me3-647   \n",
       "84520   Cycle9        36         False       25     CH1        Hoeschst   \n",
       "84521   Cycle9        36         False       25     CH2    H3k27me3-488   \n",
       "84522   Cycle9        36         False       25     CH3      H3k9Ac-555   \n",
       "84523   Cycle9        36         False       25     CH4     H3k4me3-647   \n",
       "\n",
       "                                                    Path  \\\n",
       "2625   Y:\\coskun-lab\\Thomas\\Spatial signaling\\dataset...   \n",
       "2626   Y:\\coskun-lab\\Thomas\\Spatial signaling\\dataset...   \n",
       "2627   Y:\\coskun-lab\\Thomas\\Spatial signaling\\dataset...   \n",
       "2628   Y:\\coskun-lab\\Thomas\\Spatial signaling\\dataset...   \n",
       "2629   Y:\\coskun-lab\\Thomas\\Spatial signaling\\dataset...   \n",
       "...                                                  ...   \n",
       "84519  Y:\\coskun-lab\\Thomas\\Spatial signaling\\dataset...   \n",
       "84520  Y:\\coskun-lab\\Thomas\\Spatial signaling\\dataset...   \n",
       "84521  Y:\\coskun-lab\\Thomas\\Spatial signaling\\dataset...   \n",
       "84522  Y:\\coskun-lab\\Thomas\\Spatial signaling\\dataset...   \n",
       "84523  Y:\\coskun-lab\\Thomas\\Spatial signaling\\dataset...   \n",
       "\n",
       "                                          Path_corrected  \n",
       "2625   Y:\\coskun-lab\\Thomas\\Spatial signaling\\dataset...  \n",
       "2626   Y:\\coskun-lab\\Thomas\\Spatial signaling\\dataset...  \n",
       "2627   Y:\\coskun-lab\\Thomas\\Spatial signaling\\dataset...  \n",
       "2628   Y:\\coskun-lab\\Thomas\\Spatial signaling\\dataset...  \n",
       "2629   Y:\\coskun-lab\\Thomas\\Spatial signaling\\dataset...  \n",
       "...                                                  ...  \n",
       "84519  Y:\\coskun-lab\\Thomas\\Spatial signaling\\dataset...  \n",
       "84520  Y:\\coskun-lab\\Thomas\\Spatial signaling\\dataset...  \n",
       "84521  Y:\\coskun-lab\\Thomas\\Spatial signaling\\dataset...  \n",
       "84522  Y:\\coskun-lab\\Thomas\\Spatial signaling\\dataset...  \n",
       "84523  Y:\\coskun-lab\\Thomas\\Spatial signaling\\dataset...  \n",
       "\n",
       "[790 rows x 8 columns]"
      ]
     },
     "execution_count": 8,
     "metadata": {},
     "output_type": "execute_result"
    }
   ],
   "source": [
    "df_subset "
   ]
  },
  {
   "cell_type": "markdown",
   "id": "ce571bdc",
   "metadata": {
    "heading_collapsed": true
   },
   "source": [
    "# Get images"
   ]
  },
  {
   "cell_type": "code",
   "execution_count": 20,
   "id": "cfaaae28",
   "metadata": {
    "ExecuteTime": {
     "end_time": "2021-09-14T21:37:31.420929Z",
     "start_time": "2021-09-14T21:37:31.192929Z"
    },
    "hidden": true
   },
   "outputs": [],
   "source": [
    "from joblib import Parallel, delayed\\\n",
    "\n",
    "def read_img(path):\n",
    "    return contrast_streching(skimage.io.imread(path))\n",
    "\n",
    "def contrast_streching(img):\n",
    "    p2, p98 = np.percentile(img, (0.5, 99.5))\n",
    "    return exposure.rescale_intensity(img, in_range=(p2, p98))\n",
    "\n",
    "def joblib_loop(task, pics):\n",
    "    return Parallel(n_jobs=20)(delayed(task)(i) for i in pics)\n",
    "\n",
    "def non_border_cell(cell_mask):\n",
    "    labels = []\n",
    "    row_max, col_max = cell_mask.shape\n",
    "    props = measure.regionprops(cell_mask)\n",
    "    for prop in props:\n",
    "        if prop['bbox'][0] == 0 or prop['bbox'][1] == 0 or prop['bbox'][2] == row_max or prop['bbox'][3] == col_max:\n",
    "            continue\n",
    "        else:\n",
    "            labels.append(prop['label'])\n",
    "    return labels"
   ]
  },
  {
   "cell_type": "code",
   "execution_count": 21,
   "id": "766d2b76",
   "metadata": {
    "ExecuteTime": {
     "end_time": "2021-09-14T21:37:31.621931Z",
     "start_time": "2021-09-14T21:37:31.422931Z"
    },
    "hidden": true
   },
   "outputs": [],
   "source": [
    "z_stacks = df_subset.Z_stack.unique()\n",
    "df_subset = df_subset[~df_subset.Marker.isin(['Concanavalin A', 'Phalloidin', 'Hoeschst', 'WGA', 'B-actin', 'PCNA'])]"
   ]
  },
  {
   "cell_type": "code",
   "execution_count": 22,
   "id": "ae04619c",
   "metadata": {
    "ExecuteTime": {
     "end_time": "2021-09-14T21:37:43.230032Z",
     "start_time": "2021-09-14T21:37:31.625931Z"
    },
    "hidden": true
   },
   "outputs": [],
   "source": [
    "masks = my_utils.get_masks(data_mask)\n",
    "masks = masks['36']"
   ]
  },
  {
   "cell_type": "code",
   "execution_count": 23,
   "id": "bacb14ad",
   "metadata": {
    "ExecuteTime": {
     "end_time": "2021-09-14T21:40:11.176856Z",
     "start_time": "2021-09-14T21:37:43.232031Z"
    },
    "hidden": true
   },
   "outputs": [
    {
     "data": {
      "application/vnd.jupyter.widget-view+json": {
       "model_id": "7ae6fb98b7c54939a8eef3c2037f7b25",
       "version_major": 2,
       "version_minor": 0
      },
      "text/plain": [
       "  0%|          | 0/28 [00:00<?, ?it/s]"
      ]
     },
     "metadata": {},
     "output_type": "display_data"
    }
   ],
   "source": [
    "df_all = []\n",
    "\n",
    "for z in tqdm(z_stacks, total=len(z_stacks)):\n",
    "    df_z = df_subset[df_subset.Z_stack == z]\n",
    "    \n",
    "    paths = df_z.Path_corrected.tolist()\n",
    "    markers = df_z.Marker.tolist()\n",
    "    imgs = joblib_loop(read_img, paths)\n",
    "    try:\n",
    "        pixels = np.stack(imgs, axis=0)\n",
    "\n",
    "        # Get cell and nuclei mask\n",
    "        mask_cyto = masks[\"cyto\"]\n",
    "        mask_nuclei = masks[\"nuclei\"]\n",
    "        cell, _, _ = my_utils.qc_nuclei(mask_cyto, mask_nuclei)\n",
    "\n",
    "        rows, cols = np.where(cell>0)\n",
    "        cell_pixels = pixels[:, rows, cols]\n",
    "\n",
    "        # Create dataframe\n",
    "        df_pixels = pd.DataFrame(cell_pixels.T, columns=markers)\n",
    "        df_pixels[\"X\"] = rows\n",
    "        df_pixels[\"Y\"] = cols\n",
    "        df_pixels[\"Id\"] = cell[rows, cols]\n",
    "        df_pixels[\"Z\"] = z\n",
    "        df_all.append(df_pixels.dropna())\n",
    "    except: continue"
   ]
  },
  {
   "cell_type": "code",
   "execution_count": 24,
   "id": "f89a6e4d",
   "metadata": {
    "ExecuteTime": {
     "end_time": "2021-09-14T21:40:19.770934Z",
     "start_time": "2021-09-14T21:40:11.180855Z"
    },
    "hidden": true
   },
   "outputs": [],
   "source": [
    "df_combined = pd.concat(df_all)"
   ]
  },
  {
   "cell_type": "code",
   "execution_count": 25,
   "id": "37190608",
   "metadata": {
    "ExecuteTime": {
     "end_time": "2021-09-14T21:40:44.381918Z",
     "start_time": "2021-09-14T21:40:19.775934Z"
    },
    "hidden": true
   },
   "outputs": [],
   "source": [
    "df_combined = df_combined.dropna()"
   ]
  },
  {
   "cell_type": "code",
   "execution_count": 26,
   "id": "43d04cbb",
   "metadata": {
    "ExecuteTime": {
     "end_time": "2021-09-14T22:08:00.459282Z",
     "start_time": "2021-09-14T21:40:44.384918Z"
    },
    "hidden": true
   },
   "outputs": [],
   "source": [
    "df_combined.to_csv(data_meta / \"pixel_intensity_3D.csv\", index=False)"
   ]
  },
  {
   "cell_type": "markdown",
   "id": "c06c4cb9",
   "metadata": {},
   "source": [
    "# Filter out background"
   ]
  },
  {
   "cell_type": "code",
   "execution_count": 9,
   "id": "ddb611d8",
   "metadata": {
    "ExecuteTime": {
     "end_time": "2021-09-14T22:16:36.551411Z",
     "start_time": "2021-09-14T22:14:10.905032Z"
    }
   },
   "outputs": [],
   "source": [
    "df_combined = pd.read_csv(data_meta / \"pixel_intensity_3D.csv\")"
   ]
  },
  {
   "cell_type": "code",
   "execution_count": 10,
   "id": "0a3f9fab",
   "metadata": {
    "ExecuteTime": {
     "end_time": "2021-09-14T22:18:14.782937Z",
     "start_time": "2021-09-14T22:17:47.695635Z"
    }
   },
   "outputs": [],
   "source": [
    "from sklearn.preprocessing import MinMaxScaler, StandardScaler\n",
    "\n",
    "# Scale data\n",
    "scaler = MinMaxScaler()\n",
    "x_scaled = scaler.fit_transform(df_combined.iloc[:, :-4])\n",
    "pixels_scaled = pd.DataFrame(x_scaled, columns=df_combined.iloc[:, :-4].columns)"
   ]
  },
  {
   "cell_type": "code",
   "execution_count": 13,
   "id": "8deab43c",
   "metadata": {
    "ExecuteTime": {
     "end_time": "2021-09-14T22:20:54.531158Z",
     "start_time": "2021-09-14T22:20:43.297658Z"
    }
   },
   "outputs": [
    {
     "data": {
      "text/plain": [
       "False    21448818\n",
       "True      7906239\n",
       "dtype: int64"
      ]
     },
     "metadata": {},
     "output_type": "display_data"
    },
    {
     "data": {
      "text/html": [
       "<div>\n",
       "<style scoped>\n",
       "    .dataframe tbody tr th:only-of-type {\n",
       "        vertical-align: middle;\n",
       "    }\n",
       "\n",
       "    .dataframe tbody tr th {\n",
       "        vertical-align: top;\n",
       "    }\n",
       "\n",
       "    .dataframe thead th {\n",
       "        text-align: right;\n",
       "    }\n",
       "</style>\n",
       "<table border=\"1\" class=\"dataframe\">\n",
       "  <thead>\n",
       "    <tr style=\"text-align: right;\">\n",
       "      <th></th>\n",
       "      <th>p-EGFR</th>\n",
       "      <th>Non-p-B-catenin</th>\n",
       "      <th>APC</th>\n",
       "      <th>DKK1</th>\n",
       "      <th>Cyclin E</th>\n",
       "      <th>EMMPRIN</th>\n",
       "      <th>Wnt1</th>\n",
       "      <th>p-AKT</th>\n",
       "      <th>p-B-catenin</th>\n",
       "      <th>RNF 43</th>\n",
       "      <th>...</th>\n",
       "      <th>p-mTOR</th>\n",
       "      <th>mTOR</th>\n",
       "      <th>DKK2</th>\n",
       "      <th>AXIN1</th>\n",
       "      <th>EGFR</th>\n",
       "      <th>Cyclin D1</th>\n",
       "      <th>B-tubin</th>\n",
       "      <th>H3k27me3-488</th>\n",
       "      <th>H3k9Ac-555</th>\n",
       "      <th>H3k4me3-647</th>\n",
       "    </tr>\n",
       "  </thead>\n",
       "  <tbody>\n",
       "    <tr>\n",
       "      <th>67</th>\n",
       "      <td>0.000000</td>\n",
       "      <td>0.000000</td>\n",
       "      <td>0.262913</td>\n",
       "      <td>0.039445</td>\n",
       "      <td>0.000000</td>\n",
       "      <td>0.000000</td>\n",
       "      <td>0.000000</td>\n",
       "      <td>0.033051</td>\n",
       "      <td>0.0</td>\n",
       "      <td>0.000000</td>\n",
       "      <td>...</td>\n",
       "      <td>0.000000</td>\n",
       "      <td>0.453925</td>\n",
       "      <td>0.000000</td>\n",
       "      <td>0.000000</td>\n",
       "      <td>0.000000</td>\n",
       "      <td>0.000000</td>\n",
       "      <td>0.0</td>\n",
       "      <td>0.080232</td>\n",
       "      <td>0.000000</td>\n",
       "      <td>0.054536</td>\n",
       "    </tr>\n",
       "    <tr>\n",
       "      <th>92</th>\n",
       "      <td>0.046082</td>\n",
       "      <td>0.152102</td>\n",
       "      <td>0.000000</td>\n",
       "      <td>0.000000</td>\n",
       "      <td>0.000000</td>\n",
       "      <td>0.000000</td>\n",
       "      <td>0.000000</td>\n",
       "      <td>0.094865</td>\n",
       "      <td>0.0</td>\n",
       "      <td>0.000000</td>\n",
       "      <td>...</td>\n",
       "      <td>0.000000</td>\n",
       "      <td>0.000000</td>\n",
       "      <td>0.000000</td>\n",
       "      <td>0.000000</td>\n",
       "      <td>0.529625</td>\n",
       "      <td>0.000000</td>\n",
       "      <td>0.0</td>\n",
       "      <td>0.176516</td>\n",
       "      <td>0.000000</td>\n",
       "      <td>0.000000</td>\n",
       "    </tr>\n",
       "    <tr>\n",
       "      <th>98</th>\n",
       "      <td>0.000000</td>\n",
       "      <td>0.306325</td>\n",
       "      <td>0.497475</td>\n",
       "      <td>0.122911</td>\n",
       "      <td>0.000000</td>\n",
       "      <td>0.000000</td>\n",
       "      <td>0.000000</td>\n",
       "      <td>0.000000</td>\n",
       "      <td>0.0</td>\n",
       "      <td>0.000000</td>\n",
       "      <td>...</td>\n",
       "      <td>0.000000</td>\n",
       "      <td>0.000000</td>\n",
       "      <td>0.000000</td>\n",
       "      <td>0.000000</td>\n",
       "      <td>0.000000</td>\n",
       "      <td>0.000000</td>\n",
       "      <td>0.0</td>\n",
       "      <td>0.084459</td>\n",
       "      <td>0.000000</td>\n",
       "      <td>0.056184</td>\n",
       "    </tr>\n",
       "    <tr>\n",
       "      <th>100</th>\n",
       "      <td>0.000000</td>\n",
       "      <td>0.000000</td>\n",
       "      <td>0.714366</td>\n",
       "      <td>0.000000</td>\n",
       "      <td>0.000000</td>\n",
       "      <td>0.060288</td>\n",
       "      <td>0.000000</td>\n",
       "      <td>0.000000</td>\n",
       "      <td>0.0</td>\n",
       "      <td>0.000000</td>\n",
       "      <td>...</td>\n",
       "      <td>0.000000</td>\n",
       "      <td>0.000000</td>\n",
       "      <td>0.000000</td>\n",
       "      <td>0.000000</td>\n",
       "      <td>0.000000</td>\n",
       "      <td>0.000000</td>\n",
       "      <td>0.0</td>\n",
       "      <td>0.059953</td>\n",
       "      <td>0.000000</td>\n",
       "      <td>0.042969</td>\n",
       "    </tr>\n",
       "    <tr>\n",
       "      <th>101</th>\n",
       "      <td>0.000000</td>\n",
       "      <td>0.000000</td>\n",
       "      <td>0.417395</td>\n",
       "      <td>0.062211</td>\n",
       "      <td>0.000000</td>\n",
       "      <td>0.000000</td>\n",
       "      <td>0.000000</td>\n",
       "      <td>0.034012</td>\n",
       "      <td>0.0</td>\n",
       "      <td>0.063279</td>\n",
       "      <td>...</td>\n",
       "      <td>0.000000</td>\n",
       "      <td>0.022461</td>\n",
       "      <td>0.106279</td>\n",
       "      <td>0.000000</td>\n",
       "      <td>0.000000</td>\n",
       "      <td>0.000000</td>\n",
       "      <td>0.0</td>\n",
       "      <td>0.000000</td>\n",
       "      <td>0.000000</td>\n",
       "      <td>0.000000</td>\n",
       "    </tr>\n",
       "    <tr>\n",
       "      <th>...</th>\n",
       "      <td>...</td>\n",
       "      <td>...</td>\n",
       "      <td>...</td>\n",
       "      <td>...</td>\n",
       "      <td>...</td>\n",
       "      <td>...</td>\n",
       "      <td>...</td>\n",
       "      <td>...</td>\n",
       "      <td>...</td>\n",
       "      <td>...</td>\n",
       "      <td>...</td>\n",
       "      <td>...</td>\n",
       "      <td>...</td>\n",
       "      <td>...</td>\n",
       "      <td>...</td>\n",
       "      <td>...</td>\n",
       "      <td>...</td>\n",
       "      <td>...</td>\n",
       "      <td>...</td>\n",
       "      <td>...</td>\n",
       "      <td>...</td>\n",
       "    </tr>\n",
       "    <tr>\n",
       "      <th>29355050</th>\n",
       "      <td>0.000000</td>\n",
       "      <td>0.000000</td>\n",
       "      <td>0.000000</td>\n",
       "      <td>0.134112</td>\n",
       "      <td>0.000000</td>\n",
       "      <td>0.000000</td>\n",
       "      <td>0.030243</td>\n",
       "      <td>0.000000</td>\n",
       "      <td>0.0</td>\n",
       "      <td>0.542229</td>\n",
       "      <td>...</td>\n",
       "      <td>0.000000</td>\n",
       "      <td>0.434257</td>\n",
       "      <td>0.328634</td>\n",
       "      <td>0.000000</td>\n",
       "      <td>0.000000</td>\n",
       "      <td>0.116762</td>\n",
       "      <td>0.0</td>\n",
       "      <td>0.000000</td>\n",
       "      <td>0.000000</td>\n",
       "      <td>0.000000</td>\n",
       "    </tr>\n",
       "    <tr>\n",
       "      <th>29355051</th>\n",
       "      <td>0.000000</td>\n",
       "      <td>0.000000</td>\n",
       "      <td>0.000000</td>\n",
       "      <td>0.217304</td>\n",
       "      <td>0.208682</td>\n",
       "      <td>0.376684</td>\n",
       "      <td>0.022675</td>\n",
       "      <td>0.000000</td>\n",
       "      <td>0.0</td>\n",
       "      <td>0.204349</td>\n",
       "      <td>...</td>\n",
       "      <td>0.000000</td>\n",
       "      <td>0.049790</td>\n",
       "      <td>0.000000</td>\n",
       "      <td>0.000000</td>\n",
       "      <td>0.610895</td>\n",
       "      <td>0.260472</td>\n",
       "      <td>0.0</td>\n",
       "      <td>0.000000</td>\n",
       "      <td>0.254734</td>\n",
       "      <td>0.000000</td>\n",
       "    </tr>\n",
       "    <tr>\n",
       "      <th>29355052</th>\n",
       "      <td>0.104784</td>\n",
       "      <td>0.000000</td>\n",
       "      <td>0.000000</td>\n",
       "      <td>0.000000</td>\n",
       "      <td>0.183352</td>\n",
       "      <td>0.212665</td>\n",
       "      <td>0.292058</td>\n",
       "      <td>0.000000</td>\n",
       "      <td>0.0</td>\n",
       "      <td>0.389639</td>\n",
       "      <td>...</td>\n",
       "      <td>0.000000</td>\n",
       "      <td>0.264927</td>\n",
       "      <td>0.636927</td>\n",
       "      <td>0.448508</td>\n",
       "      <td>0.276356</td>\n",
       "      <td>0.000000</td>\n",
       "      <td>0.0</td>\n",
       "      <td>0.000000</td>\n",
       "      <td>0.000000</td>\n",
       "      <td>0.000000</td>\n",
       "    </tr>\n",
       "    <tr>\n",
       "      <th>29355054</th>\n",
       "      <td>0.058213</td>\n",
       "      <td>0.000000</td>\n",
       "      <td>0.000000</td>\n",
       "      <td>0.081483</td>\n",
       "      <td>0.000000</td>\n",
       "      <td>0.449088</td>\n",
       "      <td>0.103014</td>\n",
       "      <td>0.000000</td>\n",
       "      <td>0.0</td>\n",
       "      <td>0.302449</td>\n",
       "      <td>...</td>\n",
       "      <td>0.007782</td>\n",
       "      <td>0.000000</td>\n",
       "      <td>0.000000</td>\n",
       "      <td>0.230365</td>\n",
       "      <td>0.276356</td>\n",
       "      <td>0.255985</td>\n",
       "      <td>0.0</td>\n",
       "      <td>0.000000</td>\n",
       "      <td>0.000000</td>\n",
       "      <td>0.000000</td>\n",
       "    </tr>\n",
       "    <tr>\n",
       "      <th>29355056</th>\n",
       "      <td>0.000000</td>\n",
       "      <td>0.000000</td>\n",
       "      <td>0.000000</td>\n",
       "      <td>0.000000</td>\n",
       "      <td>0.173693</td>\n",
       "      <td>0.000000</td>\n",
       "      <td>0.220218</td>\n",
       "      <td>0.011231</td>\n",
       "      <td>0.0</td>\n",
       "      <td>0.171649</td>\n",
       "      <td>...</td>\n",
       "      <td>0.000000</td>\n",
       "      <td>0.000000</td>\n",
       "      <td>0.209689</td>\n",
       "      <td>0.034897</td>\n",
       "      <td>0.436362</td>\n",
       "      <td>0.000000</td>\n",
       "      <td>0.0</td>\n",
       "      <td>0.000000</td>\n",
       "      <td>0.000000</td>\n",
       "      <td>0.018540</td>\n",
       "    </tr>\n",
       "  </tbody>\n",
       "</table>\n",
       "<p>21448818 rows × 21 columns</p>\n",
       "</div>"
      ],
      "text/plain": [
       "            p-EGFR  Non-p-B-catenin       APC      DKK1  Cyclin E   EMMPRIN  \\\n",
       "67        0.000000         0.000000  0.262913  0.039445  0.000000  0.000000   \n",
       "92        0.046082         0.152102  0.000000  0.000000  0.000000  0.000000   \n",
       "98        0.000000         0.306325  0.497475  0.122911  0.000000  0.000000   \n",
       "100       0.000000         0.000000  0.714366  0.000000  0.000000  0.060288   \n",
       "101       0.000000         0.000000  0.417395  0.062211  0.000000  0.000000   \n",
       "...            ...              ...       ...       ...       ...       ...   \n",
       "29355050  0.000000         0.000000  0.000000  0.134112  0.000000  0.000000   \n",
       "29355051  0.000000         0.000000  0.000000  0.217304  0.208682  0.376684   \n",
       "29355052  0.104784         0.000000  0.000000  0.000000  0.183352  0.212665   \n",
       "29355054  0.058213         0.000000  0.000000  0.081483  0.000000  0.449088   \n",
       "29355056  0.000000         0.000000  0.000000  0.000000  0.173693  0.000000   \n",
       "\n",
       "              Wnt1     p-AKT  p-B-catenin    RNF 43  ...    p-mTOR      mTOR  \\\n",
       "67        0.000000  0.033051          0.0  0.000000  ...  0.000000  0.453925   \n",
       "92        0.000000  0.094865          0.0  0.000000  ...  0.000000  0.000000   \n",
       "98        0.000000  0.000000          0.0  0.000000  ...  0.000000  0.000000   \n",
       "100       0.000000  0.000000          0.0  0.000000  ...  0.000000  0.000000   \n",
       "101       0.000000  0.034012          0.0  0.063279  ...  0.000000  0.022461   \n",
       "...            ...       ...          ...       ...  ...       ...       ...   \n",
       "29355050  0.030243  0.000000          0.0  0.542229  ...  0.000000  0.434257   \n",
       "29355051  0.022675  0.000000          0.0  0.204349  ...  0.000000  0.049790   \n",
       "29355052  0.292058  0.000000          0.0  0.389639  ...  0.000000  0.264927   \n",
       "29355054  0.103014  0.000000          0.0  0.302449  ...  0.007782  0.000000   \n",
       "29355056  0.220218  0.011231          0.0  0.171649  ...  0.000000  0.000000   \n",
       "\n",
       "              DKK2     AXIN1      EGFR  Cyclin D1  B-tubin  H3k27me3-488  \\\n",
       "67        0.000000  0.000000  0.000000   0.000000      0.0      0.080232   \n",
       "92        0.000000  0.000000  0.529625   0.000000      0.0      0.176516   \n",
       "98        0.000000  0.000000  0.000000   0.000000      0.0      0.084459   \n",
       "100       0.000000  0.000000  0.000000   0.000000      0.0      0.059953   \n",
       "101       0.106279  0.000000  0.000000   0.000000      0.0      0.000000   \n",
       "...            ...       ...       ...        ...      ...           ...   \n",
       "29355050  0.328634  0.000000  0.000000   0.116762      0.0      0.000000   \n",
       "29355051  0.000000  0.000000  0.610895   0.260472      0.0      0.000000   \n",
       "29355052  0.636927  0.448508  0.276356   0.000000      0.0      0.000000   \n",
       "29355054  0.000000  0.230365  0.276356   0.255985      0.0      0.000000   \n",
       "29355056  0.209689  0.034897  0.436362   0.000000      0.0      0.000000   \n",
       "\n",
       "          H3k9Ac-555  H3k4me3-647  \n",
       "67          0.000000     0.054536  \n",
       "92          0.000000     0.000000  \n",
       "98          0.000000     0.056184  \n",
       "100         0.000000     0.042969  \n",
       "101         0.000000     0.000000  \n",
       "...              ...          ...  \n",
       "29355050    0.000000     0.000000  \n",
       "29355051    0.254734     0.000000  \n",
       "29355052    0.000000     0.000000  \n",
       "29355054    0.000000     0.000000  \n",
       "29355056    0.000000     0.018540  \n",
       "\n",
       "[21448818 rows x 21 columns]"
      ]
     },
     "execution_count": 13,
     "metadata": {},
     "output_type": "execute_result"
    }
   ],
   "source": [
    "pixel_dark = pixels_scaled.le(0.4).all(axis=1)\n",
    "display(pixel_dark.value_counts())\n",
    "pixels_bright = pixels_scaled[~pixel_dark]\n",
    "pixels_bright"
   ]
  },
  {
   "cell_type": "markdown",
   "id": "5dc961f4",
   "metadata": {},
   "source": [
    "# Clustering"
   ]
  },
  {
   "cell_type": "code",
   "execution_count": null,
   "id": "1ba1019e",
   "metadata": {
    "ExecuteTime": {
     "start_time": "2021-09-14T22:21:05.677Z"
    }
   },
   "outputs": [],
   "source": [
    "import dask.dataframe as dd\n",
    "import dask_ml.cluster\n",
    "\n",
    "X = dd.from_pandas(pixels_bright, chunksize=100000)\n",
    "X = X.persist()\n",
    "km = dask_ml.cluster.KMeans(n_clusters=60, oversampling_factor=10)\n",
    "km.fit(X)\n",
    "labels = km.labels_\n",
    "labels = labels.compute()"
   ]
  },
  {
   "cell_type": "markdown",
   "id": "72c23cfc",
   "metadata": {},
   "source": [
    "# Viz"
   ]
  },
  {
   "cell_type": "code",
   "execution_count": null,
   "id": "627af1c7",
   "metadata": {
    "ExecuteTime": {
     "start_time": "2021-09-14T21:22:09.500Z"
    }
   },
   "outputs": [],
   "source": [
    "pixels_bright_position = pixels_pixels.join(df_combined[[ \"X\", \"Y\", 'Z',\"Id\"]])"
   ]
  },
  {
   "cell_type": "code",
   "execution_count": null,
   "id": "4ef1d586",
   "metadata": {},
   "outputs": [],
   "source": []
  }
 ],
 "metadata": {
  "kernelspec": {
   "display_name": "Python 3",
   "language": "python",
   "name": "python3"
  },
  "language_info": {
   "codemirror_mode": {
    "name": "ipython",
    "version": 3
   },
   "file_extension": ".py",
   "mimetype": "text/x-python",
   "name": "python",
   "nbconvert_exporter": "python",
   "pygments_lexer": "ipython3",
   "version": "3.7.8"
  },
  "toc": {
   "base_numbering": 1,
   "nav_menu": {},
   "number_sections": true,
   "sideBar": true,
   "skip_h1_title": false,
   "title_cell": "Table of Contents",
   "title_sidebar": "Contents",
   "toc_cell": false,
   "toc_position": {},
   "toc_section_display": true,
   "toc_window_display": false
  },
  "varInspector": {
   "cols": {
    "lenName": 16,
    "lenType": 16,
    "lenVar": 40
   },
   "kernels_config": {
    "python": {
     "delete_cmd_postfix": "",
     "delete_cmd_prefix": "del ",
     "library": "var_list.py",
     "varRefreshCmd": "print(var_dic_list())"
    },
    "r": {
     "delete_cmd_postfix": ") ",
     "delete_cmd_prefix": "rm(",
     "library": "var_list.r",
     "varRefreshCmd": "cat(var_dic_list()) "
    }
   },
   "position": {
    "height": "506.42px",
    "left": "564.99px",
    "right": "20px",
    "top": "120px",
    "width": "475.009px"
   },
   "types_to_exclude": [
    "module",
    "function",
    "builtin_function_or_method",
    "instance",
    "_Feature"
   ],
   "window_display": false
  }
 },
 "nbformat": 4,
 "nbformat_minor": 5
}
