{
 "cells": [
  {
   "cell_type": "code",
   "execution_count": 1,
   "id": "1b0f3a1a",
   "metadata": {
    "ExecuteTime": {
     "end_time": "2021-09-21T19:36:31.492609Z",
     "start_time": "2021-09-21T19:36:28.762008Z"
    }
   },
   "outputs": [],
   "source": [
    "import os\n",
    "import sys\n",
    "from pathlib import Path\n",
    "from typing import List\n",
    "\n",
    "import cv2\n",
    "import matplotlib.pyplot as plt\n",
    "import numpy as np\n",
    "import pandas as pd\n",
    "import skimage.io\n",
    "from skimage.measure import regionprops_table\n",
    "from skimage import exposure, measure\n",
    "from tqdm.notebook import trange, tqdm\n"
   ]
  },
  {
   "cell_type": "code",
   "execution_count": 2,
   "id": "55142904",
   "metadata": {
    "ExecuteTime": {
     "end_time": "2021-09-21T19:36:31.772593Z",
     "start_time": "2021-09-21T19:36:31.497592Z"
    }
   },
   "outputs": [],
   "source": [
    "%load_ext autoreload\n",
    "%autoreload 2"
   ]
  },
  {
   "cell_type": "code",
   "execution_count": 3,
   "id": "6b901ffb",
   "metadata": {
    "ExecuteTime": {
     "end_time": "2021-09-21T19:36:32.023594Z",
     "start_time": "2021-09-21T19:36:31.775594Z"
    }
   },
   "outputs": [],
   "source": [
    "# Import path\n",
    "module_path = str(Path.cwd().parents[0])\n",
    "if module_path not in sys.path:\n",
    "    sys.path.append(module_path)\n",
    "\n",
    "from config import *"
   ]
  },
  {
   "cell_type": "code",
   "execution_count": 4,
   "id": "be980a4a",
   "metadata": {
    "ExecuteTime": {
     "end_time": "2021-09-21T19:36:32.289596Z",
     "start_time": "2021-09-21T19:36:32.029594Z"
    }
   },
   "outputs": [],
   "source": [
    "module_path = str(Path.cwd().parents[0] / \"src\")\n",
    "\n",
    "if module_path not in sys.path:\n",
    "    sys.path.append(module_path)\n",
    "\n",
    "import utils as my_utils"
   ]
  },
  {
   "cell_type": "code",
   "execution_count": 5,
   "id": "619eac7c",
   "metadata": {
    "ExecuteTime": {
     "end_time": "2021-09-21T19:36:33.502607Z",
     "start_time": "2021-09-21T19:36:32.293598Z"
    }
   },
   "outputs": [],
   "source": [
    "# Define image and masks folder\n",
    "info_csv = data_meta / \"all_info.csv\"\n",
    "\n",
    "df = pd.read_csv(info_csv)"
   ]
  },
  {
   "cell_type": "code",
   "execution_count": 6,
   "id": "1d01ed64",
   "metadata": {
    "ExecuteTime": {
     "end_time": "2021-09-21T19:36:33.806607Z",
     "start_time": "2021-09-21T19:36:33.504604Z"
    }
   },
   "outputs": [],
   "source": [
    "df_subset = df[(df.Location == 36) & (df.After_bleach == False)]"
   ]
  },
  {
   "cell_type": "code",
   "execution_count": 7,
   "id": "bbc71355",
   "metadata": {
    "ExecuteTime": {
     "end_time": "2021-09-21T19:36:34.365608Z",
     "start_time": "2021-09-21T19:36:33.810608Z"
    }
   },
   "outputs": [
    {
     "data": {
      "text/html": [
       "<div>\n",
       "<style scoped>\n",
       "    .dataframe tbody tr th:only-of-type {\n",
       "        vertical-align: middle;\n",
       "    }\n",
       "\n",
       "    .dataframe tbody tr th {\n",
       "        vertical-align: top;\n",
       "    }\n",
       "\n",
       "    .dataframe thead th {\n",
       "        text-align: right;\n",
       "    }\n",
       "</style>\n",
       "<table border=\"1\" class=\"dataframe\">\n",
       "  <thead>\n",
       "    <tr style=\"text-align: right;\">\n",
       "      <th></th>\n",
       "      <th>Cycle</th>\n",
       "      <th>Location</th>\n",
       "      <th>After_bleach</th>\n",
       "      <th>Z_stack</th>\n",
       "      <th>Channel</th>\n",
       "      <th>Marker</th>\n",
       "      <th>Path</th>\n",
       "      <th>Path_corrected</th>\n",
       "    </tr>\n",
       "  </thead>\n",
       "  <tbody>\n",
       "    <tr>\n",
       "      <th>2625</th>\n",
       "      <td>Cycle10</td>\n",
       "      <td>36</td>\n",
       "      <td>False</td>\n",
       "      <td>1</td>\n",
       "      <td>CH1</td>\n",
       "      <td>Hoeschst</td>\n",
       "      <td>Y:\\coskun-lab\\Thomas\\Spatial signaling\\dataset...</td>\n",
       "      <td>Y:\\coskun-lab\\Thomas\\Spatial signaling\\dataset...</td>\n",
       "    </tr>\n",
       "    <tr>\n",
       "      <th>2626</th>\n",
       "      <td>Cycle10</td>\n",
       "      <td>36</td>\n",
       "      <td>False</td>\n",
       "      <td>1</td>\n",
       "      <td>CH2</td>\n",
       "      <td>Concanavalin A</td>\n",
       "      <td>Y:\\coskun-lab\\Thomas\\Spatial signaling\\dataset...</td>\n",
       "      <td>Y:\\coskun-lab\\Thomas\\Spatial signaling\\dataset...</td>\n",
       "    </tr>\n",
       "    <tr>\n",
       "      <th>2627</th>\n",
       "      <td>Cycle10</td>\n",
       "      <td>36</td>\n",
       "      <td>False</td>\n",
       "      <td>1</td>\n",
       "      <td>CH4</td>\n",
       "      <td>PCNA</td>\n",
       "      <td>Y:\\coskun-lab\\Thomas\\Spatial signaling\\dataset...</td>\n",
       "      <td>Y:\\coskun-lab\\Thomas\\Spatial signaling\\dataset...</td>\n",
       "    </tr>\n",
       "    <tr>\n",
       "      <th>2628</th>\n",
       "      <td>Cycle10</td>\n",
       "      <td>36</td>\n",
       "      <td>False</td>\n",
       "      <td>2</td>\n",
       "      <td>CH1</td>\n",
       "      <td>Hoeschst</td>\n",
       "      <td>Y:\\coskun-lab\\Thomas\\Spatial signaling\\dataset...</td>\n",
       "      <td>Y:\\coskun-lab\\Thomas\\Spatial signaling\\dataset...</td>\n",
       "    </tr>\n",
       "    <tr>\n",
       "      <th>2629</th>\n",
       "      <td>Cycle10</td>\n",
       "      <td>36</td>\n",
       "      <td>False</td>\n",
       "      <td>2</td>\n",
       "      <td>CH2</td>\n",
       "      <td>Concanavalin A</td>\n",
       "      <td>Y:\\coskun-lab\\Thomas\\Spatial signaling\\dataset...</td>\n",
       "      <td>Y:\\coskun-lab\\Thomas\\Spatial signaling\\dataset...</td>\n",
       "    </tr>\n",
       "    <tr>\n",
       "      <th>...</th>\n",
       "      <td>...</td>\n",
       "      <td>...</td>\n",
       "      <td>...</td>\n",
       "      <td>...</td>\n",
       "      <td>...</td>\n",
       "      <td>...</td>\n",
       "      <td>...</td>\n",
       "      <td>...</td>\n",
       "    </tr>\n",
       "    <tr>\n",
       "      <th>84519</th>\n",
       "      <td>Cycle9</td>\n",
       "      <td>36</td>\n",
       "      <td>False</td>\n",
       "      <td>24</td>\n",
       "      <td>CH4</td>\n",
       "      <td>H3k4me3-647</td>\n",
       "      <td>Y:\\coskun-lab\\Thomas\\Spatial signaling\\dataset...</td>\n",
       "      <td>Y:\\coskun-lab\\Thomas\\Spatial signaling\\dataset...</td>\n",
       "    </tr>\n",
       "    <tr>\n",
       "      <th>84520</th>\n",
       "      <td>Cycle9</td>\n",
       "      <td>36</td>\n",
       "      <td>False</td>\n",
       "      <td>25</td>\n",
       "      <td>CH1</td>\n",
       "      <td>Hoeschst</td>\n",
       "      <td>Y:\\coskun-lab\\Thomas\\Spatial signaling\\dataset...</td>\n",
       "      <td>Y:\\coskun-lab\\Thomas\\Spatial signaling\\dataset...</td>\n",
       "    </tr>\n",
       "    <tr>\n",
       "      <th>84521</th>\n",
       "      <td>Cycle9</td>\n",
       "      <td>36</td>\n",
       "      <td>False</td>\n",
       "      <td>25</td>\n",
       "      <td>CH2</td>\n",
       "      <td>H3k27me3-488</td>\n",
       "      <td>Y:\\coskun-lab\\Thomas\\Spatial signaling\\dataset...</td>\n",
       "      <td>Y:\\coskun-lab\\Thomas\\Spatial signaling\\dataset...</td>\n",
       "    </tr>\n",
       "    <tr>\n",
       "      <th>84522</th>\n",
       "      <td>Cycle9</td>\n",
       "      <td>36</td>\n",
       "      <td>False</td>\n",
       "      <td>25</td>\n",
       "      <td>CH3</td>\n",
       "      <td>H3k9Ac-555</td>\n",
       "      <td>Y:\\coskun-lab\\Thomas\\Spatial signaling\\dataset...</td>\n",
       "      <td>Y:\\coskun-lab\\Thomas\\Spatial signaling\\dataset...</td>\n",
       "    </tr>\n",
       "    <tr>\n",
       "      <th>84523</th>\n",
       "      <td>Cycle9</td>\n",
       "      <td>36</td>\n",
       "      <td>False</td>\n",
       "      <td>25</td>\n",
       "      <td>CH4</td>\n",
       "      <td>H3k4me3-647</td>\n",
       "      <td>Y:\\coskun-lab\\Thomas\\Spatial signaling\\dataset...</td>\n",
       "      <td>Y:\\coskun-lab\\Thomas\\Spatial signaling\\dataset...</td>\n",
       "    </tr>\n",
       "  </tbody>\n",
       "</table>\n",
       "<p>790 rows × 8 columns</p>\n",
       "</div>"
      ],
      "text/plain": [
       "         Cycle  Location  After_bleach  Z_stack Channel          Marker  \\\n",
       "2625   Cycle10        36         False        1     CH1        Hoeschst   \n",
       "2626   Cycle10        36         False        1     CH2  Concanavalin A   \n",
       "2627   Cycle10        36         False        1     CH4            PCNA   \n",
       "2628   Cycle10        36         False        2     CH1        Hoeschst   \n",
       "2629   Cycle10        36         False        2     CH2  Concanavalin A   \n",
       "...        ...       ...           ...      ...     ...             ...   \n",
       "84519   Cycle9        36         False       24     CH4     H3k4me3-647   \n",
       "84520   Cycle9        36         False       25     CH1        Hoeschst   \n",
       "84521   Cycle9        36         False       25     CH2    H3k27me3-488   \n",
       "84522   Cycle9        36         False       25     CH3      H3k9Ac-555   \n",
       "84523   Cycle9        36         False       25     CH4     H3k4me3-647   \n",
       "\n",
       "                                                    Path  \\\n",
       "2625   Y:\\coskun-lab\\Thomas\\Spatial signaling\\dataset...   \n",
       "2626   Y:\\coskun-lab\\Thomas\\Spatial signaling\\dataset...   \n",
       "2627   Y:\\coskun-lab\\Thomas\\Spatial signaling\\dataset...   \n",
       "2628   Y:\\coskun-lab\\Thomas\\Spatial signaling\\dataset...   \n",
       "2629   Y:\\coskun-lab\\Thomas\\Spatial signaling\\dataset...   \n",
       "...                                                  ...   \n",
       "84519  Y:\\coskun-lab\\Thomas\\Spatial signaling\\dataset...   \n",
       "84520  Y:\\coskun-lab\\Thomas\\Spatial signaling\\dataset...   \n",
       "84521  Y:\\coskun-lab\\Thomas\\Spatial signaling\\dataset...   \n",
       "84522  Y:\\coskun-lab\\Thomas\\Spatial signaling\\dataset...   \n",
       "84523  Y:\\coskun-lab\\Thomas\\Spatial signaling\\dataset...   \n",
       "\n",
       "                                          Path_corrected  \n",
       "2625   Y:\\coskun-lab\\Thomas\\Spatial signaling\\dataset...  \n",
       "2626   Y:\\coskun-lab\\Thomas\\Spatial signaling\\dataset...  \n",
       "2627   Y:\\coskun-lab\\Thomas\\Spatial signaling\\dataset...  \n",
       "2628   Y:\\coskun-lab\\Thomas\\Spatial signaling\\dataset...  \n",
       "2629   Y:\\coskun-lab\\Thomas\\Spatial signaling\\dataset...  \n",
       "...                                                  ...  \n",
       "84519  Y:\\coskun-lab\\Thomas\\Spatial signaling\\dataset...  \n",
       "84520  Y:\\coskun-lab\\Thomas\\Spatial signaling\\dataset...  \n",
       "84521  Y:\\coskun-lab\\Thomas\\Spatial signaling\\dataset...  \n",
       "84522  Y:\\coskun-lab\\Thomas\\Spatial signaling\\dataset...  \n",
       "84523  Y:\\coskun-lab\\Thomas\\Spatial signaling\\dataset...  \n",
       "\n",
       "[790 rows x 8 columns]"
      ]
     },
     "execution_count": 7,
     "metadata": {},
     "output_type": "execute_result"
    }
   ],
   "source": [
    "df_subset "
   ]
  },
  {
   "cell_type": "markdown",
   "id": "ce571bdc",
   "metadata": {},
   "source": [
    "# Get images"
   ]
  },
  {
   "cell_type": "code",
   "execution_count": 40,
   "id": "cfaaae28",
   "metadata": {
    "ExecuteTime": {
     "end_time": "2021-09-21T19:36:34.960613Z",
     "start_time": "2021-09-21T19:36:34.370610Z"
    }
   },
   "outputs": [],
   "source": [
    "from joblib import Parallel, delayed\\\n",
    "\n",
    "def read_img(path):\n",
    "    return contrast_streching(skimage.io.imread(path))\n",
    "\n",
    "def contrast_streching(img):\n",
    "    p2, p98 = np.percentile(img, (0.5, 99.5))\n",
    "    return exposure.rescale_intensity(img, in_range=(p2, p98))\n",
    "\n",
    "def joblib_loop(task, pics):\n",
    "    return Parallel(n_jobs=20)(delayed(task)(i) for i in pics)\n",
    "\n",
    "def non_border_cell(cell_mask):\n",
    "    labels = []\n",
    "    row_max, col_max = cell_mask.shape\n",
    "    props = measure.regionprops(cell_mask)\n",
    "    for prop in props:\n",
    "        if prop['bbox'][0] == 0 or prop['bbox'][1] == 0 or prop['bbox'][2] == row_max or prop['bbox'][3] == col_max:\n",
    "            continue\n",
    "        else:\n",
    "            labels.append(prop['label'])\n",
    "    return labels\n",
    "\n",
    "def shift_crop(imgs, cycles, shift_dict):\n",
    "    '''\n",
    "    Shift and crop image from on region and on image\n",
    "    '''\n",
    "    max_shift_x = shift_dict[\"max\"][\"max_shift_x\"]\n",
    "    min_shift_x = shift_dict[\"max\"][\"min_shift_x\"]\n",
    "    max_shift_y = shift_dict[\"max\"][\"max_shift_y\"]\n",
    "    min_shift_y = shift_dict[\"max\"][\"min_shift_y\"]\n",
    "    imgs_shift_crop = []\n",
    "    for idx, img in tqdm(enumerate(imgs), total=len(imgs), leave=False):\n",
    "        \n",
    "        cycle = cycles[idx]\n",
    "        \n",
    "        # If cycle 1 only crop else shift crop\n",
    "        if cycle == 'Cycle1':\n",
    "            res_cropped = img[max_shift_y:min_shift_y-1, max_shift_x:min_shift_x-1]\n",
    "        else:\n",
    "            # Aplly shift\n",
    "            shift_x, shift_y = (\n",
    "                shift_dict[cycle]['norm'][\"shift_x\"],\n",
    "                shift_dict[cycle]['norm'][\"shift_y\"],\n",
    "            )\n",
    "            rows, cols = img.shape\n",
    "            M = np.float32([[1, 0, shift_x], [0, 1, shift_y]])\n",
    "            res = cv2.warpAffine(img, M, (cols, rows))\n",
    "\n",
    "            # Crop image\n",
    "            res_cropped = res[max_shift_y:min_shift_y-1, max_shift_x:min_shift_x-1]\n",
    "        \n",
    "        imgs_shift_crop.append(res_cropped)\n",
    "    return imgs_shift_crop"
   ]
  },
  {
   "cell_type": "code",
   "execution_count": 41,
   "id": "766d2b76",
   "metadata": {
    "ExecuteTime": {
     "end_time": "2021-09-21T19:36:35.496412Z",
     "start_time": "2021-09-21T19:36:34.963610Z"
    }
   },
   "outputs": [],
   "source": [
    "z_stacks = df_subset.Z_stack.unique()"
   ]
  },
  {
   "cell_type": "code",
   "execution_count": 42,
   "id": "ae04619c",
   "metadata": {
    "ExecuteTime": {
     "end_time": "2021-09-21T19:36:49.625371Z",
     "start_time": "2021-09-21T19:36:35.501577Z"
    }
   },
   "outputs": [],
   "source": [
    "masks = my_utils.get_masks(data_mask)\n",
    "masks = masks['36']\n",
    "\n",
    "def apply_mask(img, mask=masks['cyto']):\n",
    "    img = img[:mask.shape[0], :mask.shape[1]]\n",
    "    return np.where(mask>0, img, 0)"
   ]
  },
  {
   "cell_type": "code",
   "execution_count": 43,
   "id": "b9d70716-c3e6-4758-91a4-14db96f2c165",
   "metadata": {},
   "outputs": [],
   "source": [
    "import pickle \n",
    "from collections import defaultdict\n",
    "\n",
    "shift_file = data_meta / 'shift.pkl'\n",
    "with open(data_meta / 'shift.pkl', 'rb') as file:\n",
    "    shift_dict = pickle.load(file)"
   ]
  },
  {
   "cell_type": "code",
   "execution_count": 66,
   "id": "bacb14ad",
   "metadata": {
    "ExecuteTime": {
     "end_time": "2021-09-21T19:39:56.609503Z",
     "start_time": "2021-09-21T19:36:49.628375Z"
    }
   },
   "outputs": [
    {
     "data": {
      "application/vnd.jupyter.widget-view+json": {
       "model_id": "379f23186e5e4c57a41a5f23919ddf46",
       "version_major": 2,
       "version_minor": 0
      },
      "text/plain": [
       "  0%|          | 0/28 [00:00<?, ?it/s]"
      ]
     },
     "metadata": {},
     "output_type": "display_data"
    },
    {
     "data": {
      "application/vnd.jupyter.widget-view+json": {
       "model_id": "",
       "version_major": 2,
       "version_minor": 0
      },
      "text/plain": [
       "  0%|          | 0/37 [00:00<?, ?it/s]"
      ]
     },
     "metadata": {},
     "output_type": "display_data"
    },
    {
     "data": {
      "application/vnd.jupyter.widget-view+json": {
       "model_id": "",
       "version_major": 2,
       "version_minor": 0
      },
      "text/plain": [
       "  0%|          | 0/37 [00:00<?, ?it/s]"
      ]
     },
     "metadata": {},
     "output_type": "display_data"
    },
    {
     "data": {
      "application/vnd.jupyter.widget-view+json": {
       "model_id": "",
       "version_major": 2,
       "version_minor": 0
      },
      "text/plain": [
       "  0%|          | 0/37 [00:00<?, ?it/s]"
      ]
     },
     "metadata": {},
     "output_type": "display_data"
    },
    {
     "data": {
      "application/vnd.jupyter.widget-view+json": {
       "model_id": "",
       "version_major": 2,
       "version_minor": 0
      },
      "text/plain": [
       "  0%|          | 0/37 [00:00<?, ?it/s]"
      ]
     },
     "metadata": {},
     "output_type": "display_data"
    },
    {
     "data": {
      "application/vnd.jupyter.widget-view+json": {
       "model_id": "",
       "version_major": 2,
       "version_minor": 0
      },
      "text/plain": [
       "  0%|          | 0/37 [00:00<?, ?it/s]"
      ]
     },
     "metadata": {},
     "output_type": "display_data"
    },
    {
     "data": {
      "application/vnd.jupyter.widget-view+json": {
       "model_id": "",
       "version_major": 2,
       "version_minor": 0
      },
      "text/plain": [
       "  0%|          | 0/37 [00:00<?, ?it/s]"
      ]
     },
     "metadata": {},
     "output_type": "display_data"
    },
    {
     "data": {
      "application/vnd.jupyter.widget-view+json": {
       "model_id": "",
       "version_major": 2,
       "version_minor": 0
      },
      "text/plain": [
       "  0%|          | 0/37 [00:00<?, ?it/s]"
      ]
     },
     "metadata": {},
     "output_type": "display_data"
    },
    {
     "data": {
      "application/vnd.jupyter.widget-view+json": {
       "model_id": "",
       "version_major": 2,
       "version_minor": 0
      },
      "text/plain": [
       "  0%|          | 0/37 [00:00<?, ?it/s]"
      ]
     },
     "metadata": {},
     "output_type": "display_data"
    },
    {
     "data": {
      "application/vnd.jupyter.widget-view+json": {
       "model_id": "",
       "version_major": 2,
       "version_minor": 0
      },
      "text/plain": [
       "  0%|          | 0/37 [00:00<?, ?it/s]"
      ]
     },
     "metadata": {},
     "output_type": "display_data"
    },
    {
     "data": {
      "application/vnd.jupyter.widget-view+json": {
       "model_id": "",
       "version_major": 2,
       "version_minor": 0
      },
      "text/plain": [
       "  0%|          | 0/37 [00:00<?, ?it/s]"
      ]
     },
     "metadata": {},
     "output_type": "display_data"
    },
    {
     "data": {
      "application/vnd.jupyter.widget-view+json": {
       "model_id": "",
       "version_major": 2,
       "version_minor": 0
      },
      "text/plain": [
       "  0%|          | 0/37 [00:00<?, ?it/s]"
      ]
     },
     "metadata": {},
     "output_type": "display_data"
    },
    {
     "data": {
      "application/vnd.jupyter.widget-view+json": {
       "model_id": "",
       "version_major": 2,
       "version_minor": 0
      },
      "text/plain": [
       "  0%|          | 0/37 [00:00<?, ?it/s]"
      ]
     },
     "metadata": {},
     "output_type": "display_data"
    },
    {
     "data": {
      "application/vnd.jupyter.widget-view+json": {
       "model_id": "",
       "version_major": 2,
       "version_minor": 0
      },
      "text/plain": [
       "  0%|          | 0/37 [00:00<?, ?it/s]"
      ]
     },
     "metadata": {},
     "output_type": "display_data"
    },
    {
     "data": {
      "application/vnd.jupyter.widget-view+json": {
       "model_id": "",
       "version_major": 2,
       "version_minor": 0
      },
      "text/plain": [
       "  0%|          | 0/37 [00:00<?, ?it/s]"
      ]
     },
     "metadata": {},
     "output_type": "display_data"
    },
    {
     "data": {
      "application/vnd.jupyter.widget-view+json": {
       "model_id": "",
       "version_major": 2,
       "version_minor": 0
      },
      "text/plain": [
       "  0%|          | 0/37 [00:00<?, ?it/s]"
      ]
     },
     "metadata": {},
     "output_type": "display_data"
    },
    {
     "data": {
      "application/vnd.jupyter.widget-view+json": {
       "model_id": "",
       "version_major": 2,
       "version_minor": 0
      },
      "text/plain": [
       "  0%|          | 0/37 [00:00<?, ?it/s]"
      ]
     },
     "metadata": {},
     "output_type": "display_data"
    },
    {
     "data": {
      "application/vnd.jupyter.widget-view+json": {
       "model_id": "",
       "version_major": 2,
       "version_minor": 0
      },
      "text/plain": [
       "  0%|          | 0/34 [00:00<?, ?it/s]"
      ]
     },
     "metadata": {},
     "output_type": "display_data"
    },
    {
     "data": {
      "application/vnd.jupyter.widget-view+json": {
       "model_id": "",
       "version_major": 2,
       "version_minor": 0
      },
      "text/plain": [
       "  0%|          | 0/34 [00:00<?, ?it/s]"
      ]
     },
     "metadata": {},
     "output_type": "display_data"
    },
    {
     "data": {
      "application/vnd.jupyter.widget-view+json": {
       "model_id": "",
       "version_major": 2,
       "version_minor": 0
      },
      "text/plain": [
       "  0%|          | 0/34 [00:00<?, ?it/s]"
      ]
     },
     "metadata": {},
     "output_type": "display_data"
    },
    {
     "data": {
      "application/vnd.jupyter.widget-view+json": {
       "model_id": "",
       "version_major": 2,
       "version_minor": 0
      },
      "text/plain": [
       "  0%|          | 0/24 [00:00<?, ?it/s]"
      ]
     },
     "metadata": {},
     "output_type": "display_data"
    },
    {
     "data": {
      "application/vnd.jupyter.widget-view+json": {
       "model_id": "",
       "version_major": 2,
       "version_minor": 0
      },
      "text/plain": [
       "  0%|          | 0/24 [00:00<?, ?it/s]"
      ]
     },
     "metadata": {},
     "output_type": "display_data"
    },
    {
     "data": {
      "application/vnd.jupyter.widget-view+json": {
       "model_id": "",
       "version_major": 2,
       "version_minor": 0
      },
      "text/plain": [
       "  0%|          | 0/12 [00:00<?, ?it/s]"
      ]
     },
     "metadata": {},
     "output_type": "display_data"
    },
    {
     "data": {
      "application/vnd.jupyter.widget-view+json": {
       "model_id": "",
       "version_major": 2,
       "version_minor": 0
      },
      "text/plain": [
       "  0%|          | 0/12 [00:00<?, ?it/s]"
      ]
     },
     "metadata": {},
     "output_type": "display_data"
    },
    {
     "data": {
      "application/vnd.jupyter.widget-view+json": {
       "model_id": "",
       "version_major": 2,
       "version_minor": 0
      },
      "text/plain": [
       "  0%|          | 0/9 [00:00<?, ?it/s]"
      ]
     },
     "metadata": {},
     "output_type": "display_data"
    },
    {
     "data": {
      "application/vnd.jupyter.widget-view+json": {
       "model_id": "",
       "version_major": 2,
       "version_minor": 0
      },
      "text/plain": [
       "  0%|          | 0/9 [00:00<?, ?it/s]"
      ]
     },
     "metadata": {},
     "output_type": "display_data"
    },
    {
     "data": {
      "application/vnd.jupyter.widget-view+json": {
       "model_id": "",
       "version_major": 2,
       "version_minor": 0
      },
      "text/plain": [
       "  0%|          | 0/2 [00:00<?, ?it/s]"
      ]
     },
     "metadata": {},
     "output_type": "display_data"
    },
    {
     "data": {
      "application/vnd.jupyter.widget-view+json": {
       "model_id": "",
       "version_major": 2,
       "version_minor": 0
      },
      "text/plain": [
       "  0%|          | 0/2 [00:00<?, ?it/s]"
      ]
     },
     "metadata": {},
     "output_type": "display_data"
    },
    {
     "data": {
      "application/vnd.jupyter.widget-view+json": {
       "model_id": "",
       "version_major": 2,
       "version_minor": 0
      },
      "text/plain": [
       "  0%|          | 0/2 [00:00<?, ?it/s]"
      ]
     },
     "metadata": {},
     "output_type": "display_data"
    }
   ],
   "source": [
    "imgs_dict = defaultdict(dict)\n",
    "\n",
    "for z in tqdm(z_stacks, total=len(z_stacks)):\n",
    "    df_z = df_subset[df_subset.Z_stack == z]\n",
    "    cycles = df_z.Cycle.tolist()\n",
    "    paths = df_z.Path_corrected.tolist()\n",
    "    markers = df_z.Marker.tolist()\n",
    "\n",
    "    imgs = joblib_loop(read_img, paths)\n",
    "    imgs = shift_crop(imgs, cycles, shift_dict[36])\n",
    "    imgs = joblib_loop(apply_mask, imgs)\n",
    "    \n",
    "    for i, img in enumerate(imgs):\n",
    "        if imgs_dict[cycles[i]].get(markers[i]) == None:\n",
    "            imgs_dict[cycles[i]][markers[i]] = [img]\n",
    "        else:\n",
    "            imgs_dict[cycles[i]][markers[i]].append(img)\n"
   ]
  },
  {
   "cell_type": "code",
   "execution_count": 76,
   "id": "f651ee51-779c-4574-a280-278bb4e5a353",
   "metadata": {},
   "outputs": [],
   "source": [
    "for cycle, markers in imgs_dict.items():\n",
    "    for marker, imgs in markers.items():\n",
    "        imgs = np.stack(imgs, axis=0)\n",
    "        skimage.io.imsave(figure_dir / 'masked_image' / f'{cycle}_{marker}.tiff', imgs, plugin='tifffile')"
   ]
  },
  {
   "cell_type": "code",
   "execution_count": null,
   "id": "1edffece-15b8-46da-8081-d86c498c04f7",
   "metadata": {},
   "outputs": [],
   "source": []
  }
 ],
 "metadata": {
  "kernelspec": {
   "display_name": "Python 3",
   "language": "python",
   "name": "python3"
  },
  "language_info": {
   "codemirror_mode": {
    "name": "ipython",
    "version": 3
   },
   "file_extension": ".py",
   "mimetype": "text/x-python",
   "name": "python",
   "nbconvert_exporter": "python",
   "pygments_lexer": "ipython3",
   "version": "3.7.8"
  },
  "toc": {
   "base_numbering": 1,
   "nav_menu": {},
   "number_sections": true,
   "sideBar": true,
   "skip_h1_title": false,
   "title_cell": "Table of Contents",
   "title_sidebar": "Contents",
   "toc_cell": false,
   "toc_position": {},
   "toc_section_display": true,
   "toc_window_display": false
  },
  "varInspector": {
   "cols": {
    "lenName": 16,
    "lenType": 16,
    "lenVar": 40
   },
   "kernels_config": {
    "python": {
     "delete_cmd_postfix": "",
     "delete_cmd_prefix": "del ",
     "library": "var_list.py",
     "varRefreshCmd": "print(var_dic_list())"
    },
    "r": {
     "delete_cmd_postfix": ") ",
     "delete_cmd_prefix": "rm(",
     "library": "var_list.r",
     "varRefreshCmd": "cat(var_dic_list()) "
    }
   },
   "position": {
    "height": "506.42px",
    "left": "564.99px",
    "right": "20px",
    "top": "120px",
    "width": "475.009px"
   },
   "types_to_exclude": [
    "module",
    "function",
    "builtin_function_or_method",
    "instance",
    "_Feature"
   ],
   "window_display": false
  }
 },
 "nbformat": 4,
 "nbformat_minor": 5
}
