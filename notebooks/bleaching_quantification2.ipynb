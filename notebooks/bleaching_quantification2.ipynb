{
 "cells": [
  {
   "cell_type": "code",
   "execution_count": 1,
   "id": "8d8572f9-6ef4-44ba-a69f-9130ffffe8c6",
   "metadata": {
    "ExecuteTime": {
     "end_time": "2021-03-30T16:32:45.118553Z",
     "start_time": "2021-03-30T16:32:41.800735Z"
    }
   },
   "outputs": [],
   "source": [
    "import itertools\n",
    "import os\n",
    "import sys\n",
    "from pathlib import Path\n",
    "\n",
    "import cv2\n",
    "import matplotlib.pyplot as plt\n",
    "import numpy as np\n",
    "import pandas as pd\n",
    "import skimage.io\n",
    "from skimage.registration import phase_cross_correlation\n",
    "from collections import defaultdict\n",
    "from tqdm.notebook import trange, tqdm, tqdm_notebook\n",
    "from joblib import Parallel, delayed\n",
    "import re\n",
    "import pickle\n",
    "from matplotlib.colors import ListedColormap"
   ]
  },
  {
   "cell_type": "code",
   "execution_count": 2,
   "id": "4fd41d44-6600-4a85-80fb-487211659427",
   "metadata": {
    "ExecuteTime": {
     "end_time": "2021-03-30T16:32:45.339621Z",
     "start_time": "2021-03-30T16:32:45.122554Z"
    }
   },
   "outputs": [],
   "source": [
    "%load_ext autoreload\n",
    "%autoreload 2"
   ]
  },
  {
   "cell_type": "code",
   "execution_count": 3,
   "id": "136e146d-4a8d-4664-8995-e10967c1d262",
   "metadata": {
    "ExecuteTime": {
     "end_time": "2021-03-30T16:32:45.596635Z",
     "start_time": "2021-03-30T16:32:45.343622Z"
    }
   },
   "outputs": [],
   "source": [
    "# Import path\n",
    "module_path = str(Path.cwd().parents[0])\n",
    "if module_path not in sys.path:\n",
    "    sys.path.append(module_path)\n",
    "\n",
    "from config import *"
   ]
  },
  {
   "cell_type": "markdown",
   "id": "d45e7b6b-f6da-44f9-8e4c-3a82fae9e243",
   "metadata": {},
   "source": [
    "# Get folder info "
   ]
  },
  {
   "cell_type": "code",
   "execution_count": 4,
   "id": "ac82850a-3ddd-4b24-b3f7-f69f0714cc1c",
   "metadata": {},
   "outputs": [],
   "source": [
    "# Folder path\n",
    "\n",
    "img_folder = r'Y:\\coskun-lab\\Shuangyi\\IF data_antibody validation\\[Revision]A549_IF validation_dilution rate test_2_9_22\\A549_IF bleaching analysis_4_7_22\\A549_p-AKT_CycE_ EGFR_40x_4_7_22'\n",
    "aft_folder = r'Y:\\coskun-lab\\Shuangyi\\IF data_antibody validation\\[Revision]A549_IF validation_dilution rate test_2_9_22\\A549_IF bleaching analysis_4_7_22\\A549_AfterBleach_40x_4_7_22'\n",
    "before_folder = r'Y:\\coskun-lab\\Shuangyi\\IF data_antibody validation\\[Revision]A549_IF validation_dilution rate test_2_9_22\\A549_IF bleaching analysis_4_7_22\\A549_DAPI only_40x_4_7_22'"
   ]
  },
  {
   "cell_type": "code",
   "execution_count": 5,
   "id": "128573b3-a94c-4661-9675-144e7ea39915",
   "metadata": {},
   "outputs": [],
   "source": [
    "channel2marker = {\n",
    "    \"CH1\": \"Hoeschst\", \n",
    "    \"CH2\": \"p-AKT\",\n",
    "    \"CH3\": \"Cyclin E\",\n",
    "    \"CH4\": \"EGFR\"\n",
    "}\n",
    "\n",
    "def get_info(img_folder, name_dict=channel2marker, save=False):\n",
    "    \"\"\"Function returns the info from folder containing multi-cycle staigning on cell\n",
    "\n",
    "    Args:\n",
    "        img_folder (str) : imgage folder path to get information\n",
    "        name_dict (dict) : three level dictionnary mapping cycle -> channel -> marker name\n",
    "\n",
    "    Returns:\n",
    "        pandas dataframe with information\n",
    "    \"\"\"\n",
    "    locations = []\n",
    "    cycles = []\n",
    "    z_stacks = []\n",
    "    channels = []\n",
    "    images_path = []\n",
    "    markers = []\n",
    "\n",
    "    # Loop through image folder\n",
    "    for (dirpath, dirnames, filenames) in os.walk(img_folder):\n",
    "        for name in sorted(filenames):\n",
    "\n",
    "            if \"tif\" in name and \"Overlay\" not in name and \"stitched\" not in name and 'Composite' not in name:\n",
    "                # Get information from image name\n",
    "\n",
    "                z_stack = name.split(\"_\")[2][1:]\n",
    "                location = name.split(\"_\")[1]\n",
    "                channel = name.split(\"_\")[-1].split(\".\")[0]\n",
    "\n",
    "                if z_stack == \"\":\n",
    "                    continue\n",
    "\n",
    "                marker = name_dict[channel]\n",
    "\n",
    "                locations.append(int(location))\n",
    "                z_stacks.append(int(z_stack[1:]))\n",
    "                channels.append(channel)\n",
    "                markers.append(marker)\n",
    "                images_path.append(os.path.join(dirpath, name))\n",
    "    info = {\n",
    "        \"Location\": locations,\n",
    "        \"Z_stack\": z_stacks,\n",
    "        \"Channel\": channels,\n",
    "        \"Marker\": markers,\n",
    "        \"Path\": images_path,\n",
    "    }\n",
    "    df = pd.DataFrame(info)\n",
    "\n",
    "    if save == True:\n",
    "        df.to_csv(data_meta / \"info.csv\", index=False)\n",
    "\n",
    "    df.Z_stack = pd.to_numeric(df.Z_stack)\n",
    "\n",
    "    return df"
   ]
  },
  {
   "cell_type": "code",
   "execution_count": 6,
   "id": "48a623f1-df70-4e68-91cc-0552d986fcd8",
   "metadata": {},
   "outputs": [],
   "source": [
    "df = get_info(img_folder)\n",
    "df['Condition'] = 'Stained'\n",
    "df_aft = get_info(aft_folder)\n",
    "df_aft['Condition'] = 'After Bleach'\n",
    "df_bfr = get_info(before_folder)\n",
    "df_bfr['Condition'] = 'Before'"
   ]
  },
  {
   "cell_type": "code",
   "execution_count": 7,
   "id": "0834b9b2-188f-460c-9d69-0cf3b5134f4b",
   "metadata": {},
   "outputs": [],
   "source": [
    "df_all = pd.concat([df, df_aft, df_bfr])"
   ]
  },
  {
   "cell_type": "markdown",
   "id": "7bd5f12a-2eff-4591-be7f-1b5e09675d40",
   "metadata": {},
   "source": [
    "# Find best focus"
   ]
  },
  {
   "cell_type": "code",
   "execution_count": 8,
   "id": "fb0a3828-be38-4af1-bbca-b25bf4e5a7f9",
   "metadata": {},
   "outputs": [],
   "source": [
    "from skimage import exposure\n",
    "\n",
    "def blur_score(img):\n",
    "    fm = cv2.Laplacian(img, cv2.CV_64F).var()\n",
    "    return fm\n",
    "\n",
    "def detect_blur_fft(image, size=60):\n",
    "    # grab the dimensions of the image and use the dimensions to\n",
    "    # derive the center (x, y)-coordinates\n",
    "    (h, w) = image.shape\n",
    "    (cX, cY) = (int(w / 2.0), int(h / 2.0))\n",
    "    \n",
    "    # compute the FFT to find the frequency transform, then shift\n",
    "    # the zero frequency component (i.e., DC component located at\n",
    "    # the top-left corner) to the center where it will be more\n",
    "    # easy to analyze\n",
    "    fft = np.fft.fft2(image)\n",
    "    fftShift = np.fft.fftshift(fft)\n",
    "    \n",
    "    # zero-out the center of the FFT shift (i.e., remove low\n",
    "    # frequencies), apply the inverse shift such that the DC\n",
    "    # component once again becomes the top-left, and then apply\n",
    "    # the inverse FFT\n",
    "    fftShift[cY - size:cY + size, cX - size:cX + size] = 0\n",
    "    fftShift = np.fft.ifftshift(fftShift)\n",
    "    recon = np.fft.ifft2(fftShift)\n",
    "    \n",
    "    magnitude = 20 * np.log(np.abs(recon))\n",
    "    mean = np.mean(magnitude)\n",
    "    \n",
    "    return mean\n",
    "\n",
    "def read_img(path):\n",
    "    return skimage.io.imread(path)\n",
    "\n",
    "def contrast_streching(img):\n",
    "    p2, p98 = np.percentile(img, (0.5, 99.5))\n",
    "    return exposure.rescale_intensity(img, in_range=(p2, p98), out_range=(0,1))\n",
    "\n",
    "def joblib_loop(task, pics):\n",
    "    return Parallel(n_jobs=20)(delayed(task)(i) for i in pics)"
   ]
  },
  {
   "cell_type": "code",
   "execution_count": 9,
   "id": "91e6e1f1-5e42-4636-940e-eeb2f8866020",
   "metadata": {},
   "outputs": [
    {
     "data": {
      "application/vnd.jupyter.widget-view+json": {
       "model_id": "e795988e608e4560859a7379e2752707",
       "version_major": 2,
       "version_minor": 0
      },
      "text/plain": [
       "  0%|          | 0/27 [00:00<?, ?it/s]"
      ]
     },
     "metadata": {},
     "output_type": "display_data"
    }
   ],
   "source": [
    "df_subset = df_all[df_all.Channel == 'CH1']\n",
    "grouped = df_subset.groupby(['Location', 'Condition'])\n",
    "max_blur_values = []\n",
    "\n",
    "for name, group in tqdm(grouped):\n",
    "    paths = group.Path.tolist()\n",
    "    imgs = joblib_loop(read_img, paths)\n",
    "    blur_scores = joblib_loop(detect_blur_fft, imgs)\n",
    "    blur_max = np.argmax(blur_scores)\n",
    "    values = list(name)\n",
    "    values.append(blur_max)\n",
    "    max_blur_values.append(values)\n",
    "\n",
    "df_blur_max = pd.DataFrame(max_blur_values, columns=['Location', 'Condition', 'Z_stack_focus'])\n"
   ]
  },
  {
   "cell_type": "code",
   "execution_count": 10,
   "id": "a1f75609-c2e0-42f9-b44b-8783e614ddbf",
   "metadata": {},
   "outputs": [
    {
     "data": {
      "text/html": [
       "<div>\n",
       "<style scoped>\n",
       "    .dataframe tbody tr th:only-of-type {\n",
       "        vertical-align: middle;\n",
       "    }\n",
       "\n",
       "    .dataframe tbody tr th {\n",
       "        vertical-align: top;\n",
       "    }\n",
       "\n",
       "    .dataframe thead th {\n",
       "        text-align: right;\n",
       "    }\n",
       "</style>\n",
       "<table border=\"1\" class=\"dataframe\">\n",
       "  <thead>\n",
       "    <tr style=\"text-align: right;\">\n",
       "      <th></th>\n",
       "      <th>Location</th>\n",
       "      <th>Condition</th>\n",
       "      <th>Z_stack_focus</th>\n",
       "    </tr>\n",
       "  </thead>\n",
       "  <tbody>\n",
       "    <tr>\n",
       "      <th>0</th>\n",
       "      <td>1</td>\n",
       "      <td>After Bleach</td>\n",
       "      <td>10</td>\n",
       "    </tr>\n",
       "    <tr>\n",
       "      <th>1</th>\n",
       "      <td>1</td>\n",
       "      <td>Before</td>\n",
       "      <td>12</td>\n",
       "    </tr>\n",
       "    <tr>\n",
       "      <th>2</th>\n",
       "      <td>1</td>\n",
       "      <td>Stained</td>\n",
       "      <td>14</td>\n",
       "    </tr>\n",
       "    <tr>\n",
       "      <th>3</th>\n",
       "      <td>2</td>\n",
       "      <td>After Bleach</td>\n",
       "      <td>11</td>\n",
       "    </tr>\n",
       "    <tr>\n",
       "      <th>4</th>\n",
       "      <td>2</td>\n",
       "      <td>Before</td>\n",
       "      <td>13</td>\n",
       "    </tr>\n",
       "    <tr>\n",
       "      <th>5</th>\n",
       "      <td>2</td>\n",
       "      <td>Stained</td>\n",
       "      <td>15</td>\n",
       "    </tr>\n",
       "    <tr>\n",
       "      <th>6</th>\n",
       "      <td>3</td>\n",
       "      <td>After Bleach</td>\n",
       "      <td>10</td>\n",
       "    </tr>\n",
       "    <tr>\n",
       "      <th>7</th>\n",
       "      <td>3</td>\n",
       "      <td>Before</td>\n",
       "      <td>11</td>\n",
       "    </tr>\n",
       "    <tr>\n",
       "      <th>8</th>\n",
       "      <td>3</td>\n",
       "      <td>Stained</td>\n",
       "      <td>13</td>\n",
       "    </tr>\n",
       "    <tr>\n",
       "      <th>9</th>\n",
       "      <td>4</td>\n",
       "      <td>After Bleach</td>\n",
       "      <td>10</td>\n",
       "    </tr>\n",
       "    <tr>\n",
       "      <th>10</th>\n",
       "      <td>4</td>\n",
       "      <td>Before</td>\n",
       "      <td>12</td>\n",
       "    </tr>\n",
       "    <tr>\n",
       "      <th>11</th>\n",
       "      <td>4</td>\n",
       "      <td>Stained</td>\n",
       "      <td>13</td>\n",
       "    </tr>\n",
       "    <tr>\n",
       "      <th>12</th>\n",
       "      <td>5</td>\n",
       "      <td>After Bleach</td>\n",
       "      <td>12</td>\n",
       "    </tr>\n",
       "    <tr>\n",
       "      <th>13</th>\n",
       "      <td>5</td>\n",
       "      <td>Before</td>\n",
       "      <td>13</td>\n",
       "    </tr>\n",
       "    <tr>\n",
       "      <th>14</th>\n",
       "      <td>5</td>\n",
       "      <td>Stained</td>\n",
       "      <td>16</td>\n",
       "    </tr>\n",
       "    <tr>\n",
       "      <th>15</th>\n",
       "      <td>6</td>\n",
       "      <td>After Bleach</td>\n",
       "      <td>11</td>\n",
       "    </tr>\n",
       "    <tr>\n",
       "      <th>16</th>\n",
       "      <td>6</td>\n",
       "      <td>Before</td>\n",
       "      <td>12</td>\n",
       "    </tr>\n",
       "    <tr>\n",
       "      <th>17</th>\n",
       "      <td>6</td>\n",
       "      <td>Stained</td>\n",
       "      <td>15</td>\n",
       "    </tr>\n",
       "    <tr>\n",
       "      <th>18</th>\n",
       "      <td>7</td>\n",
       "      <td>After Bleach</td>\n",
       "      <td>12</td>\n",
       "    </tr>\n",
       "    <tr>\n",
       "      <th>19</th>\n",
       "      <td>7</td>\n",
       "      <td>Before</td>\n",
       "      <td>14</td>\n",
       "    </tr>\n",
       "    <tr>\n",
       "      <th>20</th>\n",
       "      <td>7</td>\n",
       "      <td>Stained</td>\n",
       "      <td>16</td>\n",
       "    </tr>\n",
       "    <tr>\n",
       "      <th>21</th>\n",
       "      <td>8</td>\n",
       "      <td>After Bleach</td>\n",
       "      <td>13</td>\n",
       "    </tr>\n",
       "    <tr>\n",
       "      <th>22</th>\n",
       "      <td>8</td>\n",
       "      <td>Before</td>\n",
       "      <td>14</td>\n",
       "    </tr>\n",
       "    <tr>\n",
       "      <th>23</th>\n",
       "      <td>8</td>\n",
       "      <td>Stained</td>\n",
       "      <td>16</td>\n",
       "    </tr>\n",
       "    <tr>\n",
       "      <th>24</th>\n",
       "      <td>9</td>\n",
       "      <td>After Bleach</td>\n",
       "      <td>12</td>\n",
       "    </tr>\n",
       "    <tr>\n",
       "      <th>25</th>\n",
       "      <td>9</td>\n",
       "      <td>Before</td>\n",
       "      <td>13</td>\n",
       "    </tr>\n",
       "    <tr>\n",
       "      <th>26</th>\n",
       "      <td>9</td>\n",
       "      <td>Stained</td>\n",
       "      <td>14</td>\n",
       "    </tr>\n",
       "  </tbody>\n",
       "</table>\n",
       "</div>"
      ],
      "text/plain": [
       "    Location     Condition  Z_stack_focus\n",
       "0          1  After Bleach             10\n",
       "1          1        Before             12\n",
       "2          1       Stained             14\n",
       "3          2  After Bleach             11\n",
       "4          2        Before             13\n",
       "5          2       Stained             15\n",
       "6          3  After Bleach             10\n",
       "7          3        Before             11\n",
       "8          3       Stained             13\n",
       "9          4  After Bleach             10\n",
       "10         4        Before             12\n",
       "11         4       Stained             13\n",
       "12         5  After Bleach             12\n",
       "13         5        Before             13\n",
       "14         5       Stained             16\n",
       "15         6  After Bleach             11\n",
       "16         6        Before             12\n",
       "17         6       Stained             15\n",
       "18         7  After Bleach             12\n",
       "19         7        Before             14\n",
       "20         7       Stained             16\n",
       "21         8  After Bleach             13\n",
       "22         8        Before             14\n",
       "23         8       Stained             16\n",
       "24         9  After Bleach             12\n",
       "25         9        Before             13\n",
       "26         9       Stained             14"
      ]
     },
     "execution_count": 10,
     "metadata": {},
     "output_type": "execute_result"
    }
   ],
   "source": [
    "df_blur_max"
   ]
  },
  {
   "cell_type": "markdown",
   "id": "20a11e72-88dd-49f0-a019-0c4246937214",
   "metadata": {},
   "source": [
    "# Check bleaching"
   ]
  },
  {
   "cell_type": "code",
   "execution_count": 11,
   "id": "e46c6eaf-80d4-48f2-ad46-f26802cb5764",
   "metadata": {},
   "outputs": [],
   "source": [
    "def background_correction(\n",
    "    img, filtersize=1025, sigma=256\n",
    "):\n",
    "    \"\"\"Function to perform background substraction for image using gaussian blurr of original image\n",
    "\n",
    "    Args:\n",
    "        df (pd DataFrame) : info dataframe for all images\n",
    "        filtersize (int) : filter size of gaussian kernel\n",
    "        sigma (int) : sigma of guassian blurr\n",
    "        folder (str) : folder to save corrected images\n",
    "        save (bool) : bool to save the image\n",
    "        show (bool) : bool to show corrected image and gaussian blur of original image\n",
    "\n",
    "    Returns:\n",
    "        None\n",
    "    \"\"\"\n",
    "\n",
    "    gaussianImg = cv2.GaussianBlur(img, (filtersize, filtersize), sigma)\n",
    "    img_corrected = cv2.subtract(img, gaussianImg)\n",
    "    return img_corrected"
   ]
  },
  {
   "cell_type": "code",
   "execution_count": 12,
   "id": "2a54f1d3-34bf-4784-8b74-3b276b939d72",
   "metadata": {},
   "outputs": [
    {
     "data": {
      "application/vnd.jupyter.widget-view+json": {
       "model_id": "e974e23b90e3466b9d8ff3381fb2fa24",
       "version_major": 2,
       "version_minor": 0
      },
      "text/plain": [
       "  0%|          | 0/27 [00:00<?, ?it/s]"
      ]
     },
     "metadata": {},
     "output_type": "display_data"
    }
   ],
   "source": [
    "grouped = df_all.groupby(['Location', 'Condition'])\n",
    "df_z = []\n",
    "\n",
    "for name, group in tqdm(grouped):\n",
    "    z = df_blur_max[(df_blur_max.Location == name[0]) & (df_blur_max.Condition == name[1])].Z_stack_focus.item()\n",
    "    group_z = group[group.Z_stack == z]\n",
    "    df_z.append(group_z)"
   ]
  },
  {
   "cell_type": "code",
   "execution_count": 13,
   "id": "81764df5-bcd0-4c1e-9e94-a0c6dfe71d79",
   "metadata": {},
   "outputs": [],
   "source": [
    "df_best_focus = pd.concat(df_z)"
   ]
  },
  {
   "cell_type": "code",
   "execution_count": 14,
   "id": "edf74a2f-1276-4ddb-af76-b78a369c45db",
   "metadata": {},
   "outputs": [
    {
     "data": {
      "application/vnd.jupyter.widget-view+json": {
       "model_id": "f004d8eb9ea7460aaf1f2a7bff371df3",
       "version_major": 2,
       "version_minor": 0
      },
      "text/plain": [
       "  0%|          | 0/9 [00:00<?, ?it/s]"
      ]
     },
     "metadata": {},
     "output_type": "display_data"
    }
   ],
   "source": [
    "grouped = df_best_focus.groupby(['Location'])\n",
    "intensities = []\n",
    "for name, group in tqdm(grouped):\n",
    "    # Get images\n",
    "    paths = group.Path.tolist()\n",
    "    markers = group.Marker.tolist()\n",
    "    conditions = group.Condition.tolist()\n",
    "    imgs = joblib_loop(read_img, paths)\n",
    "    imgs = joblib_loop(background_correction, imgs)\n",
    "    imgs = np.stack(imgs)\n",
    "    \n",
    "    # Get mask\n",
    "    imgs_stained = imgs[-4:]\n",
    "    img_masks = []\n",
    "    for img in imgs_stained:\n",
    "        img = contrast_streching(img)\n",
    "        img_masks.append(img)\n",
    "    img_seg = np.max(img_masks, axis=0)\n",
    "    img_seg = cv2.GaussianBlur(img_seg, (5,5), cv2.BORDER_DEFAULT)\n",
    "    img_seg = img_seg>0.35\n",
    "    \n",
    "    #\n",
    "    img_seg_3D = np.broadcast_to(img_seg, imgs.shape)\n",
    "    imgs_filtered = np.where(img_seg_3D, imgs, 0)\n",
    "    intensity_sum = np.mean(imgs_filtered, axis=(1,2))\n",
    "    df_intensity = pd.DataFrame(intensity_sum, columns=['Intensity'])\n",
    "    df_intensity['Marker'] = markers\n",
    "    df_intensity['Condition'] = conditions\n",
    "    intensities.append(df_intensity)\n"
   ]
  },
  {
   "cell_type": "code",
   "execution_count": 15,
   "id": "9e65b2e8-056d-4ecd-a4a9-001b2e997daf",
   "metadata": {},
   "outputs": [],
   "source": [
    "df_intensity = pd.concat(intensities)\n",
    "df_intensity = df_intensity[df_intensity.Marker != 'Hoeschst']"
   ]
  },
  {
   "cell_type": "code",
   "execution_count": 17,
   "id": "8a09702c-1bad-4cbf-bc30-24eb1f81e063",
   "metadata": {},
   "outputs": [
    {
     "name": "stdout",
     "output_type": "stream",
     "text": [
      "p-value annotation legend:\n",
      "      ns: p <= 1.00e+00\n",
      "       *: 1.00e-02 < p <= 5.00e-02\n",
      "      **: 1.00e-03 < p <= 1.00e-02\n",
      "     ***: 1.00e-04 < p <= 1.00e-03\n",
      "    ****: p <= 1.00e-04\n",
      "\n",
      "Cyclin E_Stained vs. Cyclin E_After Bleach: Mann-Whitney-Wilcoxon test two-sided with Bonferroni correction, P_val:3.711e-03 U_stat=8.100e+01\n",
      "EGFR_Stained vs. EGFR_After Bleach: Mann-Whitney-Wilcoxon test two-sided with Bonferroni correction, P_val:3.711e-03 U_stat=8.100e+01\n",
      "EGFR_Before vs. EGFR_Stained: Mann-Whitney-Wilcoxon test two-sided with Bonferroni correction, P_val:3.711e-03 U_stat=0.000e+00\n",
      "p-AKT_Stained vs. p-AKT_After Bleach: Mann-Whitney-Wilcoxon test two-sided with Bonferroni correction, P_val:3.711e-03 U_stat=8.100e+01\n",
      "p-AKT_Before vs. p-AKT_Stained: Mann-Whitney-Wilcoxon test two-sided with Bonferroni correction, P_val:3.711e-03 U_stat=0.000e+00\n",
      "Cyclin E_Before vs. Cyclin E_Stained: Mann-Whitney-Wilcoxon test two-sided with Bonferroni correction, P_val:3.711e-03 U_stat=0.000e+00\n",
      "EGFR_Before vs. EGFR_After Bleach: Mann-Whitney-Wilcoxon test two-sided with Bonferroni correction, P_val:1.000e+00 U_stat=2.800e+01\n",
      "Cyclin E_Before vs. Cyclin E_After Bleach: Mann-Whitney-Wilcoxon test two-sided with Bonferroni correction, P_val:7.130e-03 U_stat=7.900e+01\n",
      "p-AKT_Before vs. p-AKT_After Bleach: Mann-Whitney-Wilcoxon test two-sided with Bonferroni correction, P_val:3.711e-03 U_stat=8.100e+01\n"
     ]
    },
    {
     "data": {
      "text/plain": [
       "<matplotlib.legend.Legend at 0x29024fde0a0>"
      ]
     },
     "execution_count": 17,
     "metadata": {},
     "output_type": "execute_result"
    },
    {
     "data": {
      "image/png": "[encoded data removed]",
      "text/plain": [
       "<Figure size 720x504 with 1 Axes>"
      ]
     },
     "metadata": {
      "needs_background": "light"
     },
     "output_type": "display_data"
    }
   ],
   "source": [
    "import seaborn as sns\n",
    "from statannotations.Annotator import Annotator\n",
    "sns.set_context(\"talk\", font_scale=1.5)\n",
    "\n",
    "fig, ax = plt.subplots(figsize=(10,7))\n",
    "g = sns.barplot(x=\"Marker\", y=\"Intensity\", hue=\"Condition\",\n",
    "                    data=df_intensity, ax=ax, hue_order=['Before', 'Stained', 'After Bleach'])\n",
    "\n",
    "pairs = [((marker, 'Stained'), (marker, 'After Bleach')) for marker in df_intensity.Marker.unique()]\n",
    "pairs += [((marker, 'Before'), (marker, 'After Bleach')) for marker in df_intensity.Marker.unique()]\n",
    "pairs += [((marker, 'Before'), (marker, 'Stained')) for marker in df_intensity.Marker.unique()]\n",
    "annot = Annotator(g, pairs, data=df_intensity, x=\"Marker\", y=\"Intensity\", hue=\"Condition\", hue_order=['Before', 'Stained', 'After Bleach'])\n",
    "annot.configure(test='Mann-Whitney', text_format='star', loc='inside', verbose=2, comparisons_correction=\"Bonferroni\")\n",
    "annot.apply_test()\n",
    "ax, test_results = annot.annotate()\n",
    "plt.legend(bbox_to_anchor=(1.02, 1), loc='upper left', borderaxespad=0)"
   ]
  },
  {
   "cell_type": "code",
   "execution_count": null,
   "id": "3ecda7ba-0b08-43f5-9ab0-d8cf67b04a1d",
   "metadata": {},
   "outputs": [],
   "source": []
  },
  {
   "cell_type": "code",
   "execution_count": null,
   "id": "7ab4fe98-065c-409a-b014-76fdb3507601",
   "metadata": {},
   "outputs": [],
   "source": []
  }
 ],
 "metadata": {
  "kernelspec": {
   "display_name": "Python [conda env:new_codex]",
   "language": "python",
   "name": "conda-env-new_codex-py"
  },
  "language_info": {
   "codemirror_mode": {
    "name": "ipython",
    "version": 3
   },
   "file_extension": ".py",
   "mimetype": "text/x-python",
   "name": "python",
   "nbconvert_exporter": "python",
   "pygments_lexer": "ipython3",
   "version": "3.9.7"
  }
 },
 "nbformat": 4,
 "nbformat_minor": 5
}
