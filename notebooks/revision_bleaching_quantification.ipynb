{
 "cells": [
  {
   "cell_type": "code",
   "execution_count": 34,
   "id": "c67ad59b-d530-4b15-8060-cc9d09ba4cf4",
   "metadata": {
    "ExecuteTime": {
     "end_time": "2021-08-26T19:09:00.710601Z",
     "start_time": "2021-08-26T19:08:58.095062Z"
    }
   },
   "outputs": [],
   "source": [
    "import os\n",
    "import sys\n",
    "from pathlib import Path\n",
    "from typing import List\n",
    "\n",
    "import cv2\n",
    "import matplotlib.pyplot as plt\n",
    "import numpy as np\n",
    "import pandas as pd\n",
    "import skimage.io\n",
    "from skimage.measure import regionprops_table\n",
    "from skimage import exposure, measure, util"
   ]
  },
  {
   "cell_type": "code",
   "execution_count": 35,
   "id": "0f1c87fa-99a8-4895-bc21-bee9de7fde3f",
   "metadata": {
    "ExecuteTime": {
     "end_time": "2021-08-26T19:09:00.873601Z",
     "start_time": "2021-08-26T19:09:00.716601Z"
    }
   },
   "outputs": [
    {
     "name": "stdout",
     "output_type": "stream",
     "text": [
      "The autoreload extension is already loaded. To reload it, use:\n",
      "  %reload_ext autoreload\n"
     ]
    }
   ],
   "source": [
    "%load_ext autoreload\n",
    "%autoreload 2"
   ]
  },
  {
   "cell_type": "code",
   "execution_count": 36,
   "id": "0b596856-9df2-49d3-aaa4-4568ac9a5b17",
   "metadata": {
    "ExecuteTime": {
     "end_time": "2021-08-26T19:09:01.106605Z",
     "start_time": "2021-08-26T19:09:00.876601Z"
    }
   },
   "outputs": [],
   "source": [
    "# Import path\n",
    "module_path = str(Path.cwd().parents[0])\n",
    "if module_path not in sys.path:\n",
    "    sys.path.append(module_path)\n",
    "\n",
    "from config import *"
   ]
  },
  {
   "cell_type": "code",
   "execution_count": 37,
   "id": "69ce97d7-69c7-45ad-972a-7dc9b2f3edf3",
   "metadata": {
    "ExecuteTime": {
     "end_time": "2021-08-26T19:09:01.335604Z",
     "start_time": "2021-08-26T19:09:01.113604Z"
    }
   },
   "outputs": [],
   "source": [
    "module_path = str(Path.cwd().parents[0] / \"src\")\n",
    "\n",
    "if module_path not in sys.path:\n",
    "    sys.path.append(module_path)\n",
    "\n",
    "import utils as my_utils"
   ]
  },
  {
   "cell_type": "code",
   "execution_count": 38,
   "id": "f6e1eadc-d22d-43c8-8875-4475b0fa5202",
   "metadata": {
    "ExecuteTime": {
     "end_time": "2021-08-26T19:09:01.574606Z",
     "start_time": "2021-08-26T19:09:01.338606Z"
    }
   },
   "outputs": [],
   "source": [
    "# Define image and masks folder\n",
    "info_csv = data_meta / \"info_combined.csv\"\n",
    "\n",
    "df = pd.read_csv(info_csv)"
   ]
  },
  {
   "cell_type": "code",
   "execution_count": 39,
   "id": "0b71c7bd-8e1b-4d08-a577-e7dc5ed2b95c",
   "metadata": {},
   "outputs": [],
   "source": [
    "df=df[df.Location.isin([1,2])]"
   ]
  },
  {
   "cell_type": "markdown",
   "id": "700f0928-a6dc-42fe-9116-417c64af4759",
   "metadata": {},
   "source": [
    "# Get imags"
   ]
  },
  {
   "cell_type": "code",
   "execution_count": 40,
   "id": "585e7448-c96a-4e32-a00d-c7adb941b462",
   "metadata": {},
   "outputs": [],
   "source": [
    "def get_location(df, location):\n",
    "    imgs_path = []\n",
    "    markers = []\n",
    "    df = df[df.Location == location]\n",
    "    for row in df.itertuples():\n",
    "        if row.Marker == 'Hoeschst' and row.Cycle != 'Cycle1':\n",
    "            continue\n",
    "        imgs_path.append(row.Path)\n",
    "        markers.append(row.Marker)\n",
    "    return imgs_path, markers\n",
    "\n",
    "def background_correction(\n",
    "    img, filtersize=1025, sigma=256\n",
    "):\n",
    "    \"\"\"Function to perform background substraction for image using gaussian blurr of original image\n",
    "\n",
    "    Args:\n",
    "        df (pd DataFrame) : info dataframe for all images\n",
    "        filtersize (int) : filter size of gaussian kernel\n",
    "        sigma (int) : sigma of guassian blurr\n",
    "        folder (str) : folder to save corrected images\n",
    "        save (bool) : bool to save the image\n",
    "        show (bool) : bool to show corrected image and gaussian blur of original image\n",
    "\n",
    "    Returns:\n",
    "        None\n",
    "    \"\"\"\n",
    "\n",
    "    gaussianImg = cv2.GaussianBlur(img, (filtersize, filtersize), sigma)\n",
    "    img_corrected = cv2.subtract(img, gaussianImg)\n",
    "    return img_corrected\n",
    "\n",
    "def get_region_props(img, cell, nuclei, cyto, marker, location, prop):\n",
    "    \"\"\"\n",
    "    Get regionprops from masked region\n",
    "    \"\"\"\n",
    "    cell_props = regionprops_table(cell, img, properties=prop)\n",
    "    nuclei_props = regionprops_table(nuclei, img, properties=prop)\n",
    "    cyto_props = regionprops_table(cyto, img, properties=prop)\n",
    "\n",
    "    props = [cell_props, nuclei_props, cyto_props]\n",
    "    prefix = [\"Cell_\", \"Nuclei_\", \"Cyto_\"]\n",
    "    df_marker = pd.concat(\n",
    "        [pd.DataFrame(prop).add_prefix(prefix[idx]) for idx, prop in enumerate(props)],\n",
    "        axis=1,\n",
    "    )\n",
    "    df_marker[\"Marker\"] = marker\n",
    "    df_marker[\"Location\"] = location\n",
    "    df_marker[\"Id\"] = regionprops_table(cell, properties=[\"label\"])[\"label\"]\n",
    "\n",
    "    return df_marker\n",
    "\n",
    "def measure_prop_bleach(df, masks):\n",
    "    appended_data_intensity = []\n",
    "    appended_data_morphology = []\n",
    "\n",
    "    # Get each segmented cell region with corresponding nuclei and cell\n",
    "    for idx, location in enumerate(masks.keys()):\n",
    "        # Get cell masks\n",
    "        mask_cyto = masks[location][\"cyto\"]\n",
    "        mask_nuclei = masks[location][\"nuclei\"]\n",
    "        cell, nuclei, cyto = my_utils.qc_nuclei(mask_cyto, mask_nuclei)\n",
    "        \n",
    "        # Get images\n",
    "        imgs, markers = get_location(df, int(location))\n",
    "        for idx, img_path in enumerate(imgs):\n",
    "            img = skimage.io.imread(img_path)\n",
    "            img = background_correction(img)\n",
    "            # p2, p98 = np.percentile(img, (0, 100))\n",
    "            # img = exposure.rescale_intensity(img, in_range=(p2, p98), out_range=(0,255))\n",
    "            img = img[:cell.shape[0], :cell.shape[1]]\n",
    "            df_marker = get_region_props(\n",
    "                img, cell, nuclei, cyto, markers[idx], location, [\"mean_intensity\"]\n",
    "            )\n",
    "            df_marker['Cell_mean_intensity'] = df_marker['Cell_mean_intensity'] \n",
    "            df_marker['Cell_mean_intensity'].clip(lower=0, upper=1000, inplace=True)\n",
    "            appended_data_intensity.append(df_marker)\n",
    "\n",
    "\n",
    "    df_prop_intensity = pd.concat(appended_data_intensity, ignore_index=True)\n",
    "    df_prop_intensity = df_prop_intensity.sort_values(\n",
    "        by=[\"Location\", \"Id\"]\n",
    "    ).reset_index(drop=True)\n",
    "\n",
    "    \n",
    "    return df_prop_intensity"
   ]
  },
  {
   "cell_type": "code",
   "execution_count": 41,
   "id": "29bb1dd7-5346-40d2-a63b-8e6944253b93",
   "metadata": {},
   "outputs": [],
   "source": [
    "masks = my_utils.get_masks(data_mask)"
   ]
  },
  {
   "cell_type": "code",
   "execution_count": 42,
   "id": "f775e27c-6800-4ec5-9dc0-2a4955dfe0f1",
   "metadata": {},
   "outputs": [],
   "source": [
    "df_before = df[df.After_bleach==False]\n",
    "df_after = df[df.After_bleach==True]"
   ]
  },
  {
   "cell_type": "code",
   "execution_count": 43,
   "id": "e73e8799-4542-46d7-979f-436b991c4cd9",
   "metadata": {},
   "outputs": [],
   "source": [
    "df_prop_i = measure_prop_bleach(df_before, masks)"
   ]
  },
  {
   "cell_type": "code",
   "execution_count": 44,
   "id": "e9c11523-316c-4b14-a462-3eada0ac1580",
   "metadata": {},
   "outputs": [],
   "source": [
    "df_prop_i_after = measure_prop_bleach(df_after, masks)"
   ]
  },
  {
   "cell_type": "markdown",
   "id": "675435cc-f744-4bcc-87d4-d42f2c52ee64",
   "metadata": {},
   "source": [
    "# Comparision on per cell intensity "
   ]
  },
  {
   "cell_type": "code",
   "execution_count": 45,
   "id": "0b5ecd85-c227-49e0-bf1d-e5afb4348738",
   "metadata": {},
   "outputs": [],
   "source": [
    "df_prop_i['Condition'] = 'Normal'\n",
    "df_prop_i_after['Condition'] = 'After Bleach'\n",
    "df_prop_combined = pd.concat([df_prop_i, df_prop_i_after])"
   ]
  },
  {
   "cell_type": "code",
   "execution_count": 46,
   "id": "82ab37af-6469-402c-bcbf-4a352554fd57",
   "metadata": {},
   "outputs": [],
   "source": [
    "df_prop_combined = df_prop_combined[~df_prop_combined.Marker.isin(['B-actin', 'Hoeschst'])]"
   ]
  },
  {
   "cell_type": "code",
   "execution_count": 47,
   "id": "1bf3fe3b-daea-442d-858e-99e81eb1b120",
   "metadata": {},
   "outputs": [
    {
     "data": {
      "text/html": [
       "<div>\n",
       "<style scoped>\n",
       "    .dataframe tbody tr th:only-of-type {\n",
       "        vertical-align: middle;\n",
       "    }\n",
       "\n",
       "    .dataframe tbody tr th {\n",
       "        vertical-align: top;\n",
       "    }\n",
       "\n",
       "    .dataframe thead th {\n",
       "        text-align: right;\n",
       "    }\n",
       "</style>\n",
       "<table border=\"1\" class=\"dataframe\">\n",
       "  <thead>\n",
       "    <tr style=\"text-align: right;\">\n",
       "      <th></th>\n",
       "      <th>Cell_mean_intensity</th>\n",
       "      <th>Nuclei_mean_intensity</th>\n",
       "      <th>Cyto_mean_intensity</th>\n",
       "      <th>Marker</th>\n",
       "      <th>Location</th>\n",
       "      <th>Id</th>\n",
       "      <th>Condition</th>\n",
       "    </tr>\n",
       "  </thead>\n",
       "  <tbody>\n",
       "    <tr>\n",
       "      <th>1</th>\n",
       "      <td>192.061215</td>\n",
       "      <td>358.844662</td>\n",
       "      <td>100.317028</td>\n",
       "      <td>p-EGFR</td>\n",
       "      <td>1</td>\n",
       "      <td>1</td>\n",
       "      <td>Normal</td>\n",
       "    </tr>\n",
       "    <tr>\n",
       "      <th>2</th>\n",
       "      <td>1000.000000</td>\n",
       "      <td>2552.825273</td>\n",
       "      <td>462.118916</td>\n",
       "      <td>Concanavalin A</td>\n",
       "      <td>1</td>\n",
       "      <td>1</td>\n",
       "      <td>Normal</td>\n",
       "    </tr>\n",
       "    <tr>\n",
       "      <th>3</th>\n",
       "      <td>28.828456</td>\n",
       "      <td>32.024961</td>\n",
       "      <td>27.070124</td>\n",
       "      <td>PCNA</td>\n",
       "      <td>1</td>\n",
       "      <td>1</td>\n",
       "      <td>Normal</td>\n",
       "    </tr>\n",
       "    <tr>\n",
       "      <th>5</th>\n",
       "      <td>265.403432</td>\n",
       "      <td>532.342322</td>\n",
       "      <td>118.565772</td>\n",
       "      <td>Phalloidin</td>\n",
       "      <td>1</td>\n",
       "      <td>1</td>\n",
       "      <td>Normal</td>\n",
       "    </tr>\n",
       "    <tr>\n",
       "      <th>6</th>\n",
       "      <td>1000.000000</td>\n",
       "      <td>1549.351237</td>\n",
       "      <td>1425.838789</td>\n",
       "      <td>WGA</td>\n",
       "      <td>1</td>\n",
       "      <td>1</td>\n",
       "      <td>Normal</td>\n",
       "    </tr>\n",
       "    <tr>\n",
       "      <th>...</th>\n",
       "      <td>...</td>\n",
       "      <td>...</td>\n",
       "      <td>...</td>\n",
       "      <td>...</td>\n",
       "      <td>...</td>\n",
       "      <td>...</td>\n",
       "      <td>...</td>\n",
       "    </tr>\n",
       "    <tr>\n",
       "      <th>2673</th>\n",
       "      <td>2.329503</td>\n",
       "      <td>2.190589</td>\n",
       "      <td>2.408753</td>\n",
       "      <td>B-tubin</td>\n",
       "      <td>2</td>\n",
       "      <td>52</td>\n",
       "      <td>After Bleach</td>\n",
       "    </tr>\n",
       "    <tr>\n",
       "      <th>2674</th>\n",
       "      <td>2.314708</td>\n",
       "      <td>1.557533</td>\n",
       "      <td>2.746673</td>\n",
       "      <td>Cyclin D1</td>\n",
       "      <td>2</td>\n",
       "      <td>52</td>\n",
       "      <td>After Bleach</td>\n",
       "    </tr>\n",
       "    <tr>\n",
       "      <th>2675</th>\n",
       "      <td>5.599684</td>\n",
       "      <td>4.296560</td>\n",
       "      <td>6.343109</td>\n",
       "      <td>H3k27me3-488</td>\n",
       "      <td>2</td>\n",
       "      <td>52</td>\n",
       "      <td>After Bleach</td>\n",
       "    </tr>\n",
       "    <tr>\n",
       "      <th>2676</th>\n",
       "      <td>3.075840</td>\n",
       "      <td>3.079083</td>\n",
       "      <td>3.073991</td>\n",
       "      <td>H3k4me3-647</td>\n",
       "      <td>2</td>\n",
       "      <td>52</td>\n",
       "      <td>After Bleach</td>\n",
       "    </tr>\n",
       "    <tr>\n",
       "      <th>2677</th>\n",
       "      <td>2.564637</td>\n",
       "      <td>1.613681</td>\n",
       "      <td>3.107151</td>\n",
       "      <td>H3k9Ac-555</td>\n",
       "      <td>2</td>\n",
       "      <td>52</td>\n",
       "      <td>After Bleach</td>\n",
       "    </tr>\n",
       "  </tbody>\n",
       "</table>\n",
       "<p>5150 rows × 7 columns</p>\n",
       "</div>"
      ],
      "text/plain": [
       "      Cell_mean_intensity  Nuclei_mean_intensity  Cyto_mean_intensity  \\\n",
       "1              192.061215             358.844662           100.317028   \n",
       "2             1000.000000            2552.825273           462.118916   \n",
       "3               28.828456              32.024961            27.070124   \n",
       "5              265.403432             532.342322           118.565772   \n",
       "6             1000.000000            1549.351237          1425.838789   \n",
       "...                   ...                    ...                  ...   \n",
       "2673             2.329503               2.190589             2.408753   \n",
       "2674             2.314708               1.557533             2.746673   \n",
       "2675             5.599684               4.296560             6.343109   \n",
       "2676             3.075840               3.079083             3.073991   \n",
       "2677             2.564637               1.613681             3.107151   \n",
       "\n",
       "              Marker Location  Id     Condition  \n",
       "1             p-EGFR        1   1        Normal  \n",
       "2     Concanavalin A        1   1        Normal  \n",
       "3               PCNA        1   1        Normal  \n",
       "5         Phalloidin        1   1        Normal  \n",
       "6                WGA        1   1        Normal  \n",
       "...              ...      ...  ..           ...  \n",
       "2673         B-tubin        2  52  After Bleach  \n",
       "2674       Cyclin D1        2  52  After Bleach  \n",
       "2675    H3k27me3-488        2  52  After Bleach  \n",
       "2676     H3k4me3-647        2  52  After Bleach  \n",
       "2677      H3k9Ac-555        2  52  After Bleach  \n",
       "\n",
       "[5150 rows x 7 columns]"
      ]
     },
     "execution_count": 47,
     "metadata": {},
     "output_type": "execute_result"
    }
   ],
   "source": [
    "df_prop_combined"
   ]
  },
  {
   "cell_type": "code",
   "execution_count": 48,
   "id": "1aa8b2a7-d211-46fc-b662-21717530115a",
   "metadata": {},
   "outputs": [
    {
     "data": {
      "text/plain": [
       "<seaborn.axisgrid.FacetGrid at 0x1fde9477f70>"
      ]
     },
     "execution_count": 48,
     "metadata": {},
     "output_type": "execute_result"
    },
    {
     "data": {
      "image/png": "[encoded data removed]",
      "text/plain": [
       "<Figure size 1177.12x1080 with 25 Axes>"
      ]
     },
     "metadata": {
      "needs_background": "light"
     },
     "output_type": "display_data"
    }
   ],
   "source": [
    "import seaborn as sns \n",
    "\n",
    "g = sns.FacetGrid(df_prop_combined, col='Marker', col_wrap=5, hue='Condition', palette=['tomato', 'turquoise'])\n",
    "g.map(sns.kdeplot, \"Cell_mean_intensity\", fill=True, common_norm=False, alpha=0.8)\n",
    "g = g.set_titles(\"{col_name}\")\n",
    "g.add_legend()"
   ]
  },
  {
   "cell_type": "code",
   "execution_count": 49,
   "id": "47179f24-bd49-47e7-87db-7080c8b64bf9",
   "metadata": {},
   "outputs": [
    {
     "data": {
      "text/html": [
       "<div>\n",
       "<style scoped>\n",
       "    .dataframe tbody tr th:only-of-type {\n",
       "        vertical-align: middle;\n",
       "    }\n",
       "\n",
       "    .dataframe tbody tr th {\n",
       "        vertical-align: top;\n",
       "    }\n",
       "\n",
       "    .dataframe thead th {\n",
       "        text-align: right;\n",
       "    }\n",
       "</style>\n",
       "<table border=\"1\" class=\"dataframe\">\n",
       "  <thead>\n",
       "    <tr style=\"text-align: right;\">\n",
       "      <th></th>\n",
       "      <th>Cell_mean_intensity</th>\n",
       "      <th>Marker</th>\n",
       "      <th>Location</th>\n",
       "      <th>Id</th>\n",
       "      <th>Condition</th>\n",
       "    </tr>\n",
       "  </thead>\n",
       "  <tbody>\n",
       "    <tr>\n",
       "      <th>1</th>\n",
       "      <td>192.061215</td>\n",
       "      <td>p-EGFR</td>\n",
       "      <td>1</td>\n",
       "      <td>1</td>\n",
       "      <td>Normal</td>\n",
       "    </tr>\n",
       "    <tr>\n",
       "      <th>2</th>\n",
       "      <td>1000.000000</td>\n",
       "      <td>Concanavalin A</td>\n",
       "      <td>1</td>\n",
       "      <td>1</td>\n",
       "      <td>Normal</td>\n",
       "    </tr>\n",
       "    <tr>\n",
       "      <th>3</th>\n",
       "      <td>28.828456</td>\n",
       "      <td>PCNA</td>\n",
       "      <td>1</td>\n",
       "      <td>1</td>\n",
       "      <td>Normal</td>\n",
       "    </tr>\n",
       "    <tr>\n",
       "      <th>5</th>\n",
       "      <td>265.403432</td>\n",
       "      <td>Phalloidin</td>\n",
       "      <td>1</td>\n",
       "      <td>1</td>\n",
       "      <td>Normal</td>\n",
       "    </tr>\n",
       "    <tr>\n",
       "      <th>6</th>\n",
       "      <td>1000.000000</td>\n",
       "      <td>WGA</td>\n",
       "      <td>1</td>\n",
       "      <td>1</td>\n",
       "      <td>Normal</td>\n",
       "    </tr>\n",
       "  </tbody>\n",
       "</table>\n",
       "</div>"
      ],
      "text/plain": [
       "   Cell_mean_intensity          Marker Location  Id Condition\n",
       "1           192.061215          p-EGFR        1   1    Normal\n",
       "2          1000.000000  Concanavalin A        1   1    Normal\n",
       "3            28.828456            PCNA        1   1    Normal\n",
       "5           265.403432      Phalloidin        1   1    Normal\n",
       "6          1000.000000             WGA        1   1    Normal"
      ]
     },
     "execution_count": 49,
     "metadata": {},
     "output_type": "execute_result"
    }
   ],
   "source": [
    "df_prop_cell = df_prop_combined.drop(['Nuclei_mean_intensity', 'Cyto_mean_intensity'], axis=1)\n",
    "df_prop_cell.head()"
   ]
  },
  {
   "cell_type": "code",
   "execution_count": 50,
   "id": "0123b7e3-3be5-470b-b25a-ffd82484bd04",
   "metadata": {},
   "outputs": [
    {
     "data": {
      "text/html": [
       "<div>\n",
       "<style scoped>\n",
       "    .dataframe tbody tr th:only-of-type {\n",
       "        vertical-align: middle;\n",
       "    }\n",
       "\n",
       "    .dataframe tbody tr th {\n",
       "        vertical-align: top;\n",
       "    }\n",
       "\n",
       "    .dataframe thead th {\n",
       "        text-align: right;\n",
       "    }\n",
       "</style>\n",
       "<table border=\"1\" class=\"dataframe\">\n",
       "  <thead>\n",
       "    <tr style=\"text-align: right;\">\n",
       "      <th></th>\n",
       "      <th>Marker</th>\n",
       "      <th>Condition</th>\n",
       "      <th>variable</th>\n",
       "      <th>Intensity</th>\n",
       "    </tr>\n",
       "  </thead>\n",
       "  <tbody>\n",
       "    <tr>\n",
       "      <th>0</th>\n",
       "      <td>p-EGFR</td>\n",
       "      <td>Normal</td>\n",
       "      <td>Cell_mean_intensity</td>\n",
       "      <td>192.061215</td>\n",
       "    </tr>\n",
       "    <tr>\n",
       "      <th>1</th>\n",
       "      <td>Concanavalin A</td>\n",
       "      <td>Normal</td>\n",
       "      <td>Cell_mean_intensity</td>\n",
       "      <td>1000.000000</td>\n",
       "    </tr>\n",
       "    <tr>\n",
       "      <th>2</th>\n",
       "      <td>PCNA</td>\n",
       "      <td>Normal</td>\n",
       "      <td>Cell_mean_intensity</td>\n",
       "      <td>28.828456</td>\n",
       "    </tr>\n",
       "    <tr>\n",
       "      <th>3</th>\n",
       "      <td>Phalloidin</td>\n",
       "      <td>Normal</td>\n",
       "      <td>Cell_mean_intensity</td>\n",
       "      <td>265.403432</td>\n",
       "    </tr>\n",
       "    <tr>\n",
       "      <th>4</th>\n",
       "      <td>WGA</td>\n",
       "      <td>Normal</td>\n",
       "      <td>Cell_mean_intensity</td>\n",
       "      <td>1000.000000</td>\n",
       "    </tr>\n",
       "  </tbody>\n",
       "</table>\n",
       "</div>"
      ],
      "text/plain": [
       "           Marker Condition             variable    Intensity\n",
       "0          p-EGFR    Normal  Cell_mean_intensity   192.061215\n",
       "1  Concanavalin A    Normal  Cell_mean_intensity  1000.000000\n",
       "2            PCNA    Normal  Cell_mean_intensity    28.828456\n",
       "3      Phalloidin    Normal  Cell_mean_intensity   265.403432\n",
       "4             WGA    Normal  Cell_mean_intensity  1000.000000"
      ]
     },
     "execution_count": 50,
     "metadata": {},
     "output_type": "execute_result"
    }
   ],
   "source": [
    "df_long = df_prop_cell.melt(id_vars=['Marker', 'Condition'], value_vars='Cell_mean_intensity', value_name='Intensity')\n",
    "df_long.head()"
   ]
  },
  {
   "cell_type": "code",
   "execution_count": 51,
   "id": "97c4c87a-ac0f-4397-a23f-220f093533e9",
   "metadata": {},
   "outputs": [],
   "source": [
    "df_long = df_long[~df_long.Marker.isin(['Concanavalin A', 'Phalloidin', 'WGA'])]"
   ]
  },
  {
   "cell_type": "code",
   "execution_count": 52,
   "id": "5dafea90-0002-4b7a-b0e0-2ebb361c0edc",
   "metadata": {},
   "outputs": [
    {
     "name": "stdout",
     "output_type": "stream",
     "text": [
      "p-value annotation legend:\n",
      "      ns: p <= 1.00e+00\n",
      "       *: 1.00e-02 < p <= 5.00e-02\n",
      "      **: 1.00e-03 < p <= 1.00e-02\n",
      "     ***: 1.00e-04 < p <= 1.00e-03\n",
      "    ****: p <= 1.00e-04\n",
      "\n",
      "p-AKT_Normal vs. p-AKT_After Bleach: Mann-Whitney-Wilcoxon test two-sided, P_val:2.082e-06 U_stat=7.335e+03\n",
      "p-B-catenin_Normal vs. p-B-catenin_After Bleach: Mann-Whitney-Wilcoxon test two-sided, P_val:9.422e-01 U_stat=5.336e+03\n",
      "AKT_Normal vs. AKT_After Bleach: Mann-Whitney-Wilcoxon test two-sided, P_val:8.115e-01 U_stat=5.407e+03\n",
      "mTOR_Normal vs. mTOR_After Bleach: Mann-Whitney-Wilcoxon test two-sided, P_val:3.724e-13 U_stat=8.413e+03\n",
      "p-mTOR_Normal vs. p-mTOR_After Bleach: Mann-Whitney-Wilcoxon test two-sided, P_val:5.586e-02 U_stat=4.486e+03\n",
      "AXIN1_Normal vs. AXIN1_After Bleach: Mann-Whitney-Wilcoxon test two-sided, P_val:1.212e-01 U_stat=4.641e+03\n",
      "DKK2_Normal vs. DKK2_After Bleach: Mann-Whitney-Wilcoxon test two-sided, P_val:3.833e-01 U_stat=4.931e+03\n",
      "EGFR_Normal vs. EGFR_After Bleach: Mann-Whitney-Wilcoxon test two-sided, P_val:2.109e-07 U_stat=7.525e+03\n",
      "B-tubin_Normal vs. B-tubin_After Bleach: Mann-Whitney-Wilcoxon test two-sided, P_val:4.214e-08 U_stat=7.650e+03\n",
      "Cyclin D1_Normal vs. Cyclin D1_After Bleach: Mann-Whitney-Wilcoxon test two-sided, P_val:4.687e-01 U_stat=4.994e+03\n",
      "H3k27me3-488_Normal vs. H3k27me3-488_After Bleach: Mann-Whitney-Wilcoxon test two-sided, P_val:2.620e-29 U_stat=1.011e+04\n",
      "H3k4me3-647_Normal vs. H3k4me3-647_After Bleach: Mann-Whitney-Wilcoxon test two-sided, P_val:5.669e-35 U_stat=1.058e+04\n",
      "H3k9Ac-555_Normal vs. H3k9Ac-555_After Bleach: Mann-Whitney-Wilcoxon test two-sided, P_val:1.174e-28 U_stat=1.006e+04\n",
      "RNF 43_Normal vs. RNF 43_After Bleach: Mann-Whitney-Wilcoxon test two-sided, P_val:4.112e-12 U_stat=8.271e+03\n",
      "PCNA_Normal vs. PCNA_After Bleach: Mann-Whitney-Wilcoxon test two-sided, P_val:2.857e-16 U_stat=8.804e+03\n",
      "p-EGFR_Normal vs. p-EGFR_After Bleach: Mann-Whitney-Wilcoxon test two-sided, P_val:1.289e-26 U_stat=9.873e+03\n",
      "APC_Normal vs. APC_After Bleach: Mann-Whitney-Wilcoxon test two-sided, P_val:2.989e-35 U_stat=1.060e+04\n",
      "DKK1_Normal vs. DKK1_After Bleach: Mann-Whitney-Wilcoxon test two-sided, P_val:2.839e-31 U_stat=1.028e+04\n",
      "Non-p-B-catenin_Normal vs. Non-p-B-catenin_After Bleach: Mann-Whitney-Wilcoxon test two-sided, P_val:1.824e-13 U_stat=8.454e+03\n",
      "Cyclin E_Normal vs. Cyclin E_After Bleach: Mann-Whitney-Wilcoxon test two-sided, P_val:6.943e-11 U_stat=8.095e+03\n",
      "EMMPRIN_Normal vs. EMMPRIN_After Bleach: Mann-Whitney-Wilcoxon test two-sided, P_val:5.403e-16 U_stat=8.771e+03\n",
      "Wnt1_Normal vs. Wnt1_After Bleach: Mann-Whitney-Wilcoxon test two-sided, P_val:4.602e-32 U_stat=1.035e+04\n"
     ]
    },
    {
     "data": {
      "image/png": "[encoded data removed]",
      "text/plain": [
       "<Figure size 1800x504 with 1 Axes>"
      ]
     },
     "metadata": {
      "needs_background": "light"
     },
     "output_type": "display_data"
    }
   ],
   "source": [
    "from statannotations.Annotator import Annotator\n",
    "\n",
    "fig, ax = plt.subplots(figsize=(25,7))\n",
    "g = sns.boxplot(x=\"Marker\", y=\"Intensity\", hue=\"Condition\",\n",
    "                    data=df_long, palette=['tomato', 'turquoise'], showfliers=False, ax=ax)\n",
    "\n",
    "pairs = [((marker, 'Normal'), (marker, 'After Bleach')) for marker in df_long.Marker.unique()]\n",
    "annot = Annotator(g, pairs, data=df_long, x=\"Marker\", y=\"Intensity\", hue=\"Condition\",)\n",
    "annot.configure(test='Mann-Whitney', text_format='star', loc='inside', verbose=2)\n",
    "annot.apply_test()\n",
    "ax, test_results = annot.annotate()\n"
   ]
  },
  {
   "cell_type": "code",
   "execution_count": null,
   "id": "13807f93-4712-4c26-a970-5e38b51dafcb",
   "metadata": {},
   "outputs": [],
   "source": []
  },
  {
   "cell_type": "code",
   "execution_count": null,
   "id": "b48e87d3-fc6f-4f7c-b859-0958c3c85eab",
   "metadata": {},
   "outputs": [],
   "source": []
  },
  {
   "cell_type": "code",
   "execution_count": null,
   "id": "65b48dc3-3f91-4397-9407-30885ba9f9ed",
   "metadata": {},
   "outputs": [],
   "source": []
  }
 ],
 "metadata": {
  "kernelspec": {
   "display_name": "Python [conda env:new_codex]",
   "language": "python",
   "name": "conda-env-new_codex-py"
  },
  "language_info": {
   "codemirror_mode": {
    "name": "ipython",
    "version": 3
   },
   "file_extension": ".py",
   "mimetype": "text/x-python",
   "name": "python",
   "nbconvert_exporter": "python",
   "pygments_lexer": "ipython3",
   "version": "3.9.7"
  }
 },
 "nbformat": 4,
 "nbformat_minor": 5
}
